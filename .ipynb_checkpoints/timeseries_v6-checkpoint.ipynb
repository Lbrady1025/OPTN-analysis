{
 "cells": [
  {
   "cell_type": "code",
   "execution_count": 1228,
   "metadata": {},
   "outputs": [],
   "source": [
    "#Import Dependencies\n",
    "%matplotlib inline\n",
    "import pandas as pd\n",
    "import numpy as np\n",
    "import statsmodels.api as sm\n",
    "from statsmodels.tsa.api import VAR\n",
    "import matplotlib.pyplot as plt\n",
    "from sklearn import linear_model\n",
    "from sklearn.linear_model import LinearRegression\n",
    "from sklearn.metrics import mean_squared_error, r2_score\n",
    "import dataframe_image as dfi\n",
    "from scipy import stats\n",
    "import seaborn as sns"
   ]
  },
  {
   "cell_type": "code",
   "execution_count": 1229,
   "metadata": {},
   "outputs": [
    {
     "data": {
      "text/html": [
       "<div>\n",
       "<style scoped>\n",
       "    .dataframe tbody tr th:only-of-type {\n",
       "        vertical-align: middle;\n",
       "    }\n",
       "\n",
       "    .dataframe tbody tr th {\n",
       "        vertical-align: top;\n",
       "    }\n",
       "\n",
       "    .dataframe thead th {\n",
       "        text-align: right;\n",
       "    }\n",
       "</style>\n",
       "<table border=\"1\" class=\"dataframe\">\n",
       "  <thead>\n",
       "    <tr style=\"text-align: right;\">\n",
       "      <th></th>\n",
       "      <th>Year</th>\n",
       "      <th>Waitlist</th>\n",
       "      <th>Diabetes</th>\n",
       "      <th>Obesity</th>\n",
       "      <th>Overdose</th>\n",
       "      <th>Pct_O</th>\n",
       "      <th>Total_Adj</th>\n",
       "      <th>State</th>\n",
       "    </tr>\n",
       "  </thead>\n",
       "  <tbody>\n",
       "    <tr>\n",
       "      <th>0</th>\n",
       "      <td>12/31/2019</td>\n",
       "      <td>488</td>\n",
       "      <td>14.0</td>\n",
       "      <td>36.1</td>\n",
       "      <td>17.30</td>\n",
       "      <td>50.409836</td>\n",
       "      <td>486.45</td>\n",
       "      <td>Alabama</td>\n",
       "    </tr>\n",
       "    <tr>\n",
       "      <th>1</th>\n",
       "      <td>12/31/2019</td>\n",
       "      <td>824</td>\n",
       "      <td>10.9</td>\n",
       "      <td>36.1</td>\n",
       "      <td>23.00</td>\n",
       "      <td>50.970874</td>\n",
       "      <td>810.11</td>\n",
       "      <td>Arizona</td>\n",
       "    </tr>\n",
       "    <tr>\n",
       "      <th>2</th>\n",
       "      <td>12/31/2019</td>\n",
       "      <td>193</td>\n",
       "      <td>13.6</td>\n",
       "      <td>37.4</td>\n",
       "      <td>15.60</td>\n",
       "      <td>55.958549</td>\n",
       "      <td>192.48</td>\n",
       "      <td>Arkansas</td>\n",
       "    </tr>\n",
       "    <tr>\n",
       "      <th>3</th>\n",
       "      <td>12/31/2019</td>\n",
       "      <td>5566</td>\n",
       "      <td>10.1</td>\n",
       "      <td>26.2</td>\n",
       "      <td>12.25</td>\n",
       "      <td>51.257636</td>\n",
       "      <td>5558.86</td>\n",
       "      <td>California</td>\n",
       "    </tr>\n",
       "    <tr>\n",
       "      <th>4</th>\n",
       "      <td>12/31/2019</td>\n",
       "      <td>545</td>\n",
       "      <td>7.0</td>\n",
       "      <td>23.8</td>\n",
       "      <td>17.20</td>\n",
       "      <td>47.339450</td>\n",
       "      <td>538.54</td>\n",
       "      <td>Colorado</td>\n",
       "    </tr>\n",
       "  </tbody>\n",
       "</table>\n",
       "</div>"
      ],
      "text/plain": [
       "         Year  Waitlist  Diabetes  Obesity  Overdose      Pct_O  Total_Adj  \\\n",
       "0  12/31/2019       488      14.0     36.1     17.30  50.409836     486.45   \n",
       "1  12/31/2019       824      10.9     36.1     23.00  50.970874     810.11   \n",
       "2  12/31/2019       193      13.6     37.4     15.60  55.958549     192.48   \n",
       "3  12/31/2019      5566      10.1     26.2     12.25  51.257636    5558.86   \n",
       "4  12/31/2019       545       7.0     23.8     17.20  47.339450     538.54   \n",
       "\n",
       "        State  \n",
       "0     Alabama  \n",
       "1     Arizona  \n",
       "2    Arkansas  \n",
       "3  California  \n",
       "4    Colorado  "
      ]
     },
     "execution_count": 1229,
     "metadata": {},
     "output_type": "execute_result"
    }
   ],
   "source": [
    "# Load dataset\n",
    "df = pd.read_csv('Final_data.csv')\n",
    "df.head()"
   ]
  },
  {
   "cell_type": "code",
   "execution_count": 1230,
   "metadata": {
    "scrolled": false
   },
   "outputs": [
    {
     "data": {
      "text/html": [
       "<div>\n",
       "<style scoped>\n",
       "    .dataframe tbody tr th:only-of-type {\n",
       "        vertical-align: middle;\n",
       "    }\n",
       "\n",
       "    .dataframe tbody tr th {\n",
       "        vertical-align: top;\n",
       "    }\n",
       "\n",
       "    .dataframe thead th {\n",
       "        text-align: right;\n",
       "    }\n",
       "</style>\n",
       "<table border=\"1\" class=\"dataframe\">\n",
       "  <thead>\n",
       "    <tr style=\"text-align: right;\">\n",
       "      <th></th>\n",
       "      <th>Year</th>\n",
       "      <th>Waitlist</th>\n",
       "      <th>Diabetes</th>\n",
       "      <th>Obesity</th>\n",
       "      <th>Overdose</th>\n",
       "      <th>Pct_O</th>\n",
       "      <th>Total_Adj</th>\n",
       "      <th>State</th>\n",
       "    </tr>\n",
       "  </thead>\n",
       "  <tbody>\n",
       "    <tr>\n",
       "      <th>1199</th>\n",
       "      <td>12/31/1995</td>\n",
       "      <td>492</td>\n",
       "      <td>4.4</td>\n",
       "      <td>16.4</td>\n",
       "      <td>1.6</td>\n",
       "      <td>45.528455</td>\n",
       "      <td>487.99</td>\n",
       "      <td>Wisconsin</td>\n",
       "    </tr>\n",
       "    <tr>\n",
       "      <th>1151</th>\n",
       "      <td>12/31/1996</td>\n",
       "      <td>504</td>\n",
       "      <td>4.6</td>\n",
       "      <td>17.0</td>\n",
       "      <td>1.6</td>\n",
       "      <td>48.809524</td>\n",
       "      <td>500.39</td>\n",
       "      <td>Wisconsin</td>\n",
       "    </tr>\n",
       "    <tr>\n",
       "      <th>1103</th>\n",
       "      <td>12/31/1997</td>\n",
       "      <td>535</td>\n",
       "      <td>4.9</td>\n",
       "      <td>17.6</td>\n",
       "      <td>1.6</td>\n",
       "      <td>45.981308</td>\n",
       "      <td>532.27</td>\n",
       "      <td>Wisconsin</td>\n",
       "    </tr>\n",
       "    <tr>\n",
       "      <th>1055</th>\n",
       "      <td>12/31/1998</td>\n",
       "      <td>548</td>\n",
       "      <td>5.1</td>\n",
       "      <td>18.2</td>\n",
       "      <td>1.6</td>\n",
       "      <td>48.905109</td>\n",
       "      <td>545.69</td>\n",
       "      <td>Wisconsin</td>\n",
       "    </tr>\n",
       "    <tr>\n",
       "      <th>1007</th>\n",
       "      <td>12/31/1999</td>\n",
       "      <td>564</td>\n",
       "      <td>5.4</td>\n",
       "      <td>18.8</td>\n",
       "      <td>1.6</td>\n",
       "      <td>47.517730</td>\n",
       "      <td>560.94</td>\n",
       "      <td>Wisconsin</td>\n",
       "    </tr>\n",
       "    <tr>\n",
       "      <th>959</th>\n",
       "      <td>12/31/2000</td>\n",
       "      <td>533</td>\n",
       "      <td>5.7</td>\n",
       "      <td>19.4</td>\n",
       "      <td>2.2</td>\n",
       "      <td>48.405253</td>\n",
       "      <td>531.98</td>\n",
       "      <td>Wisconsin</td>\n",
       "    </tr>\n",
       "    <tr>\n",
       "      <th>911</th>\n",
       "      <td>12/31/2001</td>\n",
       "      <td>592</td>\n",
       "      <td>5.8</td>\n",
       "      <td>19.9</td>\n",
       "      <td>2.6</td>\n",
       "      <td>45.945946</td>\n",
       "      <td>588.38</td>\n",
       "      <td>Wisconsin</td>\n",
       "    </tr>\n",
       "    <tr>\n",
       "      <th>863</th>\n",
       "      <td>12/31/2002</td>\n",
       "      <td>644</td>\n",
       "      <td>5.9</td>\n",
       "      <td>20.4</td>\n",
       "      <td>3.2</td>\n",
       "      <td>46.273292</td>\n",
       "      <td>639.43</td>\n",
       "      <td>Wisconsin</td>\n",
       "    </tr>\n",
       "    <tr>\n",
       "      <th>815</th>\n",
       "      <td>12/31/2003</td>\n",
       "      <td>514</td>\n",
       "      <td>6.0</td>\n",
       "      <td>20.9</td>\n",
       "      <td>3.7</td>\n",
       "      <td>45.525292</td>\n",
       "      <td>510.79</td>\n",
       "      <td>Wisconsin</td>\n",
       "    </tr>\n",
       "    <tr>\n",
       "      <th>767</th>\n",
       "      <td>12/31/2004</td>\n",
       "      <td>726</td>\n",
       "      <td>5.6</td>\n",
       "      <td>21.9</td>\n",
       "      <td>4.1</td>\n",
       "      <td>45.730028</td>\n",
       "      <td>721.39</td>\n",
       "      <td>Wisconsin</td>\n",
       "    </tr>\n",
       "    <tr>\n",
       "      <th>719</th>\n",
       "      <td>12/31/2005</td>\n",
       "      <td>610</td>\n",
       "      <td>6.1</td>\n",
       "      <td>22.9</td>\n",
       "      <td>5.1</td>\n",
       "      <td>42.950820</td>\n",
       "      <td>606.44</td>\n",
       "      <td>Wisconsin</td>\n",
       "    </tr>\n",
       "    <tr>\n",
       "      <th>671</th>\n",
       "      <td>12/31/2006</td>\n",
       "      <td>593</td>\n",
       "      <td>6.2</td>\n",
       "      <td>24.8</td>\n",
       "      <td>6.3</td>\n",
       "      <td>47.386172</td>\n",
       "      <td>589.63</td>\n",
       "      <td>Wisconsin</td>\n",
       "    </tr>\n",
       "    <tr>\n",
       "      <th>623</th>\n",
       "      <td>12/31/2007</td>\n",
       "      <td>641</td>\n",
       "      <td>6.4</td>\n",
       "      <td>25.5</td>\n",
       "      <td>7.0</td>\n",
       "      <td>44.617785</td>\n",
       "      <td>637.19</td>\n",
       "      <td>Wisconsin</td>\n",
       "    </tr>\n",
       "    <tr>\n",
       "      <th>575</th>\n",
       "      <td>12/31/2008</td>\n",
       "      <td>645</td>\n",
       "      <td>6.6</td>\n",
       "      <td>26.0</td>\n",
       "      <td>6.7</td>\n",
       "      <td>42.170543</td>\n",
       "      <td>641.53</td>\n",
       "      <td>Wisconsin</td>\n",
       "    </tr>\n",
       "    <tr>\n",
       "      <th>527</th>\n",
       "      <td>12/31/2009</td>\n",
       "      <td>688</td>\n",
       "      <td>7.3</td>\n",
       "      <td>26.9</td>\n",
       "      <td>7.2</td>\n",
       "      <td>44.476744</td>\n",
       "      <td>684.55</td>\n",
       "      <td>Wisconsin</td>\n",
       "    </tr>\n",
       "    <tr>\n",
       "      <th>479</th>\n",
       "      <td>12/31/2010</td>\n",
       "      <td>747</td>\n",
       "      <td>7.5</td>\n",
       "      <td>27.4</td>\n",
       "      <td>7.4</td>\n",
       "      <td>46.720214</td>\n",
       "      <td>746.58</td>\n",
       "      <td>Wisconsin</td>\n",
       "    </tr>\n",
       "    <tr>\n",
       "      <th>431</th>\n",
       "      <td>12/31/2011</td>\n",
       "      <td>789</td>\n",
       "      <td>8.4</td>\n",
       "      <td>27.7</td>\n",
       "      <td>8.5</td>\n",
       "      <td>44.993663</td>\n",
       "      <td>786.95</td>\n",
       "      <td>Wisconsin</td>\n",
       "    </tr>\n",
       "    <tr>\n",
       "      <th>383</th>\n",
       "      <td>12/31/2012</td>\n",
       "      <td>785</td>\n",
       "      <td>8.3</td>\n",
       "      <td>29.7</td>\n",
       "      <td>8.7</td>\n",
       "      <td>45.859873</td>\n",
       "      <td>782.98</td>\n",
       "      <td>Wisconsin</td>\n",
       "    </tr>\n",
       "    <tr>\n",
       "      <th>335</th>\n",
       "      <td>12/31/2013</td>\n",
       "      <td>821</td>\n",
       "      <td>8.2</td>\n",
       "      <td>29.8</td>\n",
       "      <td>10.5</td>\n",
       "      <td>47.624848</td>\n",
       "      <td>818.59</td>\n",
       "      <td>Wisconsin</td>\n",
       "    </tr>\n",
       "    <tr>\n",
       "      <th>287</th>\n",
       "      <td>12/31/2014</td>\n",
       "      <td>792</td>\n",
       "      <td>9.0</td>\n",
       "      <td>31.2</td>\n",
       "      <td>11.1</td>\n",
       "      <td>44.949495</td>\n",
       "      <td>789.96</td>\n",
       "      <td>Wisconsin</td>\n",
       "    </tr>\n",
       "    <tr>\n",
       "      <th>239</th>\n",
       "      <td>12/31/2015</td>\n",
       "      <td>676</td>\n",
       "      <td>8.4</td>\n",
       "      <td>30.7</td>\n",
       "      <td>15.5</td>\n",
       "      <td>49.556213</td>\n",
       "      <td>674.89</td>\n",
       "      <td>Wisconsin</td>\n",
       "    </tr>\n",
       "    <tr>\n",
       "      <th>191</th>\n",
       "      <td>12/31/2016</td>\n",
       "      <td>728</td>\n",
       "      <td>9.8</td>\n",
       "      <td>30.7</td>\n",
       "      <td>19.3</td>\n",
       "      <td>44.917582</td>\n",
       "      <td>726.52</td>\n",
       "      <td>Wisconsin</td>\n",
       "    </tr>\n",
       "    <tr>\n",
       "      <th>143</th>\n",
       "      <td>12/31/2017</td>\n",
       "      <td>726</td>\n",
       "      <td>9.1</td>\n",
       "      <td>32.0</td>\n",
       "      <td>21.2</td>\n",
       "      <td>42.975207</td>\n",
       "      <td>723.79</td>\n",
       "      <td>Wisconsin</td>\n",
       "    </tr>\n",
       "    <tr>\n",
       "      <th>95</th>\n",
       "      <td>12/31/2018</td>\n",
       "      <td>682</td>\n",
       "      <td>8.7</td>\n",
       "      <td>32.0</td>\n",
       "      <td>19.2</td>\n",
       "      <td>42.668622</td>\n",
       "      <td>679.97</td>\n",
       "      <td>Wisconsin</td>\n",
       "    </tr>\n",
       "    <tr>\n",
       "      <th>47</th>\n",
       "      <td>12/31/2019</td>\n",
       "      <td>639</td>\n",
       "      <td>8.7</td>\n",
       "      <td>34.2</td>\n",
       "      <td>20.2</td>\n",
       "      <td>46.635368</td>\n",
       "      <td>637.35</td>\n",
       "      <td>Wisconsin</td>\n",
       "    </tr>\n",
       "  </tbody>\n",
       "</table>\n",
       "</div>"
      ],
      "text/plain": [
       "            Year  Waitlist  Diabetes  Obesity  Overdose      Pct_O  Total_Adj  \\\n",
       "1199  12/31/1995       492       4.4     16.4       1.6  45.528455     487.99   \n",
       "1151  12/31/1996       504       4.6     17.0       1.6  48.809524     500.39   \n",
       "1103  12/31/1997       535       4.9     17.6       1.6  45.981308     532.27   \n",
       "1055  12/31/1998       548       5.1     18.2       1.6  48.905109     545.69   \n",
       "1007  12/31/1999       564       5.4     18.8       1.6  47.517730     560.94   \n",
       "959   12/31/2000       533       5.7     19.4       2.2  48.405253     531.98   \n",
       "911   12/31/2001       592       5.8     19.9       2.6  45.945946     588.38   \n",
       "863   12/31/2002       644       5.9     20.4       3.2  46.273292     639.43   \n",
       "815   12/31/2003       514       6.0     20.9       3.7  45.525292     510.79   \n",
       "767   12/31/2004       726       5.6     21.9       4.1  45.730028     721.39   \n",
       "719   12/31/2005       610       6.1     22.9       5.1  42.950820     606.44   \n",
       "671   12/31/2006       593       6.2     24.8       6.3  47.386172     589.63   \n",
       "623   12/31/2007       641       6.4     25.5       7.0  44.617785     637.19   \n",
       "575   12/31/2008       645       6.6     26.0       6.7  42.170543     641.53   \n",
       "527   12/31/2009       688       7.3     26.9       7.2  44.476744     684.55   \n",
       "479   12/31/2010       747       7.5     27.4       7.4  46.720214     746.58   \n",
       "431   12/31/2011       789       8.4     27.7       8.5  44.993663     786.95   \n",
       "383   12/31/2012       785       8.3     29.7       8.7  45.859873     782.98   \n",
       "335   12/31/2013       821       8.2     29.8      10.5  47.624848     818.59   \n",
       "287   12/31/2014       792       9.0     31.2      11.1  44.949495     789.96   \n",
       "239   12/31/2015       676       8.4     30.7      15.5  49.556213     674.89   \n",
       "191   12/31/2016       728       9.8     30.7      19.3  44.917582     726.52   \n",
       "143   12/31/2017       726       9.1     32.0      21.2  42.975207     723.79   \n",
       "95    12/31/2018       682       8.7     32.0      19.2  42.668622     679.97   \n",
       "47    12/31/2019       639       8.7     34.2      20.2  46.635368     637.35   \n",
       "\n",
       "          State  \n",
       "1199  Wisconsin  \n",
       "1151  Wisconsin  \n",
       "1103  Wisconsin  \n",
       "1055  Wisconsin  \n",
       "1007  Wisconsin  \n",
       "959   Wisconsin  \n",
       "911   Wisconsin  \n",
       "863   Wisconsin  \n",
       "815   Wisconsin  \n",
       "767   Wisconsin  \n",
       "719   Wisconsin  \n",
       "671   Wisconsin  \n",
       "623   Wisconsin  \n",
       "575   Wisconsin  \n",
       "527   Wisconsin  \n",
       "479   Wisconsin  \n",
       "431   Wisconsin  \n",
       "383   Wisconsin  \n",
       "335   Wisconsin  \n",
       "287   Wisconsin  \n",
       "239   Wisconsin  \n",
       "191   Wisconsin  \n",
       "143   Wisconsin  \n",
       "95    Wisconsin  \n",
       "47    Wisconsin  "
      ]
     },
     "execution_count": 1230,
     "metadata": {},
     "output_type": "execute_result"
    }
   ],
   "source": [
    "df.sort_values(by=['Year'], inplace=True, ascending=True)\n",
    "df = df.loc[df['State']=='Wisconsin']\n",
    "df"
   ]
  },
  {
   "cell_type": "code",
   "execution_count": 1231,
   "metadata": {
    "scrolled": true
   },
   "outputs": [
    {
     "data": {
      "text/html": [
       "<div>\n",
       "<style scoped>\n",
       "    .dataframe tbody tr th:only-of-type {\n",
       "        vertical-align: middle;\n",
       "    }\n",
       "\n",
       "    .dataframe tbody tr th {\n",
       "        vertical-align: top;\n",
       "    }\n",
       "\n",
       "    .dataframe thead th {\n",
       "        text-align: right;\n",
       "    }\n",
       "</style>\n",
       "<table border=\"1\" class=\"dataframe\">\n",
       "  <thead>\n",
       "    <tr style=\"text-align: right;\">\n",
       "      <th></th>\n",
       "      <th>Total_Adj</th>\n",
       "    </tr>\n",
       "  </thead>\n",
       "  <tbody>\n",
       "    <tr>\n",
       "      <th>0</th>\n",
       "      <td>637.35</td>\n",
       "    </tr>\n",
       "  </tbody>\n",
       "</table>\n",
       "</div>"
      ],
      "text/plain": [
       "   Total_Adj\n",
       "0     637.35"
      ]
     },
     "execution_count": 1231,
     "metadata": {},
     "output_type": "execute_result"
    }
   ],
   "source": [
    "df_output = df.tail(1)\n",
    "lastyear_df = df_output.drop(columns=['Year', 'Waitlist','Diabetes','Obesity','Overdose','Pct_O','State'])\n",
    "lastyear_df = lastyear_df.reset_index(drop=True)\n",
    "lastyear_df"
   ]
  },
  {
   "cell_type": "code",
   "execution_count": 1232,
   "metadata": {},
   "outputs": [
    {
     "data": {
      "image/png": "[encoded data removed]",
      "text/plain": [
       "<Figure size 432x288 with 36 Axes>"
      ]
     },
     "metadata": {
      "needs_background": "light"
     },
     "output_type": "display_data"
    }
   ],
   "source": [
    "df.plot(kind='box', subplots=True, layout=(6,6), sharex=False, sharey=False)\n",
    "plt.show()"
   ]
  },
  {
   "cell_type": "code",
   "execution_count": 1233,
   "metadata": {},
   "outputs": [
    {
     "data": {
      "image/png": "[encoded data removed]",
      "text/plain": [
       "<Figure size 432x288 with 36 Axes>"
      ]
     },
     "metadata": {
      "needs_background": "light"
     },
     "output_type": "display_data"
    }
   ],
   "source": [
    "# scatter plot matrix\n",
    "pd.plotting.scatter_matrix(df)\n",
    "plt.show()"
   ]
  },
  {
   "cell_type": "code",
   "execution_count": 1234,
   "metadata": {
    "scrolled": true
   },
   "outputs": [
    {
     "data": {
      "text/html": [
       "<div>\n",
       "<style scoped>\n",
       "    .dataframe tbody tr th:only-of-type {\n",
       "        vertical-align: middle;\n",
       "    }\n",
       "\n",
       "    .dataframe tbody tr th {\n",
       "        vertical-align: top;\n",
       "    }\n",
       "\n",
       "    .dataframe thead th {\n",
       "        text-align: right;\n",
       "    }\n",
       "</style>\n",
       "<table border=\"1\" class=\"dataframe\">\n",
       "  <thead>\n",
       "    <tr style=\"text-align: right;\">\n",
       "      <th></th>\n",
       "      <th>Waitlist</th>\n",
       "      <th>Diabetes</th>\n",
       "      <th>Obesity</th>\n",
       "      <th>Overdose</th>\n",
       "      <th>Pct_O</th>\n",
       "      <th>Total_Adj</th>\n",
       "    </tr>\n",
       "  </thead>\n",
       "  <tbody>\n",
       "    <tr>\n",
       "      <th>count</th>\n",
       "      <td>25.000000</td>\n",
       "      <td>25.000000</td>\n",
       "      <td>25.000000</td>\n",
       "      <td>25.000000</td>\n",
       "      <td>25.000000</td>\n",
       "      <td>25.000000</td>\n",
       "    </tr>\n",
       "    <tr>\n",
       "      <th>mean</th>\n",
       "      <td>648.560000</td>\n",
       "      <td>6.884000</td>\n",
       "      <td>24.880000</td>\n",
       "      <td>7.908000</td>\n",
       "      <td>45.885003</td>\n",
       "      <td>645.846800</td>\n",
       "    </tr>\n",
       "    <tr>\n",
       "      <th>std</th>\n",
       "      <td>98.964253</td>\n",
       "      <td>1.600177</td>\n",
       "      <td>5.536018</td>\n",
       "      <td>6.416705</td>\n",
       "      <td>1.985033</td>\n",
       "      <td>99.354759</td>\n",
       "    </tr>\n",
       "    <tr>\n",
       "      <th>min</th>\n",
       "      <td>492.000000</td>\n",
       "      <td>4.400000</td>\n",
       "      <td>16.400000</td>\n",
       "      <td>1.600000</td>\n",
       "      <td>42.170543</td>\n",
       "      <td>487.990000</td>\n",
       "    </tr>\n",
       "    <tr>\n",
       "      <th>25%</th>\n",
       "      <td>564.000000</td>\n",
       "      <td>5.700000</td>\n",
       "      <td>19.900000</td>\n",
       "      <td>2.600000</td>\n",
       "      <td>44.917582</td>\n",
       "      <td>560.940000</td>\n",
       "    </tr>\n",
       "    <tr>\n",
       "      <th>50%</th>\n",
       "      <td>644.000000</td>\n",
       "      <td>6.400000</td>\n",
       "      <td>25.500000</td>\n",
       "      <td>6.700000</td>\n",
       "      <td>45.859873</td>\n",
       "      <td>639.430000</td>\n",
       "    </tr>\n",
       "    <tr>\n",
       "      <th>75%</th>\n",
       "      <td>726.000000</td>\n",
       "      <td>8.400000</td>\n",
       "      <td>29.800000</td>\n",
       "      <td>10.500000</td>\n",
       "      <td>47.386172</td>\n",
       "      <td>723.790000</td>\n",
       "    </tr>\n",
       "    <tr>\n",
       "      <th>max</th>\n",
       "      <td>821.000000</td>\n",
       "      <td>9.800000</td>\n",
       "      <td>34.200000</td>\n",
       "      <td>21.200000</td>\n",
       "      <td>49.556213</td>\n",
       "      <td>818.590000</td>\n",
       "    </tr>\n",
       "  </tbody>\n",
       "</table>\n",
       "</div>"
      ],
      "text/plain": [
       "         Waitlist   Diabetes    Obesity   Overdose      Pct_O   Total_Adj\n",
       "count   25.000000  25.000000  25.000000  25.000000  25.000000   25.000000\n",
       "mean   648.560000   6.884000  24.880000   7.908000  45.885003  645.846800\n",
       "std     98.964253   1.600177   5.536018   6.416705   1.985033   99.354759\n",
       "min    492.000000   4.400000  16.400000   1.600000  42.170543  487.990000\n",
       "25%    564.000000   5.700000  19.900000   2.600000  44.917582  560.940000\n",
       "50%    644.000000   6.400000  25.500000   6.700000  45.859873  639.430000\n",
       "75%    726.000000   8.400000  29.800000  10.500000  47.386172  723.790000\n",
       "max    821.000000   9.800000  34.200000  21.200000  49.556213  818.590000"
      ]
     },
     "execution_count": 1234,
     "metadata": {},
     "output_type": "execute_result"
    }
   ],
   "source": [
    "#Describe data\n",
    "df.describe()"
   ]
  },
  {
   "cell_type": "code",
   "execution_count": 1235,
   "metadata": {
    "scrolled": true
   },
   "outputs": [
    {
     "name": "stdout",
     "output_type": "stream",
     "text": [
      "          Diabetes   Obesity  Overdose     Pct_O\n",
      "Diabetes  1.000000  0.958775  0.899381 -0.303004\n",
      "Obesity   0.958775  1.000000  0.910295 -0.324777\n",
      "Overdose  0.899381  0.910295  1.000000 -0.315672\n",
      "Pct_O    -0.303004 -0.324777 -0.315672  1.000000\n"
     ]
    }
   ],
   "source": [
    "#Correlation Matrix\n",
    "corr_matrix = df[[\"Diabetes\", \"Obesity\", \"Overdose\", \"Pct_O\"]].corr()\n",
    "print(corr_matrix)"
   ]
  },
  {
   "cell_type": "code",
   "execution_count": 1236,
   "metadata": {},
   "outputs": [
    {
     "name": "stdout",
     "output_type": "stream",
     "text": [
      "(25, 4) (25, 1)\n"
     ]
    }
   ],
   "source": [
    "#Assign variables for regression\n",
    "X = df[['Diabetes','Obesity','Overdose','Pct_O']]\n",
    "y = df['Total_Adj'].values.reshape(-1,1)\n",
    "print(X.shape, y.shape)"
   ]
  },
  {
   "cell_type": "code",
   "execution_count": 1237,
   "metadata": {},
   "outputs": [],
   "source": [
    "#Use train_test_split to create training and testing data\n",
    "from sklearn.model_selection import train_test_split\n",
    "X_train, X_test, y_train, y_test = train_test_split(X, y, random_state=42)"
   ]
  },
  {
   "cell_type": "code",
   "execution_count": 1238,
   "metadata": {},
   "outputs": [],
   "source": [
    "#Create model\n",
    "model = LinearRegression()"
   ]
  },
  {
   "cell_type": "code",
   "execution_count": 1239,
   "metadata": {},
   "outputs": [
    {
     "name": "stdout",
     "output_type": "stream",
     "text": [
      "Training Score: 0.9001319450603151\n",
      "Testing Score: 0.5762911663375694\n"
     ]
    }
   ],
   "source": [
    "#fit the model to the training data and calculate the scores for the training and testing data\n",
    "#Begin\n",
    "model.fit(X_train, y_train)\n",
    "training_score = model.score(X_train, y_train)\n",
    "testing_score = model.score(X_test, y_test)\n",
    "#End\n",
    "print(f\"Training Score: {training_score}\")\n",
    "print(f\"Testing Score: {testing_score}\")\n"
   ]
  },
  {
   "cell_type": "code",
   "execution_count": 1240,
   "metadata": {},
   "outputs": [
    {
     "data": {
      "text/plain": [
       "Text(0.5, 1.0, 'Residual Plot')"
      ]
     },
     "execution_count": 1240,
     "metadata": {},
     "output_type": "execute_result"
    },
    {
     "data": {
      "image/png": "[encoded data removed]",
      "text/plain": [
       "<Figure size 432x288 with 1 Axes>"
      ]
     },
     "metadata": {
      "needs_background": "light"
     },
     "output_type": "display_data"
    }
   ],
   "source": [
    "#Plot Residuals for Training and Testing Data\n",
    "#Begin\n",
    "plt.scatter(model.predict(X_train), model.predict(X_train) - y_train, c=\"green\", label=\"Training Data\")\n",
    "plt.scatter(model.predict(X_test), model.predict(X_test) - y_test, c=\"red\", label=\"Testing Data\")\n",
    "plt.legend()\n",
    "plt.hlines(y=0, xmin=y.min(), xmax=y.max())\n",
    "plt.title(\"Residual Plot\")\n",
    "#End"
   ]
  },
  {
   "cell_type": "code",
   "execution_count": 1241,
   "metadata": {},
   "outputs": [
    {
     "name": "stdout",
     "output_type": "stream",
     "text": [
      "coefficient of determination 0.8031241662741243\n"
     ]
    }
   ],
   "source": [
    "#R2 of original model\n",
    "r_sq = model.score(X, y)\n",
    "print('coefficient of determination', r_sq)"
   ]
  },
  {
   "cell_type": "code",
   "execution_count": 1242,
   "metadata": {},
   "outputs": [
    {
     "name": "stdout",
     "output_type": "stream",
     "text": [
      "[154.77401657]\n"
     ]
    }
   ],
   "source": [
    "print(model.intercept_)"
   ]
  },
  {
   "cell_type": "code",
   "execution_count": 1243,
   "metadata": {},
   "outputs": [
    {
     "name": "stdout",
     "output_type": "stream",
     "text": [
      "[[ 72.69339631  10.16273063 -15.56482736  -3.03815349]]\n"
     ]
    }
   ],
   "source": [
    "print(model.coef_)"
   ]
  },
  {
   "cell_type": "code",
   "execution_count": 1244,
   "metadata": {
    "scrolled": false
   },
   "outputs": [
    {
     "name": "stdout",
     "output_type": "stream",
     "text": [
      "[[804.27968941]]\n"
     ]
    }
   ],
   "source": [
    "#Make a Prediction using model\n",
    "predictedTotal_Adj = model.predict([[10.77,32,19.9,49]])\n",
    "print(predictedTotal_Adj)"
   ]
  },
  {
   "cell_type": "code",
   "execution_count": 1245,
   "metadata": {
    "scrolled": false
   },
   "outputs": [
    {
     "name": "stdout",
     "output_type": "stream",
     "text": [
      "(18, 4)\n"
     ]
    }
   ],
   "source": [
    "print(X_train.shape)"
   ]
  },
  {
   "cell_type": "code",
   "execution_count": 1246,
   "metadata": {
    "scrolled": true
   },
   "outputs": [
    {
     "name": "stdout",
     "output_type": "stream",
     "text": [
      "(18, 1)\n"
     ]
    }
   ],
   "source": [
    "print(y_train.shape)"
   ]
  },
  {
   "cell_type": "code",
   "execution_count": 1247,
   "metadata": {},
   "outputs": [
    {
     "name": "stdout",
     "output_type": "stream",
     "text": [
      "(7, 1)\n"
     ]
    }
   ],
   "source": [
    "print(y_test.shape)"
   ]
  },
  {
   "cell_type": "code",
   "execution_count": 1248,
   "metadata": {},
   "outputs": [
    {
     "name": "stdout",
     "output_type": "stream",
     "text": [
      "(7, 4)\n"
     ]
    }
   ],
   "source": [
    "print(X_test.shape)"
   ]
  },
  {
   "cell_type": "code",
   "execution_count": 1249,
   "metadata": {},
   "outputs": [],
   "source": [
    "modeldetail = sm.OLS(y, X)\n",
    "resultstest = modeldetail.fit()"
   ]
  },
  {
   "cell_type": "code",
   "execution_count": 1250,
   "metadata": {},
   "outputs": [
    {
     "name": "stdout",
     "output_type": "stream",
     "text": [
      "(25, 4)\n"
     ]
    }
   ],
   "source": [
    "print(X.shape)"
   ]
  },
  {
   "cell_type": "code",
   "execution_count": 1251,
   "metadata": {},
   "outputs": [
    {
     "name": "stdout",
     "output_type": "stream",
     "text": [
      "(25, 1)\n"
     ]
    }
   ],
   "source": [
    "print(y.shape)"
   ]
  },
  {
   "cell_type": "code",
   "execution_count": 1252,
   "metadata": {
    "scrolled": true
   },
   "outputs": [
    {
     "data": {
      "image/png": "[encoded data removed]",
      "text/plain": [
       "<Figure size 432x288 with 1 Axes>"
      ]
     },
     "metadata": {
      "needs_background": "light"
     },
     "output_type": "display_data"
    }
   ],
   "source": [
    "plt.scatter(X[('Diabetes')], y, label='Diabetes')\n",
    "plt.scatter(X[('Obesity')], y, label='Obesity')\n",
    "plt.scatter(X[('Overdose')], y, label='Overdose')\n",
    "plt.scatter(X[('Pct_O')], y, label='% O-type')\n",
    "plt.title('Full Model')\n",
    "plt.xlabel('Variables through Time (in %, except Overdose in per 100,000)')\n",
    "plt.ylabel('Kidney Waitlist through Time')\n",
    "plt.legend(title='variables',loc='lower center')\n",
    "plt.savefig('images/Wisconsin_full.png', dpi=100, facecolor='w', edgecolor='w',\n",
    "        orientation='portrait', format=None,\n",
    "        transparent=False, bbox_inches=None, pad_inches=0.2, metadata=None)\n",
    "plt.show()"
   ]
  },
  {
   "cell_type": "code",
   "execution_count": 1253,
   "metadata": {
    "scrolled": true
   },
   "outputs": [
    {
     "data": {
      "image/png": "[encoded data removed]",
      "text/plain": [
       "<Figure size 504x360 with 1 Axes>"
      ]
     },
     "metadata": {
      "needs_background": "light"
     },
     "output_type": "display_data"
    }
   ],
   "source": [
    "fig = plt.figure()\n",
    "plt.scatter(X_train[('Diabetes')], y_train)\n",
    "plt.scatter(X_train[('Obesity')], y_train)\n",
    "plt.scatter(X_train[('Overdose')], y_train)\n",
    "plt.scatter(X_train[('Pct_O')], y_train)\n",
    "plt.title('Training Model')\n",
    "fig.set_size_inches(7,5)\n",
    "plt.show()"
   ]
  },
  {
   "cell_type": "code",
   "execution_count": 1254,
   "metadata": {},
   "outputs": [
    {
     "data": {
      "image/png": "[encoded data removed]",
      "text/plain": [
       "<Figure size 432x288 with 1 Axes>"
      ]
     },
     "metadata": {
      "needs_background": "light"
     },
     "output_type": "display_data"
    }
   ],
   "source": [
    "plt.scatter(X_test[('Diabetes')], y_test)\n",
    "plt.scatter(X_test[('Obesity')], y_test)\n",
    "plt.scatter(X_test[('Overdose')], y_test)\n",
    "plt.scatter(X_test[('Pct_O')], y_test)\n",
    "plt.title('Test Model')\n",
    "plt.show()"
   ]
  },
  {
   "cell_type": "code",
   "execution_count": 1255,
   "metadata": {},
   "outputs": [
    {
     "data": {
      "image/png": "[encoded data removed]",
      "text/plain": [
       "<Figure size 432x288 with 1 Axes>"
      ]
     },
     "metadata": {
      "needs_background": "light"
     },
     "output_type": "display_data"
    }
   ],
   "source": [
    "plt.scatter(X_train[('Diabetes')], y_train)\n",
    "plt.scatter(X_train[('Obesity')], y_train)\n",
    "plt.scatter(X_train[('Overdose')], y_train)\n",
    "plt.scatter(X_train[('Pct_O')], y_train)\n",
    "plt.scatter(X_test[('Diabetes')], y_test)\n",
    "plt.scatter(X_test[('Obesity')], y_test)\n",
    "plt.scatter(X_test[('Overdose')], y_test)\n",
    "plt.scatter(X_test[('Pct_O')], y_test)\n",
    "plt.title('Test Model')\n",
    "plt.show()"
   ]
  },
  {
   "cell_type": "code",
   "execution_count": 1256,
   "metadata": {},
   "outputs": [
    {
     "data": {
      "text/html": [
       "<table class=\"simpletable\">\n",
       "<caption>OLS Regression Results</caption>\n",
       "<tr>\n",
       "  <th>Dep. Variable:</th>        <td>Total_Adj</td>    <th>  R-squared:         </th> <td>   0.805</td>\n",
       "</tr>\n",
       "<tr>\n",
       "  <th>Model:</th>                   <td>OLS</td>       <th>  Adj. R-squared:    </th> <td>   0.767</td>\n",
       "</tr>\n",
       "<tr>\n",
       "  <th>Method:</th>             <td>Least Squares</td>  <th>  F-statistic:       </th> <td>   20.70</td>\n",
       "</tr>\n",
       "<tr>\n",
       "  <th>Date:</th>             <td>Wed, 20 Jan 2021</td> <th>  Prob (F-statistic):</th> <td>7.04e-07</td>\n",
       "</tr>\n",
       "<tr>\n",
       "  <th>Time:</th>                 <td>22:36:59</td>     <th>  Log-Likelihood:    </th> <td> -129.47</td>\n",
       "</tr>\n",
       "<tr>\n",
       "  <th>No. Observations:</th>      <td>    25</td>      <th>  AIC:               </th> <td>   268.9</td>\n",
       "</tr>\n",
       "<tr>\n",
       "  <th>Df Residuals:</th>          <td>    20</td>      <th>  BIC:               </th> <td>   275.0</td>\n",
       "</tr>\n",
       "<tr>\n",
       "  <th>Df Model:</th>              <td>     4</td>      <th>                     </th>     <td> </td>   \n",
       "</tr>\n",
       "<tr>\n",
       "  <th>Covariance Type:</th>      <td>nonrobust</td>    <th>                     </th>     <td> </td>   \n",
       "</tr>\n",
       "</table>\n",
       "<table class=\"simpletable\">\n",
       "<tr>\n",
       "      <td></td>         <th>coef</th>     <th>std err</th>      <th>t</th>      <th>P>|t|</th>  <th>[0.025</th>    <th>0.975]</th>  \n",
       "</tr>\n",
       "<tr>\n",
       "  <th>Intercept</th> <td>  132.6241</td> <td>  264.353</td> <td>    0.502</td> <td> 0.621</td> <td> -418.806</td> <td>  684.055</td>\n",
       "</tr>\n",
       "<tr>\n",
       "  <th>Diabetes</th>  <td>   62.5317</td> <td>   22.146</td> <td>    2.824</td> <td> 0.010</td> <td>   16.335</td> <td>  108.728</td>\n",
       "</tr>\n",
       "<tr>\n",
       "  <th>Obesity</th>   <td>   12.4445</td> <td>    6.784</td> <td>    1.834</td> <td> 0.082</td> <td>   -1.706</td> <td>   26.595</td>\n",
       "</tr>\n",
       "<tr>\n",
       "  <th>Overdose</th>  <td>  -15.1663</td> <td>    3.794</td> <td>   -3.997</td> <td> 0.001</td> <td>  -23.081</td> <td>   -7.252</td>\n",
       "</tr>\n",
       "<tr>\n",
       "  <th>Pct_O</th>     <td>   -2.3304</td> <td>    5.232</td> <td>   -0.445</td> <td> 0.661</td> <td>  -13.243</td> <td>    8.583</td>\n",
       "</tr>\n",
       "</table>\n",
       "<table class=\"simpletable\">\n",
       "<tr>\n",
       "  <th>Omnibus:</th>       <td>10.009</td> <th>  Durbin-Watson:     </th> <td>   2.731</td>\n",
       "</tr>\n",
       "<tr>\n",
       "  <th>Prob(Omnibus):</th> <td> 0.007</td> <th>  Jarque-Bera (JB):  </th> <td>   9.679</td>\n",
       "</tr>\n",
       "<tr>\n",
       "  <th>Skew:</th>          <td> 0.910</td> <th>  Prob(JB):          </th> <td> 0.00791</td>\n",
       "</tr>\n",
       "<tr>\n",
       "  <th>Kurtosis:</th>      <td> 5.446</td> <th>  Cond. No.          </th> <td>1.47e+03</td>\n",
       "</tr>\n",
       "</table><br/><br/>Warnings:<br/>[1] Standard Errors assume that the covariance matrix of the errors is correctly specified.<br/>[2] The condition number is large, 1.47e+03. This might indicate that there are<br/>strong multicollinearity or other numerical problems."
      ],
      "text/plain": [
       "<class 'statsmodels.iolib.summary.Summary'>\n",
       "\"\"\"\n",
       "                            OLS Regression Results                            \n",
       "==============================================================================\n",
       "Dep. Variable:              Total_Adj   R-squared:                       0.805\n",
       "Model:                            OLS   Adj. R-squared:                  0.767\n",
       "Method:                 Least Squares   F-statistic:                     20.70\n",
       "Date:                Wed, 20 Jan 2021   Prob (F-statistic):           7.04e-07\n",
       "Time:                        22:36:59   Log-Likelihood:                -129.47\n",
       "No. Observations:                  25   AIC:                             268.9\n",
       "Df Residuals:                      20   BIC:                             275.0\n",
       "Df Model:                           4                                         \n",
       "Covariance Type:            nonrobust                                         \n",
       "==============================================================================\n",
       "                 coef    std err          t      P>|t|      [0.025      0.975]\n",
       "------------------------------------------------------------------------------\n",
       "Intercept    132.6241    264.353      0.502      0.621    -418.806     684.055\n",
       "Diabetes      62.5317     22.146      2.824      0.010      16.335     108.728\n",
       "Obesity       12.4445      6.784      1.834      0.082      -1.706      26.595\n",
       "Overdose     -15.1663      3.794     -3.997      0.001     -23.081      -7.252\n",
       "Pct_O         -2.3304      5.232     -0.445      0.661     -13.243       8.583\n",
       "==============================================================================\n",
       "Omnibus:                       10.009   Durbin-Watson:                   2.731\n",
       "Prob(Omnibus):                  0.007   Jarque-Bera (JB):                9.679\n",
       "Skew:                           0.910   Prob(JB):                      0.00791\n",
       "Kurtosis:                       5.446   Cond. No.                     1.47e+03\n",
       "==============================================================================\n",
       "\n",
       "Warnings:\n",
       "[1] Standard Errors assume that the covariance matrix of the errors is correctly specified.\n",
       "[2] The condition number is large, 1.47e+03. This might indicate that there are\n",
       "strong multicollinearity or other numerical problems.\n",
       "\"\"\""
      ]
     },
     "execution_count": 1256,
     "metadata": {},
     "output_type": "execute_result"
    }
   ],
   "source": [
    "model_lin = sm.OLS.from_formula(\"Total_Adj ~ Diabetes + Obesity + Overdose + Pct_O\", data=df)\n",
    "result_lin = model_lin.fit()\n",
    "result_lin.summary()"
   ]
  },
  {
   "cell_type": "code",
   "execution_count": 1257,
   "metadata": {},
   "outputs": [
    {
     "data": {
      "text/html": [
       "<div>\n",
       "<style scoped>\n",
       "    .dataframe tbody tr th:only-of-type {\n",
       "        vertical-align: middle;\n",
       "    }\n",
       "\n",
       "    .dataframe tbody tr th {\n",
       "        vertical-align: top;\n",
       "    }\n",
       "\n",
       "    .dataframe thead th {\n",
       "        text-align: right;\n",
       "    }\n",
       "</style>\n",
       "<table border=\"1\" class=\"dataframe\">\n",
       "  <thead>\n",
       "    <tr style=\"text-align: right;\">\n",
       "      <th></th>\n",
       "      <th>Year</th>\n",
       "      <th>Waitlist</th>\n",
       "      <th>Diabetes</th>\n",
       "      <th>Obesity</th>\n",
       "      <th>Overdose</th>\n",
       "      <th>Pct_O</th>\n",
       "      <th>Total_Adj</th>\n",
       "      <th>State</th>\n",
       "    </tr>\n",
       "  </thead>\n",
       "  <tbody>\n",
       "    <tr>\n",
       "      <th>1199</th>\n",
       "      <td>12/31/1995</td>\n",
       "      <td>492</td>\n",
       "      <td>4.4</td>\n",
       "      <td>16.4</td>\n",
       "      <td>1.6</td>\n",
       "      <td>45.528455</td>\n",
       "      <td>487.99</td>\n",
       "      <td>Wisconsin</td>\n",
       "    </tr>\n",
       "    <tr>\n",
       "      <th>1151</th>\n",
       "      <td>12/31/1996</td>\n",
       "      <td>504</td>\n",
       "      <td>4.6</td>\n",
       "      <td>17.0</td>\n",
       "      <td>1.6</td>\n",
       "      <td>48.809524</td>\n",
       "      <td>500.39</td>\n",
       "      <td>Wisconsin</td>\n",
       "    </tr>\n",
       "    <tr>\n",
       "      <th>1103</th>\n",
       "      <td>12/31/1997</td>\n",
       "      <td>535</td>\n",
       "      <td>4.9</td>\n",
       "      <td>17.6</td>\n",
       "      <td>1.6</td>\n",
       "      <td>45.981308</td>\n",
       "      <td>532.27</td>\n",
       "      <td>Wisconsin</td>\n",
       "    </tr>\n",
       "    <tr>\n",
       "      <th>1055</th>\n",
       "      <td>12/31/1998</td>\n",
       "      <td>548</td>\n",
       "      <td>5.1</td>\n",
       "      <td>18.2</td>\n",
       "      <td>1.6</td>\n",
       "      <td>48.905109</td>\n",
       "      <td>545.69</td>\n",
       "      <td>Wisconsin</td>\n",
       "    </tr>\n",
       "    <tr>\n",
       "      <th>1007</th>\n",
       "      <td>12/31/1999</td>\n",
       "      <td>564</td>\n",
       "      <td>5.4</td>\n",
       "      <td>18.8</td>\n",
       "      <td>1.6</td>\n",
       "      <td>47.517730</td>\n",
       "      <td>560.94</td>\n",
       "      <td>Wisconsin</td>\n",
       "    </tr>\n",
       "    <tr>\n",
       "      <th>959</th>\n",
       "      <td>12/31/2000</td>\n",
       "      <td>533</td>\n",
       "      <td>5.7</td>\n",
       "      <td>19.4</td>\n",
       "      <td>2.2</td>\n",
       "      <td>48.405253</td>\n",
       "      <td>531.98</td>\n",
       "      <td>Wisconsin</td>\n",
       "    </tr>\n",
       "    <tr>\n",
       "      <th>911</th>\n",
       "      <td>12/31/2001</td>\n",
       "      <td>592</td>\n",
       "      <td>5.8</td>\n",
       "      <td>19.9</td>\n",
       "      <td>2.6</td>\n",
       "      <td>45.945946</td>\n",
       "      <td>588.38</td>\n",
       "      <td>Wisconsin</td>\n",
       "    </tr>\n",
       "    <tr>\n",
       "      <th>863</th>\n",
       "      <td>12/31/2002</td>\n",
       "      <td>644</td>\n",
       "      <td>5.9</td>\n",
       "      <td>20.4</td>\n",
       "      <td>3.2</td>\n",
       "      <td>46.273292</td>\n",
       "      <td>639.43</td>\n",
       "      <td>Wisconsin</td>\n",
       "    </tr>\n",
       "    <tr>\n",
       "      <th>815</th>\n",
       "      <td>12/31/2003</td>\n",
       "      <td>514</td>\n",
       "      <td>6.0</td>\n",
       "      <td>20.9</td>\n",
       "      <td>3.7</td>\n",
       "      <td>45.525292</td>\n",
       "      <td>510.79</td>\n",
       "      <td>Wisconsin</td>\n",
       "    </tr>\n",
       "    <tr>\n",
       "      <th>767</th>\n",
       "      <td>12/31/2004</td>\n",
       "      <td>726</td>\n",
       "      <td>5.6</td>\n",
       "      <td>21.9</td>\n",
       "      <td>4.1</td>\n",
       "      <td>45.730028</td>\n",
       "      <td>721.39</td>\n",
       "      <td>Wisconsin</td>\n",
       "    </tr>\n",
       "    <tr>\n",
       "      <th>719</th>\n",
       "      <td>12/31/2005</td>\n",
       "      <td>610</td>\n",
       "      <td>6.1</td>\n",
       "      <td>22.9</td>\n",
       "      <td>5.1</td>\n",
       "      <td>42.950820</td>\n",
       "      <td>606.44</td>\n",
       "      <td>Wisconsin</td>\n",
       "    </tr>\n",
       "    <tr>\n",
       "      <th>671</th>\n",
       "      <td>12/31/2006</td>\n",
       "      <td>593</td>\n",
       "      <td>6.2</td>\n",
       "      <td>24.8</td>\n",
       "      <td>6.3</td>\n",
       "      <td>47.386172</td>\n",
       "      <td>589.63</td>\n",
       "      <td>Wisconsin</td>\n",
       "    </tr>\n",
       "    <tr>\n",
       "      <th>623</th>\n",
       "      <td>12/31/2007</td>\n",
       "      <td>641</td>\n",
       "      <td>6.4</td>\n",
       "      <td>25.5</td>\n",
       "      <td>7.0</td>\n",
       "      <td>44.617785</td>\n",
       "      <td>637.19</td>\n",
       "      <td>Wisconsin</td>\n",
       "    </tr>\n",
       "    <tr>\n",
       "      <th>575</th>\n",
       "      <td>12/31/2008</td>\n",
       "      <td>645</td>\n",
       "      <td>6.6</td>\n",
       "      <td>26.0</td>\n",
       "      <td>6.7</td>\n",
       "      <td>42.170543</td>\n",
       "      <td>641.53</td>\n",
       "      <td>Wisconsin</td>\n",
       "    </tr>\n",
       "    <tr>\n",
       "      <th>527</th>\n",
       "      <td>12/31/2009</td>\n",
       "      <td>688</td>\n",
       "      <td>7.3</td>\n",
       "      <td>26.9</td>\n",
       "      <td>7.2</td>\n",
       "      <td>44.476744</td>\n",
       "      <td>684.55</td>\n",
       "      <td>Wisconsin</td>\n",
       "    </tr>\n",
       "    <tr>\n",
       "      <th>479</th>\n",
       "      <td>12/31/2010</td>\n",
       "      <td>747</td>\n",
       "      <td>7.5</td>\n",
       "      <td>27.4</td>\n",
       "      <td>7.4</td>\n",
       "      <td>46.720214</td>\n",
       "      <td>746.58</td>\n",
       "      <td>Wisconsin</td>\n",
       "    </tr>\n",
       "    <tr>\n",
       "      <th>431</th>\n",
       "      <td>12/31/2011</td>\n",
       "      <td>789</td>\n",
       "      <td>8.4</td>\n",
       "      <td>27.7</td>\n",
       "      <td>8.5</td>\n",
       "      <td>44.993663</td>\n",
       "      <td>786.95</td>\n",
       "      <td>Wisconsin</td>\n",
       "    </tr>\n",
       "    <tr>\n",
       "      <th>383</th>\n",
       "      <td>12/31/2012</td>\n",
       "      <td>785</td>\n",
       "      <td>8.3</td>\n",
       "      <td>29.7</td>\n",
       "      <td>8.7</td>\n",
       "      <td>45.859873</td>\n",
       "      <td>782.98</td>\n",
       "      <td>Wisconsin</td>\n",
       "    </tr>\n",
       "    <tr>\n",
       "      <th>335</th>\n",
       "      <td>12/31/2013</td>\n",
       "      <td>821</td>\n",
       "      <td>8.2</td>\n",
       "      <td>29.8</td>\n",
       "      <td>10.5</td>\n",
       "      <td>47.624848</td>\n",
       "      <td>818.59</td>\n",
       "      <td>Wisconsin</td>\n",
       "    </tr>\n",
       "    <tr>\n",
       "      <th>287</th>\n",
       "      <td>12/31/2014</td>\n",
       "      <td>792</td>\n",
       "      <td>9.0</td>\n",
       "      <td>31.2</td>\n",
       "      <td>11.1</td>\n",
       "      <td>44.949495</td>\n",
       "      <td>789.96</td>\n",
       "      <td>Wisconsin</td>\n",
       "    </tr>\n",
       "    <tr>\n",
       "      <th>239</th>\n",
       "      <td>12/31/2015</td>\n",
       "      <td>676</td>\n",
       "      <td>8.4</td>\n",
       "      <td>30.7</td>\n",
       "      <td>15.5</td>\n",
       "      <td>49.556213</td>\n",
       "      <td>674.89</td>\n",
       "      <td>Wisconsin</td>\n",
       "    </tr>\n",
       "    <tr>\n",
       "      <th>191</th>\n",
       "      <td>12/31/2016</td>\n",
       "      <td>728</td>\n",
       "      <td>9.8</td>\n",
       "      <td>30.7</td>\n",
       "      <td>19.3</td>\n",
       "      <td>44.917582</td>\n",
       "      <td>726.52</td>\n",
       "      <td>Wisconsin</td>\n",
       "    </tr>\n",
       "    <tr>\n",
       "      <th>143</th>\n",
       "      <td>12/31/2017</td>\n",
       "      <td>726</td>\n",
       "      <td>9.1</td>\n",
       "      <td>32.0</td>\n",
       "      <td>21.2</td>\n",
       "      <td>42.975207</td>\n",
       "      <td>723.79</td>\n",
       "      <td>Wisconsin</td>\n",
       "    </tr>\n",
       "    <tr>\n",
       "      <th>95</th>\n",
       "      <td>12/31/2018</td>\n",
       "      <td>682</td>\n",
       "      <td>8.7</td>\n",
       "      <td>32.0</td>\n",
       "      <td>19.2</td>\n",
       "      <td>42.668622</td>\n",
       "      <td>679.97</td>\n",
       "      <td>Wisconsin</td>\n",
       "    </tr>\n",
       "    <tr>\n",
       "      <th>47</th>\n",
       "      <td>12/31/2019</td>\n",
       "      <td>639</td>\n",
       "      <td>8.7</td>\n",
       "      <td>34.2</td>\n",
       "      <td>20.2</td>\n",
       "      <td>46.635368</td>\n",
       "      <td>637.35</td>\n",
       "      <td>Wisconsin</td>\n",
       "    </tr>\n",
       "  </tbody>\n",
       "</table>\n",
       "</div>"
      ],
      "text/plain": [
       "            Year  Waitlist  Diabetes  Obesity  Overdose      Pct_O  Total_Adj  \\\n",
       "1199  12/31/1995       492       4.4     16.4       1.6  45.528455     487.99   \n",
       "1151  12/31/1996       504       4.6     17.0       1.6  48.809524     500.39   \n",
       "1103  12/31/1997       535       4.9     17.6       1.6  45.981308     532.27   \n",
       "1055  12/31/1998       548       5.1     18.2       1.6  48.905109     545.69   \n",
       "1007  12/31/1999       564       5.4     18.8       1.6  47.517730     560.94   \n",
       "959   12/31/2000       533       5.7     19.4       2.2  48.405253     531.98   \n",
       "911   12/31/2001       592       5.8     19.9       2.6  45.945946     588.38   \n",
       "863   12/31/2002       644       5.9     20.4       3.2  46.273292     639.43   \n",
       "815   12/31/2003       514       6.0     20.9       3.7  45.525292     510.79   \n",
       "767   12/31/2004       726       5.6     21.9       4.1  45.730028     721.39   \n",
       "719   12/31/2005       610       6.1     22.9       5.1  42.950820     606.44   \n",
       "671   12/31/2006       593       6.2     24.8       6.3  47.386172     589.63   \n",
       "623   12/31/2007       641       6.4     25.5       7.0  44.617785     637.19   \n",
       "575   12/31/2008       645       6.6     26.0       6.7  42.170543     641.53   \n",
       "527   12/31/2009       688       7.3     26.9       7.2  44.476744     684.55   \n",
       "479   12/31/2010       747       7.5     27.4       7.4  46.720214     746.58   \n",
       "431   12/31/2011       789       8.4     27.7       8.5  44.993663     786.95   \n",
       "383   12/31/2012       785       8.3     29.7       8.7  45.859873     782.98   \n",
       "335   12/31/2013       821       8.2     29.8      10.5  47.624848     818.59   \n",
       "287   12/31/2014       792       9.0     31.2      11.1  44.949495     789.96   \n",
       "239   12/31/2015       676       8.4     30.7      15.5  49.556213     674.89   \n",
       "191   12/31/2016       728       9.8     30.7      19.3  44.917582     726.52   \n",
       "143   12/31/2017       726       9.1     32.0      21.2  42.975207     723.79   \n",
       "95    12/31/2018       682       8.7     32.0      19.2  42.668622     679.97   \n",
       "47    12/31/2019       639       8.7     34.2      20.2  46.635368     637.35   \n",
       "\n",
       "          State  \n",
       "1199  Wisconsin  \n",
       "1151  Wisconsin  \n",
       "1103  Wisconsin  \n",
       "1055  Wisconsin  \n",
       "1007  Wisconsin  \n",
       "959   Wisconsin  \n",
       "911   Wisconsin  \n",
       "863   Wisconsin  \n",
       "815   Wisconsin  \n",
       "767   Wisconsin  \n",
       "719   Wisconsin  \n",
       "671   Wisconsin  \n",
       "623   Wisconsin  \n",
       "575   Wisconsin  \n",
       "527   Wisconsin  \n",
       "479   Wisconsin  \n",
       "431   Wisconsin  \n",
       "383   Wisconsin  \n",
       "335   Wisconsin  \n",
       "287   Wisconsin  \n",
       "239   Wisconsin  \n",
       "191   Wisconsin  \n",
       "143   Wisconsin  \n",
       "95    Wisconsin  \n",
       "47    Wisconsin  "
      ]
     },
     "execution_count": 1257,
     "metadata": {},
     "output_type": "execute_result"
    }
   ],
   "source": [
    "df\n"
   ]
  },
  {
   "cell_type": "code",
   "execution_count": 1258,
   "metadata": {
    "scrolled": true
   },
   "outputs": [
    {
     "data": {
      "image/png": "[encoded data removed]",
      "text/plain": [
       "<Figure size 432x288 with 1 Axes>"
      ]
     },
     "metadata": {
      "needs_background": "light"
     },
     "output_type": "display_data"
    }
   ],
   "source": [
    "sns.regplot(X[('Diabetes')],y)\n",
    "plt.title('Diabetes % vs. Waitlist')\n",
    "plt.xlabel('Diabetes %')\n",
    "plt.ylabel('Kidney Waitlist through Time')\n",
    "plt.savefig('images/Wisconsin_diabetes.png', dpi=100, facecolor='w', edgecolor='w',\n",
    "        orientation='portrait', format=None,\n",
    "        transparent=False, bbox_inches=None, pad_inches=0.2, metadata=None)"
   ]
  },
  {
   "cell_type": "code",
   "execution_count": 1259,
   "metadata": {},
   "outputs": [
    {
     "data": {
      "image/png": "[encoded data removed]",
      "text/plain": [
       "<Figure size 432x288 with 1 Axes>"
      ]
     },
     "metadata": {
      "needs_background": "light"
     },
     "output_type": "display_data"
    }
   ],
   "source": [
    "sns.regplot(X[('Obesity')],y)\n",
    "plt.title('Obesity % vs. Waitlist')\n",
    "plt.xlabel('Obesity %')\n",
    "plt.ylabel('Kidney Waitlist through Time')\n",
    "plt.savefig('images/Wisconsin_obesity.png', dpi=100, facecolor='w', edgecolor='w',\n",
    "        orientation='portrait', format=None,\n",
    "        transparent=False, bbox_inches=None, pad_inches=0.2, metadata=None)"
   ]
  },
  {
   "cell_type": "code",
   "execution_count": 1260,
   "metadata": {
    "scrolled": false
   },
   "outputs": [
    {
     "data": {
      "image/png": "[encoded data removed]",
      "text/plain": [
       "<Figure size 432x288 with 1 Axes>"
      ]
     },
     "metadata": {
      "needs_background": "light"
     },
     "output_type": "display_data"
    }
   ],
   "source": [
    "sns.regplot(X[('Overdose')],y)\n",
    "plt.xlabel('Overdose rate per 100k')\n",
    "plt.title('Overdoses rate per 100k vs. Waitlist')\n",
    "plt.ylabel('Kidney Waitlist through Time')\n",
    "plt.savefig('images/Wisconsin_overdose.png', dpi=100, facecolor='w', edgecolor='w',\n",
    "        orientation='portrait', format=None,\n",
    "        transparent=False, bbox_inches=None, pad_inches=0.2, metadata=None)"
   ]
  },
  {
   "cell_type": "code",
   "execution_count": 1261,
   "metadata": {},
   "outputs": [
    {
     "data": {
      "image/png": "[encoded data removed]",
      "text/plain": [
       "<Figure size 432x288 with 1 Axes>"
      ]
     },
     "metadata": {
      "needs_background": "light"
     },
     "output_type": "display_data"
    }
   ],
   "source": [
    "sns.regplot(X[('Pct_O')],y)\n",
    "plt.xlabel('Percent O Blood-Type')\n",
    "plt.title('Percent O Blood-Type vs. Waitlist')\n",
    "plt.ylabel('Kidney Waitlist through Time')\n",
    "plt.savefig('images/Wisconsin_pct_O.png', dpi=100, facecolor='w', edgecolor='w',\n",
    "        orientation='portrait', format=None,\n",
    "        transparent=False, bbox_inches=None, pad_inches=0.2, metadata=None)"
   ]
  },
  {
   "cell_type": "code",
   "execution_count": 1262,
   "metadata": {
    "scrolled": true
   },
   "outputs": [
    {
     "data": {
      "text/plain": [
       "<AxesSubplot:xlabel='Pct_O'>"
      ]
     },
     "execution_count": 1262,
     "metadata": {},
     "output_type": "execute_result"
    },
    {
     "data": {
      "image/png": "[encoded data removed]",
      "text/plain": [
       "<Figure size 432x288 with 1 Axes>"
      ]
     },
     "metadata": {
      "needs_background": "light"
     },
     "output_type": "display_data"
    }
   ],
   "source": [
    "sns.regplot(X[('Diabetes')],y)\n",
    "sns.regplot(X[('Obesity')],y)\n",
    "sns.regplot(X[('Overdose')],y)\n",
    "sns.regplot(X[('Pct_O')],y)"
   ]
  },
  {
   "cell_type": "code",
   "execution_count": 1263,
   "metadata": {},
   "outputs": [
    {
     "data": {
      "text/html": [
       "<div>\n",
       "<style scoped>\n",
       "    .dataframe tbody tr th:only-of-type {\n",
       "        vertical-align: middle;\n",
       "    }\n",
       "\n",
       "    .dataframe tbody tr th {\n",
       "        vertical-align: top;\n",
       "    }\n",
       "\n",
       "    .dataframe thead th {\n",
       "        text-align: right;\n",
       "    }\n",
       "</style>\n",
       "<table border=\"1\" class=\"dataframe\">\n",
       "  <thead>\n",
       "    <tr style=\"text-align: right;\">\n",
       "      <th></th>\n",
       "      <th>0</th>\n",
       "      <th>1</th>\n",
       "      <th>2</th>\n",
       "      <th>3</th>\n",
       "    </tr>\n",
       "  </thead>\n",
       "  <tbody>\n",
       "    <tr>\n",
       "      <th>0</th>\n",
       "      <td>72.6934</td>\n",
       "      <td>10.1627</td>\n",
       "      <td>-15.5648</td>\n",
       "      <td>-3.03815</td>\n",
       "    </tr>\n",
       "  </tbody>\n",
       "</table>\n",
       "</div>"
      ],
      "text/plain": [
       "         0        1        2        3\n",
       "0  72.6934  10.1627 -15.5648 -3.03815"
      ]
     },
     "execution_count": 1263,
     "metadata": {},
     "output_type": "execute_result"
    }
   ],
   "source": [
    "coefficients = pd.concat([pd.DataFrame(X.columns),pd.DataFrame(np.transpose(model.coef_))], axis = 1)\n",
    "coefficients_transposed = coefficients.T\n",
    "coefficients_transposed\n",
    "coefficients_final = coefficients_transposed[1:]\n",
    "coefficients_final"
   ]
  },
  {
   "cell_type": "code",
   "execution_count": 1264,
   "metadata": {
    "scrolled": false
   },
   "outputs": [
    {
     "data": {
      "text/html": [
       "<div>\n",
       "<style scoped>\n",
       "    .dataframe tbody tr th:only-of-type {\n",
       "        vertical-align: middle;\n",
       "    }\n",
       "\n",
       "    .dataframe tbody tr th {\n",
       "        vertical-align: top;\n",
       "    }\n",
       "\n",
       "    .dataframe thead th {\n",
       "        text-align: right;\n",
       "    }\n",
       "</style>\n",
       "<table border=\"1\" class=\"dataframe\">\n",
       "  <thead>\n",
       "    <tr style=\"text-align: right;\">\n",
       "      <th></th>\n",
       "      <th>0</th>\n",
       "      <th>1</th>\n",
       "      <th>2</th>\n",
       "      <th>3</th>\n",
       "      <th>4</th>\n",
       "    </tr>\n",
       "  </thead>\n",
       "  <tbody>\n",
       "    <tr>\n",
       "      <th>0</th>\n",
       "      <td>0.803124</td>\n",
       "      <td>0.900132</td>\n",
       "      <td>0.576291</td>\n",
       "      <td>[154.77401657265966]</td>\n",
       "      <td>[[804.2796894092347]]</td>\n",
       "    </tr>\n",
       "  </tbody>\n",
       "</table>\n",
       "</div>"
      ],
      "text/plain": [
       "          0         1         2                     3                      4\n",
       "0  0.803124  0.900132  0.576291  [154.77401657265966]  [[804.2796894092347]]"
      ]
     },
     "execution_count": 1264,
     "metadata": {},
     "output_type": "execute_result"
    }
   ],
   "source": [
    "test_df = pd.DataFrame([[r_sq,training_score,testing_score,model.intercept_ ,predictedTotal_Adj]])\n",
    "test_df"
   ]
  },
  {
   "cell_type": "code",
   "execution_count": 1265,
   "metadata": {},
   "outputs": [],
   "source": [
    "#dfi.export(test_df, 'test_df.png')"
   ]
  },
  {
   "cell_type": "code",
   "execution_count": 1266,
   "metadata": {
    "scrolled": true
   },
   "outputs": [],
   "source": [
    "summary_df = pd.concat([test_df, lastyear_df, coefficients_final], axis=1)\n",
    "summary_df.columns = ['R2','Training Score', 'Test Score', 'Intercept','Forecast based on Natl Avg','Last Waitlist','Coef_Diabetes','Coef_Obesity','Coef_Overdose','Coef_Pct_O']"
   ]
  },
  {
   "cell_type": "code",
   "execution_count": 1267,
   "metadata": {
    "scrolled": true
   },
   "outputs": [
    {
     "data": {
      "text/html": [
       "<div>\n",
       "<style scoped>\n",
       "    .dataframe tbody tr th:only-of-type {\n",
       "        vertical-align: middle;\n",
       "    }\n",
       "\n",
       "    .dataframe tbody tr th {\n",
       "        vertical-align: top;\n",
       "    }\n",
       "\n",
       "    .dataframe thead th {\n",
       "        text-align: right;\n",
       "    }\n",
       "</style>\n",
       "<table border=\"1\" class=\"dataframe\">\n",
       "  <thead>\n",
       "    <tr style=\"text-align: right;\">\n",
       "      <th></th>\n",
       "      <th>R2</th>\n",
       "      <th>Training Score</th>\n",
       "      <th>Test Score</th>\n",
       "      <th>Intercept</th>\n",
       "      <th>Forecast based on Natl Avg</th>\n",
       "      <th>Last Waitlist</th>\n",
       "      <th>Coef_Diabetes</th>\n",
       "      <th>Coef_Obesity</th>\n",
       "      <th>Coef_Overdose</th>\n",
       "      <th>Coef_Pct_O</th>\n",
       "    </tr>\n",
       "  </thead>\n",
       "  <tbody>\n",
       "    <tr>\n",
       "      <th>0</th>\n",
       "      <td>0.803124</td>\n",
       "      <td>0.900132</td>\n",
       "      <td>0.576291</td>\n",
       "      <td>[154.77401657265966]</td>\n",
       "      <td>[[804.2796894092347]]</td>\n",
       "      <td>637.35</td>\n",
       "      <td>72.6934</td>\n",
       "      <td>10.1627</td>\n",
       "      <td>-15.5648</td>\n",
       "      <td>-3.03815</td>\n",
       "    </tr>\n",
       "  </tbody>\n",
       "</table>\n",
       "</div>"
      ],
      "text/plain": [
       "         R2  Training Score  Test Score             Intercept  \\\n",
       "0  0.803124        0.900132    0.576291  [154.77401657265966]   \n",
       "\n",
       "  Forecast based on Natl Avg  Last Waitlist Coef_Diabetes Coef_Obesity  \\\n",
       "0      [[804.2796894092347]]         637.35       72.6934      10.1627   \n",
       "\n",
       "  Coef_Overdose Coef_Pct_O  \n",
       "0      -15.5648   -3.03815  "
      ]
     },
     "execution_count": 1267,
     "metadata": {},
     "output_type": "execute_result"
    }
   ],
   "source": [
    "summary_df"
   ]
  },
  {
   "cell_type": "code",
   "execution_count": 1268,
   "metadata": {
    "scrolled": true
   },
   "outputs": [
    {
     "data": {
      "text/plain": [
       "R2                            float64\n",
       "Training Score                float64\n",
       "Test Score                    float64\n",
       "Intercept                      object\n",
       "Forecast based on Natl Avg     object\n",
       "Last Waitlist                 float64\n",
       "Coef_Diabetes                  object\n",
       "Coef_Obesity                   object\n",
       "Coef_Overdose                  object\n",
       "Coef_Pct_O                     object\n",
       "dtype: object"
      ]
     },
     "execution_count": 1268,
     "metadata": {},
     "output_type": "execute_result"
    }
   ],
   "source": [
    "summary_df.dtypes"
   ]
  },
  {
   "cell_type": "code",
   "execution_count": 1269,
   "metadata": {
    "scrolled": false
   },
   "outputs": [
    {
     "data": {
      "text/html": [
       "<div>\n",
       "<style scoped>\n",
       "    .dataframe tbody tr th:only-of-type {\n",
       "        vertical-align: middle;\n",
       "    }\n",
       "\n",
       "    .dataframe tbody tr th {\n",
       "        vertical-align: top;\n",
       "    }\n",
       "\n",
       "    .dataframe thead th {\n",
       "        text-align: right;\n",
       "    }\n",
       "</style>\n",
       "<table border=\"1\" class=\"dataframe\">\n",
       "  <thead>\n",
       "    <tr style=\"text-align: right;\">\n",
       "      <th></th>\n",
       "      <th>R2</th>\n",
       "      <th>Training Score</th>\n",
       "      <th>Test Score</th>\n",
       "      <th>Intercept</th>\n",
       "      <th>Forecast based on Natl Avg</th>\n",
       "      <th>Last Waitlist</th>\n",
       "      <th>Coef_Diabetes</th>\n",
       "      <th>Coef_Obesity</th>\n",
       "      <th>Coef_Overdose</th>\n",
       "      <th>Coef_Pct_O</th>\n",
       "    </tr>\n",
       "  </thead>\n",
       "  <tbody>\n",
       "    <tr>\n",
       "      <th>0</th>\n",
       "      <td>0.803124</td>\n",
       "      <td>0.900132</td>\n",
       "      <td>0.576291</td>\n",
       "      <td>[154.77401657265966]</td>\n",
       "      <td>[[804.2796894092347]]</td>\n",
       "      <td>637.35</td>\n",
       "      <td>72.6934</td>\n",
       "      <td>10.1627</td>\n",
       "      <td>-15.5648</td>\n",
       "      <td>-3.03815</td>\n",
       "    </tr>\n",
       "  </tbody>\n",
       "</table>\n",
       "</div>"
      ],
      "text/plain": [
       "         R2  Training Score  Test Score             Intercept  \\\n",
       "0  0.803124        0.900132    0.576291  [154.77401657265966]   \n",
       "\n",
       "  Forecast based on Natl Avg  Last Waitlist Coef_Diabetes Coef_Obesity  \\\n",
       "0      [[804.2796894092347]]         637.35       72.6934      10.1627   \n",
       "\n",
       "  Coef_Overdose Coef_Pct_O  \n",
       "0      -15.5648   -3.03815  "
      ]
     },
     "execution_count": 1269,
     "metadata": {},
     "output_type": "execute_result"
    }
   ],
   "source": [
    "summary_df"
   ]
  },
  {
   "cell_type": "code",
   "execution_count": 1270,
   "metadata": {
    "scrolled": true
   },
   "outputs": [],
   "source": [
    "summary_df['Intercept'] = summary_df['Intercept'].astype(int)\n",
    "summary_df['Forecast based on Natl Avg'] = summary_df['Forecast based on Natl Avg'].astype(int)\n",
    "summary_df['R2'] = summary_df['R2'].round(decimals=4)\n",
    "summary_df['Training Score'] = summary_df['Training Score'].round(decimals=4)\n",
    "summary_df['Test Score'] = summary_df['Test Score'].round(decimals=4)\n",
    "summary_df = summary_df[['R2','Training Score','Test Score','Intercept','Coef_Diabetes','Coef_Obesity','Coef_Overdose','Coef_Pct_O','Last Waitlist','Forecast based on Natl Avg']]\n",
    "dfi.export(summary_df, 'images/Wisconsin_summary.png')"
   ]
  },
  {
   "cell_type": "code",
   "execution_count": 1271,
   "metadata": {
    "scrolled": false
   },
   "outputs": [
    {
     "data": {
      "text/html": [
       "<div>\n",
       "<style scoped>\n",
       "    .dataframe tbody tr th:only-of-type {\n",
       "        vertical-align: middle;\n",
       "    }\n",
       "\n",
       "    .dataframe tbody tr th {\n",
       "        vertical-align: top;\n",
       "    }\n",
       "\n",
       "    .dataframe thead th {\n",
       "        text-align: right;\n",
       "    }\n",
       "</style>\n",
       "<table border=\"1\" class=\"dataframe\">\n",
       "  <thead>\n",
       "    <tr style=\"text-align: right;\">\n",
       "      <th></th>\n",
       "      <th>R2</th>\n",
       "      <th>Training Score</th>\n",
       "      <th>Test Score</th>\n",
       "      <th>Intercept</th>\n",
       "      <th>Coef_Diabetes</th>\n",
       "      <th>Coef_Obesity</th>\n",
       "      <th>Coef_Overdose</th>\n",
       "      <th>Coef_Pct_O</th>\n",
       "      <th>Last Waitlist</th>\n",
       "      <th>Forecast based on Natl Avg</th>\n",
       "    </tr>\n",
       "  </thead>\n",
       "  <tbody>\n",
       "    <tr>\n",
       "      <th>0</th>\n",
       "      <td>0.8031</td>\n",
       "      <td>0.9001</td>\n",
       "      <td>0.5763</td>\n",
       "      <td>154</td>\n",
       "      <td>72.6934</td>\n",
       "      <td>10.1627</td>\n",
       "      <td>-15.5648</td>\n",
       "      <td>-3.03815</td>\n",
       "      <td>637.35</td>\n",
       "      <td>804</td>\n",
       "    </tr>\n",
       "  </tbody>\n",
       "</table>\n",
       "</div>"
      ],
      "text/plain": [
       "       R2  Training Score  Test Score  Intercept Coef_Diabetes Coef_Obesity  \\\n",
       "0  0.8031          0.9001      0.5763        154       72.6934      10.1627   \n",
       "\n",
       "  Coef_Overdose Coef_Pct_O  Last Waitlist  Forecast based on Natl Avg  \n",
       "0      -15.5648   -3.03815         637.35                         804  "
      ]
     },
     "execution_count": 1271,
     "metadata": {},
     "output_type": "execute_result"
    }
   ],
   "source": [
    "summary_df"
   ]
  },
  {
   "cell_type": "code",
   "execution_count": 1272,
   "metadata": {
    "scrolled": true
   },
   "outputs": [
    {
     "data": {
      "text/html": [
       "<style  type=\"text/css\" >\n",
       "#T_f2767af0_5b99_11eb_90e8_c03eba874a93row0_col0,#T_f2767af0_5b99_11eb_90e8_c03eba874a93row0_col1,#T_f2767af0_5b99_11eb_90e8_c03eba874a93row0_col2,#T_f2767af0_5b99_11eb_90e8_c03eba874a93row0_col3,#T_f2767af0_5b99_11eb_90e8_c03eba874a93row0_col4,#T_f2767af0_5b99_11eb_90e8_c03eba874a93row0_col5,#T_f2767af0_5b99_11eb_90e8_c03eba874a93row0_col6,#T_f2767af0_5b99_11eb_90e8_c03eba874a93row0_col7,#T_f2767af0_5b99_11eb_90e8_c03eba874a93row0_col8,#T_f2767af0_5b99_11eb_90e8_c03eba874a93row0_col9{\n",
       "            background-color:  black;\n",
       "            color:  lawngreen;\n",
       "            border-color:  white;\n",
       "        }</style><table id=\"T_f2767af0_5b99_11eb_90e8_c03eba874a93\" ><thead>    <tr>        <th class=\"blank level0\" ></th>        <th class=\"col_heading level0 col0\" >R2</th>        <th class=\"col_heading level0 col1\" >Training Score</th>        <th class=\"col_heading level0 col2\" >Test Score</th>        <th class=\"col_heading level0 col3\" >Intercept</th>        <th class=\"col_heading level0 col4\" >Coef_Diabetes</th>        <th class=\"col_heading level0 col5\" >Coef_Obesity</th>        <th class=\"col_heading level0 col6\" >Coef_Overdose</th>        <th class=\"col_heading level0 col7\" >Coef_Pct_O</th>        <th class=\"col_heading level0 col8\" >Last Waitlist</th>        <th class=\"col_heading level0 col9\" >Forecast based on Natl Avg</th>    </tr></thead><tbody>\n",
       "                <tr>\n",
       "                        <th id=\"T_f2767af0_5b99_11eb_90e8_c03eba874a93level0_row0\" class=\"row_heading level0 row0\" >0</th>\n",
       "                        <td id=\"T_f2767af0_5b99_11eb_90e8_c03eba874a93row0_col0\" class=\"data row0 col0\" >0.803100</td>\n",
       "                        <td id=\"T_f2767af0_5b99_11eb_90e8_c03eba874a93row0_col1\" class=\"data row0 col1\" >0.900100</td>\n",
       "                        <td id=\"T_f2767af0_5b99_11eb_90e8_c03eba874a93row0_col2\" class=\"data row0 col2\" >0.576300</td>\n",
       "                        <td id=\"T_f2767af0_5b99_11eb_90e8_c03eba874a93row0_col3\" class=\"data row0 col3\" >154</td>\n",
       "                        <td id=\"T_f2767af0_5b99_11eb_90e8_c03eba874a93row0_col4\" class=\"data row0 col4\" >72.693396</td>\n",
       "                        <td id=\"T_f2767af0_5b99_11eb_90e8_c03eba874a93row0_col5\" class=\"data row0 col5\" >10.162731</td>\n",
       "                        <td id=\"T_f2767af0_5b99_11eb_90e8_c03eba874a93row0_col6\" class=\"data row0 col6\" >-15.564827</td>\n",
       "                        <td id=\"T_f2767af0_5b99_11eb_90e8_c03eba874a93row0_col7\" class=\"data row0 col7\" >-3.038153</td>\n",
       "                        <td id=\"T_f2767af0_5b99_11eb_90e8_c03eba874a93row0_col8\" class=\"data row0 col8\" >637.350000</td>\n",
       "                        <td id=\"T_f2767af0_5b99_11eb_90e8_c03eba874a93row0_col9\" class=\"data row0 col9\" >804</td>\n",
       "            </tr>\n",
       "    </tbody></table>"
      ],
      "text/plain": [
       "<pandas.io.formats.style.Styler at 0x1fcfee3d688>"
      ]
     },
     "execution_count": 1272,
     "metadata": {},
     "output_type": "execute_result"
    }
   ],
   "source": [
    "summaryalt_df = summary_df.style.set_properties(**{'background-color': 'black','color': 'lawngreen','border-color': 'white'})\n",
    "summaryalt_df"
   ]
  },
  {
   "cell_type": "code",
   "execution_count": null,
   "metadata": {},
   "outputs": [],
   "source": []
  }
 ],
 "metadata": {
  "kernelspec": {
   "display_name": "Python 3.7.6 64-bit ('base')",
   "language": "python",
   "name": "python37664bitbase4c4633b153a642f9891ab9f50584a414"
  },
  "language_info": {
   "codemirror_mode": {
    "name": "ipython",
    "version": 3
   },
   "file_extension": ".py",
   "mimetype": "text/x-python",
   "name": "python",
   "nbconvert_exporter": "python",
   "pygments_lexer": "ipython3",
   "version": "3.7.6"
  }
 },
 "nbformat": 4,
 "nbformat_minor": 2
}
