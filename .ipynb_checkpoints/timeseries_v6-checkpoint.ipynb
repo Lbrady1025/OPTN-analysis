{
 "cells": [
  {
   "cell_type": "code",
   "execution_count": 1,
   "metadata": {},
   "outputs": [],
   "source": [
    "#Import Dependencies\n",
    "%matplotlib inline\n",
    "import pandas as pd\n",
    "import numpy as np\n",
    "import statsmodels.api as sm\n",
    "from statsmodels.tsa.api import VAR\n",
    "import matplotlib.pyplot as plt\n",
    "from sklearn import linear_model\n",
    "from sklearn.linear_model import LinearRegression\n",
    "from sklearn.metrics import mean_squared_error, r2_score\n",
    "import dataframe_image as dfi\n",
    "from scipy import stats\n",
    "import seaborn as sns"
   ]
  },
  {
   "cell_type": "code",
   "execution_count": 2,
   "metadata": {},
   "outputs": [
    {
     "data": {
      "text/html": [
       "<div>\n",
       "<style scoped>\n",
       "    .dataframe tbody tr th:only-of-type {\n",
       "        vertical-align: middle;\n",
       "    }\n",
       "\n",
       "    .dataframe tbody tr th {\n",
       "        vertical-align: top;\n",
       "    }\n",
       "\n",
       "    .dataframe thead th {\n",
       "        text-align: right;\n",
       "    }\n",
       "</style>\n",
       "<table border=\"1\" class=\"dataframe\">\n",
       "  <thead>\n",
       "    <tr style=\"text-align: right;\">\n",
       "      <th></th>\n",
       "      <th>Year</th>\n",
       "      <th>Waitlist</th>\n",
       "      <th>Diabetes</th>\n",
       "      <th>Obesity</th>\n",
       "      <th>Overdose</th>\n",
       "      <th>Pct_O</th>\n",
       "      <th>Total_Adj</th>\n",
       "      <th>State</th>\n",
       "    </tr>\n",
       "  </thead>\n",
       "  <tbody>\n",
       "    <tr>\n",
       "      <th>0</th>\n",
       "      <td>12/31/2019</td>\n",
       "      <td>488</td>\n",
       "      <td>14.0</td>\n",
       "      <td>36.1</td>\n",
       "      <td>17.30</td>\n",
       "      <td>50.409836</td>\n",
       "      <td>486.45</td>\n",
       "      <td>Alabama</td>\n",
       "    </tr>\n",
       "    <tr>\n",
       "      <th>1</th>\n",
       "      <td>12/31/2019</td>\n",
       "      <td>824</td>\n",
       "      <td>10.9</td>\n",
       "      <td>36.1</td>\n",
       "      <td>23.00</td>\n",
       "      <td>50.970874</td>\n",
       "      <td>810.11</td>\n",
       "      <td>Arizona</td>\n",
       "    </tr>\n",
       "    <tr>\n",
       "      <th>2</th>\n",
       "      <td>12/31/2019</td>\n",
       "      <td>193</td>\n",
       "      <td>13.6</td>\n",
       "      <td>37.4</td>\n",
       "      <td>15.60</td>\n",
       "      <td>55.958549</td>\n",
       "      <td>192.48</td>\n",
       "      <td>Arkansas</td>\n",
       "    </tr>\n",
       "    <tr>\n",
       "      <th>3</th>\n",
       "      <td>12/31/2019</td>\n",
       "      <td>5566</td>\n",
       "      <td>10.1</td>\n",
       "      <td>26.2</td>\n",
       "      <td>12.25</td>\n",
       "      <td>51.257636</td>\n",
       "      <td>5558.86</td>\n",
       "      <td>California</td>\n",
       "    </tr>\n",
       "    <tr>\n",
       "      <th>4</th>\n",
       "      <td>12/31/2019</td>\n",
       "      <td>545</td>\n",
       "      <td>7.0</td>\n",
       "      <td>23.8</td>\n",
       "      <td>17.20</td>\n",
       "      <td>47.339450</td>\n",
       "      <td>538.54</td>\n",
       "      <td>Colorado</td>\n",
       "    </tr>\n",
       "  </tbody>\n",
       "</table>\n",
       "</div>"
      ],
      "text/plain": [
       "         Year  Waitlist  Diabetes  Obesity  Overdose      Pct_O  Total_Adj  \\\n",
       "0  12/31/2019       488      14.0     36.1     17.30  50.409836     486.45   \n",
       "1  12/31/2019       824      10.9     36.1     23.00  50.970874     810.11   \n",
       "2  12/31/2019       193      13.6     37.4     15.60  55.958549     192.48   \n",
       "3  12/31/2019      5566      10.1     26.2     12.25  51.257636    5558.86   \n",
       "4  12/31/2019       545       7.0     23.8     17.20  47.339450     538.54   \n",
       "\n",
       "        State  \n",
       "0     Alabama  \n",
       "1     Arizona  \n",
       "2    Arkansas  \n",
       "3  California  \n",
       "4    Colorado  "
      ]
     },
     "execution_count": 2,
     "metadata": {},
     "output_type": "execute_result"
    }
   ],
   "source": [
    "# Load dataset\n",
    "df = pd.read_csv('Final_data.csv')\n",
    "df.head()"
   ]
  },
  {
   "cell_type": "code",
   "execution_count": 3,
   "metadata": {
    "scrolled": false
   },
   "outputs": [
    {
     "data": {
      "text/html": [
       "<div>\n",
       "<style scoped>\n",
       "    .dataframe tbody tr th:only-of-type {\n",
       "        vertical-align: middle;\n",
       "    }\n",
       "\n",
       "    .dataframe tbody tr th {\n",
       "        vertical-align: top;\n",
       "    }\n",
       "\n",
       "    .dataframe thead th {\n",
       "        text-align: right;\n",
       "    }\n",
       "</style>\n",
       "<table border=\"1\" class=\"dataframe\">\n",
       "  <thead>\n",
       "    <tr style=\"text-align: right;\">\n",
       "      <th></th>\n",
       "      <th>Year</th>\n",
       "      <th>Waitlist</th>\n",
       "      <th>Diabetes</th>\n",
       "      <th>Obesity</th>\n",
       "      <th>Overdose</th>\n",
       "      <th>Pct_O</th>\n",
       "      <th>Total_Adj</th>\n",
       "      <th>State</th>\n",
       "    </tr>\n",
       "  </thead>\n",
       "  <tbody>\n",
       "    <tr>\n",
       "      <th>1172</th>\n",
       "      <td>12/31/1995</td>\n",
       "      <td>692</td>\n",
       "      <td>7.6</td>\n",
       "      <td>17.20</td>\n",
       "      <td>1.4</td>\n",
       "      <td>45.809249</td>\n",
       "      <td>686.56</td>\n",
       "      <td>Michigan</td>\n",
       "    </tr>\n",
       "    <tr>\n",
       "      <th>1124</th>\n",
       "      <td>12/31/1996</td>\n",
       "      <td>641</td>\n",
       "      <td>7.5</td>\n",
       "      <td>18.10</td>\n",
       "      <td>1.4</td>\n",
       "      <td>45.553822</td>\n",
       "      <td>635.74</td>\n",
       "      <td>Michigan</td>\n",
       "    </tr>\n",
       "    <tr>\n",
       "      <th>1076</th>\n",
       "      <td>12/31/1997</td>\n",
       "      <td>662</td>\n",
       "      <td>7.4</td>\n",
       "      <td>19.10</td>\n",
       "      <td>1.4</td>\n",
       "      <td>45.166163</td>\n",
       "      <td>658.86</td>\n",
       "      <td>Michigan</td>\n",
       "    </tr>\n",
       "    <tr>\n",
       "      <th>1028</th>\n",
       "      <td>12/31/1998</td>\n",
       "      <td>648</td>\n",
       "      <td>7.4</td>\n",
       "      <td>20.10</td>\n",
       "      <td>1.4</td>\n",
       "      <td>44.598765</td>\n",
       "      <td>645.70</td>\n",
       "      <td>Michigan</td>\n",
       "    </tr>\n",
       "    <tr>\n",
       "      <th>980</th>\n",
       "      <td>12/31/1999</td>\n",
       "      <td>775</td>\n",
       "      <td>7.3</td>\n",
       "      <td>21.10</td>\n",
       "      <td>1.4</td>\n",
       "      <td>47.225806</td>\n",
       "      <td>771.56</td>\n",
       "      <td>Michigan</td>\n",
       "    </tr>\n",
       "    <tr>\n",
       "      <th>932</th>\n",
       "      <td>12/31/2000</td>\n",
       "      <td>635</td>\n",
       "      <td>7.3</td>\n",
       "      <td>22.10</td>\n",
       "      <td>2.0</td>\n",
       "      <td>44.724409</td>\n",
       "      <td>634.13</td>\n",
       "      <td>Michigan</td>\n",
       "    </tr>\n",
       "    <tr>\n",
       "      <th>884</th>\n",
       "      <td>12/31/2001</td>\n",
       "      <td>731</td>\n",
       "      <td>7.5</td>\n",
       "      <td>23.13</td>\n",
       "      <td>2.1</td>\n",
       "      <td>44.733242</td>\n",
       "      <td>728.16</td>\n",
       "      <td>Michigan</td>\n",
       "    </tr>\n",
       "    <tr>\n",
       "      <th>836</th>\n",
       "      <td>12/31/2002</td>\n",
       "      <td>771</td>\n",
       "      <td>7.7</td>\n",
       "      <td>24.17</td>\n",
       "      <td>2.5</td>\n",
       "      <td>46.044099</td>\n",
       "      <td>769.10</td>\n",
       "      <td>Michigan</td>\n",
       "    </tr>\n",
       "    <tr>\n",
       "      <th>788</th>\n",
       "      <td>12/31/2003</td>\n",
       "      <td>799</td>\n",
       "      <td>7.9</td>\n",
       "      <td>25.20</td>\n",
       "      <td>2.8</td>\n",
       "      <td>44.055069</td>\n",
       "      <td>796.97</td>\n",
       "      <td>Michigan</td>\n",
       "    </tr>\n",
       "    <tr>\n",
       "      <th>740</th>\n",
       "      <td>12/31/2004</td>\n",
       "      <td>1031</td>\n",
       "      <td>7.8</td>\n",
       "      <td>25.30</td>\n",
       "      <td>3.9</td>\n",
       "      <td>47.332687</td>\n",
       "      <td>1029.55</td>\n",
       "      <td>Michigan</td>\n",
       "    </tr>\n",
       "    <tr>\n",
       "      <th>692</th>\n",
       "      <td>12/31/2005</td>\n",
       "      <td>1190</td>\n",
       "      <td>7.9</td>\n",
       "      <td>25.60</td>\n",
       "      <td>5.2</td>\n",
       "      <td>46.806723</td>\n",
       "      <td>1190.49</td>\n",
       "      <td>Michigan</td>\n",
       "    </tr>\n",
       "    <tr>\n",
       "      <th>644</th>\n",
       "      <td>12/31/2006</td>\n",
       "      <td>1216</td>\n",
       "      <td>8.3</td>\n",
       "      <td>26.80</td>\n",
       "      <td>6.4</td>\n",
       "      <td>44.736842</td>\n",
       "      <td>1217.82</td>\n",
       "      <td>Michigan</td>\n",
       "    </tr>\n",
       "    <tr>\n",
       "      <th>596</th>\n",
       "      <td>12/31/2007</td>\n",
       "      <td>1035</td>\n",
       "      <td>8.6</td>\n",
       "      <td>27.70</td>\n",
       "      <td>5.2</td>\n",
       "      <td>48.405797</td>\n",
       "      <td>1038.59</td>\n",
       "      <td>Michigan</td>\n",
       "    </tr>\n",
       "    <tr>\n",
       "      <th>548</th>\n",
       "      <td>12/31/2008</td>\n",
       "      <td>998</td>\n",
       "      <td>9.0</td>\n",
       "      <td>28.80</td>\n",
       "      <td>6.6</td>\n",
       "      <td>44.689379</td>\n",
       "      <td>1003.43</td>\n",
       "      <td>Michigan</td>\n",
       "    </tr>\n",
       "    <tr>\n",
       "      <th>500</th>\n",
       "      <td>12/31/2009</td>\n",
       "      <td>924</td>\n",
       "      <td>9.1</td>\n",
       "      <td>29.40</td>\n",
       "      <td>7.5</td>\n",
       "      <td>46.103896</td>\n",
       "      <td>928.21</td>\n",
       "      <td>Michigan</td>\n",
       "    </tr>\n",
       "    <tr>\n",
       "      <th>452</th>\n",
       "      <td>12/31/2010</td>\n",
       "      <td>1025</td>\n",
       "      <td>9.5</td>\n",
       "      <td>30.50</td>\n",
       "      <td>7.3</td>\n",
       "      <td>45.268293</td>\n",
       "      <td>1025.69</td>\n",
       "      <td>Michigan</td>\n",
       "    </tr>\n",
       "    <tr>\n",
       "      <th>404</th>\n",
       "      <td>12/31/2011</td>\n",
       "      <td>909</td>\n",
       "      <td>10.0</td>\n",
       "      <td>31.30</td>\n",
       "      <td>7.7</td>\n",
       "      <td>43.784378</td>\n",
       "      <td>908.55</td>\n",
       "      <td>Michigan</td>\n",
       "    </tr>\n",
       "    <tr>\n",
       "      <th>356</th>\n",
       "      <td>12/31/2012</td>\n",
       "      <td>1101</td>\n",
       "      <td>10.5</td>\n",
       "      <td>31.10</td>\n",
       "      <td>7.1</td>\n",
       "      <td>45.231608</td>\n",
       "      <td>1099.36</td>\n",
       "      <td>Michigan</td>\n",
       "    </tr>\n",
       "    <tr>\n",
       "      <th>308</th>\n",
       "      <td>12/31/2013</td>\n",
       "      <td>1075</td>\n",
       "      <td>10.4</td>\n",
       "      <td>31.50</td>\n",
       "      <td>9.4</td>\n",
       "      <td>44.651163</td>\n",
       "      <td>1073.27</td>\n",
       "      <td>Michigan</td>\n",
       "    </tr>\n",
       "    <tr>\n",
       "      <th>260</th>\n",
       "      <td>12/31/2014</td>\n",
       "      <td>1070</td>\n",
       "      <td>10.4</td>\n",
       "      <td>30.70</td>\n",
       "      <td>10.9</td>\n",
       "      <td>48.130841</td>\n",
       "      <td>1068.19</td>\n",
       "      <td>Michigan</td>\n",
       "    </tr>\n",
       "    <tr>\n",
       "      <th>212</th>\n",
       "      <td>12/31/2015</td>\n",
       "      <td>1232</td>\n",
       "      <td>10.7</td>\n",
       "      <td>31.20</td>\n",
       "      <td>20.4</td>\n",
       "      <td>46.672078</td>\n",
       "      <td>1231.77</td>\n",
       "      <td>Michigan</td>\n",
       "    </tr>\n",
       "    <tr>\n",
       "      <th>164</th>\n",
       "      <td>12/31/2016</td>\n",
       "      <td>1104</td>\n",
       "      <td>11.2</td>\n",
       "      <td>32.50</td>\n",
       "      <td>24.4</td>\n",
       "      <td>47.101449</td>\n",
       "      <td>1101.90</td>\n",
       "      <td>Michigan</td>\n",
       "    </tr>\n",
       "    <tr>\n",
       "      <th>116</th>\n",
       "      <td>12/31/2017</td>\n",
       "      <td>927</td>\n",
       "      <td>11.0</td>\n",
       "      <td>32.30</td>\n",
       "      <td>27.8</td>\n",
       "      <td>46.062567</td>\n",
       "      <td>924.90</td>\n",
       "      <td>Michigan</td>\n",
       "    </tr>\n",
       "    <tr>\n",
       "      <th>68</th>\n",
       "      <td>12/31/2018</td>\n",
       "      <td>942</td>\n",
       "      <td>11.8</td>\n",
       "      <td>33.00</td>\n",
       "      <td>26.6</td>\n",
       "      <td>43.524416</td>\n",
       "      <td>940.96</td>\n",
       "      <td>Michigan</td>\n",
       "    </tr>\n",
       "    <tr>\n",
       "      <th>20</th>\n",
       "      <td>12/31/2019</td>\n",
       "      <td>924</td>\n",
       "      <td>11.1</td>\n",
       "      <td>36.00</td>\n",
       "      <td>27.2</td>\n",
       "      <td>44.155844</td>\n",
       "      <td>923.74</td>\n",
       "      <td>Michigan</td>\n",
       "    </tr>\n",
       "  </tbody>\n",
       "</table>\n",
       "</div>"
      ],
      "text/plain": [
       "            Year  Waitlist  Diabetes  Obesity  Overdose      Pct_O  Total_Adj  \\\n",
       "1172  12/31/1995       692       7.6    17.20       1.4  45.809249     686.56   \n",
       "1124  12/31/1996       641       7.5    18.10       1.4  45.553822     635.74   \n",
       "1076  12/31/1997       662       7.4    19.10       1.4  45.166163     658.86   \n",
       "1028  12/31/1998       648       7.4    20.10       1.4  44.598765     645.70   \n",
       "980   12/31/1999       775       7.3    21.10       1.4  47.225806     771.56   \n",
       "932   12/31/2000       635       7.3    22.10       2.0  44.724409     634.13   \n",
       "884   12/31/2001       731       7.5    23.13       2.1  44.733242     728.16   \n",
       "836   12/31/2002       771       7.7    24.17       2.5  46.044099     769.10   \n",
       "788   12/31/2003       799       7.9    25.20       2.8  44.055069     796.97   \n",
       "740   12/31/2004      1031       7.8    25.30       3.9  47.332687    1029.55   \n",
       "692   12/31/2005      1190       7.9    25.60       5.2  46.806723    1190.49   \n",
       "644   12/31/2006      1216       8.3    26.80       6.4  44.736842    1217.82   \n",
       "596   12/31/2007      1035       8.6    27.70       5.2  48.405797    1038.59   \n",
       "548   12/31/2008       998       9.0    28.80       6.6  44.689379    1003.43   \n",
       "500   12/31/2009       924       9.1    29.40       7.5  46.103896     928.21   \n",
       "452   12/31/2010      1025       9.5    30.50       7.3  45.268293    1025.69   \n",
       "404   12/31/2011       909      10.0    31.30       7.7  43.784378     908.55   \n",
       "356   12/31/2012      1101      10.5    31.10       7.1  45.231608    1099.36   \n",
       "308   12/31/2013      1075      10.4    31.50       9.4  44.651163    1073.27   \n",
       "260   12/31/2014      1070      10.4    30.70      10.9  48.130841    1068.19   \n",
       "212   12/31/2015      1232      10.7    31.20      20.4  46.672078    1231.77   \n",
       "164   12/31/2016      1104      11.2    32.50      24.4  47.101449    1101.90   \n",
       "116   12/31/2017       927      11.0    32.30      27.8  46.062567     924.90   \n",
       "68    12/31/2018       942      11.8    33.00      26.6  43.524416     940.96   \n",
       "20    12/31/2019       924      11.1    36.00      27.2  44.155844     923.74   \n",
       "\n",
       "         State  \n",
       "1172  Michigan  \n",
       "1124  Michigan  \n",
       "1076  Michigan  \n",
       "1028  Michigan  \n",
       "980   Michigan  \n",
       "932   Michigan  \n",
       "884   Michigan  \n",
       "836   Michigan  \n",
       "788   Michigan  \n",
       "740   Michigan  \n",
       "692   Michigan  \n",
       "644   Michigan  \n",
       "596   Michigan  \n",
       "548   Michigan  \n",
       "500   Michigan  \n",
       "452   Michigan  \n",
       "404   Michigan  \n",
       "356   Michigan  \n",
       "308   Michigan  \n",
       "260   Michigan  \n",
       "212   Michigan  \n",
       "164   Michigan  \n",
       "116   Michigan  \n",
       "68    Michigan  \n",
       "20    Michigan  "
      ]
     },
     "execution_count": 3,
     "metadata": {},
     "output_type": "execute_result"
    }
   ],
   "source": [
    "df.sort_values(by=['Year'], inplace=True, ascending=True)\n",
    "df = df.loc[df['State']=='Michigan']\n",
    "df"
   ]
  },
  {
   "cell_type": "code",
   "execution_count": 4,
   "metadata": {
    "scrolled": true
   },
   "outputs": [
    {
     "data": {
      "text/html": [
       "<div>\n",
       "<style scoped>\n",
       "    .dataframe tbody tr th:only-of-type {\n",
       "        vertical-align: middle;\n",
       "    }\n",
       "\n",
       "    .dataframe tbody tr th {\n",
       "        vertical-align: top;\n",
       "    }\n",
       "\n",
       "    .dataframe thead th {\n",
       "        text-align: right;\n",
       "    }\n",
       "</style>\n",
       "<table border=\"1\" class=\"dataframe\">\n",
       "  <thead>\n",
       "    <tr style=\"text-align: right;\">\n",
       "      <th></th>\n",
       "      <th>Total_Adj</th>\n",
       "    </tr>\n",
       "  </thead>\n",
       "  <tbody>\n",
       "    <tr>\n",
       "      <th>0</th>\n",
       "      <td>923.74</td>\n",
       "    </tr>\n",
       "  </tbody>\n",
       "</table>\n",
       "</div>"
      ],
      "text/plain": [
       "   Total_Adj\n",
       "0     923.74"
      ]
     },
     "execution_count": 4,
     "metadata": {},
     "output_type": "execute_result"
    }
   ],
   "source": [
    "df_output = df.tail(1)\n",
    "lastyear_df = df_output.drop(columns=['Year', 'Waitlist','Diabetes','Obesity','Overdose','Pct_O','State'])\n",
    "lastyear_df = lastyear_df.reset_index(drop=True)\n",
    "lastyear_df"
   ]
  },
  {
   "cell_type": "code",
   "execution_count": 5,
   "metadata": {},
   "outputs": [
    {
     "data": {
      "image/png": "[encoded data removed]",
      "text/plain": [
       "<Figure size 432x288 with 36 Axes>"
      ]
     },
     "metadata": {
      "needs_background": "light"
     },
     "output_type": "display_data"
    }
   ],
   "source": [
    "df.plot(kind='box', subplots=True, layout=(6,6), sharex=False, sharey=False)\n",
    "plt.show()"
   ]
  },
  {
   "cell_type": "code",
   "execution_count": 6,
   "metadata": {},
   "outputs": [
    {
     "data": {
      "image/png": "[encoded data removed]",
      "text/plain": [
       "<Figure size 432x288 with 36 Axes>"
      ]
     },
     "metadata": {
      "needs_background": "light"
     },
     "output_type": "display_data"
    }
   ],
   "source": [
    "# scatter plot matrix\n",
    "pd.plotting.scatter_matrix(df)\n",
    "plt.show()"
   ]
  },
  {
   "cell_type": "code",
   "execution_count": 7,
   "metadata": {
    "scrolled": true
   },
   "outputs": [
    {
     "data": {
      "text/html": [
       "<div>\n",
       "<style scoped>\n",
       "    .dataframe tbody tr th:only-of-type {\n",
       "        vertical-align: middle;\n",
       "    }\n",
       "\n",
       "    .dataframe tbody tr th {\n",
       "        vertical-align: top;\n",
       "    }\n",
       "\n",
       "    .dataframe thead th {\n",
       "        text-align: right;\n",
       "    }\n",
       "</style>\n",
       "<table border=\"1\" class=\"dataframe\">\n",
       "  <thead>\n",
       "    <tr style=\"text-align: right;\">\n",
       "      <th></th>\n",
       "      <th>Waitlist</th>\n",
       "      <th>Diabetes</th>\n",
       "      <th>Obesity</th>\n",
       "      <th>Overdose</th>\n",
       "      <th>Pct_O</th>\n",
       "      <th>Total_Adj</th>\n",
       "    </tr>\n",
       "  </thead>\n",
       "  <tbody>\n",
       "    <tr>\n",
       "      <th>count</th>\n",
       "      <td>25.000000</td>\n",
       "      <td>25.000000</td>\n",
       "      <td>25.000000</td>\n",
       "      <td>25.000000</td>\n",
       "      <td>25.000000</td>\n",
       "      <td>25.000000</td>\n",
       "    </tr>\n",
       "    <tr>\n",
       "      <th>mean</th>\n",
       "      <td>922.280000</td>\n",
       "      <td>8.996000</td>\n",
       "      <td>26.956000</td>\n",
       "      <td>8.800000</td>\n",
       "      <td>45.622743</td>\n",
       "      <td>921.328000</td>\n",
       "    </tr>\n",
       "    <tr>\n",
       "      <th>std</th>\n",
       "      <td>189.230794</td>\n",
       "      <td>1.513407</td>\n",
       "      <td>5.240537</td>\n",
       "      <td>8.916931</td>\n",
       "      <td>1.338328</td>\n",
       "      <td>190.590925</td>\n",
       "    </tr>\n",
       "    <tr>\n",
       "      <th>min</th>\n",
       "      <td>635.000000</td>\n",
       "      <td>7.300000</td>\n",
       "      <td>17.200000</td>\n",
       "      <td>1.400000</td>\n",
       "      <td>43.524416</td>\n",
       "      <td>634.130000</td>\n",
       "    </tr>\n",
       "    <tr>\n",
       "      <th>25%</th>\n",
       "      <td>771.000000</td>\n",
       "      <td>7.600000</td>\n",
       "      <td>23.130000</td>\n",
       "      <td>2.100000</td>\n",
       "      <td>44.689379</td>\n",
       "      <td>769.100000</td>\n",
       "    </tr>\n",
       "    <tr>\n",
       "      <th>50%</th>\n",
       "      <td>927.000000</td>\n",
       "      <td>8.600000</td>\n",
       "      <td>27.700000</td>\n",
       "      <td>6.400000</td>\n",
       "      <td>45.268293</td>\n",
       "      <td>928.210000</td>\n",
       "    </tr>\n",
       "    <tr>\n",
       "      <th>75%</th>\n",
       "      <td>1070.000000</td>\n",
       "      <td>10.400000</td>\n",
       "      <td>31.200000</td>\n",
       "      <td>9.400000</td>\n",
       "      <td>46.672078</td>\n",
       "      <td>1068.190000</td>\n",
       "    </tr>\n",
       "    <tr>\n",
       "      <th>max</th>\n",
       "      <td>1232.000000</td>\n",
       "      <td>11.800000</td>\n",
       "      <td>36.000000</td>\n",
       "      <td>27.800000</td>\n",
       "      <td>48.405797</td>\n",
       "      <td>1231.770000</td>\n",
       "    </tr>\n",
       "  </tbody>\n",
       "</table>\n",
       "</div>"
      ],
      "text/plain": [
       "          Waitlist   Diabetes    Obesity   Overdose      Pct_O    Total_Adj\n",
       "count    25.000000  25.000000  25.000000  25.000000  25.000000    25.000000\n",
       "mean    922.280000   8.996000  26.956000   8.800000  45.622743   921.328000\n",
       "std     189.230794   1.513407   5.240537   8.916931   1.338328   190.590925\n",
       "min     635.000000   7.300000  17.200000   1.400000  43.524416   634.130000\n",
       "25%     771.000000   7.600000  23.130000   2.100000  44.689379   769.100000\n",
       "50%     927.000000   8.600000  27.700000   6.400000  45.268293   928.210000\n",
       "75%    1070.000000  10.400000  31.200000   9.400000  46.672078  1068.190000\n",
       "max    1232.000000  11.800000  36.000000  27.800000  48.405797  1231.770000"
      ]
     },
     "execution_count": 7,
     "metadata": {},
     "output_type": "execute_result"
    }
   ],
   "source": [
    "#Describe data\n",
    "df.describe()"
   ]
  },
  {
   "cell_type": "code",
   "execution_count": 8,
   "metadata": {
    "scrolled": true
   },
   "outputs": [
    {
     "name": "stdout",
     "output_type": "stream",
     "text": [
      "          Diabetes   Obesity  Overdose     Pct_O\n",
      "Diabetes  1.000000  0.911341  0.885671 -0.077463\n",
      "Obesity   0.911341  1.000000  0.788963 -0.060912\n",
      "Overdose  0.885671  0.788963  1.000000 -0.052038\n",
      "Pct_O    -0.077463 -0.060912 -0.052038  1.000000\n"
     ]
    }
   ],
   "source": [
    "#Correlation Matrix\n",
    "corr_matrix = df[[\"Diabetes\", \"Obesity\", \"Overdose\", \"Pct_O\"]].corr()\n",
    "print(corr_matrix)"
   ]
  },
  {
   "cell_type": "code",
   "execution_count": 9,
   "metadata": {},
   "outputs": [
    {
     "name": "stdout",
     "output_type": "stream",
     "text": [
      "(25, 4) (25, 1)\n"
     ]
    }
   ],
   "source": [
    "#Assign variables for regression\n",
    "X = df[['Diabetes','Obesity','Overdose','Pct_O']]\n",
    "y = df['Total_Adj'].values.reshape(-1,1)\n",
    "print(X.shape, y.shape)"
   ]
  },
  {
   "cell_type": "code",
   "execution_count": 10,
   "metadata": {},
   "outputs": [],
   "source": [
    "#Use train_test_split to create training and testing data\n",
    "from sklearn.model_selection import train_test_split\n",
    "X_train, X_test, y_train, y_test = train_test_split(X, y, random_state=42)"
   ]
  },
  {
   "cell_type": "code",
   "execution_count": 11,
   "metadata": {},
   "outputs": [],
   "source": [
    "#Create model\n",
    "model = LinearRegression()"
   ]
  },
  {
   "cell_type": "code",
   "execution_count": 12,
   "metadata": {},
   "outputs": [
    {
     "name": "stdout",
     "output_type": "stream",
     "text": [
      "Training Score: 0.7689890516736034\n",
      "Testing Score: 0.011614836524840189\n"
     ]
    }
   ],
   "source": [
    "#fit the model to the training data and calculate the scores for the training and testing data\n",
    "#Begin\n",
    "model.fit(X_train, y_train)\n",
    "training_score = model.score(X_train, y_train)\n",
    "testing_score = model.score(X_test, y_test)\n",
    "#End\n",
    "print(f\"Training Score: {training_score}\")\n",
    "print(f\"Testing Score: {testing_score}\")\n"
   ]
  },
  {
   "cell_type": "code",
   "execution_count": 13,
   "metadata": {},
   "outputs": [
    {
     "data": {
      "text/plain": [
       "Text(0.5, 1.0, 'Residual Plot')"
      ]
     },
     "execution_count": 13,
     "metadata": {},
     "output_type": "execute_result"
    },
    {
     "data": {
      "image/png": "[encoded data removed]",
      "text/plain": [
       "<Figure size 432x288 with 1 Axes>"
      ]
     },
     "metadata": {
      "needs_background": "light"
     },
     "output_type": "display_data"
    }
   ],
   "source": [
    "#Plot Residuals for Training and Testing Data\n",
    "#Begin\n",
    "plt.scatter(model.predict(X_train), model.predict(X_train) - y_train, c=\"green\", label=\"Training Data\")\n",
    "plt.scatter(model.predict(X_test), model.predict(X_test) - y_test, c=\"red\", label=\"Testing Data\")\n",
    "plt.legend()\n",
    "plt.hlines(y=0, xmin=y.min(), xmax=y.max())\n",
    "plt.title(\"Residual Plot\")\n",
    "#End"
   ]
  },
  {
   "cell_type": "code",
   "execution_count": 14,
   "metadata": {},
   "outputs": [
    {
     "name": "stdout",
     "output_type": "stream",
     "text": [
      "coefficient of determination 0.6179930564614271\n"
     ]
    }
   ],
   "source": [
    "#R2 of original model\n",
    "r_sq = model.score(X, y)\n",
    "print('coefficient of determination', r_sq)"
   ]
  },
  {
   "cell_type": "code",
   "execution_count": 15,
   "metadata": {},
   "outputs": [
    {
     "name": "stdout",
     "output_type": "stream",
     "text": [
      "[-2802.2444258]\n"
     ]
    }
   ],
   "source": [
    "print(model.intercept_)"
   ]
  },
  {
   "cell_type": "code",
   "execution_count": 16,
   "metadata": {},
   "outputs": [
    {
     "name": "stdout",
     "output_type": "stream",
     "text": [
      "[[44.05325521 27.63143277 -8.82964079 57.76093239]]\n"
     ]
    }
   ],
   "source": [
    "print(model.coef_)"
   ]
  },
  {
   "cell_type": "code",
   "execution_count": 17,
   "metadata": {
    "scrolled": false
   },
   "outputs": [
    {
     "name": "stdout",
     "output_type": "stream",
     "text": [
      "[[1210.99081678]]\n"
     ]
    }
   ],
   "source": [
    "#Make a Prediction using model\n",
    "predictedTotal_Adj = model.predict([[10.77,32,19.9,49]])\n",
    "print(predictedTotal_Adj)"
   ]
  },
  {
   "cell_type": "code",
   "execution_count": 18,
   "metadata": {
    "scrolled": false
   },
   "outputs": [
    {
     "name": "stdout",
     "output_type": "stream",
     "text": [
      "(18, 4)\n"
     ]
    }
   ],
   "source": [
    "print(X_train.shape)"
   ]
  },
  {
   "cell_type": "code",
   "execution_count": 19,
   "metadata": {
    "scrolled": true
   },
   "outputs": [
    {
     "name": "stdout",
     "output_type": "stream",
     "text": [
      "(18, 1)\n"
     ]
    }
   ],
   "source": [
    "print(y_train.shape)"
   ]
  },
  {
   "cell_type": "code",
   "execution_count": 20,
   "metadata": {},
   "outputs": [
    {
     "name": "stdout",
     "output_type": "stream",
     "text": [
      "(7, 1)\n"
     ]
    }
   ],
   "source": [
    "print(y_test.shape)"
   ]
  },
  {
   "cell_type": "code",
   "execution_count": 21,
   "metadata": {},
   "outputs": [
    {
     "name": "stdout",
     "output_type": "stream",
     "text": [
      "(7, 4)\n"
     ]
    }
   ],
   "source": [
    "print(X_test.shape)"
   ]
  },
  {
   "cell_type": "code",
   "execution_count": 22,
   "metadata": {},
   "outputs": [],
   "source": [
    "modeldetail = sm.OLS(y, X)\n",
    "resultstest = modeldetail.fit()"
   ]
  },
  {
   "cell_type": "code",
   "execution_count": 23,
   "metadata": {},
   "outputs": [
    {
     "name": "stdout",
     "output_type": "stream",
     "text": [
      "(25, 4)\n"
     ]
    }
   ],
   "source": [
    "print(X.shape)"
   ]
  },
  {
   "cell_type": "code",
   "execution_count": 24,
   "metadata": {},
   "outputs": [
    {
     "name": "stdout",
     "output_type": "stream",
     "text": [
      "(25, 1)\n"
     ]
    }
   ],
   "source": [
    "print(y.shape)"
   ]
  },
  {
   "cell_type": "code",
   "execution_count": 25,
   "metadata": {
    "scrolled": true
   },
   "outputs": [
    {
     "data": {
      "image/png": "[encoded data removed]",
      "text/plain": [
       "<Figure size 432x288 with 1 Axes>"
      ]
     },
     "metadata": {
      "needs_background": "light"
     },
     "output_type": "display_data"
    }
   ],
   "source": [
    "plt.scatter(X[('Diabetes')], y, label='Diabetes')\n",
    "plt.scatter(X[('Obesity')], y, label='Obesity')\n",
    "plt.scatter(X[('Overdose')], y, label='Overdose')\n",
    "plt.scatter(X[('Pct_O')], y, label='% O-type')\n",
    "plt.title('Full Model')\n",
    "plt.xlabel('Variables through Time (in %, except Overdose in per 100,000)')\n",
    "plt.ylabel('Kidney Waitlist through Time')\n",
    "plt.legend(title='variables',loc='lower center')\n",
    "plt.savefig('images/Michigan_full.png', dpi=100, facecolor='w', edgecolor='w',\n",
    "        orientation='portrait', format=None,\n",
    "        transparent=False, bbox_inches=None, pad_inches=0.2, metadata=None)\n",
    "plt.show()"
   ]
  },
  {
   "cell_type": "code",
   "execution_count": 26,
   "metadata": {
    "scrolled": true
   },
   "outputs": [
    {
     "data": {
      "image/png": "[encoded data removed]",
      "text/plain": [
       "<Figure size 504x360 with 1 Axes>"
      ]
     },
     "metadata": {
      "needs_background": "light"
     },
     "output_type": "display_data"
    }
   ],
   "source": [
    "fig = plt.figure()\n",
    "plt.scatter(X_train[('Diabetes')], y_train)\n",
    "plt.scatter(X_train[('Obesity')], y_train)\n",
    "plt.scatter(X_train[('Overdose')], y_train)\n",
    "plt.scatter(X_train[('Pct_O')], y_train)\n",
    "plt.title('Training Model')\n",
    "fig.set_size_inches(7,5)\n",
    "plt.show()"
   ]
  },
  {
   "cell_type": "code",
   "execution_count": 27,
   "metadata": {},
   "outputs": [
    {
     "data": {
      "image/png": "[encoded data removed]",
      "text/plain": [
       "<Figure size 432x288 with 1 Axes>"
      ]
     },
     "metadata": {
      "needs_background": "light"
     },
     "output_type": "display_data"
    }
   ],
   "source": [
    "plt.scatter(X_test[('Diabetes')], y_test)\n",
    "plt.scatter(X_test[('Obesity')], y_test)\n",
    "plt.scatter(X_test[('Overdose')], y_test)\n",
    "plt.scatter(X_test[('Pct_O')], y_test)\n",
    "plt.title('Test Model')\n",
    "plt.show()"
   ]
  },
  {
   "cell_type": "code",
   "execution_count": 28,
   "metadata": {},
   "outputs": [
    {
     "data": {
      "image/png": "[encoded data removed]",
      "text/plain": [
       "<Figure size 432x288 with 1 Axes>"
      ]
     },
     "metadata": {
      "needs_background": "light"
     },
     "output_type": "display_data"
    }
   ],
   "source": [
    "plt.scatter(X_train[('Diabetes')], y_train)\n",
    "plt.scatter(X_train[('Obesity')], y_train)\n",
    "plt.scatter(X_train[('Overdose')], y_train)\n",
    "plt.scatter(X_train[('Pct_O')], y_train)\n",
    "plt.scatter(X_test[('Diabetes')], y_test)\n",
    "plt.scatter(X_test[('Obesity')], y_test)\n",
    "plt.scatter(X_test[('Overdose')], y_test)\n",
    "plt.scatter(X_test[('Pct_O')], y_test)\n",
    "plt.title('Test Model')\n",
    "plt.show()"
   ]
  },
  {
   "cell_type": "code",
   "execution_count": 29,
   "metadata": {},
   "outputs": [
    {
     "data": {
      "text/html": [
       "<table class=\"simpletable\">\n",
       "<caption>OLS Regression Results</caption>\n",
       "<tr>\n",
       "  <th>Dep. Variable:</th>        <td>Total_Adj</td>    <th>  R-squared:         </th> <td>   0.652</td>\n",
       "</tr>\n",
       "<tr>\n",
       "  <th>Model:</th>                   <td>OLS</td>       <th>  Adj. R-squared:    </th> <td>   0.583</td>\n",
       "</tr>\n",
       "<tr>\n",
       "  <th>Method:</th>             <td>Least Squares</td>  <th>  F-statistic:       </th> <td>   9.383</td>\n",
       "</tr>\n",
       "<tr>\n",
       "  <th>Date:</th>             <td>Wed, 20 Jan 2021</td> <th>  Prob (F-statistic):</th> <td>0.000194</td>\n",
       "</tr>\n",
       "<tr>\n",
       "  <th>Time:</th>                 <td>19:32:51</td>     <th>  Log-Likelihood:    </th> <td> -153.01</td>\n",
       "</tr>\n",
       "<tr>\n",
       "  <th>No. Observations:</th>      <td>    25</td>      <th>  AIC:               </th> <td>   316.0</td>\n",
       "</tr>\n",
       "<tr>\n",
       "  <th>Df Residuals:</th>          <td>    20</td>      <th>  BIC:               </th> <td>   322.1</td>\n",
       "</tr>\n",
       "<tr>\n",
       "  <th>Df Model:</th>              <td>     4</td>      <th>                     </th>     <td> </td>   \n",
       "</tr>\n",
       "<tr>\n",
       "  <th>Covariance Type:</th>      <td>nonrobust</td>    <th>                     </th>     <td> </td>   \n",
       "</tr>\n",
       "</table>\n",
       "<table class=\"simpletable\">\n",
       "<tr>\n",
       "      <td></td>         <th>coef</th>     <th>std err</th>      <th>t</th>      <th>P>|t|</th>  <th>[0.025</th>    <th>0.975]</th>  \n",
       "</tr>\n",
       "<tr>\n",
       "  <th>Intercept</th> <td>-2229.7228</td> <td>  924.210</td> <td>   -2.413</td> <td> 0.026</td> <td>-4157.592</td> <td> -301.854</td>\n",
       "</tr>\n",
       "<tr>\n",
       "  <th>Diabetes</th>  <td>   -2.1953</td> <td>   53.732</td> <td>   -0.041</td> <td> 0.968</td> <td> -114.278</td> <td>  109.888</td>\n",
       "</tr>\n",
       "<tr>\n",
       "  <th>Obesity</th>   <td>   35.4168</td> <td>   11.705</td> <td>    3.026</td> <td> 0.007</td> <td>   11.000</td> <td>   59.833</td>\n",
       "</tr>\n",
       "<tr>\n",
       "  <th>Overdose</th>  <td>   -6.3204</td> <td>    6.101</td> <td>   -1.036</td> <td> 0.313</td> <td>  -19.047</td> <td>    6.406</td>\n",
       "</tr>\n",
       "<tr>\n",
       "  <th>Pct_O</th>     <td>   49.7937</td> <td>   18.851</td> <td>    2.641</td> <td> 0.016</td> <td>   10.472</td> <td>   89.116</td>\n",
       "</tr>\n",
       "</table>\n",
       "<table class=\"simpletable\">\n",
       "<tr>\n",
       "  <th>Omnibus:</th>       <td>12.058</td> <th>  Durbin-Watson:     </th> <td>   1.571</td>\n",
       "</tr>\n",
       "<tr>\n",
       "  <th>Prob(Omnibus):</th> <td> 0.002</td> <th>  Jarque-Bera (JB):  </th> <td>  10.567</td>\n",
       "</tr>\n",
       "<tr>\n",
       "  <th>Skew:</th>          <td> 1.375</td> <th>  Prob(JB):          </th> <td> 0.00507</td>\n",
       "</tr>\n",
       "<tr>\n",
       "  <th>Kurtosis:</th>      <td> 4.608</td> <th>  Cond. No.          </th> <td>2.05e+03</td>\n",
       "</tr>\n",
       "</table><br/><br/>Warnings:<br/>[1] Standard Errors assume that the covariance matrix of the errors is correctly specified.<br/>[2] The condition number is large, 2.05e+03. This might indicate that there are<br/>strong multicollinearity or other numerical problems."
      ],
      "text/plain": [
       "<class 'statsmodels.iolib.summary.Summary'>\n",
       "\"\"\"\n",
       "                            OLS Regression Results                            \n",
       "==============================================================================\n",
       "Dep. Variable:              Total_Adj   R-squared:                       0.652\n",
       "Model:                            OLS   Adj. R-squared:                  0.583\n",
       "Method:                 Least Squares   F-statistic:                     9.383\n",
       "Date:                Wed, 20 Jan 2021   Prob (F-statistic):           0.000194\n",
       "Time:                        19:32:51   Log-Likelihood:                -153.01\n",
       "No. Observations:                  25   AIC:                             316.0\n",
       "Df Residuals:                      20   BIC:                             322.1\n",
       "Df Model:                           4                                         \n",
       "Covariance Type:            nonrobust                                         \n",
       "==============================================================================\n",
       "                 coef    std err          t      P>|t|      [0.025      0.975]\n",
       "------------------------------------------------------------------------------\n",
       "Intercept  -2229.7228    924.210     -2.413      0.026   -4157.592    -301.854\n",
       "Diabetes      -2.1953     53.732     -0.041      0.968    -114.278     109.888\n",
       "Obesity       35.4168     11.705      3.026      0.007      11.000      59.833\n",
       "Overdose      -6.3204      6.101     -1.036      0.313     -19.047       6.406\n",
       "Pct_O         49.7937     18.851      2.641      0.016      10.472      89.116\n",
       "==============================================================================\n",
       "Omnibus:                       12.058   Durbin-Watson:                   1.571\n",
       "Prob(Omnibus):                  0.002   Jarque-Bera (JB):               10.567\n",
       "Skew:                           1.375   Prob(JB):                      0.00507\n",
       "Kurtosis:                       4.608   Cond. No.                     2.05e+03\n",
       "==============================================================================\n",
       "\n",
       "Warnings:\n",
       "[1] Standard Errors assume that the covariance matrix of the errors is correctly specified.\n",
       "[2] The condition number is large, 2.05e+03. This might indicate that there are\n",
       "strong multicollinearity or other numerical problems.\n",
       "\"\"\""
      ]
     },
     "execution_count": 29,
     "metadata": {},
     "output_type": "execute_result"
    }
   ],
   "source": [
    "model_lin = sm.OLS.from_formula(\"Total_Adj ~ Diabetes + Obesity + Overdose + Pct_O\", data=df)\n",
    "result_lin = model_lin.fit()\n",
    "result_lin.summary()"
   ]
  },
  {
   "cell_type": "code",
   "execution_count": 30,
   "metadata": {},
   "outputs": [
    {
     "data": {
      "text/html": [
       "<div>\n",
       "<style scoped>\n",
       "    .dataframe tbody tr th:only-of-type {\n",
       "        vertical-align: middle;\n",
       "    }\n",
       "\n",
       "    .dataframe tbody tr th {\n",
       "        vertical-align: top;\n",
       "    }\n",
       "\n",
       "    .dataframe thead th {\n",
       "        text-align: right;\n",
       "    }\n",
       "</style>\n",
       "<table border=\"1\" class=\"dataframe\">\n",
       "  <thead>\n",
       "    <tr style=\"text-align: right;\">\n",
       "      <th></th>\n",
       "      <th>Year</th>\n",
       "      <th>Waitlist</th>\n",
       "      <th>Diabetes</th>\n",
       "      <th>Obesity</th>\n",
       "      <th>Overdose</th>\n",
       "      <th>Pct_O</th>\n",
       "      <th>Total_Adj</th>\n",
       "      <th>State</th>\n",
       "    </tr>\n",
       "  </thead>\n",
       "  <tbody>\n",
       "    <tr>\n",
       "      <th>1172</th>\n",
       "      <td>12/31/1995</td>\n",
       "      <td>692</td>\n",
       "      <td>7.6</td>\n",
       "      <td>17.20</td>\n",
       "      <td>1.4</td>\n",
       "      <td>45.809249</td>\n",
       "      <td>686.56</td>\n",
       "      <td>Michigan</td>\n",
       "    </tr>\n",
       "    <tr>\n",
       "      <th>1124</th>\n",
       "      <td>12/31/1996</td>\n",
       "      <td>641</td>\n",
       "      <td>7.5</td>\n",
       "      <td>18.10</td>\n",
       "      <td>1.4</td>\n",
       "      <td>45.553822</td>\n",
       "      <td>635.74</td>\n",
       "      <td>Michigan</td>\n",
       "    </tr>\n",
       "    <tr>\n",
       "      <th>1076</th>\n",
       "      <td>12/31/1997</td>\n",
       "      <td>662</td>\n",
       "      <td>7.4</td>\n",
       "      <td>19.10</td>\n",
       "      <td>1.4</td>\n",
       "      <td>45.166163</td>\n",
       "      <td>658.86</td>\n",
       "      <td>Michigan</td>\n",
       "    </tr>\n",
       "    <tr>\n",
       "      <th>1028</th>\n",
       "      <td>12/31/1998</td>\n",
       "      <td>648</td>\n",
       "      <td>7.4</td>\n",
       "      <td>20.10</td>\n",
       "      <td>1.4</td>\n",
       "      <td>44.598765</td>\n",
       "      <td>645.70</td>\n",
       "      <td>Michigan</td>\n",
       "    </tr>\n",
       "    <tr>\n",
       "      <th>980</th>\n",
       "      <td>12/31/1999</td>\n",
       "      <td>775</td>\n",
       "      <td>7.3</td>\n",
       "      <td>21.10</td>\n",
       "      <td>1.4</td>\n",
       "      <td>47.225806</td>\n",
       "      <td>771.56</td>\n",
       "      <td>Michigan</td>\n",
       "    </tr>\n",
       "    <tr>\n",
       "      <th>932</th>\n",
       "      <td>12/31/2000</td>\n",
       "      <td>635</td>\n",
       "      <td>7.3</td>\n",
       "      <td>22.10</td>\n",
       "      <td>2.0</td>\n",
       "      <td>44.724409</td>\n",
       "      <td>634.13</td>\n",
       "      <td>Michigan</td>\n",
       "    </tr>\n",
       "    <tr>\n",
       "      <th>884</th>\n",
       "      <td>12/31/2001</td>\n",
       "      <td>731</td>\n",
       "      <td>7.5</td>\n",
       "      <td>23.13</td>\n",
       "      <td>2.1</td>\n",
       "      <td>44.733242</td>\n",
       "      <td>728.16</td>\n",
       "      <td>Michigan</td>\n",
       "    </tr>\n",
       "    <tr>\n",
       "      <th>836</th>\n",
       "      <td>12/31/2002</td>\n",
       "      <td>771</td>\n",
       "      <td>7.7</td>\n",
       "      <td>24.17</td>\n",
       "      <td>2.5</td>\n",
       "      <td>46.044099</td>\n",
       "      <td>769.10</td>\n",
       "      <td>Michigan</td>\n",
       "    </tr>\n",
       "    <tr>\n",
       "      <th>788</th>\n",
       "      <td>12/31/2003</td>\n",
       "      <td>799</td>\n",
       "      <td>7.9</td>\n",
       "      <td>25.20</td>\n",
       "      <td>2.8</td>\n",
       "      <td>44.055069</td>\n",
       "      <td>796.97</td>\n",
       "      <td>Michigan</td>\n",
       "    </tr>\n",
       "    <tr>\n",
       "      <th>740</th>\n",
       "      <td>12/31/2004</td>\n",
       "      <td>1031</td>\n",
       "      <td>7.8</td>\n",
       "      <td>25.30</td>\n",
       "      <td>3.9</td>\n",
       "      <td>47.332687</td>\n",
       "      <td>1029.55</td>\n",
       "      <td>Michigan</td>\n",
       "    </tr>\n",
       "    <tr>\n",
       "      <th>692</th>\n",
       "      <td>12/31/2005</td>\n",
       "      <td>1190</td>\n",
       "      <td>7.9</td>\n",
       "      <td>25.60</td>\n",
       "      <td>5.2</td>\n",
       "      <td>46.806723</td>\n",
       "      <td>1190.49</td>\n",
       "      <td>Michigan</td>\n",
       "    </tr>\n",
       "    <tr>\n",
       "      <th>644</th>\n",
       "      <td>12/31/2006</td>\n",
       "      <td>1216</td>\n",
       "      <td>8.3</td>\n",
       "      <td>26.80</td>\n",
       "      <td>6.4</td>\n",
       "      <td>44.736842</td>\n",
       "      <td>1217.82</td>\n",
       "      <td>Michigan</td>\n",
       "    </tr>\n",
       "    <tr>\n",
       "      <th>596</th>\n",
       "      <td>12/31/2007</td>\n",
       "      <td>1035</td>\n",
       "      <td>8.6</td>\n",
       "      <td>27.70</td>\n",
       "      <td>5.2</td>\n",
       "      <td>48.405797</td>\n",
       "      <td>1038.59</td>\n",
       "      <td>Michigan</td>\n",
       "    </tr>\n",
       "    <tr>\n",
       "      <th>548</th>\n",
       "      <td>12/31/2008</td>\n",
       "      <td>998</td>\n",
       "      <td>9.0</td>\n",
       "      <td>28.80</td>\n",
       "      <td>6.6</td>\n",
       "      <td>44.689379</td>\n",
       "      <td>1003.43</td>\n",
       "      <td>Michigan</td>\n",
       "    </tr>\n",
       "    <tr>\n",
       "      <th>500</th>\n",
       "      <td>12/31/2009</td>\n",
       "      <td>924</td>\n",
       "      <td>9.1</td>\n",
       "      <td>29.40</td>\n",
       "      <td>7.5</td>\n",
       "      <td>46.103896</td>\n",
       "      <td>928.21</td>\n",
       "      <td>Michigan</td>\n",
       "    </tr>\n",
       "    <tr>\n",
       "      <th>452</th>\n",
       "      <td>12/31/2010</td>\n",
       "      <td>1025</td>\n",
       "      <td>9.5</td>\n",
       "      <td>30.50</td>\n",
       "      <td>7.3</td>\n",
       "      <td>45.268293</td>\n",
       "      <td>1025.69</td>\n",
       "      <td>Michigan</td>\n",
       "    </tr>\n",
       "    <tr>\n",
       "      <th>404</th>\n",
       "      <td>12/31/2011</td>\n",
       "      <td>909</td>\n",
       "      <td>10.0</td>\n",
       "      <td>31.30</td>\n",
       "      <td>7.7</td>\n",
       "      <td>43.784378</td>\n",
       "      <td>908.55</td>\n",
       "      <td>Michigan</td>\n",
       "    </tr>\n",
       "    <tr>\n",
       "      <th>356</th>\n",
       "      <td>12/31/2012</td>\n",
       "      <td>1101</td>\n",
       "      <td>10.5</td>\n",
       "      <td>31.10</td>\n",
       "      <td>7.1</td>\n",
       "      <td>45.231608</td>\n",
       "      <td>1099.36</td>\n",
       "      <td>Michigan</td>\n",
       "    </tr>\n",
       "    <tr>\n",
       "      <th>308</th>\n",
       "      <td>12/31/2013</td>\n",
       "      <td>1075</td>\n",
       "      <td>10.4</td>\n",
       "      <td>31.50</td>\n",
       "      <td>9.4</td>\n",
       "      <td>44.651163</td>\n",
       "      <td>1073.27</td>\n",
       "      <td>Michigan</td>\n",
       "    </tr>\n",
       "    <tr>\n",
       "      <th>260</th>\n",
       "      <td>12/31/2014</td>\n",
       "      <td>1070</td>\n",
       "      <td>10.4</td>\n",
       "      <td>30.70</td>\n",
       "      <td>10.9</td>\n",
       "      <td>48.130841</td>\n",
       "      <td>1068.19</td>\n",
       "      <td>Michigan</td>\n",
       "    </tr>\n",
       "    <tr>\n",
       "      <th>212</th>\n",
       "      <td>12/31/2015</td>\n",
       "      <td>1232</td>\n",
       "      <td>10.7</td>\n",
       "      <td>31.20</td>\n",
       "      <td>20.4</td>\n",
       "      <td>46.672078</td>\n",
       "      <td>1231.77</td>\n",
       "      <td>Michigan</td>\n",
       "    </tr>\n",
       "    <tr>\n",
       "      <th>164</th>\n",
       "      <td>12/31/2016</td>\n",
       "      <td>1104</td>\n",
       "      <td>11.2</td>\n",
       "      <td>32.50</td>\n",
       "      <td>24.4</td>\n",
       "      <td>47.101449</td>\n",
       "      <td>1101.90</td>\n",
       "      <td>Michigan</td>\n",
       "    </tr>\n",
       "    <tr>\n",
       "      <th>116</th>\n",
       "      <td>12/31/2017</td>\n",
       "      <td>927</td>\n",
       "      <td>11.0</td>\n",
       "      <td>32.30</td>\n",
       "      <td>27.8</td>\n",
       "      <td>46.062567</td>\n",
       "      <td>924.90</td>\n",
       "      <td>Michigan</td>\n",
       "    </tr>\n",
       "    <tr>\n",
       "      <th>68</th>\n",
       "      <td>12/31/2018</td>\n",
       "      <td>942</td>\n",
       "      <td>11.8</td>\n",
       "      <td>33.00</td>\n",
       "      <td>26.6</td>\n",
       "      <td>43.524416</td>\n",
       "      <td>940.96</td>\n",
       "      <td>Michigan</td>\n",
       "    </tr>\n",
       "    <tr>\n",
       "      <th>20</th>\n",
       "      <td>12/31/2019</td>\n",
       "      <td>924</td>\n",
       "      <td>11.1</td>\n",
       "      <td>36.00</td>\n",
       "      <td>27.2</td>\n",
       "      <td>44.155844</td>\n",
       "      <td>923.74</td>\n",
       "      <td>Michigan</td>\n",
       "    </tr>\n",
       "  </tbody>\n",
       "</table>\n",
       "</div>"
      ],
      "text/plain": [
       "            Year  Waitlist  Diabetes  Obesity  Overdose      Pct_O  Total_Adj  \\\n",
       "1172  12/31/1995       692       7.6    17.20       1.4  45.809249     686.56   \n",
       "1124  12/31/1996       641       7.5    18.10       1.4  45.553822     635.74   \n",
       "1076  12/31/1997       662       7.4    19.10       1.4  45.166163     658.86   \n",
       "1028  12/31/1998       648       7.4    20.10       1.4  44.598765     645.70   \n",
       "980   12/31/1999       775       7.3    21.10       1.4  47.225806     771.56   \n",
       "932   12/31/2000       635       7.3    22.10       2.0  44.724409     634.13   \n",
       "884   12/31/2001       731       7.5    23.13       2.1  44.733242     728.16   \n",
       "836   12/31/2002       771       7.7    24.17       2.5  46.044099     769.10   \n",
       "788   12/31/2003       799       7.9    25.20       2.8  44.055069     796.97   \n",
       "740   12/31/2004      1031       7.8    25.30       3.9  47.332687    1029.55   \n",
       "692   12/31/2005      1190       7.9    25.60       5.2  46.806723    1190.49   \n",
       "644   12/31/2006      1216       8.3    26.80       6.4  44.736842    1217.82   \n",
       "596   12/31/2007      1035       8.6    27.70       5.2  48.405797    1038.59   \n",
       "548   12/31/2008       998       9.0    28.80       6.6  44.689379    1003.43   \n",
       "500   12/31/2009       924       9.1    29.40       7.5  46.103896     928.21   \n",
       "452   12/31/2010      1025       9.5    30.50       7.3  45.268293    1025.69   \n",
       "404   12/31/2011       909      10.0    31.30       7.7  43.784378     908.55   \n",
       "356   12/31/2012      1101      10.5    31.10       7.1  45.231608    1099.36   \n",
       "308   12/31/2013      1075      10.4    31.50       9.4  44.651163    1073.27   \n",
       "260   12/31/2014      1070      10.4    30.70      10.9  48.130841    1068.19   \n",
       "212   12/31/2015      1232      10.7    31.20      20.4  46.672078    1231.77   \n",
       "164   12/31/2016      1104      11.2    32.50      24.4  47.101449    1101.90   \n",
       "116   12/31/2017       927      11.0    32.30      27.8  46.062567     924.90   \n",
       "68    12/31/2018       942      11.8    33.00      26.6  43.524416     940.96   \n",
       "20    12/31/2019       924      11.1    36.00      27.2  44.155844     923.74   \n",
       "\n",
       "         State  \n",
       "1172  Michigan  \n",
       "1124  Michigan  \n",
       "1076  Michigan  \n",
       "1028  Michigan  \n",
       "980   Michigan  \n",
       "932   Michigan  \n",
       "884   Michigan  \n",
       "836   Michigan  \n",
       "788   Michigan  \n",
       "740   Michigan  \n",
       "692   Michigan  \n",
       "644   Michigan  \n",
       "596   Michigan  \n",
       "548   Michigan  \n",
       "500   Michigan  \n",
       "452   Michigan  \n",
       "404   Michigan  \n",
       "356   Michigan  \n",
       "308   Michigan  \n",
       "260   Michigan  \n",
       "212   Michigan  \n",
       "164   Michigan  \n",
       "116   Michigan  \n",
       "68    Michigan  \n",
       "20    Michigan  "
      ]
     },
     "execution_count": 30,
     "metadata": {},
     "output_type": "execute_result"
    }
   ],
   "source": [
    "df\n"
   ]
  },
  {
   "cell_type": "code",
   "execution_count": 31,
   "metadata": {
    "scrolled": true
   },
   "outputs": [
    {
     "data": {
      "image/png": "[encoded data removed]",
      "text/plain": [
       "<Figure size 432x288 with 1 Axes>"
      ]
     },
     "metadata": {
      "needs_background": "light"
     },
     "output_type": "display_data"
    }
   ],
   "source": [
    "sns.regplot(X[('Diabetes')],y)\n",
    "plt.title('Diabetes % vs. Waitlist')\n",
    "plt.xlabel('Diabetes %')\n",
    "plt.ylabel('Kidney Waitlist through Time')\n",
    "plt.savefig('images/Michigan_diabetes.png', dpi=100, facecolor='w', edgecolor='w',\n",
    "        orientation='portrait', format=None,\n",
    "        transparent=False, bbox_inches=None, pad_inches=0.2, metadata=None)"
   ]
  },
  {
   "cell_type": "code",
   "execution_count": 32,
   "metadata": {},
   "outputs": [
    {
     "data": {
      "image/png": "[encoded data removed]",
      "text/plain": [
       "<Figure size 432x288 with 1 Axes>"
      ]
     },
     "metadata": {
      "needs_background": "light"
     },
     "output_type": "display_data"
    }
   ],
   "source": [
    "sns.regplot(X[('Obesity')],y)\n",
    "plt.title('Obesity % vs. Waitlist')\n",
    "plt.xlabel('Obesity %')\n",
    "plt.ylabel('Kidney Waitlist through Time')\n",
    "plt.savefig('images/Michigan_obesity.png', dpi=100, facecolor='w', edgecolor='w',\n",
    "        orientation='portrait', format=None,\n",
    "        transparent=False, bbox_inches=None, pad_inches=0.2, metadata=None)"
   ]
  },
  {
   "cell_type": "code",
   "execution_count": 33,
   "metadata": {
    "scrolled": false
   },
   "outputs": [
    {
     "data": {
      "image/png": "[encoded data removed]",
      "text/plain": [
       "<Figure size 432x288 with 1 Axes>"
      ]
     },
     "metadata": {
      "needs_background": "light"
     },
     "output_type": "display_data"
    }
   ],
   "source": [
    "sns.regplot(X[('Overdose')],y)\n",
    "plt.xlabel('Overdose rate per 100k')\n",
    "plt.title('Overdoses rate per 100k vs. Waitlist')\n",
    "plt.ylabel('Kidney Waitlist through Time')\n",
    "plt.savefig('images/Michigan_overdose.png', dpi=100, facecolor='w', edgecolor='w',\n",
    "        orientation='portrait', format=None,\n",
    "        transparent=False, bbox_inches=None, pad_inches=0.2, metadata=None)"
   ]
  },
  {
   "cell_type": "code",
   "execution_count": 34,
   "metadata": {},
   "outputs": [
    {
     "data": {
      "image/png": "[encoded data removed]",
      "text/plain": [
       "<Figure size 432x288 with 1 Axes>"
      ]
     },
     "metadata": {
      "needs_background": "light"
     },
     "output_type": "display_data"
    }
   ],
   "source": [
    "sns.regplot(X[('Pct_O')],y)\n",
    "plt.xlabel('Percent O Blood-Type')\n",
    "plt.title('Percent O Blood-Type vs. Waitlist')\n",
    "plt.ylabel('Kidney Waitlist through Time')\n",
    "plt.savefig('images/Michigan_pct_O.png', dpi=100, facecolor='w', edgecolor='w',\n",
    "        orientation='portrait', format=None,\n",
    "        transparent=False, bbox_inches=None, pad_inches=0.2, metadata=None)"
   ]
  },
  {
   "cell_type": "code",
   "execution_count": 35,
   "metadata": {
    "scrolled": true
   },
   "outputs": [
    {
     "data": {
      "text/plain": [
       "<AxesSubplot:xlabel='Pct_O'>"
      ]
     },
     "execution_count": 35,
     "metadata": {},
     "output_type": "execute_result"
    },
    {
     "data": {
      "image/png": "[encoded data removed]",
      "text/plain": [
       "<Figure size 432x288 with 1 Axes>"
      ]
     },
     "metadata": {
      "needs_background": "light"
     },
     "output_type": "display_data"
    }
   ],
   "source": [
    "sns.regplot(X[('Diabetes')],y)\n",
    "sns.regplot(X[('Obesity')],y)\n",
    "sns.regplot(X[('Overdose')],y)\n",
    "sns.regplot(X[('Pct_O')],y)"
   ]
  },
  {
   "cell_type": "code",
   "execution_count": 36,
   "metadata": {},
   "outputs": [
    {
     "data": {
      "text/html": [
       "<div>\n",
       "<style scoped>\n",
       "    .dataframe tbody tr th:only-of-type {\n",
       "        vertical-align: middle;\n",
       "    }\n",
       "\n",
       "    .dataframe tbody tr th {\n",
       "        vertical-align: top;\n",
       "    }\n",
       "\n",
       "    .dataframe thead th {\n",
       "        text-align: right;\n",
       "    }\n",
       "</style>\n",
       "<table border=\"1\" class=\"dataframe\">\n",
       "  <thead>\n",
       "    <tr style=\"text-align: right;\">\n",
       "      <th></th>\n",
       "      <th>0</th>\n",
       "      <th>1</th>\n",
       "      <th>2</th>\n",
       "      <th>3</th>\n",
       "    </tr>\n",
       "  </thead>\n",
       "  <tbody>\n",
       "    <tr>\n",
       "      <th>0</th>\n",
       "      <td>44.0533</td>\n",
       "      <td>27.6314</td>\n",
       "      <td>-8.82964</td>\n",
       "      <td>57.7609</td>\n",
       "    </tr>\n",
       "  </tbody>\n",
       "</table>\n",
       "</div>"
      ],
      "text/plain": [
       "         0        1        2        3\n",
       "0  44.0533  27.6314 -8.82964  57.7609"
      ]
     },
     "execution_count": 36,
     "metadata": {},
     "output_type": "execute_result"
    }
   ],
   "source": [
    "coefficients = pd.concat([pd.DataFrame(X.columns),pd.DataFrame(np.transpose(model.coef_))], axis = 1)\n",
    "coefficients_transposed = coefficients.T\n",
    "coefficients_transposed\n",
    "coefficients_final = coefficients_transposed[1:]\n",
    "coefficients_final"
   ]
  },
  {
   "cell_type": "code",
   "execution_count": 37,
   "metadata": {
    "scrolled": false
   },
   "outputs": [
    {
     "data": {
      "text/html": [
       "<div>\n",
       "<style scoped>\n",
       "    .dataframe tbody tr th:only-of-type {\n",
       "        vertical-align: middle;\n",
       "    }\n",
       "\n",
       "    .dataframe tbody tr th {\n",
       "        vertical-align: top;\n",
       "    }\n",
       "\n",
       "    .dataframe thead th {\n",
       "        text-align: right;\n",
       "    }\n",
       "</style>\n",
       "<table border=\"1\" class=\"dataframe\">\n",
       "  <thead>\n",
       "    <tr style=\"text-align: right;\">\n",
       "      <th></th>\n",
       "      <th>0</th>\n",
       "      <th>1</th>\n",
       "      <th>2</th>\n",
       "      <th>3</th>\n",
       "      <th>4</th>\n",
       "    </tr>\n",
       "  </thead>\n",
       "  <tbody>\n",
       "    <tr>\n",
       "      <th>0</th>\n",
       "      <td>0.617993</td>\n",
       "      <td>0.768989</td>\n",
       "      <td>0.011615</td>\n",
       "      <td>[-2802.244425801283]</td>\n",
       "      <td>[[1210.990816782155]]</td>\n",
       "    </tr>\n",
       "  </tbody>\n",
       "</table>\n",
       "</div>"
      ],
      "text/plain": [
       "          0         1         2                     3                      4\n",
       "0  0.617993  0.768989  0.011615  [-2802.244425801283]  [[1210.990816782155]]"
      ]
     },
     "execution_count": 37,
     "metadata": {},
     "output_type": "execute_result"
    }
   ],
   "source": [
    "test_df = pd.DataFrame([[r_sq,training_score,testing_score,model.intercept_ ,predictedTotal_Adj]])\n",
    "test_df"
   ]
  },
  {
   "cell_type": "code",
   "execution_count": 38,
   "metadata": {},
   "outputs": [],
   "source": [
    "#dfi.export(test_df, 'test_df.png')"
   ]
  },
  {
   "cell_type": "code",
   "execution_count": 39,
   "metadata": {
    "scrolled": true
   },
   "outputs": [],
   "source": [
    "summary_df = pd.concat([test_df, lastyear_df, coefficients_final], axis=1)\n",
    "summary_df.columns = ['R2','Training Score', 'Test Score', 'Intercept','Forecast based on Natl Avg','Last Waitlist','Coef_Diabetes','Coef_Obesity','Coef_Overdose','Coef_Pct_O']"
   ]
  },
  {
   "cell_type": "code",
   "execution_count": 40,
   "metadata": {
    "scrolled": true
   },
   "outputs": [
    {
     "data": {
      "text/html": [
       "<div>\n",
       "<style scoped>\n",
       "    .dataframe tbody tr th:only-of-type {\n",
       "        vertical-align: middle;\n",
       "    }\n",
       "\n",
       "    .dataframe tbody tr th {\n",
       "        vertical-align: top;\n",
       "    }\n",
       "\n",
       "    .dataframe thead th {\n",
       "        text-align: right;\n",
       "    }\n",
       "</style>\n",
       "<table border=\"1\" class=\"dataframe\">\n",
       "  <thead>\n",
       "    <tr style=\"text-align: right;\">\n",
       "      <th></th>\n",
       "      <th>R2</th>\n",
       "      <th>Training Score</th>\n",
       "      <th>Test Score</th>\n",
       "      <th>Intercept</th>\n",
       "      <th>Forecast based on Natl Avg</th>\n",
       "      <th>Last Waitlist</th>\n",
       "      <th>Coef_Diabetes</th>\n",
       "      <th>Coef_Obesity</th>\n",
       "      <th>Coef_Overdose</th>\n",
       "      <th>Coef_Pct_O</th>\n",
       "    </tr>\n",
       "  </thead>\n",
       "  <tbody>\n",
       "    <tr>\n",
       "      <th>0</th>\n",
       "      <td>0.617993</td>\n",
       "      <td>0.768989</td>\n",
       "      <td>0.011615</td>\n",
       "      <td>[-2802.244425801283]</td>\n",
       "      <td>[[1210.990816782155]]</td>\n",
       "      <td>923.74</td>\n",
       "      <td>44.0533</td>\n",
       "      <td>27.6314</td>\n",
       "      <td>-8.82964</td>\n",
       "      <td>57.7609</td>\n",
       "    </tr>\n",
       "  </tbody>\n",
       "</table>\n",
       "</div>"
      ],
      "text/plain": [
       "         R2  Training Score  Test Score             Intercept  \\\n",
       "0  0.617993        0.768989    0.011615  [-2802.244425801283]   \n",
       "\n",
       "  Forecast based on Natl Avg  Last Waitlist Coef_Diabetes Coef_Obesity  \\\n",
       "0      [[1210.990816782155]]         923.74       44.0533      27.6314   \n",
       "\n",
       "  Coef_Overdose Coef_Pct_O  \n",
       "0      -8.82964    57.7609  "
      ]
     },
     "execution_count": 40,
     "metadata": {},
     "output_type": "execute_result"
    }
   ],
   "source": [
    "summary_df"
   ]
  },
  {
   "cell_type": "code",
   "execution_count": 41,
   "metadata": {
    "scrolled": true
   },
   "outputs": [
    {
     "data": {
      "text/plain": [
       "R2                            float64\n",
       "Training Score                float64\n",
       "Test Score                    float64\n",
       "Intercept                      object\n",
       "Forecast based on Natl Avg     object\n",
       "Last Waitlist                 float64\n",
       "Coef_Diabetes                  object\n",
       "Coef_Obesity                   object\n",
       "Coef_Overdose                  object\n",
       "Coef_Pct_O                     object\n",
       "dtype: object"
      ]
     },
     "execution_count": 41,
     "metadata": {},
     "output_type": "execute_result"
    }
   ],
   "source": [
    "summary_df.dtypes"
   ]
  },
  {
   "cell_type": "code",
   "execution_count": 42,
   "metadata": {
    "scrolled": false
   },
   "outputs": [
    {
     "data": {
      "text/html": [
       "<div>\n",
       "<style scoped>\n",
       "    .dataframe tbody tr th:only-of-type {\n",
       "        vertical-align: middle;\n",
       "    }\n",
       "\n",
       "    .dataframe tbody tr th {\n",
       "        vertical-align: top;\n",
       "    }\n",
       "\n",
       "    .dataframe thead th {\n",
       "        text-align: right;\n",
       "    }\n",
       "</style>\n",
       "<table border=\"1\" class=\"dataframe\">\n",
       "  <thead>\n",
       "    <tr style=\"text-align: right;\">\n",
       "      <th></th>\n",
       "      <th>R2</th>\n",
       "      <th>Training Score</th>\n",
       "      <th>Test Score</th>\n",
       "      <th>Intercept</th>\n",
       "      <th>Forecast based on Natl Avg</th>\n",
       "      <th>Last Waitlist</th>\n",
       "      <th>Coef_Diabetes</th>\n",
       "      <th>Coef_Obesity</th>\n",
       "      <th>Coef_Overdose</th>\n",
       "      <th>Coef_Pct_O</th>\n",
       "    </tr>\n",
       "  </thead>\n",
       "  <tbody>\n",
       "    <tr>\n",
       "      <th>0</th>\n",
       "      <td>0.617993</td>\n",
       "      <td>0.768989</td>\n",
       "      <td>0.011615</td>\n",
       "      <td>[-2802.244425801283]</td>\n",
       "      <td>[[1210.990816782155]]</td>\n",
       "      <td>923.74</td>\n",
       "      <td>44.0533</td>\n",
       "      <td>27.6314</td>\n",
       "      <td>-8.82964</td>\n",
       "      <td>57.7609</td>\n",
       "    </tr>\n",
       "  </tbody>\n",
       "</table>\n",
       "</div>"
      ],
      "text/plain": [
       "         R2  Training Score  Test Score             Intercept  \\\n",
       "0  0.617993        0.768989    0.011615  [-2802.244425801283]   \n",
       "\n",
       "  Forecast based on Natl Avg  Last Waitlist Coef_Diabetes Coef_Obesity  \\\n",
       "0      [[1210.990816782155]]         923.74       44.0533      27.6314   \n",
       "\n",
       "  Coef_Overdose Coef_Pct_O  \n",
       "0      -8.82964    57.7609  "
      ]
     },
     "execution_count": 42,
     "metadata": {},
     "output_type": "execute_result"
    }
   ],
   "source": [
    "summary_df"
   ]
  },
  {
   "cell_type": "code",
   "execution_count": 43,
   "metadata": {
    "scrolled": true
   },
   "outputs": [],
   "source": [
    "summary_df['Intercept'] = summary_df['Intercept'].astype(int)\n",
    "summary_df['Forecast based on Natl Avg'] = summary_df['Forecast based on Natl Avg'].astype(int)\n",
    "summary_df['R2'] = summary_df['R2'].round(decimals=4)\n",
    "summary_df['Training Score'] = summary_df['Training Score'].round(decimals=4)\n",
    "summary_df['Test Score'] = summary_df['Test Score'].round(decimals=4)\n",
    "summary_df = summary_df[['R2','Training Score','Test Score','Intercept','Coef_Diabetes','Coef_Obesity','Coef_Overdose','Coef_Pct_O','Last Waitlist','Forecast based on Natl Avg']]\n",
    "dfi.export(summary_df, 'images/Michigan_summary.png')"
   ]
  },
  {
   "cell_type": "code",
   "execution_count": 44,
   "metadata": {
    "scrolled": false
   },
   "outputs": [
    {
     "data": {
      "text/html": [
       "<div>\n",
       "<style scoped>\n",
       "    .dataframe tbody tr th:only-of-type {\n",
       "        vertical-align: middle;\n",
       "    }\n",
       "\n",
       "    .dataframe tbody tr th {\n",
       "        vertical-align: top;\n",
       "    }\n",
       "\n",
       "    .dataframe thead th {\n",
       "        text-align: right;\n",
       "    }\n",
       "</style>\n",
       "<table border=\"1\" class=\"dataframe\">\n",
       "  <thead>\n",
       "    <tr style=\"text-align: right;\">\n",
       "      <th></th>\n",
       "      <th>R2</th>\n",
       "      <th>Training Score</th>\n",
       "      <th>Test Score</th>\n",
       "      <th>Intercept</th>\n",
       "      <th>Coef_Diabetes</th>\n",
       "      <th>Coef_Obesity</th>\n",
       "      <th>Coef_Overdose</th>\n",
       "      <th>Coef_Pct_O</th>\n",
       "      <th>Last Waitlist</th>\n",
       "      <th>Forecast based on Natl Avg</th>\n",
       "    </tr>\n",
       "  </thead>\n",
       "  <tbody>\n",
       "    <tr>\n",
       "      <th>0</th>\n",
       "      <td>0.618</td>\n",
       "      <td>0.769</td>\n",
       "      <td>0.0116</td>\n",
       "      <td>-2802</td>\n",
       "      <td>44.0533</td>\n",
       "      <td>27.6314</td>\n",
       "      <td>-8.82964</td>\n",
       "      <td>57.7609</td>\n",
       "      <td>923.74</td>\n",
       "      <td>1210</td>\n",
       "    </tr>\n",
       "  </tbody>\n",
       "</table>\n",
       "</div>"
      ],
      "text/plain": [
       "      R2  Training Score  Test Score  Intercept Coef_Diabetes Coef_Obesity  \\\n",
       "0  0.618           0.769      0.0116      -2802       44.0533      27.6314   \n",
       "\n",
       "  Coef_Overdose Coef_Pct_O  Last Waitlist  Forecast based on Natl Avg  \n",
       "0      -8.82964    57.7609         923.74                        1210  "
      ]
     },
     "execution_count": 44,
     "metadata": {},
     "output_type": "execute_result"
    }
   ],
   "source": [
    "summary_df"
   ]
  },
  {
   "cell_type": "code",
   "execution_count": 270,
   "metadata": {
    "scrolled": true
   },
   "outputs": [
    {
     "data": {
      "text/html": [
       "<style  type=\"text/css\" >\n",
       "#T_853f754c_5ad9_11eb_b3e6_c03eba874a93row0_col0,#T_853f754c_5ad9_11eb_b3e6_c03eba874a93row0_col1,#T_853f754c_5ad9_11eb_b3e6_c03eba874a93row0_col2,#T_853f754c_5ad9_11eb_b3e6_c03eba874a93row0_col3,#T_853f754c_5ad9_11eb_b3e6_c03eba874a93row0_col4,#T_853f754c_5ad9_11eb_b3e6_c03eba874a93row0_col5,#T_853f754c_5ad9_11eb_b3e6_c03eba874a93row0_col6,#T_853f754c_5ad9_11eb_b3e6_c03eba874a93row0_col7,#T_853f754c_5ad9_11eb_b3e6_c03eba874a93row0_col8,#T_853f754c_5ad9_11eb_b3e6_c03eba874a93row0_col9{\n",
       "            background-color:  black;\n",
       "            color:  lawngreen;\n",
       "            border-color:  white;\n",
       "        }</style><table id=\"T_853f754c_5ad9_11eb_b3e6_c03eba874a93\" ><thead>    <tr>        <th class=\"blank level0\" ></th>        <th class=\"col_heading level0 col0\" >R2</th>        <th class=\"col_heading level0 col1\" >Training Score</th>        <th class=\"col_heading level0 col2\" >Test Score</th>        <th class=\"col_heading level0 col3\" >Intercept</th>        <th class=\"col_heading level0 col4\" >Coef_Diabetes</th>        <th class=\"col_heading level0 col5\" >Coef_Obesity</th>        <th class=\"col_heading level0 col6\" >Coef_Overdose</th>        <th class=\"col_heading level0 col7\" >Coef_Pct_O</th>        <th class=\"col_heading level0 col8\" >Last Waitlist</th>        <th class=\"col_heading level0 col9\" >Forecast based on Natl Avg</th>    </tr></thead><tbody>\n",
       "                <tr>\n",
       "                        <th id=\"T_853f754c_5ad9_11eb_b3e6_c03eba874a93level0_row0\" class=\"row_heading level0 row0\" >0</th>\n",
       "                        <td id=\"T_853f754c_5ad9_11eb_b3e6_c03eba874a93row0_col0\" class=\"data row0 col0\" >0.943700</td>\n",
       "                        <td id=\"T_853f754c_5ad9_11eb_b3e6_c03eba874a93row0_col1\" class=\"data row0 col1\" >0.969800</td>\n",
       "                        <td id=\"T_853f754c_5ad9_11eb_b3e6_c03eba874a93row0_col2\" class=\"data row0 col2\" >0.837600</td>\n",
       "                        <td id=\"T_853f754c_5ad9_11eb_b3e6_c03eba874a93row0_col3\" class=\"data row0 col3\" >259</td>\n",
       "                        <td id=\"T_853f754c_5ad9_11eb_b3e6_c03eba874a93row0_col4\" class=\"data row0 col4\" >-43.269983</td>\n",
       "                        <td id=\"T_853f754c_5ad9_11eb_b3e6_c03eba874a93row0_col5\" class=\"data row0 col5\" >37.556151</td>\n",
       "                        <td id=\"T_853f754c_5ad9_11eb_b3e6_c03eba874a93row0_col6\" class=\"data row0 col6\" >12.557919</td>\n",
       "                        <td id=\"T_853f754c_5ad9_11eb_b3e6_c03eba874a93row0_col7\" class=\"data row0 col7\" >-3.661461</td>\n",
       "                        <td id=\"T_853f754c_5ad9_11eb_b3e6_c03eba874a93row0_col8\" class=\"data row0 col8\" >1089.440000</td>\n",
       "                        <td id=\"T_853f754c_5ad9_11eb_b3e6_c03eba874a93row0_col9\" class=\"data row0 col9\" >1066</td>\n",
       "            </tr>\n",
       "    </tbody></table>"
      ],
      "text/plain": [
       "<pandas.io.formats.style.Styler at 0x253a340e108>"
      ]
     },
     "execution_count": 270,
     "metadata": {},
     "output_type": "execute_result"
    }
   ],
   "source": [
    "summaryalt_df = summary_df.style.set_properties(**{'background-color': 'black','color': 'lawngreen','border-color': 'white'})\n",
    "summaryalt_df"
   ]
  },
  {
   "cell_type": "code",
   "execution_count": null,
   "metadata": {},
   "outputs": [],
   "source": []
  },
  {
   "cell_type": "code",
   "execution_count": null,
   "metadata": {},
   "outputs": [],
   "source": []
  }
 ],
 "metadata": {
  "kernelspec": {
   "display_name": "Python 3.7.6 64-bit ('base')",
   "language": "python",
   "name": "python37664bitbase4c4633b153a642f9891ab9f50584a414"
  },
  "language_info": {
   "codemirror_mode": {
    "name": "ipython",
    "version": 3
   },
   "file_extension": ".py",
   "mimetype": "text/x-python",
   "name": "python",
   "nbconvert_exporter": "python",
   "pygments_lexer": "ipython3",
   "version": "3.7.6"
  }
 },
 "nbformat": 4,
 "nbformat_minor": 2
}
