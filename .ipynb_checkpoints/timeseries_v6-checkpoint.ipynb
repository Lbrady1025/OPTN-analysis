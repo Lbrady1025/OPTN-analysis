{
 "cells": [
  {
   "cell_type": "code",
   "execution_count": 64,
   "metadata": {},
   "outputs": [],
   "source": [
    "#Import Dependencies\n",
    "%matplotlib inline\n",
    "import pandas as pd\n",
    "import numpy as np\n",
    "import statsmodels.api as sm\n",
    "from statsmodels.tsa.api import VAR\n",
    "import matplotlib.pyplot as plt\n",
    "from sklearn import linear_model\n",
    "from sklearn.linear_model import LinearRegression\n",
    "from sklearn.metrics import mean_squared_error, r2_score\n",
    "import dataframe_image as dfi\n",
    "from scipy import stats\n",
    "import seaborn as sns"
   ]
  },
  {
   "cell_type": "code",
   "execution_count": 65,
   "metadata": {},
   "outputs": [
    {
     "data": {
      "text/html": [
       "<div>\n",
       "<style scoped>\n",
       "    .dataframe tbody tr th:only-of-type {\n",
       "        vertical-align: middle;\n",
       "    }\n",
       "\n",
       "    .dataframe tbody tr th {\n",
       "        vertical-align: top;\n",
       "    }\n",
       "\n",
       "    .dataframe thead th {\n",
       "        text-align: right;\n",
       "    }\n",
       "</style>\n",
       "<table border=\"1\" class=\"dataframe\">\n",
       "  <thead>\n",
       "    <tr style=\"text-align: right;\">\n",
       "      <th></th>\n",
       "      <th>Year</th>\n",
       "      <th>Waitlist</th>\n",
       "      <th>Diabetes</th>\n",
       "      <th>Obesity</th>\n",
       "      <th>Overdose</th>\n",
       "      <th>Pct_O</th>\n",
       "      <th>Total_Adj</th>\n",
       "      <th>State</th>\n",
       "    </tr>\n",
       "  </thead>\n",
       "  <tbody>\n",
       "    <tr>\n",
       "      <th>0</th>\n",
       "      <td>12/31/2019</td>\n",
       "      <td>488</td>\n",
       "      <td>14.0</td>\n",
       "      <td>36.1</td>\n",
       "      <td>17.30</td>\n",
       "      <td>50.409836</td>\n",
       "      <td>486.45</td>\n",
       "      <td>Alabama</td>\n",
       "    </tr>\n",
       "    <tr>\n",
       "      <th>1</th>\n",
       "      <td>12/31/2019</td>\n",
       "      <td>824</td>\n",
       "      <td>10.9</td>\n",
       "      <td>36.1</td>\n",
       "      <td>23.00</td>\n",
       "      <td>50.970874</td>\n",
       "      <td>810.11</td>\n",
       "      <td>Arizona</td>\n",
       "    </tr>\n",
       "    <tr>\n",
       "      <th>2</th>\n",
       "      <td>12/31/2019</td>\n",
       "      <td>193</td>\n",
       "      <td>13.6</td>\n",
       "      <td>37.4</td>\n",
       "      <td>15.60</td>\n",
       "      <td>55.958549</td>\n",
       "      <td>192.48</td>\n",
       "      <td>Arkansas</td>\n",
       "    </tr>\n",
       "    <tr>\n",
       "      <th>3</th>\n",
       "      <td>12/31/2019</td>\n",
       "      <td>5566</td>\n",
       "      <td>10.1</td>\n",
       "      <td>26.2</td>\n",
       "      <td>12.25</td>\n",
       "      <td>51.257636</td>\n",
       "      <td>5558.86</td>\n",
       "      <td>California</td>\n",
       "    </tr>\n",
       "    <tr>\n",
       "      <th>4</th>\n",
       "      <td>12/31/2019</td>\n",
       "      <td>545</td>\n",
       "      <td>7.0</td>\n",
       "      <td>23.8</td>\n",
       "      <td>17.20</td>\n",
       "      <td>47.339450</td>\n",
       "      <td>538.54</td>\n",
       "      <td>Colorado</td>\n",
       "    </tr>\n",
       "  </tbody>\n",
       "</table>\n",
       "</div>"
      ],
      "text/plain": [
       "         Year  Waitlist  Diabetes  Obesity  Overdose      Pct_O  Total_Adj  \\\n",
       "0  12/31/2019       488      14.0     36.1     17.30  50.409836     486.45   \n",
       "1  12/31/2019       824      10.9     36.1     23.00  50.970874     810.11   \n",
       "2  12/31/2019       193      13.6     37.4     15.60  55.958549     192.48   \n",
       "3  12/31/2019      5566      10.1     26.2     12.25  51.257636    5558.86   \n",
       "4  12/31/2019       545       7.0     23.8     17.20  47.339450     538.54   \n",
       "\n",
       "        State  \n",
       "0     Alabama  \n",
       "1     Arizona  \n",
       "2    Arkansas  \n",
       "3  California  \n",
       "4    Colorado  "
      ]
     },
     "execution_count": 65,
     "metadata": {},
     "output_type": "execute_result"
    }
   ],
   "source": [
    "# Load dataset\n",
    "df = pd.read_csv('Final_data.csv')\n",
    "df.head()"
   ]
  },
  {
   "cell_type": "code",
   "execution_count": 66,
   "metadata": {
    "scrolled": false
   },
   "outputs": [
    {
     "data": {
      "text/html": [
       "<div>\n",
       "<style scoped>\n",
       "    .dataframe tbody tr th:only-of-type {\n",
       "        vertical-align: middle;\n",
       "    }\n",
       "\n",
       "    .dataframe tbody tr th {\n",
       "        vertical-align: top;\n",
       "    }\n",
       "\n",
       "    .dataframe thead th {\n",
       "        text-align: right;\n",
       "    }\n",
       "</style>\n",
       "<table border=\"1\" class=\"dataframe\">\n",
       "  <thead>\n",
       "    <tr style=\"text-align: right;\">\n",
       "      <th></th>\n",
       "      <th>Year</th>\n",
       "      <th>Waitlist</th>\n",
       "      <th>Diabetes</th>\n",
       "      <th>Obesity</th>\n",
       "      <th>Overdose</th>\n",
       "      <th>Pct_O</th>\n",
       "      <th>Total_Adj</th>\n",
       "      <th>State</th>\n",
       "    </tr>\n",
       "  </thead>\n",
       "  <tbody>\n",
       "    <tr>\n",
       "      <th>1193</th>\n",
       "      <td>12/31/1995</td>\n",
       "      <td>17589</td>\n",
       "      <td>4.98</td>\n",
       "      <td>15.0</td>\n",
       "      <td>5.5</td>\n",
       "      <td>47.683211</td>\n",
       "      <td>17393.76</td>\n",
       "      <td>United States</td>\n",
       "    </tr>\n",
       "    <tr>\n",
       "      <th>1145</th>\n",
       "      <td>12/31/1996</td>\n",
       "      <td>18067</td>\n",
       "      <td>5.23</td>\n",
       "      <td>15.0</td>\n",
       "      <td>5.5</td>\n",
       "      <td>48.259257</td>\n",
       "      <td>17850.20</td>\n",
       "      <td>United States</td>\n",
       "    </tr>\n",
       "    <tr>\n",
       "      <th>1097</th>\n",
       "      <td>12/31/1997</td>\n",
       "      <td>18780</td>\n",
       "      <td>5.52</td>\n",
       "      <td>16.0</td>\n",
       "      <td>5.7</td>\n",
       "      <td>48.109691</td>\n",
       "      <td>18543.37</td>\n",
       "      <td>United States</td>\n",
       "    </tr>\n",
       "    <tr>\n",
       "      <th>1049</th>\n",
       "      <td>12/31/1998</td>\n",
       "      <td>19892</td>\n",
       "      <td>5.80</td>\n",
       "      <td>17.0</td>\n",
       "      <td>5.9</td>\n",
       "      <td>48.270662</td>\n",
       "      <td>19639.37</td>\n",
       "      <td>United States</td>\n",
       "    </tr>\n",
       "    <tr>\n",
       "      <th>1001</th>\n",
       "      <td>12/31/1999</td>\n",
       "      <td>22356</td>\n",
       "      <td>6.09</td>\n",
       "      <td>18.0</td>\n",
       "      <td>6.1</td>\n",
       "      <td>47.897656</td>\n",
       "      <td>22081.02</td>\n",
       "      <td>United States</td>\n",
       "    </tr>\n",
       "    <tr>\n",
       "      <th>953</th>\n",
       "      <td>12/31/2000</td>\n",
       "      <td>22879</td>\n",
       "      <td>6.41</td>\n",
       "      <td>19.0</td>\n",
       "      <td>6.2</td>\n",
       "      <td>48.446173</td>\n",
       "      <td>22618.18</td>\n",
       "      <td>United States</td>\n",
       "    </tr>\n",
       "    <tr>\n",
       "      <th>905</th>\n",
       "      <td>12/31/2001</td>\n",
       "      <td>22902</td>\n",
       "      <td>6.62</td>\n",
       "      <td>20.0</td>\n",
       "      <td>6.8</td>\n",
       "      <td>48.332023</td>\n",
       "      <td>22674.20</td>\n",
       "      <td>United States</td>\n",
       "    </tr>\n",
       "    <tr>\n",
       "      <th>857</th>\n",
       "      <td>12/31/2002</td>\n",
       "      <td>24121</td>\n",
       "      <td>6.85</td>\n",
       "      <td>21.0</td>\n",
       "      <td>8.2</td>\n",
       "      <td>48.584221</td>\n",
       "      <td>23896.16</td>\n",
       "      <td>United States</td>\n",
       "    </tr>\n",
       "    <tr>\n",
       "      <th>809</th>\n",
       "      <td>12/31/2003</td>\n",
       "      <td>25034</td>\n",
       "      <td>7.12</td>\n",
       "      <td>22.0</td>\n",
       "      <td>8.9</td>\n",
       "      <td>48.561956</td>\n",
       "      <td>24817.91</td>\n",
       "      <td>United States</td>\n",
       "    </tr>\n",
       "    <tr>\n",
       "      <th>761</th>\n",
       "      <td>12/31/2004</td>\n",
       "      <td>27745</td>\n",
       "      <td>6.92</td>\n",
       "      <td>22.0</td>\n",
       "      <td>9.4</td>\n",
       "      <td>48.934943</td>\n",
       "      <td>27487.03</td>\n",
       "      <td>United States</td>\n",
       "    </tr>\n",
       "    <tr>\n",
       "      <th>713</th>\n",
       "      <td>12/31/2005</td>\n",
       "      <td>29635</td>\n",
       "      <td>7.19</td>\n",
       "      <td>23.0</td>\n",
       "      <td>10.1</td>\n",
       "      <td>48.361734</td>\n",
       "      <td>29360.59</td>\n",
       "      <td>United States</td>\n",
       "    </tr>\n",
       "    <tr>\n",
       "      <th>665</th>\n",
       "      <td>12/31/2006</td>\n",
       "      <td>31777</td>\n",
       "      <td>7.41</td>\n",
       "      <td>24.0</td>\n",
       "      <td>11.5</td>\n",
       "      <td>48.399786</td>\n",
       "      <td>31469.11</td>\n",
       "      <td>United States</td>\n",
       "    </tr>\n",
       "    <tr>\n",
       "      <th>617</th>\n",
       "      <td>12/31/2007</td>\n",
       "      <td>33037</td>\n",
       "      <td>7.80</td>\n",
       "      <td>25.0</td>\n",
       "      <td>11.9</td>\n",
       "      <td>48.724158</td>\n",
       "      <td>32721.30</td>\n",
       "      <td>United States</td>\n",
       "    </tr>\n",
       "    <tr>\n",
       "      <th>569</th>\n",
       "      <td>12/31/2008</td>\n",
       "      <td>33289</td>\n",
       "      <td>8.10</td>\n",
       "      <td>26.0</td>\n",
       "      <td>11.9</td>\n",
       "      <td>48.391360</td>\n",
       "      <td>32972.64</td>\n",
       "      <td>United States</td>\n",
       "    </tr>\n",
       "    <tr>\n",
       "      <th>521</th>\n",
       "      <td>12/31/2009</td>\n",
       "      <td>34325</td>\n",
       "      <td>8.36</td>\n",
       "      <td>27.0</td>\n",
       "      <td>11.9</td>\n",
       "      <td>48.550619</td>\n",
       "      <td>34022.77</td>\n",
       "      <td>United States</td>\n",
       "    </tr>\n",
       "    <tr>\n",
       "      <th>473</th>\n",
       "      <td>12/31/2010</td>\n",
       "      <td>35000</td>\n",
       "      <td>8.59</td>\n",
       "      <td>27.0</td>\n",
       "      <td>12.3</td>\n",
       "      <td>48.471429</td>\n",
       "      <td>34936.12</td>\n",
       "      <td>United States</td>\n",
       "    </tr>\n",
       "    <tr>\n",
       "      <th>425</th>\n",
       "      <td>12/31/2011</td>\n",
       "      <td>34206</td>\n",
       "      <td>9.54</td>\n",
       "      <td>28.0</td>\n",
       "      <td>13.2</td>\n",
       "      <td>48.409636</td>\n",
       "      <td>33958.82</td>\n",
       "      <td>United States</td>\n",
       "    </tr>\n",
       "    <tr>\n",
       "      <th>377</th>\n",
       "      <td>12/31/2012</td>\n",
       "      <td>35577</td>\n",
       "      <td>9.72</td>\n",
       "      <td>28.0</td>\n",
       "      <td>13.1</td>\n",
       "      <td>48.677516</td>\n",
       "      <td>35317.32</td>\n",
       "      <td>United States</td>\n",
       "    </tr>\n",
       "    <tr>\n",
       "      <th>329</th>\n",
       "      <td>12/31/2013</td>\n",
       "      <td>37204</td>\n",
       "      <td>9.81</td>\n",
       "      <td>29.0</td>\n",
       "      <td>13.8</td>\n",
       "      <td>48.430276</td>\n",
       "      <td>36947.61</td>\n",
       "      <td>United States</td>\n",
       "    </tr>\n",
       "    <tr>\n",
       "      <th>281</th>\n",
       "      <td>12/31/2014</td>\n",
       "      <td>36974</td>\n",
       "      <td>10.13</td>\n",
       "      <td>29.0</td>\n",
       "      <td>14.7</td>\n",
       "      <td>48.550333</td>\n",
       "      <td>36704.03</td>\n",
       "      <td>United States</td>\n",
       "    </tr>\n",
       "    <tr>\n",
       "      <th>233</th>\n",
       "      <td>12/31/2015</td>\n",
       "      <td>35828</td>\n",
       "      <td>10.12</td>\n",
       "      <td>29.0</td>\n",
       "      <td>16.3</td>\n",
       "      <td>48.467679</td>\n",
       "      <td>35565.27</td>\n",
       "      <td>United States</td>\n",
       "    </tr>\n",
       "    <tr>\n",
       "      <th>185</th>\n",
       "      <td>12/31/2016</td>\n",
       "      <td>36244</td>\n",
       "      <td>10.41</td>\n",
       "      <td>30.0</td>\n",
       "      <td>19.8</td>\n",
       "      <td>49.282640</td>\n",
       "      <td>35983.32</td>\n",
       "      <td>United States</td>\n",
       "    </tr>\n",
       "    <tr>\n",
       "      <th>137</th>\n",
       "      <td>12/31/2017</td>\n",
       "      <td>36430</td>\n",
       "      <td>10.51</td>\n",
       "      <td>31.0</td>\n",
       "      <td>21.7</td>\n",
       "      <td>48.328301</td>\n",
       "      <td>36199.40</td>\n",
       "      <td>United States</td>\n",
       "    </tr>\n",
       "    <tr>\n",
       "      <th>89</th>\n",
       "      <td>12/31/2018</td>\n",
       "      <td>39685</td>\n",
       "      <td>11.09</td>\n",
       "      <td>31.0</td>\n",
       "      <td>20.7</td>\n",
       "      <td>48.932846</td>\n",
       "      <td>39477.17</td>\n",
       "      <td>United States</td>\n",
       "    </tr>\n",
       "    <tr>\n",
       "      <th>41</th>\n",
       "      <td>12/31/2019</td>\n",
       "      <td>42085</td>\n",
       "      <td>10.77</td>\n",
       "      <td>32.0</td>\n",
       "      <td>19.9</td>\n",
       "      <td>49.048354</td>\n",
       "      <td>41885.06</td>\n",
       "      <td>United States</td>\n",
       "    </tr>\n",
       "  </tbody>\n",
       "</table>\n",
       "</div>"
      ],
      "text/plain": [
       "            Year  Waitlist  Diabetes  Obesity  Overdose      Pct_O  Total_Adj  \\\n",
       "1193  12/31/1995     17589      4.98     15.0       5.5  47.683211   17393.76   \n",
       "1145  12/31/1996     18067      5.23     15.0       5.5  48.259257   17850.20   \n",
       "1097  12/31/1997     18780      5.52     16.0       5.7  48.109691   18543.37   \n",
       "1049  12/31/1998     19892      5.80     17.0       5.9  48.270662   19639.37   \n",
       "1001  12/31/1999     22356      6.09     18.0       6.1  47.897656   22081.02   \n",
       "953   12/31/2000     22879      6.41     19.0       6.2  48.446173   22618.18   \n",
       "905   12/31/2001     22902      6.62     20.0       6.8  48.332023   22674.20   \n",
       "857   12/31/2002     24121      6.85     21.0       8.2  48.584221   23896.16   \n",
       "809   12/31/2003     25034      7.12     22.0       8.9  48.561956   24817.91   \n",
       "761   12/31/2004     27745      6.92     22.0       9.4  48.934943   27487.03   \n",
       "713   12/31/2005     29635      7.19     23.0      10.1  48.361734   29360.59   \n",
       "665   12/31/2006     31777      7.41     24.0      11.5  48.399786   31469.11   \n",
       "617   12/31/2007     33037      7.80     25.0      11.9  48.724158   32721.30   \n",
       "569   12/31/2008     33289      8.10     26.0      11.9  48.391360   32972.64   \n",
       "521   12/31/2009     34325      8.36     27.0      11.9  48.550619   34022.77   \n",
       "473   12/31/2010     35000      8.59     27.0      12.3  48.471429   34936.12   \n",
       "425   12/31/2011     34206      9.54     28.0      13.2  48.409636   33958.82   \n",
       "377   12/31/2012     35577      9.72     28.0      13.1  48.677516   35317.32   \n",
       "329   12/31/2013     37204      9.81     29.0      13.8  48.430276   36947.61   \n",
       "281   12/31/2014     36974     10.13     29.0      14.7  48.550333   36704.03   \n",
       "233   12/31/2015     35828     10.12     29.0      16.3  48.467679   35565.27   \n",
       "185   12/31/2016     36244     10.41     30.0      19.8  49.282640   35983.32   \n",
       "137   12/31/2017     36430     10.51     31.0      21.7  48.328301   36199.40   \n",
       "89    12/31/2018     39685     11.09     31.0      20.7  48.932846   39477.17   \n",
       "41    12/31/2019     42085     10.77     32.0      19.9  49.048354   41885.06   \n",
       "\n",
       "              State  \n",
       "1193  United States  \n",
       "1145  United States  \n",
       "1097  United States  \n",
       "1049  United States  \n",
       "1001  United States  \n",
       "953   United States  \n",
       "905   United States  \n",
       "857   United States  \n",
       "809   United States  \n",
       "761   United States  \n",
       "713   United States  \n",
       "665   United States  \n",
       "617   United States  \n",
       "569   United States  \n",
       "521   United States  \n",
       "473   United States  \n",
       "425   United States  \n",
       "377   United States  \n",
       "329   United States  \n",
       "281   United States  \n",
       "233   United States  \n",
       "185   United States  \n",
       "137   United States  \n",
       "89    United States  \n",
       "41    United States  "
      ]
     },
     "execution_count": 66,
     "metadata": {},
     "output_type": "execute_result"
    }
   ],
   "source": [
    "df.sort_values(by=['Year'], inplace=True, ascending=True)\n",
    "df = df.loc[df['State']=='United States']\n",
    "df"
   ]
  },
  {
   "cell_type": "code",
   "execution_count": 67,
   "metadata": {
    "scrolled": true
   },
   "outputs": [
    {
     "data": {
      "text/html": [
       "<div>\n",
       "<style scoped>\n",
       "    .dataframe tbody tr th:only-of-type {\n",
       "        vertical-align: middle;\n",
       "    }\n",
       "\n",
       "    .dataframe tbody tr th {\n",
       "        vertical-align: top;\n",
       "    }\n",
       "\n",
       "    .dataframe thead th {\n",
       "        text-align: right;\n",
       "    }\n",
       "</style>\n",
       "<table border=\"1\" class=\"dataframe\">\n",
       "  <thead>\n",
       "    <tr style=\"text-align: right;\">\n",
       "      <th></th>\n",
       "      <th>Total_Adj</th>\n",
       "    </tr>\n",
       "  </thead>\n",
       "  <tbody>\n",
       "    <tr>\n",
       "      <th>0</th>\n",
       "      <td>41885.06</td>\n",
       "    </tr>\n",
       "  </tbody>\n",
       "</table>\n",
       "</div>"
      ],
      "text/plain": [
       "   Total_Adj\n",
       "0   41885.06"
      ]
     },
     "execution_count": 67,
     "metadata": {},
     "output_type": "execute_result"
    }
   ],
   "source": [
    "df_output = df.tail(1)\n",
    "lastyear_df = df_output.drop(columns=['Year', 'Waitlist','Diabetes','Obesity','Overdose','Pct_O','State'])\n",
    "lastyear_df = lastyear_df.reset_index(drop=True)\n",
    "lastyear_df"
   ]
  },
  {
   "cell_type": "code",
   "execution_count": 68,
   "metadata": {},
   "outputs": [
    {
     "data": {
      "image/png": "[encoded data removed]",
      "text/plain": [
       "<Figure size 432x288 with 36 Axes>"
      ]
     },
     "metadata": {
      "needs_background": "light"
     },
     "output_type": "display_data"
    }
   ],
   "source": [
    "df.plot(kind='box', subplots=True, layout=(6,6), sharex=False, sharey=False)\n",
    "plt.show()"
   ]
  },
  {
   "cell_type": "code",
   "execution_count": 69,
   "metadata": {},
   "outputs": [
    {
     "data": {
      "image/png": "[encoded data removed]",
      "text/plain": [
       "<Figure size 432x288 with 36 Axes>"
      ]
     },
     "metadata": {
      "needs_background": "light"
     },
     "output_type": "display_data"
    }
   ],
   "source": [
    "# scatter plot matrix\n",
    "pd.plotting.scatter_matrix(df)\n",
    "plt.show()"
   ]
  },
  {
   "cell_type": "code",
   "execution_count": 70,
   "metadata": {
    "scrolled": true
   },
   "outputs": [
    {
     "data": {
      "text/html": [
       "<div>\n",
       "<style scoped>\n",
       "    .dataframe tbody tr th:only-of-type {\n",
       "        vertical-align: middle;\n",
       "    }\n",
       "\n",
       "    .dataframe tbody tr th {\n",
       "        vertical-align: top;\n",
       "    }\n",
       "\n",
       "    .dataframe thead th {\n",
       "        text-align: right;\n",
       "    }\n",
       "</style>\n",
       "<table border=\"1\" class=\"dataframe\">\n",
       "  <thead>\n",
       "    <tr style=\"text-align: right;\">\n",
       "      <th></th>\n",
       "      <th>Waitlist</th>\n",
       "      <th>Diabetes</th>\n",
       "      <th>Obesity</th>\n",
       "      <th>Overdose</th>\n",
       "      <th>Pct_O</th>\n",
       "      <th>Total_Adj</th>\n",
       "    </tr>\n",
       "  </thead>\n",
       "  <tbody>\n",
       "    <tr>\n",
       "      <th>count</th>\n",
       "      <td>25.000000</td>\n",
       "      <td>25.000000</td>\n",
       "      <td>25.000000</td>\n",
       "      <td>25.000000</td>\n",
       "      <td>25.000000</td>\n",
       "      <td>25.000000</td>\n",
       "    </tr>\n",
       "    <tr>\n",
       "      <th>mean</th>\n",
       "      <td>30026.440000</td>\n",
       "      <td>8.043600</td>\n",
       "      <td>24.160000</td>\n",
       "      <td>11.640000</td>\n",
       "      <td>48.484258</td>\n",
       "      <td>29780.869200</td>\n",
       "    </tr>\n",
       "    <tr>\n",
       "      <th>std</th>\n",
       "      <td>7412.858749</td>\n",
       "      <td>1.910264</td>\n",
       "      <td>5.390424</td>\n",
       "      <td>5.054453</td>\n",
       "      <td>0.340994</td>\n",
       "      <td>7410.632005</td>\n",
       "    </tr>\n",
       "    <tr>\n",
       "      <th>min</th>\n",
       "      <td>17589.000000</td>\n",
       "      <td>4.980000</td>\n",
       "      <td>15.000000</td>\n",
       "      <td>5.500000</td>\n",
       "      <td>47.683211</td>\n",
       "      <td>17393.760000</td>\n",
       "    </tr>\n",
       "    <tr>\n",
       "      <th>25%</th>\n",
       "      <td>22902.000000</td>\n",
       "      <td>6.620000</td>\n",
       "      <td>20.000000</td>\n",
       "      <td>6.800000</td>\n",
       "      <td>48.332023</td>\n",
       "      <td>22674.200000</td>\n",
       "    </tr>\n",
       "    <tr>\n",
       "      <th>50%</th>\n",
       "      <td>33037.000000</td>\n",
       "      <td>7.800000</td>\n",
       "      <td>25.000000</td>\n",
       "      <td>11.900000</td>\n",
       "      <td>48.446173</td>\n",
       "      <td>32721.300000</td>\n",
       "    </tr>\n",
       "    <tr>\n",
       "      <th>75%</th>\n",
       "      <td>35828.000000</td>\n",
       "      <td>9.810000</td>\n",
       "      <td>29.000000</td>\n",
       "      <td>13.800000</td>\n",
       "      <td>48.584221</td>\n",
       "      <td>35565.270000</td>\n",
       "    </tr>\n",
       "    <tr>\n",
       "      <th>max</th>\n",
       "      <td>42085.000000</td>\n",
       "      <td>11.090000</td>\n",
       "      <td>32.000000</td>\n",
       "      <td>21.700000</td>\n",
       "      <td>49.282640</td>\n",
       "      <td>41885.060000</td>\n",
       "    </tr>\n",
       "  </tbody>\n",
       "</table>\n",
       "</div>"
      ],
      "text/plain": [
       "           Waitlist   Diabetes    Obesity   Overdose      Pct_O     Total_Adj\n",
       "count     25.000000  25.000000  25.000000  25.000000  25.000000     25.000000\n",
       "mean   30026.440000   8.043600  24.160000  11.640000  48.484258  29780.869200\n",
       "std     7412.858749   1.910264   5.390424   5.054453   0.340994   7410.632005\n",
       "min    17589.000000   4.980000  15.000000   5.500000  47.683211  17393.760000\n",
       "25%    22902.000000   6.620000  20.000000   6.800000  48.332023  22674.200000\n",
       "50%    33037.000000   7.800000  25.000000  11.900000  48.446173  32721.300000\n",
       "75%    35828.000000   9.810000  29.000000  13.800000  48.584221  35565.270000\n",
       "max    42085.000000  11.090000  32.000000  21.700000  49.282640  41885.060000"
      ]
     },
     "execution_count": 70,
     "metadata": {},
     "output_type": "execute_result"
    }
   ],
   "source": [
    "#Describe data\n",
    "df.describe()"
   ]
  },
  {
   "cell_type": "code",
   "execution_count": 71,
   "metadata": {
    "scrolled": true
   },
   "outputs": [
    {
     "name": "stdout",
     "output_type": "stream",
     "text": [
      "          Diabetes   Obesity  Overdose     Pct_O\n",
      "Diabetes  1.000000  0.980433  0.951138  0.638193\n",
      "Obesity   0.980433  1.000000  0.938590  0.653511\n",
      "Overdose  0.951138  0.938590  1.000000  0.639902\n",
      "Pct_O     0.638193  0.653511  0.639902  1.000000\n"
     ]
    }
   ],
   "source": [
    "#Correlation Matrix\n",
    "corr_matrix = df[[\"Diabetes\", \"Obesity\", \"Overdose\", \"Pct_O\"]].corr()\n",
    "print(corr_matrix)"
   ]
  },
  {
   "cell_type": "code",
   "execution_count": 72,
   "metadata": {},
   "outputs": [
    {
     "name": "stdout",
     "output_type": "stream",
     "text": [
      "(25, 4) (25, 1)\n"
     ]
    }
   ],
   "source": [
    "#Assign variables for regression\n",
    "X = df[['Diabetes','Obesity','Overdose','Pct_O']]\n",
    "y = df['Total_Adj'].values.reshape(-1,1)\n",
    "print(X.shape, y.shape)"
   ]
  },
  {
   "cell_type": "code",
   "execution_count": 73,
   "metadata": {},
   "outputs": [],
   "source": [
    "#Use train_test_split to create training and testing data\n",
    "from sklearn.model_selection import train_test_split\n",
    "X_train, X_test, y_train, y_test = train_test_split(X, y, random_state=42)"
   ]
  },
  {
   "cell_type": "code",
   "execution_count": 74,
   "metadata": {},
   "outputs": [],
   "source": [
    "#Create model\n",
    "model = LinearRegression()"
   ]
  },
  {
   "cell_type": "code",
   "execution_count": 75,
   "metadata": {},
   "outputs": [
    {
     "name": "stdout",
     "output_type": "stream",
     "text": [
      "Training Score: 0.9816635512107913\n",
      "Testing Score: 0.9538888027734591\n"
     ]
    }
   ],
   "source": [
    "#fit the model to the training data and calculate the scores for the training and testing data\n",
    "#Begin\n",
    "model.fit(X_train, y_train)\n",
    "training_score = model.score(X_train, y_train)\n",
    "testing_score = model.score(X_test, y_test)\n",
    "#End\n",
    "print(f\"Training Score: {training_score}\")\n",
    "print(f\"Testing Score: {testing_score}\")\n"
   ]
  },
  {
   "cell_type": "code",
   "execution_count": 76,
   "metadata": {},
   "outputs": [
    {
     "ename": "IndentationError",
     "evalue": "unexpected indent (<ipython-input-76-a6771832e8a3>, line 9)",
     "output_type": "error",
     "traceback": [
      "\u001b[1;36m  File \u001b[1;32m\"<ipython-input-76-a6771832e8a3>\"\u001b[1;36m, line \u001b[1;32m9\u001b[0m\n\u001b[1;33m    orientation='portrait', format=None,\u001b[0m\n\u001b[1;37m    ^\u001b[0m\n\u001b[1;31mIndentationError\u001b[0m\u001b[1;31m:\u001b[0m unexpected indent\n"
     ]
    }
   ],
   "source": [
    "#Plot Residuals for Training and Testing Data\n",
    "#Begin\n",
    "plt.scatter(model.predict(X_train), model.predict(X_train) - y_train, c=\"green\", label=\"Training Data\")\n",
    "plt.scatter(model.predict(X_test), model.predict(X_test) - y_test, c=\"red\", label=\"Testing Data\")\n",
    "plt.legend()\n",
    "plt.hlines(y=0, xmin=y.min(), xmax=y.max())\n",
    "plt.title(\"Residual Plot\")\n",
    "#plt.savefig('images/National_Residual2020_Plot.png', dpi=100, facecolor='w', edgecolor='w',\n",
    "        orientation='portrait', format=None,\n",
    "        transparent=False, bbox_inches=None, pad_inches=0.2, metadata=None)\n",
    "#End"
   ]
  },
  {
   "cell_type": "code",
   "execution_count": 77,
   "metadata": {},
   "outputs": [
    {
     "name": "stdout",
     "output_type": "stream",
     "text": [
      "coefficient of determination 0.9751808871017887\n"
     ]
    }
   ],
   "source": [
    "#R2 of original model\n",
    "r_sq = model.score(X, y)\n",
    "print('coefficient of determination', r_sq)"
   ]
  },
  {
   "cell_type": "code",
   "execution_count": 78,
   "metadata": {},
   "outputs": [
    {
     "name": "stdout",
     "output_type": "stream",
     "text": [
      "[-27088.36945166]\n"
     ]
    }
   ],
   "source": [
    "print(model.intercept_)"
   ]
  },
  {
   "cell_type": "code",
   "execution_count": 79,
   "metadata": {},
   "outputs": [
    {
     "name": "stdout",
     "output_type": "stream",
     "text": [
      "[[-849.66029384 1880.20744239 -290.46627771  446.5267447 ]]\n"
     ]
    }
   ],
   "source": [
    "print(model.coef_)"
   ]
  },
  {
   "cell_type": "code",
   "execution_count": 80,
   "metadata": {
    "scrolled": false
   },
   "outputs": [
    {
     "name": "stdout",
     "output_type": "stream",
     "text": [
      "[[40026.95890383]]\n"
     ]
    }
   ],
   "source": [
    "#Make a Prediction using model\n",
    "predictedTotal_Adj = model.predict([[10.77,32,19.9,49]])\n",
    "print(predictedTotal_Adj)"
   ]
  },
  {
   "cell_type": "code",
   "execution_count": 81,
   "metadata": {
    "scrolled": false
   },
   "outputs": [
    {
     "name": "stdout",
     "output_type": "stream",
     "text": [
      "(18, 4)\n"
     ]
    }
   ],
   "source": [
    "print(X_train.shape)"
   ]
  },
  {
   "cell_type": "code",
   "execution_count": 82,
   "metadata": {
    "scrolled": true
   },
   "outputs": [
    {
     "name": "stdout",
     "output_type": "stream",
     "text": [
      "(18, 1)\n"
     ]
    }
   ],
   "source": [
    "print(y_train.shape)"
   ]
  },
  {
   "cell_type": "code",
   "execution_count": 83,
   "metadata": {},
   "outputs": [
    {
     "name": "stdout",
     "output_type": "stream",
     "text": [
      "(7, 1)\n"
     ]
    }
   ],
   "source": [
    "print(y_test.shape)"
   ]
  },
  {
   "cell_type": "code",
   "execution_count": 84,
   "metadata": {},
   "outputs": [
    {
     "name": "stdout",
     "output_type": "stream",
     "text": [
      "(7, 4)\n"
     ]
    }
   ],
   "source": [
    "print(X_test.shape)"
   ]
  },
  {
   "cell_type": "code",
   "execution_count": 85,
   "metadata": {},
   "outputs": [],
   "source": [
    "modeldetail = sm.OLS(y, X)\n",
    "resultstest = modeldetail.fit()"
   ]
  },
  {
   "cell_type": "code",
   "execution_count": 86,
   "metadata": {},
   "outputs": [
    {
     "name": "stdout",
     "output_type": "stream",
     "text": [
      "(25, 4)\n"
     ]
    }
   ],
   "source": [
    "print(X.shape)"
   ]
  },
  {
   "cell_type": "code",
   "execution_count": 87,
   "metadata": {},
   "outputs": [
    {
     "name": "stdout",
     "output_type": "stream",
     "text": [
      "(25, 1)\n"
     ]
    }
   ],
   "source": [
    "print(y.shape)"
   ]
  },
  {
   "cell_type": "code",
   "execution_count": 88,
   "metadata": {
    "scrolled": true
   },
   "outputs": [
    {
     "ename": "IndentationError",
     "evalue": "unexpected indent (<ipython-input-88-b818283b2425>, line 10)",
     "output_type": "error",
     "traceback": [
      "\u001b[1;36m  File \u001b[1;32m\"<ipython-input-88-b818283b2425>\"\u001b[1;36m, line \u001b[1;32m10\u001b[0m\n\u001b[1;33m    orientation='portrait', format=None,\u001b[0m\n\u001b[1;37m    ^\u001b[0m\n\u001b[1;31mIndentationError\u001b[0m\u001b[1;31m:\u001b[0m unexpected indent\n"
     ]
    }
   ],
   "source": [
    "plt.scatter(X[('Diabetes')], y, label='Diabetes')\n",
    "plt.scatter(X[('Obesity')], y, label='Obesity')\n",
    "plt.scatter(X[('Overdose')], y, label='Overdose')\n",
    "plt.scatter(X[('Pct_O')], y, label='% O-type')\n",
    "plt.title('Full Model')\n",
    "plt.xlabel('Variables through Time (in %, except Overdose in per 100,000)')\n",
    "plt.ylabel('Kidney Waitlist through Time')\n",
    "plt.legend(title='variables',loc='lower center')\n",
    "#plt.savefig('images/United States_full.png', dpi=100, facecolor='w', edgecolor='w',\n",
    "        orientation='portrait', format=None,\n",
    "        transparent=False, bbox_inches=None, pad_inches=0.2, metadata=None)\n",
    "plt.show()"
   ]
  },
  {
   "cell_type": "code",
   "execution_count": 89,
   "metadata": {
    "scrolled": true
   },
   "outputs": [
    {
     "data": {
      "image/png": "[encoded data removed]",
      "text/plain": [
       "<Figure size 504x360 with 1 Axes>"
      ]
     },
     "metadata": {
      "needs_background": "light"
     },
     "output_type": "display_data"
    }
   ],
   "source": [
    "fig = plt.figure()\n",
    "plt.scatter(X_train[('Diabetes')], y_train)\n",
    "plt.scatter(X_train[('Obesity')], y_train)\n",
    "plt.scatter(X_train[('Overdose')], y_train)\n",
    "plt.scatter(X_train[('Pct_O')], y_train)\n",
    "plt.title('Training Model')\n",
    "fig.set_size_inches(7,5)\n",
    "plt.show()"
   ]
  },
  {
   "cell_type": "code",
   "execution_count": 90,
   "metadata": {},
   "outputs": [
    {
     "data": {
      "image/png": "[encoded data removed]",
      "text/plain": [
       "<Figure size 432x288 with 1 Axes>"
      ]
     },
     "metadata": {
      "needs_background": "light"
     },
     "output_type": "display_data"
    }
   ],
   "source": [
    "plt.scatter(X_test[('Diabetes')], y_test)\n",
    "plt.scatter(X_test[('Obesity')], y_test)\n",
    "plt.scatter(X_test[('Overdose')], y_test)\n",
    "plt.scatter(X_test[('Pct_O')], y_test)\n",
    "plt.title('Test Model')\n",
    "plt.show()"
   ]
  },
  {
   "cell_type": "code",
   "execution_count": 91,
   "metadata": {},
   "outputs": [
    {
     "data": {
      "image/png": "[encoded data removed]",
      "text/plain": [
       "<Figure size 432x288 with 1 Axes>"
      ]
     },
     "metadata": {
      "needs_background": "light"
     },
     "output_type": "display_data"
    }
   ],
   "source": [
    "plt.scatter(X_train[('Diabetes')], y_train)\n",
    "plt.scatter(X_train[('Obesity')], y_train)\n",
    "plt.scatter(X_train[('Overdose')], y_train)\n",
    "plt.scatter(X_train[('Pct_O')], y_train)\n",
    "plt.scatter(X_test[('Diabetes')], y_test)\n",
    "plt.scatter(X_test[('Obesity')], y_test)\n",
    "plt.scatter(X_test[('Overdose')], y_test)\n",
    "plt.scatter(X_test[('Pct_O')], y_test)\n",
    "plt.title('Test Model')\n",
    "plt.show()"
   ]
  },
  {
   "cell_type": "code",
   "execution_count": 92,
   "metadata": {
    "scrolled": true
   },
   "outputs": [
    {
     "data": {
      "text/html": [
       "<table class=\"simpletable\">\n",
       "<caption>OLS Regression Results</caption>\n",
       "<tr>\n",
       "  <th>Dep. Variable:</th>        <td>Total_Adj</td>    <th>  R-squared:         </th> <td>   0.977</td>\n",
       "</tr>\n",
       "<tr>\n",
       "  <th>Model:</th>                   <td>OLS</td>       <th>  Adj. R-squared:    </th> <td>   0.972</td>\n",
       "</tr>\n",
       "<tr>\n",
       "  <th>Method:</th>             <td>Least Squares</td>  <th>  F-statistic:       </th> <td>   210.6</td>\n",
       "</tr>\n",
       "<tr>\n",
       "  <th>Date:</th>             <td>Thu, 21 Jan 2021</td> <th>  Prob (F-statistic):</th> <td>4.86e-16</td>\n",
       "</tr>\n",
       "<tr>\n",
       "  <th>Time:</th>                 <td>15:21:34</td>     <th>  Log-Likelihood:    </th> <td> -210.68</td>\n",
       "</tr>\n",
       "<tr>\n",
       "  <th>No. Observations:</th>      <td>    25</td>      <th>  AIC:               </th> <td>   431.4</td>\n",
       "</tr>\n",
       "<tr>\n",
       "  <th>Df Residuals:</th>          <td>    20</td>      <th>  BIC:               </th> <td>   437.5</td>\n",
       "</tr>\n",
       "<tr>\n",
       "  <th>Df Model:</th>              <td>     4</td>      <th>                     </th>     <td> </td>   \n",
       "</tr>\n",
       "<tr>\n",
       "  <th>Covariance Type:</th>      <td>nonrobust</td>    <th>                     </th>     <td> </td>   \n",
       "</tr>\n",
       "</table>\n",
       "<table class=\"simpletable\">\n",
       "<tr>\n",
       "      <td></td>         <th>coef</th>     <th>std err</th>      <th>t</th>      <th>P>|t|</th>  <th>[0.025</th>    <th>0.975]</th>  \n",
       "</tr>\n",
       "<tr>\n",
       "  <th>Intercept</th> <td>-1.148e+04</td> <td>  4.7e+04</td> <td>   -0.244</td> <td> 0.810</td> <td> -1.1e+05</td> <td> 8.66e+04</td>\n",
       "</tr>\n",
       "<tr>\n",
       "  <th>Diabetes</th>  <td>-1000.0370</td> <td>  755.656</td> <td>   -1.323</td> <td> 0.201</td> <td>-2576.308</td> <td>  576.234</td>\n",
       "</tr>\n",
       "<tr>\n",
       "  <th>Obesity</th>   <td> 1793.3785</td> <td>  242.655</td> <td>    7.391</td> <td> 0.000</td> <td> 1287.208</td> <td> 2299.549</td>\n",
       "</tr>\n",
       "<tr>\n",
       "  <th>Overdose</th>  <td> -109.5929</td> <td>  163.760</td> <td>   -0.669</td> <td> 0.511</td> <td> -451.191</td> <td>  232.005</td>\n",
       "</tr>\n",
       "<tr>\n",
       "  <th>Pct_O</th>     <td>  149.5011</td> <td>  985.394</td> <td>    0.152</td> <td> 0.881</td> <td>-1905.996</td> <td> 2204.998</td>\n",
       "</tr>\n",
       "</table>\n",
       "<table class=\"simpletable\">\n",
       "<tr>\n",
       "  <th>Omnibus:</th>       <td> 2.500</td> <th>  Durbin-Watson:     </th> <td>   1.211</td>\n",
       "</tr>\n",
       "<tr>\n",
       "  <th>Prob(Omnibus):</th> <td> 0.287</td> <th>  Jarque-Bera (JB):  </th> <td>   2.160</td>\n",
       "</tr>\n",
       "<tr>\n",
       "  <th>Skew:</th>          <td>-0.671</td> <th>  Prob(JB):          </th> <td>   0.340</td>\n",
       "</tr>\n",
       "<tr>\n",
       "  <th>Kurtosis:</th>      <td> 2.478</td> <th>  Cond. No.          </th> <td>1.07e+04</td>\n",
       "</tr>\n",
       "</table><br/><br/>Warnings:<br/>[1] Standard Errors assume that the covariance matrix of the errors is correctly specified.<br/>[2] The condition number is large, 1.07e+04. This might indicate that there are<br/>strong multicollinearity or other numerical problems."
      ],
      "text/plain": [
       "<class 'statsmodels.iolib.summary.Summary'>\n",
       "\"\"\"\n",
       "                            OLS Regression Results                            \n",
       "==============================================================================\n",
       "Dep. Variable:              Total_Adj   R-squared:                       0.977\n",
       "Model:                            OLS   Adj. R-squared:                  0.972\n",
       "Method:                 Least Squares   F-statistic:                     210.6\n",
       "Date:                Thu, 21 Jan 2021   Prob (F-statistic):           4.86e-16\n",
       "Time:                        15:21:34   Log-Likelihood:                -210.68\n",
       "No. Observations:                  25   AIC:                             431.4\n",
       "Df Residuals:                      20   BIC:                             437.5\n",
       "Df Model:                           4                                         \n",
       "Covariance Type:            nonrobust                                         \n",
       "==============================================================================\n",
       "                 coef    std err          t      P>|t|      [0.025      0.975]\n",
       "------------------------------------------------------------------------------\n",
       "Intercept  -1.148e+04    4.7e+04     -0.244      0.810    -1.1e+05    8.66e+04\n",
       "Diabetes   -1000.0370    755.656     -1.323      0.201   -2576.308     576.234\n",
       "Obesity     1793.3785    242.655      7.391      0.000    1287.208    2299.549\n",
       "Overdose    -109.5929    163.760     -0.669      0.511    -451.191     232.005\n",
       "Pct_O        149.5011    985.394      0.152      0.881   -1905.996    2204.998\n",
       "==============================================================================\n",
       "Omnibus:                        2.500   Durbin-Watson:                   1.211\n",
       "Prob(Omnibus):                  0.287   Jarque-Bera (JB):                2.160\n",
       "Skew:                          -0.671   Prob(JB):                        0.340\n",
       "Kurtosis:                       2.478   Cond. No.                     1.07e+04\n",
       "==============================================================================\n",
       "\n",
       "Warnings:\n",
       "[1] Standard Errors assume that the covariance matrix of the errors is correctly specified.\n",
       "[2] The condition number is large, 1.07e+04. This might indicate that there are\n",
       "strong multicollinearity or other numerical problems.\n",
       "\"\"\""
      ]
     },
     "execution_count": 92,
     "metadata": {},
     "output_type": "execute_result"
    }
   ],
   "source": [
    "model_lin = sm.OLS.from_formula(\"Total_Adj ~ Diabetes + Obesity + Overdose + Pct_O\", data=df)\n",
    "result_lin = model_lin.fit()\n",
    "result_lin.summary()"
   ]
  },
  {
   "cell_type": "code",
   "execution_count": 93,
   "metadata": {},
   "outputs": [],
   "source": [
    "ols_df = result_lin.summary()\n",
    "with open('images/National2019_OLS.txt', 'w') as fh:\n",
    "    fh.write(ols_df.as_text())"
   ]
  },
  {
   "cell_type": "code",
   "execution_count": 120,
   "metadata": {},
   "outputs": [
    {
     "data": {
      "text/html": [
       "<div>\n",
       "<style scoped>\n",
       "    .dataframe tbody tr th:only-of-type {\n",
       "        vertical-align: middle;\n",
       "    }\n",
       "\n",
       "    .dataframe tbody tr th {\n",
       "        vertical-align: top;\n",
       "    }\n",
       "\n",
       "    .dataframe thead th {\n",
       "        text-align: right;\n",
       "    }\n",
       "</style>\n",
       "<table border=\"1\" class=\"dataframe\">\n",
       "  <thead>\n",
       "    <tr style=\"text-align: right;\">\n",
       "      <th></th>\n",
       "      <th>Year</th>\n",
       "      <th>Waitlist</th>\n",
       "      <th>Diabetes</th>\n",
       "      <th>Obesity</th>\n",
       "      <th>Overdose</th>\n",
       "      <th>Pct_O</th>\n",
       "      <th>Total_Adj</th>\n",
       "      <th>State</th>\n",
       "    </tr>\n",
       "  </thead>\n",
       "  <tbody>\n",
       "    <tr>\n",
       "      <th>1193</th>\n",
       "      <td>12/31/1995</td>\n",
       "      <td>17589</td>\n",
       "      <td>4.98</td>\n",
       "      <td>15.0</td>\n",
       "      <td>5.5</td>\n",
       "      <td>47.683211</td>\n",
       "      <td>17393.76</td>\n",
       "      <td>United States</td>\n",
       "    </tr>\n",
       "    <tr>\n",
       "      <th>1145</th>\n",
       "      <td>12/31/1996</td>\n",
       "      <td>18067</td>\n",
       "      <td>5.23</td>\n",
       "      <td>15.0</td>\n",
       "      <td>5.5</td>\n",
       "      <td>48.259257</td>\n",
       "      <td>17850.20</td>\n",
       "      <td>United States</td>\n",
       "    </tr>\n",
       "    <tr>\n",
       "      <th>1097</th>\n",
       "      <td>12/31/1997</td>\n",
       "      <td>18780</td>\n",
       "      <td>5.52</td>\n",
       "      <td>16.0</td>\n",
       "      <td>5.7</td>\n",
       "      <td>48.109691</td>\n",
       "      <td>18543.37</td>\n",
       "      <td>United States</td>\n",
       "    </tr>\n",
       "    <tr>\n",
       "      <th>1049</th>\n",
       "      <td>12/31/1998</td>\n",
       "      <td>19892</td>\n",
       "      <td>5.80</td>\n",
       "      <td>17.0</td>\n",
       "      <td>5.9</td>\n",
       "      <td>48.270662</td>\n",
       "      <td>19639.37</td>\n",
       "      <td>United States</td>\n",
       "    </tr>\n",
       "    <tr>\n",
       "      <th>1001</th>\n",
       "      <td>12/31/1999</td>\n",
       "      <td>22356</td>\n",
       "      <td>6.09</td>\n",
       "      <td>18.0</td>\n",
       "      <td>6.1</td>\n",
       "      <td>47.897656</td>\n",
       "      <td>22081.02</td>\n",
       "      <td>United States</td>\n",
       "    </tr>\n",
       "    <tr>\n",
       "      <th>953</th>\n",
       "      <td>12/31/2000</td>\n",
       "      <td>22879</td>\n",
       "      <td>6.41</td>\n",
       "      <td>19.0</td>\n",
       "      <td>6.2</td>\n",
       "      <td>48.446173</td>\n",
       "      <td>22618.18</td>\n",
       "      <td>United States</td>\n",
       "    </tr>\n",
       "    <tr>\n",
       "      <th>905</th>\n",
       "      <td>12/31/2001</td>\n",
       "      <td>22902</td>\n",
       "      <td>6.62</td>\n",
       "      <td>20.0</td>\n",
       "      <td>6.8</td>\n",
       "      <td>48.332023</td>\n",
       "      <td>22674.20</td>\n",
       "      <td>United States</td>\n",
       "    </tr>\n",
       "    <tr>\n",
       "      <th>857</th>\n",
       "      <td>12/31/2002</td>\n",
       "      <td>24121</td>\n",
       "      <td>6.85</td>\n",
       "      <td>21.0</td>\n",
       "      <td>8.2</td>\n",
       "      <td>48.584221</td>\n",
       "      <td>23896.16</td>\n",
       "      <td>United States</td>\n",
       "    </tr>\n",
       "    <tr>\n",
       "      <th>809</th>\n",
       "      <td>12/31/2003</td>\n",
       "      <td>25034</td>\n",
       "      <td>7.12</td>\n",
       "      <td>22.0</td>\n",
       "      <td>8.9</td>\n",
       "      <td>48.561956</td>\n",
       "      <td>24817.91</td>\n",
       "      <td>United States</td>\n",
       "    </tr>\n",
       "    <tr>\n",
       "      <th>761</th>\n",
       "      <td>12/31/2004</td>\n",
       "      <td>27745</td>\n",
       "      <td>6.92</td>\n",
       "      <td>22.0</td>\n",
       "      <td>9.4</td>\n",
       "      <td>48.934943</td>\n",
       "      <td>27487.03</td>\n",
       "      <td>United States</td>\n",
       "    </tr>\n",
       "    <tr>\n",
       "      <th>713</th>\n",
       "      <td>12/31/2005</td>\n",
       "      <td>29635</td>\n",
       "      <td>7.19</td>\n",
       "      <td>23.0</td>\n",
       "      <td>10.1</td>\n",
       "      <td>48.361734</td>\n",
       "      <td>29360.59</td>\n",
       "      <td>United States</td>\n",
       "    </tr>\n",
       "    <tr>\n",
       "      <th>665</th>\n",
       "      <td>12/31/2006</td>\n",
       "      <td>31777</td>\n",
       "      <td>7.41</td>\n",
       "      <td>24.0</td>\n",
       "      <td>11.5</td>\n",
       "      <td>48.399786</td>\n",
       "      <td>31469.11</td>\n",
       "      <td>United States</td>\n",
       "    </tr>\n",
       "    <tr>\n",
       "      <th>617</th>\n",
       "      <td>12/31/2007</td>\n",
       "      <td>33037</td>\n",
       "      <td>7.80</td>\n",
       "      <td>25.0</td>\n",
       "      <td>11.9</td>\n",
       "      <td>48.724158</td>\n",
       "      <td>32721.30</td>\n",
       "      <td>United States</td>\n",
       "    </tr>\n",
       "    <tr>\n",
       "      <th>569</th>\n",
       "      <td>12/31/2008</td>\n",
       "      <td>33289</td>\n",
       "      <td>8.10</td>\n",
       "      <td>26.0</td>\n",
       "      <td>11.9</td>\n",
       "      <td>48.391360</td>\n",
       "      <td>32972.64</td>\n",
       "      <td>United States</td>\n",
       "    </tr>\n",
       "    <tr>\n",
       "      <th>521</th>\n",
       "      <td>12/31/2009</td>\n",
       "      <td>34325</td>\n",
       "      <td>8.36</td>\n",
       "      <td>27.0</td>\n",
       "      <td>11.9</td>\n",
       "      <td>48.550619</td>\n",
       "      <td>34022.77</td>\n",
       "      <td>United States</td>\n",
       "    </tr>\n",
       "    <tr>\n",
       "      <th>473</th>\n",
       "      <td>12/31/2010</td>\n",
       "      <td>35000</td>\n",
       "      <td>8.59</td>\n",
       "      <td>27.0</td>\n",
       "      <td>12.3</td>\n",
       "      <td>48.471429</td>\n",
       "      <td>34936.12</td>\n",
       "      <td>United States</td>\n",
       "    </tr>\n",
       "    <tr>\n",
       "      <th>425</th>\n",
       "      <td>12/31/2011</td>\n",
       "      <td>34206</td>\n",
       "      <td>9.54</td>\n",
       "      <td>28.0</td>\n",
       "      <td>13.2</td>\n",
       "      <td>48.409636</td>\n",
       "      <td>33958.82</td>\n",
       "      <td>United States</td>\n",
       "    </tr>\n",
       "    <tr>\n",
       "      <th>377</th>\n",
       "      <td>12/31/2012</td>\n",
       "      <td>35577</td>\n",
       "      <td>9.72</td>\n",
       "      <td>28.0</td>\n",
       "      <td>13.1</td>\n",
       "      <td>48.677516</td>\n",
       "      <td>35317.32</td>\n",
       "      <td>United States</td>\n",
       "    </tr>\n",
       "    <tr>\n",
       "      <th>329</th>\n",
       "      <td>12/31/2013</td>\n",
       "      <td>37204</td>\n",
       "      <td>9.81</td>\n",
       "      <td>29.0</td>\n",
       "      <td>13.8</td>\n",
       "      <td>48.430276</td>\n",
       "      <td>36947.61</td>\n",
       "      <td>United States</td>\n",
       "    </tr>\n",
       "    <tr>\n",
       "      <th>281</th>\n",
       "      <td>12/31/2014</td>\n",
       "      <td>36974</td>\n",
       "      <td>10.13</td>\n",
       "      <td>29.0</td>\n",
       "      <td>14.7</td>\n",
       "      <td>48.550333</td>\n",
       "      <td>36704.03</td>\n",
       "      <td>United States</td>\n",
       "    </tr>\n",
       "    <tr>\n",
       "      <th>233</th>\n",
       "      <td>12/31/2015</td>\n",
       "      <td>35828</td>\n",
       "      <td>10.12</td>\n",
       "      <td>29.0</td>\n",
       "      <td>16.3</td>\n",
       "      <td>48.467679</td>\n",
       "      <td>35565.27</td>\n",
       "      <td>United States</td>\n",
       "    </tr>\n",
       "    <tr>\n",
       "      <th>185</th>\n",
       "      <td>12/31/2016</td>\n",
       "      <td>36244</td>\n",
       "      <td>10.41</td>\n",
       "      <td>30.0</td>\n",
       "      <td>19.8</td>\n",
       "      <td>49.282640</td>\n",
       "      <td>35983.32</td>\n",
       "      <td>United States</td>\n",
       "    </tr>\n",
       "    <tr>\n",
       "      <th>137</th>\n",
       "      <td>12/31/2017</td>\n",
       "      <td>36430</td>\n",
       "      <td>10.51</td>\n",
       "      <td>31.0</td>\n",
       "      <td>21.7</td>\n",
       "      <td>48.328301</td>\n",
       "      <td>36199.40</td>\n",
       "      <td>United States</td>\n",
       "    </tr>\n",
       "    <tr>\n",
       "      <th>89</th>\n",
       "      <td>12/31/2018</td>\n",
       "      <td>39685</td>\n",
       "      <td>11.09</td>\n",
       "      <td>31.0</td>\n",
       "      <td>20.7</td>\n",
       "      <td>48.932846</td>\n",
       "      <td>39477.17</td>\n",
       "      <td>United States</td>\n",
       "    </tr>\n",
       "    <tr>\n",
       "      <th>41</th>\n",
       "      <td>12/31/2019</td>\n",
       "      <td>42085</td>\n",
       "      <td>10.77</td>\n",
       "      <td>32.0</td>\n",
       "      <td>19.9</td>\n",
       "      <td>49.048354</td>\n",
       "      <td>41885.06</td>\n",
       "      <td>United States</td>\n",
       "    </tr>\n",
       "  </tbody>\n",
       "</table>\n",
       "</div>"
      ],
      "text/plain": [
       "            Year  Waitlist  Diabetes  Obesity  Overdose      Pct_O  Total_Adj  \\\n",
       "1193  12/31/1995     17589      4.98     15.0       5.5  47.683211   17393.76   \n",
       "1145  12/31/1996     18067      5.23     15.0       5.5  48.259257   17850.20   \n",
       "1097  12/31/1997     18780      5.52     16.0       5.7  48.109691   18543.37   \n",
       "1049  12/31/1998     19892      5.80     17.0       5.9  48.270662   19639.37   \n",
       "1001  12/31/1999     22356      6.09     18.0       6.1  47.897656   22081.02   \n",
       "953   12/31/2000     22879      6.41     19.0       6.2  48.446173   22618.18   \n",
       "905   12/31/2001     22902      6.62     20.0       6.8  48.332023   22674.20   \n",
       "857   12/31/2002     24121      6.85     21.0       8.2  48.584221   23896.16   \n",
       "809   12/31/2003     25034      7.12     22.0       8.9  48.561956   24817.91   \n",
       "761   12/31/2004     27745      6.92     22.0       9.4  48.934943   27487.03   \n",
       "713   12/31/2005     29635      7.19     23.0      10.1  48.361734   29360.59   \n",
       "665   12/31/2006     31777      7.41     24.0      11.5  48.399786   31469.11   \n",
       "617   12/31/2007     33037      7.80     25.0      11.9  48.724158   32721.30   \n",
       "569   12/31/2008     33289      8.10     26.0      11.9  48.391360   32972.64   \n",
       "521   12/31/2009     34325      8.36     27.0      11.9  48.550619   34022.77   \n",
       "473   12/31/2010     35000      8.59     27.0      12.3  48.471429   34936.12   \n",
       "425   12/31/2011     34206      9.54     28.0      13.2  48.409636   33958.82   \n",
       "377   12/31/2012     35577      9.72     28.0      13.1  48.677516   35317.32   \n",
       "329   12/31/2013     37204      9.81     29.0      13.8  48.430276   36947.61   \n",
       "281   12/31/2014     36974     10.13     29.0      14.7  48.550333   36704.03   \n",
       "233   12/31/2015     35828     10.12     29.0      16.3  48.467679   35565.27   \n",
       "185   12/31/2016     36244     10.41     30.0      19.8  49.282640   35983.32   \n",
       "137   12/31/2017     36430     10.51     31.0      21.7  48.328301   36199.40   \n",
       "89    12/31/2018     39685     11.09     31.0      20.7  48.932846   39477.17   \n",
       "41    12/31/2019     42085     10.77     32.0      19.9  49.048354   41885.06   \n",
       "\n",
       "              State  \n",
       "1193  United States  \n",
       "1145  United States  \n",
       "1097  United States  \n",
       "1049  United States  \n",
       "1001  United States  \n",
       "953   United States  \n",
       "905   United States  \n",
       "857   United States  \n",
       "809   United States  \n",
       "761   United States  \n",
       "713   United States  \n",
       "665   United States  \n",
       "617   United States  \n",
       "569   United States  \n",
       "521   United States  \n",
       "473   United States  \n",
       "425   United States  \n",
       "377   United States  \n",
       "329   United States  \n",
       "281   United States  \n",
       "233   United States  \n",
       "185   United States  \n",
       "137   United States  \n",
       "89    United States  \n",
       "41    United States  "
      ]
     },
     "execution_count": 120,
     "metadata": {},
     "output_type": "execute_result"
    }
   ],
   "source": [
    "df\n"
   ]
  },
  {
   "cell_type": "code",
   "execution_count": 121,
   "metadata": {
    "scrolled": true
   },
   "outputs": [
    {
     "ename": "IndentationError",
     "evalue": "unexpected indent (<ipython-input-121-493aa5db8a32>, line 6)",
     "output_type": "error",
     "traceback": [
      "\u001b[1;36m  File \u001b[1;32m\"<ipython-input-121-493aa5db8a32>\"\u001b[1;36m, line \u001b[1;32m6\u001b[0m\n\u001b[1;33m    orientation='portrait', format=None,\u001b[0m\n\u001b[1;37m    ^\u001b[0m\n\u001b[1;31mIndentationError\u001b[0m\u001b[1;31m:\u001b[0m unexpected indent\n"
     ]
    }
   ],
   "source": [
    "sns.regplot(X[('Diabetes')],y)\n",
    "plt.title('Diabetes % vs. Waitlist')\n",
    "plt.xlabel('Diabetes %')\n",
    "plt.ylabel('Kidney Waitlist through Time')\n",
    "#plt.savefig('images/United States_diabetes.png', dpi=100, facecolor='w', edgecolor='w',\n",
    "        orientation='portrait', format=None,\n",
    "        transparent=False, bbox_inches=None, pad_inches=0.2, metadata=None)"
   ]
  },
  {
   "cell_type": "code",
   "execution_count": 122,
   "metadata": {},
   "outputs": [
    {
     "ename": "IndentationError",
     "evalue": "unexpected indent (<ipython-input-122-df82b370e7da>, line 6)",
     "output_type": "error",
     "traceback": [
      "\u001b[1;36m  File \u001b[1;32m\"<ipython-input-122-df82b370e7da>\"\u001b[1;36m, line \u001b[1;32m6\u001b[0m\n\u001b[1;33m    orientation='portrait', format=None,\u001b[0m\n\u001b[1;37m    ^\u001b[0m\n\u001b[1;31mIndentationError\u001b[0m\u001b[1;31m:\u001b[0m unexpected indent\n"
     ]
    }
   ],
   "source": [
    "sns.regplot(X[('Obesity')],y)\n",
    "plt.title('Obesity % vs. Waitlist')\n",
    "plt.xlabel('Obesity %')\n",
    "plt.ylabel('Kidney Waitlist through Time')\n",
    "#plt.savefig('images/United States_obesity.png', dpi=100, facecolor='w', edgecolor='w',\n",
    "        orientation='portrait', format=None,\n",
    "        transparent=False, bbox_inches=None, pad_inches=0.2, metadata=None)"
   ]
  },
  {
   "cell_type": "code",
   "execution_count": 7,
   "metadata": {
    "scrolled": false
   },
   "outputs": [
    {
     "ename": "IndentationError",
     "evalue": "unexpected indent (<ipython-input-7-9ee316a35ba4>, line 6)",
     "output_type": "error",
     "traceback": [
      "\u001b[1;36m  File \u001b[1;32m\"<ipython-input-7-9ee316a35ba4>\"\u001b[1;36m, line \u001b[1;32m6\u001b[0m\n\u001b[1;33m    orientation='portrait', format=None,\u001b[0m\n\u001b[1;37m    ^\u001b[0m\n\u001b[1;31mIndentationError\u001b[0m\u001b[1;31m:\u001b[0m unexpected indent\n"
     ]
    }
   ],
   "source": [
    "sns.regplot(X[('Overdose')],y)\n",
    "plt.xlabel('Overdose rate per 100k')\n",
    "plt.title('Overdoses rate per 100k vs. Waitlist')\n",
    "plt.ylabel('Kidney Waitlist through Time')\n",
    "#plt.savefig('images/United States_overdose.png', dpi=100, facecolor='w', edgecolor='w',\n",
    "        orientation='portrait', format=None,\n",
    "        transparent=False, bbox_inches=None, pad_inches=0.2, metadata=None)"
   ]
  },
  {
   "cell_type": "code",
   "execution_count": 8,
   "metadata": {},
   "outputs": [
    {
     "ename": "IndentationError",
     "evalue": "unexpected indent (<ipython-input-8-5d5ee31ce4e8>, line 6)",
     "output_type": "error",
     "traceback": [
      "\u001b[1;36m  File \u001b[1;32m\"<ipython-input-8-5d5ee31ce4e8>\"\u001b[1;36m, line \u001b[1;32m6\u001b[0m\n\u001b[1;33m    orientation='portrait', format=None,\u001b[0m\n\u001b[1;37m    ^\u001b[0m\n\u001b[1;31mIndentationError\u001b[0m\u001b[1;31m:\u001b[0m unexpected indent\n"
     ]
    }
   ],
   "source": [
    "sns.regplot(X[('Pct_O')],y)\n",
    "plt.xlabel('Percent O Blood-Type')\n",
    "plt.title('Percent O Blood-Type vs. Waitlist')\n",
    "plt.ylabel('Kidney Waitlist through Time')\n",
    "#plt.savefig('images/United States_pct_O.png', dpi=100, facecolor='w', edgecolor='w',\n",
    "        orientation='portrait', format=None,\n",
    "        transparent=False, bbox_inches=None, pad_inches=0.2, metadata=None)"
   ]
  },
  {
   "cell_type": "code",
   "execution_count": 9,
   "metadata": {
    "scrolled": true
   },
   "outputs": [
    {
     "ename": "NameError",
     "evalue": "name 'X' is not defined",
     "output_type": "error",
     "traceback": [
      "\u001b[1;31m---------------------------------------------------------------------------\u001b[0m",
      "\u001b[1;31mNameError\u001b[0m                                 Traceback (most recent call last)",
      "\u001b[1;32m<ipython-input-9-a1b421079547>\u001b[0m in \u001b[0;36m<module>\u001b[1;34m\u001b[0m\n\u001b[1;32m----> 1\u001b[1;33m \u001b[0msns\u001b[0m\u001b[1;33m.\u001b[0m\u001b[0mregplot\u001b[0m\u001b[1;33m(\u001b[0m\u001b[0mX\u001b[0m\u001b[1;33m[\u001b[0m\u001b[1;33m(\u001b[0m\u001b[1;34m'Diabetes'\u001b[0m\u001b[1;33m)\u001b[0m\u001b[1;33m]\u001b[0m\u001b[1;33m,\u001b[0m\u001b[0my\u001b[0m\u001b[1;33m)\u001b[0m\u001b[1;33m\u001b[0m\u001b[1;33m\u001b[0m\u001b[0m\n\u001b[0m\u001b[0;32m      2\u001b[0m \u001b[0msns\u001b[0m\u001b[1;33m.\u001b[0m\u001b[0mregplot\u001b[0m\u001b[1;33m(\u001b[0m\u001b[0mX\u001b[0m\u001b[1;33m[\u001b[0m\u001b[1;33m(\u001b[0m\u001b[1;34m'Obesity'\u001b[0m\u001b[1;33m)\u001b[0m\u001b[1;33m]\u001b[0m\u001b[1;33m,\u001b[0m\u001b[0my\u001b[0m\u001b[1;33m)\u001b[0m\u001b[1;33m\u001b[0m\u001b[1;33m\u001b[0m\u001b[0m\n\u001b[0;32m      3\u001b[0m \u001b[0msns\u001b[0m\u001b[1;33m.\u001b[0m\u001b[0mregplot\u001b[0m\u001b[1;33m(\u001b[0m\u001b[0mX\u001b[0m\u001b[1;33m[\u001b[0m\u001b[1;33m(\u001b[0m\u001b[1;34m'Overdose'\u001b[0m\u001b[1;33m)\u001b[0m\u001b[1;33m]\u001b[0m\u001b[1;33m,\u001b[0m\u001b[0my\u001b[0m\u001b[1;33m)\u001b[0m\u001b[1;33m\u001b[0m\u001b[1;33m\u001b[0m\u001b[0m\n\u001b[0;32m      4\u001b[0m \u001b[0msns\u001b[0m\u001b[1;33m.\u001b[0m\u001b[0mregplot\u001b[0m\u001b[1;33m(\u001b[0m\u001b[0mX\u001b[0m\u001b[1;33m[\u001b[0m\u001b[1;33m(\u001b[0m\u001b[1;34m'Pct_O'\u001b[0m\u001b[1;33m)\u001b[0m\u001b[1;33m]\u001b[0m\u001b[1;33m,\u001b[0m\u001b[0my\u001b[0m\u001b[1;33m)\u001b[0m\u001b[1;33m\u001b[0m\u001b[1;33m\u001b[0m\u001b[0m\n",
      "\u001b[1;31mNameError\u001b[0m: name 'X' is not defined"
     ]
    }
   ],
   "source": [
    "sns.regplot(X[('Diabetes')],y)\n",
    "sns.regplot(X[('Obesity')],y)\n",
    "sns.regplot(X[('Overdose')],y)\n",
    "sns.regplot(X[('Pct_O')],y)"
   ]
  },
  {
   "cell_type": "code",
   "execution_count": 10,
   "metadata": {},
   "outputs": [
    {
     "ename": "NameError",
     "evalue": "name 'X' is not defined",
     "output_type": "error",
     "traceback": [
      "\u001b[1;31m---------------------------------------------------------------------------\u001b[0m",
      "\u001b[1;31mNameError\u001b[0m                                 Traceback (most recent call last)",
      "\u001b[1;32m<ipython-input-10-75d0a68f3fda>\u001b[0m in \u001b[0;36m<module>\u001b[1;34m\u001b[0m\n\u001b[1;32m----> 1\u001b[1;33m \u001b[0mcoefficients\u001b[0m \u001b[1;33m=\u001b[0m \u001b[0mpd\u001b[0m\u001b[1;33m.\u001b[0m\u001b[0mconcat\u001b[0m\u001b[1;33m(\u001b[0m\u001b[1;33m[\u001b[0m\u001b[0mpd\u001b[0m\u001b[1;33m.\u001b[0m\u001b[0mDataFrame\u001b[0m\u001b[1;33m(\u001b[0m\u001b[0mX\u001b[0m\u001b[1;33m.\u001b[0m\u001b[0mcolumns\u001b[0m\u001b[1;33m)\u001b[0m\u001b[1;33m,\u001b[0m\u001b[0mpd\u001b[0m\u001b[1;33m.\u001b[0m\u001b[0mDataFrame\u001b[0m\u001b[1;33m(\u001b[0m\u001b[0mnp\u001b[0m\u001b[1;33m.\u001b[0m\u001b[0mtranspose\u001b[0m\u001b[1;33m(\u001b[0m\u001b[0mmodel\u001b[0m\u001b[1;33m.\u001b[0m\u001b[0mcoef_\u001b[0m\u001b[1;33m)\u001b[0m\u001b[1;33m)\u001b[0m\u001b[1;33m]\u001b[0m\u001b[1;33m,\u001b[0m \u001b[0maxis\u001b[0m \u001b[1;33m=\u001b[0m \u001b[1;36m1\u001b[0m\u001b[1;33m)\u001b[0m\u001b[1;33m\u001b[0m\u001b[1;33m\u001b[0m\u001b[0m\n\u001b[0m\u001b[0;32m      2\u001b[0m \u001b[0mcoefficients_transposed\u001b[0m \u001b[1;33m=\u001b[0m \u001b[0mcoefficients\u001b[0m\u001b[1;33m.\u001b[0m\u001b[0mT\u001b[0m\u001b[1;33m\u001b[0m\u001b[1;33m\u001b[0m\u001b[0m\n\u001b[0;32m      3\u001b[0m \u001b[0mcoefficients_transposed\u001b[0m\u001b[1;33m\u001b[0m\u001b[1;33m\u001b[0m\u001b[0m\n\u001b[0;32m      4\u001b[0m \u001b[0mcoefficients_final\u001b[0m \u001b[1;33m=\u001b[0m \u001b[0mcoefficients_transposed\u001b[0m\u001b[1;33m[\u001b[0m\u001b[1;36m1\u001b[0m\u001b[1;33m:\u001b[0m\u001b[1;33m]\u001b[0m\u001b[1;33m\u001b[0m\u001b[1;33m\u001b[0m\u001b[0m\n\u001b[0;32m      5\u001b[0m \u001b[0mcoefficients_final\u001b[0m\u001b[1;33m\u001b[0m\u001b[1;33m\u001b[0m\u001b[0m\n",
      "\u001b[1;31mNameError\u001b[0m: name 'X' is not defined"
     ]
    }
   ],
   "source": [
    "coefficients = pd.concat([pd.DataFrame(X.columns),pd.DataFrame(np.transpose(model.coef_))], axis = 1)\n",
    "coefficients_transposed = coefficients.T\n",
    "coefficients_transposed\n",
    "coefficients_final = coefficients_transposed[1:]\n",
    "coefficients_final"
   ]
  },
  {
   "cell_type": "code",
   "execution_count": 11,
   "metadata": {
    "scrolled": false
   },
   "outputs": [
    {
     "ename": "NameError",
     "evalue": "name 'r_sq' is not defined",
     "output_type": "error",
     "traceback": [
      "\u001b[1;31m---------------------------------------------------------------------------\u001b[0m",
      "\u001b[1;31mNameError\u001b[0m                                 Traceback (most recent call last)",
      "\u001b[1;32m<ipython-input-11-0ec46f5a6c30>\u001b[0m in \u001b[0;36m<module>\u001b[1;34m\u001b[0m\n\u001b[1;32m----> 1\u001b[1;33m \u001b[0mtest_df\u001b[0m \u001b[1;33m=\u001b[0m \u001b[0mpd\u001b[0m\u001b[1;33m.\u001b[0m\u001b[0mDataFrame\u001b[0m\u001b[1;33m(\u001b[0m\u001b[1;33m[\u001b[0m\u001b[1;33m[\u001b[0m\u001b[0mr_sq\u001b[0m\u001b[1;33m,\u001b[0m\u001b[0mtraining_score\u001b[0m\u001b[1;33m,\u001b[0m\u001b[0mtesting_score\u001b[0m\u001b[1;33m,\u001b[0m\u001b[0mmodel\u001b[0m\u001b[1;33m.\u001b[0m\u001b[0mintercept_\u001b[0m \u001b[1;33m,\u001b[0m\u001b[0mpredictedTotal_Adj\u001b[0m\u001b[1;33m]\u001b[0m\u001b[1;33m]\u001b[0m\u001b[1;33m)\u001b[0m\u001b[1;33m\u001b[0m\u001b[1;33m\u001b[0m\u001b[0m\n\u001b[0m\u001b[0;32m      2\u001b[0m \u001b[0mtest_df\u001b[0m\u001b[1;33m\u001b[0m\u001b[1;33m\u001b[0m\u001b[0m\n",
      "\u001b[1;31mNameError\u001b[0m: name 'r_sq' is not defined"
     ]
    }
   ],
   "source": [
    "test_df = pd.DataFrame([[r_sq,training_score,testing_score,model.intercept_ ,predictedTotal_Adj]])\n",
    "test_df"
   ]
  },
  {
   "cell_type": "code",
   "execution_count": 12,
   "metadata": {},
   "outputs": [],
   "source": [
    "#dfi.export(test_df, 'test_df.png')"
   ]
  },
  {
   "cell_type": "code",
   "execution_count": 13,
   "metadata": {
    "scrolled": true
   },
   "outputs": [
    {
     "ename": "NameError",
     "evalue": "name 'test_df' is not defined",
     "output_type": "error",
     "traceback": [
      "\u001b[1;31m---------------------------------------------------------------------------\u001b[0m",
      "\u001b[1;31mNameError\u001b[0m                                 Traceback (most recent call last)",
      "\u001b[1;32m<ipython-input-13-3f09d8ccf5c9>\u001b[0m in \u001b[0;36m<module>\u001b[1;34m\u001b[0m\n\u001b[1;32m----> 1\u001b[1;33m \u001b[0msummary_df\u001b[0m \u001b[1;33m=\u001b[0m \u001b[0mpd\u001b[0m\u001b[1;33m.\u001b[0m\u001b[0mconcat\u001b[0m\u001b[1;33m(\u001b[0m\u001b[1;33m[\u001b[0m\u001b[0mtest_df\u001b[0m\u001b[1;33m,\u001b[0m \u001b[0mlastyear_df\u001b[0m\u001b[1;33m,\u001b[0m \u001b[0mcoefficients_final\u001b[0m\u001b[1;33m]\u001b[0m\u001b[1;33m,\u001b[0m \u001b[0maxis\u001b[0m\u001b[1;33m=\u001b[0m\u001b[1;36m1\u001b[0m\u001b[1;33m)\u001b[0m\u001b[1;33m\u001b[0m\u001b[1;33m\u001b[0m\u001b[0m\n\u001b[0m\u001b[0;32m      2\u001b[0m \u001b[0msummary_df\u001b[0m\u001b[1;33m.\u001b[0m\u001b[0mcolumns\u001b[0m \u001b[1;33m=\u001b[0m \u001b[1;33m[\u001b[0m\u001b[1;34m'R2'\u001b[0m\u001b[1;33m,\u001b[0m\u001b[1;34m'Training Score'\u001b[0m\u001b[1;33m,\u001b[0m \u001b[1;34m'Test Score'\u001b[0m\u001b[1;33m,\u001b[0m \u001b[1;34m'Intercept'\u001b[0m\u001b[1;33m,\u001b[0m\u001b[1;34m'Forecast based on Natl Avg'\u001b[0m\u001b[1;33m,\u001b[0m\u001b[1;34m'Last Waitlist'\u001b[0m\u001b[1;33m,\u001b[0m\u001b[1;34m'Coef_Diabetes'\u001b[0m\u001b[1;33m,\u001b[0m\u001b[1;34m'Coef_Obesity'\u001b[0m\u001b[1;33m,\u001b[0m\u001b[1;34m'Coef_Overdose'\u001b[0m\u001b[1;33m,\u001b[0m\u001b[1;34m'Coef_Pct_O'\u001b[0m\u001b[1;33m]\u001b[0m\u001b[1;33m\u001b[0m\u001b[1;33m\u001b[0m\u001b[0m\n",
      "\u001b[1;31mNameError\u001b[0m: name 'test_df' is not defined"
     ]
    }
   ],
   "source": [
    "summary_df = pd.concat([test_df, lastyear_df, coefficients_final], axis=1)\n",
    "summary_df.columns = ['R2','Training Score', 'Test Score', 'Intercept','Forecast based on Natl Avg','Last Waitlist','Coef_Diabetes','Coef_Obesity','Coef_Overdose','Coef_Pct_O']"
   ]
  },
  {
   "cell_type": "code",
   "execution_count": 130,
   "metadata": {
    "scrolled": true
   },
   "outputs": [
    {
     "data": {
      "text/html": [
       "<div>\n",
       "<style scoped>\n",
       "    .dataframe tbody tr th:only-of-type {\n",
       "        vertical-align: middle;\n",
       "    }\n",
       "\n",
       "    .dataframe tbody tr th {\n",
       "        vertical-align: top;\n",
       "    }\n",
       "\n",
       "    .dataframe thead th {\n",
       "        text-align: right;\n",
       "    }\n",
       "</style>\n",
       "<table border=\"1\" class=\"dataframe\">\n",
       "  <thead>\n",
       "    <tr style=\"text-align: right;\">\n",
       "      <th></th>\n",
       "      <th>R2</th>\n",
       "      <th>Training Score</th>\n",
       "      <th>Test Score</th>\n",
       "      <th>Intercept</th>\n",
       "      <th>Forecast based on Natl Avg</th>\n",
       "      <th>Last Waitlist</th>\n",
       "      <th>Coef_Diabetes</th>\n",
       "      <th>Coef_Obesity</th>\n",
       "      <th>Coef_Overdose</th>\n",
       "      <th>Coef_Pct_O</th>\n",
       "    </tr>\n",
       "  </thead>\n",
       "  <tbody>\n",
       "    <tr>\n",
       "      <th>0</th>\n",
       "      <td>0.975181</td>\n",
       "      <td>0.981664</td>\n",
       "      <td>0.953889</td>\n",
       "      <td>[-27088.369451660565]</td>\n",
       "      <td>[[40026.95890383248]]</td>\n",
       "      <td>41885.06</td>\n",
       "      <td>-849.66</td>\n",
       "      <td>1880.21</td>\n",
       "      <td>-290.466</td>\n",
       "      <td>446.527</td>\n",
       "    </tr>\n",
       "  </tbody>\n",
       "</table>\n",
       "</div>"
      ],
      "text/plain": [
       "         R2  Training Score  Test Score              Intercept  \\\n",
       "0  0.975181        0.981664    0.953889  [-27088.369451660565]   \n",
       "\n",
       "  Forecast based on Natl Avg  Last Waitlist Coef_Diabetes Coef_Obesity  \\\n",
       "0      [[40026.95890383248]]       41885.06       -849.66      1880.21   \n",
       "\n",
       "  Coef_Overdose Coef_Pct_O  \n",
       "0      -290.466    446.527  "
      ]
     },
     "execution_count": 130,
     "metadata": {},
     "output_type": "execute_result"
    }
   ],
   "source": [
    "summary_df"
   ]
  },
  {
   "cell_type": "code",
   "execution_count": 131,
   "metadata": {
    "scrolled": true
   },
   "outputs": [
    {
     "data": {
      "text/plain": [
       "R2                            float64\n",
       "Training Score                float64\n",
       "Test Score                    float64\n",
       "Intercept                      object\n",
       "Forecast based on Natl Avg     object\n",
       "Last Waitlist                 float64\n",
       "Coef_Diabetes                  object\n",
       "Coef_Obesity                   object\n",
       "Coef_Overdose                  object\n",
       "Coef_Pct_O                     object\n",
       "dtype: object"
      ]
     },
     "execution_count": 131,
     "metadata": {},
     "output_type": "execute_result"
    }
   ],
   "source": [
    "summary_df.dtypes"
   ]
  },
  {
   "cell_type": "code",
   "execution_count": 132,
   "metadata": {
    "scrolled": false
   },
   "outputs": [
    {
     "data": {
      "text/html": [
       "<div>\n",
       "<style scoped>\n",
       "    .dataframe tbody tr th:only-of-type {\n",
       "        vertical-align: middle;\n",
       "    }\n",
       "\n",
       "    .dataframe tbody tr th {\n",
       "        vertical-align: top;\n",
       "    }\n",
       "\n",
       "    .dataframe thead th {\n",
       "        text-align: right;\n",
       "    }\n",
       "</style>\n",
       "<table border=\"1\" class=\"dataframe\">\n",
       "  <thead>\n",
       "    <tr style=\"text-align: right;\">\n",
       "      <th></th>\n",
       "      <th>R2</th>\n",
       "      <th>Training Score</th>\n",
       "      <th>Test Score</th>\n",
       "      <th>Intercept</th>\n",
       "      <th>Forecast based on Natl Avg</th>\n",
       "      <th>Last Waitlist</th>\n",
       "      <th>Coef_Diabetes</th>\n",
       "      <th>Coef_Obesity</th>\n",
       "      <th>Coef_Overdose</th>\n",
       "      <th>Coef_Pct_O</th>\n",
       "    </tr>\n",
       "  </thead>\n",
       "  <tbody>\n",
       "    <tr>\n",
       "      <th>0</th>\n",
       "      <td>0.975181</td>\n",
       "      <td>0.981664</td>\n",
       "      <td>0.953889</td>\n",
       "      <td>[-27088.369451660565]</td>\n",
       "      <td>[[40026.95890383248]]</td>\n",
       "      <td>41885.06</td>\n",
       "      <td>-849.66</td>\n",
       "      <td>1880.21</td>\n",
       "      <td>-290.466</td>\n",
       "      <td>446.527</td>\n",
       "    </tr>\n",
       "  </tbody>\n",
       "</table>\n",
       "</div>"
      ],
      "text/plain": [
       "         R2  Training Score  Test Score              Intercept  \\\n",
       "0  0.975181        0.981664    0.953889  [-27088.369451660565]   \n",
       "\n",
       "  Forecast based on Natl Avg  Last Waitlist Coef_Diabetes Coef_Obesity  \\\n",
       "0      [[40026.95890383248]]       41885.06       -849.66      1880.21   \n",
       "\n",
       "  Coef_Overdose Coef_Pct_O  \n",
       "0      -290.466    446.527  "
      ]
     },
     "execution_count": 132,
     "metadata": {},
     "output_type": "execute_result"
    }
   ],
   "source": [
    "summary_df"
   ]
  },
  {
   "cell_type": "code",
   "execution_count": 133,
   "metadata": {
    "scrolled": true
   },
   "outputs": [],
   "source": [
    "summary_df['Intercept'] = summary_df['Intercept'].astype(int)\n",
    "summary_df['Forecast based on Natl Avg'] = summary_df['Forecast based on Natl Avg'].astype(int)\n",
    "summary_df['R2'] = summary_df['R2'].round(decimals=4)\n",
    "summary_df['Training Score'] = summary_df['Training Score'].round(decimals=4)\n",
    "summary_df['Test Score'] = summary_df['Test Score'].round(decimals=4)\n",
    "summary_df = summary_df[['R2','Training Score','Test Score','Intercept','Coef_Diabetes','Coef_Obesity','Coef_Overdose','Coef_Pct_O','Last Waitlist','Forecast based on Natl Avg']]\n",
    "#dfi.export(summary_df, 'images/United States_summary.png')"
   ]
  },
  {
   "cell_type": "code",
   "execution_count": 134,
   "metadata": {
    "scrolled": false
   },
   "outputs": [
    {
     "data": {
      "text/html": [
       "<div>\n",
       "<style scoped>\n",
       "    .dataframe tbody tr th:only-of-type {\n",
       "        vertical-align: middle;\n",
       "    }\n",
       "\n",
       "    .dataframe tbody tr th {\n",
       "        vertical-align: top;\n",
       "    }\n",
       "\n",
       "    .dataframe thead th {\n",
       "        text-align: right;\n",
       "    }\n",
       "</style>\n",
       "<table border=\"1\" class=\"dataframe\">\n",
       "  <thead>\n",
       "    <tr style=\"text-align: right;\">\n",
       "      <th></th>\n",
       "      <th>R2</th>\n",
       "      <th>Training Score</th>\n",
       "      <th>Test Score</th>\n",
       "      <th>Intercept</th>\n",
       "      <th>Coef_Diabetes</th>\n",
       "      <th>Coef_Obesity</th>\n",
       "      <th>Coef_Overdose</th>\n",
       "      <th>Coef_Pct_O</th>\n",
       "      <th>Last Waitlist</th>\n",
       "      <th>Forecast based on Natl Avg</th>\n",
       "    </tr>\n",
       "  </thead>\n",
       "  <tbody>\n",
       "    <tr>\n",
       "      <th>0</th>\n",
       "      <td>0.9752</td>\n",
       "      <td>0.9817</td>\n",
       "      <td>0.9539</td>\n",
       "      <td>-27088</td>\n",
       "      <td>-849.66</td>\n",
       "      <td>1880.21</td>\n",
       "      <td>-290.466</td>\n",
       "      <td>446.527</td>\n",
       "      <td>41885.06</td>\n",
       "      <td>40026</td>\n",
       "    </tr>\n",
       "  </tbody>\n",
       "</table>\n",
       "</div>"
      ],
      "text/plain": [
       "       R2  Training Score  Test Score  Intercept Coef_Diabetes Coef_Obesity  \\\n",
       "0  0.9752          0.9817      0.9539     -27088       -849.66      1880.21   \n",
       "\n",
       "  Coef_Overdose Coef_Pct_O  Last Waitlist  Forecast based on Natl Avg  \n",
       "0      -290.466    446.527       41885.06                       40026  "
      ]
     },
     "execution_count": 134,
     "metadata": {},
     "output_type": "execute_result"
    }
   ],
   "source": [
    "summary_df"
   ]
  },
  {
   "cell_type": "code",
   "execution_count": 135,
   "metadata": {
    "scrolled": true
   },
   "outputs": [
    {
     "data": {
      "text/html": [
       "<style  type=\"text/css\" >\n",
       "#T_56fdde7a_5ba6_11eb_b41c_c03eba874a93row0_col0,#T_56fdde7a_5ba6_11eb_b41c_c03eba874a93row0_col1,#T_56fdde7a_5ba6_11eb_b41c_c03eba874a93row0_col2,#T_56fdde7a_5ba6_11eb_b41c_c03eba874a93row0_col3,#T_56fdde7a_5ba6_11eb_b41c_c03eba874a93row0_col4,#T_56fdde7a_5ba6_11eb_b41c_c03eba874a93row0_col5,#T_56fdde7a_5ba6_11eb_b41c_c03eba874a93row0_col6,#T_56fdde7a_5ba6_11eb_b41c_c03eba874a93row0_col7,#T_56fdde7a_5ba6_11eb_b41c_c03eba874a93row0_col8,#T_56fdde7a_5ba6_11eb_b41c_c03eba874a93row0_col9{\n",
       "            background-color:  black;\n",
       "            color:  lawngreen;\n",
       "            border-color:  white;\n",
       "        }</style><table id=\"T_56fdde7a_5ba6_11eb_b41c_c03eba874a93\" ><thead>    <tr>        <th class=\"blank level0\" ></th>        <th class=\"col_heading level0 col0\" >R2</th>        <th class=\"col_heading level0 col1\" >Training Score</th>        <th class=\"col_heading level0 col2\" >Test Score</th>        <th class=\"col_heading level0 col3\" >Intercept</th>        <th class=\"col_heading level0 col4\" >Coef_Diabetes</th>        <th class=\"col_heading level0 col5\" >Coef_Obesity</th>        <th class=\"col_heading level0 col6\" >Coef_Overdose</th>        <th class=\"col_heading level0 col7\" >Coef_Pct_O</th>        <th class=\"col_heading level0 col8\" >Last Waitlist</th>        <th class=\"col_heading level0 col9\" >Forecast based on Natl Avg</th>    </tr></thead><tbody>\n",
       "                <tr>\n",
       "                        <th id=\"T_56fdde7a_5ba6_11eb_b41c_c03eba874a93level0_row0\" class=\"row_heading level0 row0\" >0</th>\n",
       "                        <td id=\"T_56fdde7a_5ba6_11eb_b41c_c03eba874a93row0_col0\" class=\"data row0 col0\" >0.975200</td>\n",
       "                        <td id=\"T_56fdde7a_5ba6_11eb_b41c_c03eba874a93row0_col1\" class=\"data row0 col1\" >0.981700</td>\n",
       "                        <td id=\"T_56fdde7a_5ba6_11eb_b41c_c03eba874a93row0_col2\" class=\"data row0 col2\" >0.953900</td>\n",
       "                        <td id=\"T_56fdde7a_5ba6_11eb_b41c_c03eba874a93row0_col3\" class=\"data row0 col3\" >-27088</td>\n",
       "                        <td id=\"T_56fdde7a_5ba6_11eb_b41c_c03eba874a93row0_col4\" class=\"data row0 col4\" >-849.660294</td>\n",
       "                        <td id=\"T_56fdde7a_5ba6_11eb_b41c_c03eba874a93row0_col5\" class=\"data row0 col5\" >1880.207442</td>\n",
       "                        <td id=\"T_56fdde7a_5ba6_11eb_b41c_c03eba874a93row0_col6\" class=\"data row0 col6\" >-290.466278</td>\n",
       "                        <td id=\"T_56fdde7a_5ba6_11eb_b41c_c03eba874a93row0_col7\" class=\"data row0 col7\" >446.526745</td>\n",
       "                        <td id=\"T_56fdde7a_5ba6_11eb_b41c_c03eba874a93row0_col8\" class=\"data row0 col8\" >41885.060000</td>\n",
       "                        <td id=\"T_56fdde7a_5ba6_11eb_b41c_c03eba874a93row0_col9\" class=\"data row0 col9\" >40026</td>\n",
       "            </tr>\n",
       "    </tbody></table>"
      ],
      "text/plain": [
       "<pandas.io.formats.style.Styler at 0x1f43bd68608>"
      ]
     },
     "execution_count": 135,
     "metadata": {},
     "output_type": "execute_result"
    }
   ],
   "source": [
    "summaryalt_df = summary_df.style.set_properties(**{'background-color': 'black','color': 'lawngreen','border-color': 'white'})\n",
    "summaryalt_df"
   ]
  },
  {
   "cell_type": "code",
   "execution_count": null,
   "metadata": {},
   "outputs": [],
   "source": []
  }
 ],
 "metadata": {
  "kernelspec": {
   "display_name": "Python 3.7.6 64-bit ('base')",
   "language": "python",
   "name": "python37664bitbase4c4633b153a642f9891ab9f50584a414"
  },
  "language_info": {
   "codemirror_mode": {
    "name": "ipython",
    "version": 3
   },
   "file_extension": ".py",
   "mimetype": "text/x-python",
   "name": "python",
   "nbconvert_exporter": "python",
   "pygments_lexer": "ipython3",
   "version": "3.7.6"
  }
 },
 "nbformat": 4,
 "nbformat_minor": 2
}
