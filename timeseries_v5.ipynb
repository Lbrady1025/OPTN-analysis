{
 "cells": [
  {
   "cell_type": "code",
   "execution_count": 8,
   "metadata": {},
   "outputs": [],
   "source": [
    "#Import Dependencies\n",
    "%matplotlib inline\n",
    "import pandas as pd\n",
    "import numpy as np\n",
    "import statsmodels.api as sm\n",
    "from statsmodels.tsa.api import VAR\n",
    "import matplotlib.pyplot as plt\n",
    "from sklearn import linear_model\n",
    "from sklearn.linear_model import LinearRegression\n",
    "from sklearn.metrics import mean_squared_error, r2_score\n",
    "import dataframe_image as dfi\n",
    "from scipy import stats\n",
    "import seaborn as sns"
   ]
  },
  {
   "cell_type": "code",
   "execution_count": 9,
   "metadata": {},
   "outputs": [
    {
     "data": {
      "text/html": [
       "<div>\n",
       "<style scoped>\n",
       "    .dataframe tbody tr th:only-of-type {\n",
       "        vertical-align: middle;\n",
       "    }\n",
       "\n",
       "    .dataframe tbody tr th {\n",
       "        vertical-align: top;\n",
       "    }\n",
       "\n",
       "    .dataframe thead th {\n",
       "        text-align: right;\n",
       "    }\n",
       "</style>\n",
       "<table border=\"1\" class=\"dataframe\">\n",
       "  <thead>\n",
       "    <tr style=\"text-align: right;\">\n",
       "      <th></th>\n",
       "      <th>Year</th>\n",
       "      <th>Waitlist</th>\n",
       "      <th>Diabetes</th>\n",
       "      <th>Obesity</th>\n",
       "      <th>Overdose</th>\n",
       "      <th>Pct_O</th>\n",
       "      <th>Total_Adj</th>\n",
       "      <th>State</th>\n",
       "    </tr>\n",
       "  </thead>\n",
       "  <tbody>\n",
       "    <tr>\n",
       "      <th>0</th>\n",
       "      <td>12/31/2019</td>\n",
       "      <td>488</td>\n",
       "      <td>14.0</td>\n",
       "      <td>36.1</td>\n",
       "      <td>17.30</td>\n",
       "      <td>0.504098</td>\n",
       "      <td>486.45</td>\n",
       "      <td>Alabama</td>\n",
       "    </tr>\n",
       "    <tr>\n",
       "      <th>1</th>\n",
       "      <td>12/31/2019</td>\n",
       "      <td>824</td>\n",
       "      <td>10.9</td>\n",
       "      <td>36.1</td>\n",
       "      <td>23.00</td>\n",
       "      <td>0.509709</td>\n",
       "      <td>810.11</td>\n",
       "      <td>Arizona</td>\n",
       "    </tr>\n",
       "    <tr>\n",
       "      <th>2</th>\n",
       "      <td>12/31/2019</td>\n",
       "      <td>193</td>\n",
       "      <td>13.6</td>\n",
       "      <td>37.4</td>\n",
       "      <td>15.60</td>\n",
       "      <td>0.559585</td>\n",
       "      <td>192.48</td>\n",
       "      <td>Arkansas</td>\n",
       "    </tr>\n",
       "    <tr>\n",
       "      <th>3</th>\n",
       "      <td>12/31/2019</td>\n",
       "      <td>5566</td>\n",
       "      <td>10.1</td>\n",
       "      <td>26.2</td>\n",
       "      <td>12.25</td>\n",
       "      <td>0.512576</td>\n",
       "      <td>5558.86</td>\n",
       "      <td>California</td>\n",
       "    </tr>\n",
       "    <tr>\n",
       "      <th>4</th>\n",
       "      <td>12/31/2019</td>\n",
       "      <td>545</td>\n",
       "      <td>7.0</td>\n",
       "      <td>23.8</td>\n",
       "      <td>17.20</td>\n",
       "      <td>0.473394</td>\n",
       "      <td>538.54</td>\n",
       "      <td>Colorado</td>\n",
       "    </tr>\n",
       "  </tbody>\n",
       "</table>\n",
       "</div>"
      ],
      "text/plain": [
       "         Year  Waitlist  Diabetes  Obesity  Overdose     Pct_O  Total_Adj  \\\n",
       "0  12/31/2019       488      14.0     36.1     17.30  0.504098     486.45   \n",
       "1  12/31/2019       824      10.9     36.1     23.00  0.509709     810.11   \n",
       "2  12/31/2019       193      13.6     37.4     15.60  0.559585     192.48   \n",
       "3  12/31/2019      5566      10.1     26.2     12.25  0.512576    5558.86   \n",
       "4  12/31/2019       545       7.0     23.8     17.20  0.473394     538.54   \n",
       "\n",
       "        State  \n",
       "0     Alabama  \n",
       "1     Arizona  \n",
       "2    Arkansas  \n",
       "3  California  \n",
       "4    Colorado  "
      ]
     },
     "execution_count": 9,
     "metadata": {},
     "output_type": "execute_result"
    }
   ],
   "source": [
    "# Load dataset\n",
    "df = pd.read_csv('Final_data.csv')\n",
    "df.head()"
   ]
  },
  {
   "cell_type": "code",
   "execution_count": 11,
   "metadata": {
    "scrolled": true
   },
   "outputs": [
    {
     "ename": "ValueError",
     "evalue": "('Lengths must match to compare', (1200,), (1,))",
     "output_type": "error",
     "traceback": [
      "\u001b[1;31m---------------------------------------------------------------------------\u001b[0m",
      "\u001b[1;31mValueError\u001b[0m                                Traceback (most recent call last)",
      "\u001b[1;32m<ipython-input-11-473ff8937279>\u001b[0m in \u001b[0;36m<module>\u001b[1;34m\u001b[0m\n\u001b[1;32m----> 1\u001b[1;33m \u001b[0mdf\u001b[0m \u001b[1;33m=\u001b[0m \u001b[0mdf\u001b[0m\u001b[1;33m.\u001b[0m\u001b[0mloc\u001b[0m\u001b[1;33m[\u001b[0m\u001b[0mdf\u001b[0m\u001b[1;33m[\u001b[0m\u001b[1;34m'State'\u001b[0m\u001b[1;33m]\u001b[0m\u001b[1;33m==\u001b[0m\u001b[1;33m[\u001b[0m\u001b[1;34m'United States'\u001b[0m\u001b[1;33m]\u001b[0m\u001b[1;33m]\u001b[0m\u001b[1;33m\u001b[0m\u001b[1;33m\u001b[0m\u001b[0m\n\u001b[0m",
      "\u001b[1;32m~\\anaconda3\\lib\\site-packages\\pandas\\core\\ops\\common.py\u001b[0m in \u001b[0;36mnew_method\u001b[1;34m(self, other)\u001b[0m\n\u001b[0;32m     63\u001b[0m         \u001b[0mother\u001b[0m \u001b[1;33m=\u001b[0m \u001b[0mitem_from_zerodim\u001b[0m\u001b[1;33m(\u001b[0m\u001b[0mother\u001b[0m\u001b[1;33m)\u001b[0m\u001b[1;33m\u001b[0m\u001b[1;33m\u001b[0m\u001b[0m\n\u001b[0;32m     64\u001b[0m \u001b[1;33m\u001b[0m\u001b[0m\n\u001b[1;32m---> 65\u001b[1;33m         \u001b[1;32mreturn\u001b[0m \u001b[0mmethod\u001b[0m\u001b[1;33m(\u001b[0m\u001b[0mself\u001b[0m\u001b[1;33m,\u001b[0m \u001b[0mother\u001b[0m\u001b[1;33m)\u001b[0m\u001b[1;33m\u001b[0m\u001b[1;33m\u001b[0m\u001b[0m\n\u001b[0m\u001b[0;32m     66\u001b[0m \u001b[1;33m\u001b[0m\u001b[0m\n\u001b[0;32m     67\u001b[0m     \u001b[1;32mreturn\u001b[0m \u001b[0mnew_method\u001b[0m\u001b[1;33m\u001b[0m\u001b[1;33m\u001b[0m\u001b[0m\n",
      "\u001b[1;32m~\\anaconda3\\lib\\site-packages\\pandas\\core\\ops\\__init__.py\u001b[0m in \u001b[0;36mwrapper\u001b[1;34m(self, other)\u001b[0m\n\u001b[0;32m    368\u001b[0m         \u001b[0mrvalues\u001b[0m \u001b[1;33m=\u001b[0m \u001b[0mextract_array\u001b[0m\u001b[1;33m(\u001b[0m\u001b[0mother\u001b[0m\u001b[1;33m,\u001b[0m \u001b[0mextract_numpy\u001b[0m\u001b[1;33m=\u001b[0m\u001b[1;32mTrue\u001b[0m\u001b[1;33m)\u001b[0m\u001b[1;33m\u001b[0m\u001b[1;33m\u001b[0m\u001b[0m\n\u001b[0;32m    369\u001b[0m \u001b[1;33m\u001b[0m\u001b[0m\n\u001b[1;32m--> 370\u001b[1;33m         \u001b[0mres_values\u001b[0m \u001b[1;33m=\u001b[0m \u001b[0mcomparison_op\u001b[0m\u001b[1;33m(\u001b[0m\u001b[0mlvalues\u001b[0m\u001b[1;33m,\u001b[0m \u001b[0mrvalues\u001b[0m\u001b[1;33m,\u001b[0m \u001b[0mop\u001b[0m\u001b[1;33m)\u001b[0m\u001b[1;33m\u001b[0m\u001b[1;33m\u001b[0m\u001b[0m\n\u001b[0m\u001b[0;32m    371\u001b[0m \u001b[1;33m\u001b[0m\u001b[0m\n\u001b[0;32m    372\u001b[0m         \u001b[1;32mreturn\u001b[0m \u001b[0mself\u001b[0m\u001b[1;33m.\u001b[0m\u001b[0m_construct_result\u001b[0m\u001b[1;33m(\u001b[0m\u001b[0mres_values\u001b[0m\u001b[1;33m,\u001b[0m \u001b[0mname\u001b[0m\u001b[1;33m=\u001b[0m\u001b[0mres_name\u001b[0m\u001b[1;33m)\u001b[0m\u001b[1;33m\u001b[0m\u001b[1;33m\u001b[0m\u001b[0m\n",
      "\u001b[1;32m~\\anaconda3\\lib\\site-packages\\pandas\\core\\ops\\array_ops.py\u001b[0m in \u001b[0;36mcomparison_op\u001b[1;34m(left, right, op)\u001b[0m\n\u001b[0;32m    222\u001b[0m         \u001b[1;32mif\u001b[0m \u001b[0mlen\u001b[0m\u001b[1;33m(\u001b[0m\u001b[0mlvalues\u001b[0m\u001b[1;33m)\u001b[0m \u001b[1;33m!=\u001b[0m \u001b[0mlen\u001b[0m\u001b[1;33m(\u001b[0m\u001b[0mrvalues\u001b[0m\u001b[1;33m)\u001b[0m\u001b[1;33m:\u001b[0m\u001b[1;33m\u001b[0m\u001b[1;33m\u001b[0m\u001b[0m\n\u001b[0;32m    223\u001b[0m             raise ValueError(\n\u001b[1;32m--> 224\u001b[1;33m                 \u001b[1;34m\"Lengths must match to compare\"\u001b[0m\u001b[1;33m,\u001b[0m \u001b[0mlvalues\u001b[0m\u001b[1;33m.\u001b[0m\u001b[0mshape\u001b[0m\u001b[1;33m,\u001b[0m \u001b[0mrvalues\u001b[0m\u001b[1;33m.\u001b[0m\u001b[0mshape\u001b[0m\u001b[1;33m\u001b[0m\u001b[1;33m\u001b[0m\u001b[0m\n\u001b[0m\u001b[0;32m    225\u001b[0m             )\n\u001b[0;32m    226\u001b[0m \u001b[1;33m\u001b[0m\u001b[0m\n",
      "\u001b[1;31mValueError\u001b[0m: ('Lengths must match to compare', (1200,), (1,))"
     ]
    }
   ],
   "source": [
    "df = df.loc[df['State']==['United States']]"
   ]
  },
  {
   "cell_type": "code",
   "execution_count": 307,
   "metadata": {
    "scrolled": true
   },
   "outputs": [
    {
     "data": {
      "text/html": [
       "<div>\n",
       "<style scoped>\n",
       "    .dataframe tbody tr th:only-of-type {\n",
       "        vertical-align: middle;\n",
       "    }\n",
       "\n",
       "    .dataframe tbody tr th {\n",
       "        vertical-align: top;\n",
       "    }\n",
       "\n",
       "    .dataframe thead th {\n",
       "        text-align: right;\n",
       "    }\n",
       "</style>\n",
       "<table border=\"1\" class=\"dataframe\">\n",
       "  <thead>\n",
       "    <tr style=\"text-align: right;\">\n",
       "      <th></th>\n",
       "      <th>Total_Adj</th>\n",
       "    </tr>\n",
       "  </thead>\n",
       "  <tbody>\n",
       "    <tr>\n",
       "      <th>0</th>\n",
       "      <td>40858</td>\n",
       "    </tr>\n",
       "  </tbody>\n",
       "</table>\n",
       "</div>"
      ],
      "text/plain": [
       "   Total_Adj\n",
       "0      40858"
      ]
     },
     "execution_count": 307,
     "metadata": {},
     "output_type": "execute_result"
    }
   ],
   "source": [
    "df_output = df.tail(1)\n",
    "lastyear_df = df_output.drop(columns=['Year', 'Waitlist','Diabetes','Obesity','Overdose','Pct_O'])\n",
    "lastyear_df = lastyear_df.reset_index(drop=True)\n",
    "lastyear_df"
   ]
  },
  {
   "cell_type": "code",
   "execution_count": 308,
   "metadata": {},
   "outputs": [
    {
     "data": {
      "image/png": "[encoded data removed]",
      "text/plain": [
       "<Figure size 432x288 with 36 Axes>"
      ]
     },
     "metadata": {
      "needs_background": "light"
     },
     "output_type": "display_data"
    }
   ],
   "source": [
    "df.plot(kind='box', subplots=True, layout=(6,6), sharex=False, sharey=False)\n",
    "plt.show()"
   ]
  },
  {
   "cell_type": "code",
   "execution_count": 309,
   "metadata": {},
   "outputs": [
    {
     "data": {
      "image/png": "[encoded data removed]",
      "text/plain": [
       "<Figure size 432x288 with 36 Axes>"
      ]
     },
     "metadata": {
      "needs_background": "light"
     },
     "output_type": "display_data"
    }
   ],
   "source": [
    "# scatter plot matrix\n",
    "pd.plotting.scatter_matrix(df)\n",
    "plt.show()"
   ]
  },
  {
   "cell_type": "code",
   "execution_count": 310,
   "metadata": {
    "scrolled": true
   },
   "outputs": [
    {
     "data": {
      "text/html": [
       "<div>\n",
       "<style scoped>\n",
       "    .dataframe tbody tr th:only-of-type {\n",
       "        vertical-align: middle;\n",
       "    }\n",
       "\n",
       "    .dataframe tbody tr th {\n",
       "        vertical-align: top;\n",
       "    }\n",
       "\n",
       "    .dataframe thead th {\n",
       "        text-align: right;\n",
       "    }\n",
       "</style>\n",
       "<table border=\"1\" class=\"dataframe\">\n",
       "  <thead>\n",
       "    <tr style=\"text-align: right;\">\n",
       "      <th></th>\n",
       "      <th>Waitlist</th>\n",
       "      <th>Diabetes</th>\n",
       "      <th>Obesity</th>\n",
       "      <th>Overdose</th>\n",
       "      <th>Pct_O</th>\n",
       "      <th>Total_Adj</th>\n",
       "    </tr>\n",
       "  </thead>\n",
       "  <tbody>\n",
       "    <tr>\n",
       "      <th>count</th>\n",
       "      <td>25.000000</td>\n",
       "      <td>25.000000</td>\n",
       "      <td>25.000000</td>\n",
       "      <td>25.000000</td>\n",
       "      <td>25.000000</td>\n",
       "      <td>25.000000</td>\n",
       "    </tr>\n",
       "    <tr>\n",
       "      <th>mean</th>\n",
       "      <td>29413.360000</td>\n",
       "      <td>8.043600</td>\n",
       "      <td>24.160000</td>\n",
       "      <td>11.640000</td>\n",
       "      <td>48.495486</td>\n",
       "      <td>29157.520000</td>\n",
       "    </tr>\n",
       "    <tr>\n",
       "      <th>std</th>\n",
       "      <td>7234.193303</td>\n",
       "      <td>1.910264</td>\n",
       "      <td>5.390424</td>\n",
       "      <td>5.054453</td>\n",
       "      <td>0.324345</td>\n",
       "      <td>7218.461298</td>\n",
       "    </tr>\n",
       "    <tr>\n",
       "      <th>min</th>\n",
       "      <td>17257.000000</td>\n",
       "      <td>4.980000</td>\n",
       "      <td>15.000000</td>\n",
       "      <td>5.500000</td>\n",
       "      <td>47.725561</td>\n",
       "      <td>17065.000000</td>\n",
       "    </tr>\n",
       "    <tr>\n",
       "      <th>25%</th>\n",
       "      <td>22497.000000</td>\n",
       "      <td>6.620000</td>\n",
       "      <td>20.000000</td>\n",
       "      <td>6.800000</td>\n",
       "      <td>48.340966</td>\n",
       "      <td>22265.000000</td>\n",
       "    </tr>\n",
       "    <tr>\n",
       "      <th>50%</th>\n",
       "      <td>32371.000000</td>\n",
       "      <td>7.800000</td>\n",
       "      <td>25.000000</td>\n",
       "      <td>11.900000</td>\n",
       "      <td>48.453839</td>\n",
       "      <td>32060.000000</td>\n",
       "    </tr>\n",
       "    <tr>\n",
       "      <th>75%</th>\n",
       "      <td>35033.000000</td>\n",
       "      <td>9.810000</td>\n",
       "      <td>29.000000</td>\n",
       "      <td>13.800000</td>\n",
       "      <td>48.628091</td>\n",
       "      <td>34791.000000</td>\n",
       "    </tr>\n",
       "    <tr>\n",
       "      <th>max</th>\n",
       "      <td>41105.000000</td>\n",
       "      <td>11.090000</td>\n",
       "      <td>32.000000</td>\n",
       "      <td>21.700000</td>\n",
       "      <td>49.281419</td>\n",
       "      <td>40858.000000</td>\n",
       "    </tr>\n",
       "  </tbody>\n",
       "</table>\n",
       "</div>"
      ],
      "text/plain": [
       "           Waitlist   Diabetes    Obesity   Overdose      Pct_O     Total_Adj\n",
       "count     25.000000  25.000000  25.000000  25.000000  25.000000     25.000000\n",
       "mean   29413.360000   8.043600  24.160000  11.640000  48.495486  29157.520000\n",
       "std     7234.193303   1.910264   5.390424   5.054453   0.324345   7218.461298\n",
       "min    17257.000000   4.980000  15.000000   5.500000  47.725561  17065.000000\n",
       "25%    22497.000000   6.620000  20.000000   6.800000  48.340966  22265.000000\n",
       "50%    32371.000000   7.800000  25.000000  11.900000  48.453839  32060.000000\n",
       "75%    35033.000000   9.810000  29.000000  13.800000  48.628091  34791.000000\n",
       "max    41105.000000  11.090000  32.000000  21.700000  49.281419  40858.000000"
      ]
     },
     "execution_count": 310,
     "metadata": {},
     "output_type": "execute_result"
    }
   ],
   "source": [
    "#Describe data\n",
    "df.describe()"
   ]
  },
  {
   "cell_type": "code",
   "execution_count": 311,
   "metadata": {},
   "outputs": [
    {
     "name": "stdout",
     "output_type": "stream",
     "text": [
      "          Diabetes   Obesity  Overdose     Pct_O\n",
      "Diabetes  1.000000  0.980433  0.951138  0.640197\n",
      "Obesity   0.980433  1.000000  0.938590  0.653905\n",
      "Overdose  0.951138  0.938590  1.000000  0.633031\n",
      "Pct_O     0.640197  0.653905  0.633031  1.000000\n"
     ]
    }
   ],
   "source": [
    "#Correlation Matrix\n",
    "corr_matrix = df[[\"Diabetes\", \"Obesity\", \"Overdose\", \"Pct_O\"]].corr()\n",
    "print(corr_matrix)"
   ]
  },
  {
   "cell_type": "code",
   "execution_count": 312,
   "metadata": {},
   "outputs": [
    {
     "name": "stdout",
     "output_type": "stream",
     "text": [
      "(25, 4) (25, 1)\n"
     ]
    }
   ],
   "source": [
    "#Assign variables for regression\n",
    "X = df[['Diabetes','Obesity','Overdose','Pct_O']]\n",
    "y = df['Total_Adj'].values.reshape(-1,1)\n",
    "print(X.shape, y.shape)"
   ]
  },
  {
   "cell_type": "code",
   "execution_count": 313,
   "metadata": {},
   "outputs": [],
   "source": [
    "#Use train_test_split to create training and testing data\n",
    "from sklearn.model_selection import train_test_split\n",
    "X_train, X_test, y_train, y_test = train_test_split(X, y, random_state=42)"
   ]
  },
  {
   "cell_type": "code",
   "execution_count": 314,
   "metadata": {},
   "outputs": [],
   "source": [
    "#Create model\n",
    "model = LinearRegression()"
   ]
  },
  {
   "cell_type": "code",
   "execution_count": 315,
   "metadata": {},
   "outputs": [
    {
     "name": "stdout",
     "output_type": "stream",
     "text": [
      "Training Score: 0.9821145469069239\n",
      "Testing Score: 0.9536959965556824\n"
     ]
    }
   ],
   "source": [
    "#fit the model to the training data and calculate the scores for the training and testing data\n",
    "#Begin\n",
    "model.fit(X_train, y_train)\n",
    "training_score = model.score(X_train, y_train)\n",
    "testing_score = model.score(X_test, y_test)\n",
    "#End\n",
    "print(f\"Training Score: {training_score}\")\n",
    "print(f\"Testing Score: {testing_score}\")\n"
   ]
  },
  {
   "cell_type": "code",
   "execution_count": 316,
   "metadata": {},
   "outputs": [
    {
     "data": {
      "text/plain": [
       "Text(0.5, 1.0, 'Residual Plot')"
      ]
     },
     "execution_count": 316,
     "metadata": {},
     "output_type": "execute_result"
    },
    {
     "data": {
      "image/png": "[encoded data removed]",
      "text/plain": [
       "<Figure size 432x288 with 1 Axes>"
      ]
     },
     "metadata": {
      "needs_background": "light"
     },
     "output_type": "display_data"
    }
   ],
   "source": [
    "#Plot Residuals for Training and Testing Data\n",
    "#Begin\n",
    "plt.scatter(model.predict(X_train), model.predict(X_train) - y_train, c=\"green\", label=\"Training Data\")\n",
    "plt.scatter(model.predict(X_test), model.predict(X_test) - y_test, c=\"red\", label=\"Testing Data\")\n",
    "plt.legend()\n",
    "plt.hlines(y=0, xmin=y.min(), xmax=y.max())\n",
    "plt.title(\"Residual Plot\")\n",
    "#End"
   ]
  },
  {
   "cell_type": "code",
   "execution_count": 317,
   "metadata": {},
   "outputs": [
    {
     "name": "stdout",
     "output_type": "stream",
     "text": [
      "coefficient of determination 0.9754923265492258\n"
     ]
    }
   ],
   "source": [
    "#R2 of original model\n",
    "r_sq = model.score(X, y)\n",
    "print('coefficient of determination', r_sq)"
   ]
  },
  {
   "cell_type": "code",
   "execution_count": 318,
   "metadata": {},
   "outputs": [
    {
     "name": "stdout",
     "output_type": "stream",
     "text": [
      "[-33926.93880241]\n"
     ]
    }
   ],
   "source": [
    "print(model.intercept_)"
   ]
  },
  {
   "cell_type": "code",
   "execution_count": 319,
   "metadata": {},
   "outputs": [
    {
     "name": "stdout",
     "output_type": "stream",
     "text": [
      "[[-893.60651758 1851.62912613 -286.19686559  594.71258729]]\n"
     ]
    }
   ],
   "source": [
    "print(model.coef_)"
   ]
  },
  {
   "cell_type": "code",
   "execution_count": 320,
   "metadata": {
    "scrolled": false
   },
   "outputs": [
    {
     "name": "stdout",
     "output_type": "stream",
     "text": [
      "[[39146.65019117]]\n"
     ]
    }
   ],
   "source": [
    "#Make a Prediction using model\n",
    "predictedTotal_Adj = model.predict([[10.77,32,19.9,49]])\n",
    "print(predictedTotal_Adj)"
   ]
  },
  {
   "cell_type": "code",
   "execution_count": 321,
   "metadata": {
    "scrolled": false
   },
   "outputs": [
    {
     "name": "stdout",
     "output_type": "stream",
     "text": [
      "(18, 4)\n"
     ]
    }
   ],
   "source": [
    "print(X_train.shape)"
   ]
  },
  {
   "cell_type": "code",
   "execution_count": 322,
   "metadata": {
    "scrolled": true
   },
   "outputs": [
    {
     "name": "stdout",
     "output_type": "stream",
     "text": [
      "(18, 1)\n"
     ]
    }
   ],
   "source": [
    "print(y_train.shape)"
   ]
  },
  {
   "cell_type": "code",
   "execution_count": 323,
   "metadata": {},
   "outputs": [
    {
     "name": "stdout",
     "output_type": "stream",
     "text": [
      "(7, 1)\n"
     ]
    }
   ],
   "source": [
    "print(y_test.shape)"
   ]
  },
  {
   "cell_type": "code",
   "execution_count": 324,
   "metadata": {},
   "outputs": [
    {
     "name": "stdout",
     "output_type": "stream",
     "text": [
      "(7, 4)\n"
     ]
    }
   ],
   "source": [
    "print(X_test.shape)"
   ]
  },
  {
   "cell_type": "code",
   "execution_count": 325,
   "metadata": {},
   "outputs": [],
   "source": [
    "modeldetail = sm.OLS(y, X)\n",
    "resultstest = modeldetail.fit()"
   ]
  },
  {
   "cell_type": "code",
   "execution_count": 326,
   "metadata": {},
   "outputs": [
    {
     "name": "stdout",
     "output_type": "stream",
     "text": [
      "(25, 4)\n"
     ]
    }
   ],
   "source": [
    "print(X.shape)"
   ]
  },
  {
   "cell_type": "code",
   "execution_count": 327,
   "metadata": {},
   "outputs": [
    {
     "name": "stdout",
     "output_type": "stream",
     "text": [
      "(25, 1)\n"
     ]
    }
   ],
   "source": [
    "print(y.shape)"
   ]
  },
  {
   "cell_type": "code",
   "execution_count": 328,
   "metadata": {
    "scrolled": true
   },
   "outputs": [
    {
     "data": {
      "image/png": "[encoded data removed]",
      "text/plain": [
       "<Figure size 432x288 with 1 Axes>"
      ]
     },
     "metadata": {
      "needs_background": "light"
     },
     "output_type": "display_data"
    }
   ],
   "source": [
    "plt.scatter(X[('Diabetes')], y, label='Diabetes')\n",
    "plt.scatter(X[('Obesity')], y, label='Obesity')\n",
    "plt.scatter(X[('Overdose')], y, label='Overdose')\n",
    "plt.scatter(X[('Pct_O')], y, label='% O-type')\n",
    "plt.title('Full Model')\n",
    "plt.xlabel('Variables through Time (in %, except Overdose in per 100,000)')\n",
    "plt.ylabel('Kidney Waitlist through Time')\n",
    "plt.legend(title='variables',loc='lower center')\n",
    "plt.savefig('images/US_full.png', dpi=100, facecolor='w', edgecolor='w',\n",
    "        orientation='portrait', format=None,\n",
    "        transparent=False, bbox_inches=None, pad_inches=0.2, metadata=None)\n",
    "plt.show()"
   ]
  },
  {
   "cell_type": "code",
   "execution_count": 329,
   "metadata": {
    "scrolled": true
   },
   "outputs": [
    {
     "data": {
      "image/png": "[encoded data removed]",
      "text/plain": [
       "<Figure size 504x360 with 1 Axes>"
      ]
     },
     "metadata": {
      "needs_background": "light"
     },
     "output_type": "display_data"
    }
   ],
   "source": [
    "fig = plt.figure()\n",
    "plt.scatter(X_train[('Diabetes')], y_train)\n",
    "plt.scatter(X_train[('Obesity')], y_train)\n",
    "plt.scatter(X_train[('Overdose')], y_train)\n",
    "plt.scatter(X_train[('Pct_O')], y_train)\n",
    "plt.title('Training Model')\n",
    "fig.set_size_inches(7,5)\n",
    "plt.show()"
   ]
  },
  {
   "cell_type": "code",
   "execution_count": 330,
   "metadata": {},
   "outputs": [
    {
     "data": {
      "image/png": "[encoded data removed]",
      "text/plain": [
       "<Figure size 432x288 with 1 Axes>"
      ]
     },
     "metadata": {
      "needs_background": "light"
     },
     "output_type": "display_data"
    }
   ],
   "source": [
    "plt.scatter(X_test[('Diabetes')], y_test)\n",
    "plt.scatter(X_test[('Obesity')], y_test)\n",
    "plt.scatter(X_test[('Overdose')], y_test)\n",
    "plt.scatter(X_test[('Pct_O')], y_test)\n",
    "plt.title('Test Model')\n",
    "plt.show()"
   ]
  },
  {
   "cell_type": "code",
   "execution_count": 331,
   "metadata": {},
   "outputs": [
    {
     "data": {
      "image/png": "[encoded data removed]",
      "text/plain": [
       "<Figure size 432x288 with 1 Axes>"
      ]
     },
     "metadata": {
      "needs_background": "light"
     },
     "output_type": "display_data"
    }
   ],
   "source": [
    "plt.scatter(X_train[('Diabetes')], y_train)\n",
    "plt.scatter(X_train[('Obesity')], y_train)\n",
    "plt.scatter(X_train[('Overdose')], y_train)\n",
    "plt.scatter(X_train[('Pct_O')], y_train)\n",
    "plt.scatter(X_test[('Diabetes')], y_test)\n",
    "plt.scatter(X_test[('Obesity')], y_test)\n",
    "plt.scatter(X_test[('Overdose')], y_test)\n",
    "plt.scatter(X_test[('Pct_O')], y_test)\n",
    "plt.title('Test Model')\n",
    "plt.show()"
   ]
  },
  {
   "cell_type": "code",
   "execution_count": 332,
   "metadata": {},
   "outputs": [
    {
     "data": {
      "text/html": [
       "<table class=\"simpletable\">\n",
       "<caption>OLS Regression Results</caption>\n",
       "<tr>\n",
       "  <th>Dep. Variable:</th>        <td>Total_Adj</td>    <th>  R-squared:         </th> <td>   0.977</td>\n",
       "</tr>\n",
       "<tr>\n",
       "  <th>Model:</th>                   <td>OLS</td>       <th>  Adj. R-squared:    </th> <td>   0.973</td>\n",
       "</tr>\n",
       "<tr>\n",
       "  <th>Method:</th>             <td>Least Squares</td>  <th>  F-statistic:       </th> <td>   214.0</td>\n",
       "</tr>\n",
       "<tr>\n",
       "  <th>Date:</th>             <td>Mon, 18 Jan 2021</td> <th>  Prob (F-statistic):</th> <td>4.15e-16</td>\n",
       "</tr>\n",
       "<tr>\n",
       "  <th>Time:</th>                 <td>21:31:14</td>     <th>  Log-Likelihood:    </th> <td> -209.83</td>\n",
       "</tr>\n",
       "<tr>\n",
       "  <th>No. Observations:</th>      <td>    25</td>      <th>  AIC:               </th> <td>   429.7</td>\n",
       "</tr>\n",
       "<tr>\n",
       "  <th>Df Residuals:</th>          <td>    20</td>      <th>  BIC:               </th> <td>   435.8</td>\n",
       "</tr>\n",
       "<tr>\n",
       "  <th>Df Model:</th>              <td>     4</td>      <th>                     </th>     <td> </td>   \n",
       "</tr>\n",
       "<tr>\n",
       "  <th>Covariance Type:</th>      <td>nonrobust</td>    <th>                     </th>     <td> </td>   \n",
       "</tr>\n",
       "</table>\n",
       "<table class=\"simpletable\">\n",
       "<tr>\n",
       "      <td></td>         <th>coef</th>     <th>std err</th>      <th>t</th>      <th>P>|t|</th>  <th>[0.025</th>    <th>0.975]</th>  \n",
       "</tr>\n",
       "<tr>\n",
       "  <th>Intercept</th> <td>-1.484e+04</td> <td> 4.76e+04</td> <td>   -0.312</td> <td> 0.758</td> <td>-1.14e+05</td> <td> 8.44e+04</td>\n",
       "</tr>\n",
       "<tr>\n",
       "  <th>Diabetes</th>  <td>-1050.0453</td> <td>  729.124</td> <td>   -1.440</td> <td> 0.165</td> <td>-2570.972</td> <td>  470.882</td>\n",
       "</tr>\n",
       "<tr>\n",
       "  <th>Obesity</th>   <td> 1773.7047</td> <td>  234.207</td> <td>    7.573</td> <td> 0.000</td> <td> 1285.157</td> <td> 2262.252</td>\n",
       "</tr>\n",
       "<tr>\n",
       "  <th>Overdose</th>  <td> -110.6551</td> <td>  157.644</td> <td>   -0.702</td> <td> 0.491</td> <td> -439.495</td> <td>  218.185</td>\n",
       "</tr>\n",
       "<tr>\n",
       "  <th>Pct_O</th>     <td>  224.3979</td> <td>  997.606</td> <td>    0.225</td> <td> 0.824</td> <td>-1856.572</td> <td> 2305.368</td>\n",
       "</tr>\n",
       "</table>\n",
       "<table class=\"simpletable\">\n",
       "<tr>\n",
       "  <th>Omnibus:</th>       <td> 2.482</td> <th>  Durbin-Watson:     </th> <td>   1.186</td>\n",
       "</tr>\n",
       "<tr>\n",
       "  <th>Prob(Omnibus):</th> <td> 0.289</td> <th>  Jarque-Bera (JB):  </th> <td>   2.147</td>\n",
       "</tr>\n",
       "<tr>\n",
       "  <th>Skew:</th>          <td>-0.668</td> <th>  Prob(JB):          </th> <td>   0.342</td>\n",
       "</tr>\n",
       "<tr>\n",
       "  <th>Kurtosis:</th>      <td> 2.473</td> <th>  Cond. No.          </th> <td>1.12e+04</td>\n",
       "</tr>\n",
       "</table><br/><br/>Warnings:<br/>[1] Standard Errors assume that the covariance matrix of the errors is correctly specified.<br/>[2] The condition number is large, 1.12e+04. This might indicate that there are<br/>strong multicollinearity or other numerical problems."
      ],
      "text/plain": [
       "<class 'statsmodels.iolib.summary.Summary'>\n",
       "\"\"\"\n",
       "                            OLS Regression Results                            \n",
       "==============================================================================\n",
       "Dep. Variable:              Total_Adj   R-squared:                       0.977\n",
       "Model:                            OLS   Adj. R-squared:                  0.973\n",
       "Method:                 Least Squares   F-statistic:                     214.0\n",
       "Date:                Mon, 18 Jan 2021   Prob (F-statistic):           4.15e-16\n",
       "Time:                        21:31:14   Log-Likelihood:                -209.83\n",
       "No. Observations:                  25   AIC:                             429.7\n",
       "Df Residuals:                      20   BIC:                             435.8\n",
       "Df Model:                           4                                         \n",
       "Covariance Type:            nonrobust                                         \n",
       "==============================================================================\n",
       "                 coef    std err          t      P>|t|      [0.025      0.975]\n",
       "------------------------------------------------------------------------------\n",
       "Intercept  -1.484e+04   4.76e+04     -0.312      0.758   -1.14e+05    8.44e+04\n",
       "Diabetes   -1050.0453    729.124     -1.440      0.165   -2570.972     470.882\n",
       "Obesity     1773.7047    234.207      7.573      0.000    1285.157    2262.252\n",
       "Overdose    -110.6551    157.644     -0.702      0.491    -439.495     218.185\n",
       "Pct_O        224.3979    997.606      0.225      0.824   -1856.572    2305.368\n",
       "==============================================================================\n",
       "Omnibus:                        2.482   Durbin-Watson:                   1.186\n",
       "Prob(Omnibus):                  0.289   Jarque-Bera (JB):                2.147\n",
       "Skew:                          -0.668   Prob(JB):                        0.342\n",
       "Kurtosis:                       2.473   Cond. No.                     1.12e+04\n",
       "==============================================================================\n",
       "\n",
       "Warnings:\n",
       "[1] Standard Errors assume that the covariance matrix of the errors is correctly specified.\n",
       "[2] The condition number is large, 1.12e+04. This might indicate that there are\n",
       "strong multicollinearity or other numerical problems.\n",
       "\"\"\""
      ]
     },
     "execution_count": 332,
     "metadata": {},
     "output_type": "execute_result"
    }
   ],
   "source": [
    "model_lin = sm.OLS.from_formula(\"Total_Adj ~ Diabetes + Obesity + Overdose + Pct_O\", data=df)\n",
    "result_lin = model_lin.fit()\n",
    "result_lin.summary()"
   ]
  },
  {
   "cell_type": "code",
   "execution_count": 333,
   "metadata": {},
   "outputs": [
    {
     "data": {
      "text/html": [
       "<div>\n",
       "<style scoped>\n",
       "    .dataframe tbody tr th:only-of-type {\n",
       "        vertical-align: middle;\n",
       "    }\n",
       "\n",
       "    .dataframe tbody tr th {\n",
       "        vertical-align: top;\n",
       "    }\n",
       "\n",
       "    .dataframe thead th {\n",
       "        text-align: right;\n",
       "    }\n",
       "</style>\n",
       "<table border=\"1\" class=\"dataframe\">\n",
       "  <thead>\n",
       "    <tr style=\"text-align: right;\">\n",
       "      <th></th>\n",
       "      <th>Year</th>\n",
       "      <th>Waitlist</th>\n",
       "      <th>Diabetes</th>\n",
       "      <th>Obesity</th>\n",
       "      <th>Overdose</th>\n",
       "      <th>Pct_O</th>\n",
       "      <th>Total_Adj</th>\n",
       "    </tr>\n",
       "  </thead>\n",
       "  <tbody>\n",
       "    <tr>\n",
       "      <th>0</th>\n",
       "      <td>12/31/1995</td>\n",
       "      <td>17257</td>\n",
       "      <td>4.98</td>\n",
       "      <td>15</td>\n",
       "      <td>5.5</td>\n",
       "      <td>47.725561</td>\n",
       "      <td>17065</td>\n",
       "    </tr>\n",
       "    <tr>\n",
       "      <th>1</th>\n",
       "      <td>12/31/1996</td>\n",
       "      <td>17732</td>\n",
       "      <td>5.23</td>\n",
       "      <td>15</td>\n",
       "      <td>5.5</td>\n",
       "      <td>48.234830</td>\n",
       "      <td>17519</td>\n",
       "    </tr>\n",
       "    <tr>\n",
       "      <th>2</th>\n",
       "      <td>12/31/1997</td>\n",
       "      <td>18405</td>\n",
       "      <td>5.52</td>\n",
       "      <td>16</td>\n",
       "      <td>5.7</td>\n",
       "      <td>48.149959</td>\n",
       "      <td>18173</td>\n",
       "    </tr>\n",
       "    <tr>\n",
       "      <th>3</th>\n",
       "      <td>12/31/1998</td>\n",
       "      <td>19473</td>\n",
       "      <td>5.80</td>\n",
       "      <td>17</td>\n",
       "      <td>5.9</td>\n",
       "      <td>48.266831</td>\n",
       "      <td>19226</td>\n",
       "    </tr>\n",
       "    <tr>\n",
       "      <th>4</th>\n",
       "      <td>12/31/1999</td>\n",
       "      <td>21835</td>\n",
       "      <td>6.09</td>\n",
       "      <td>18</td>\n",
       "      <td>6.1</td>\n",
       "      <td>48.000916</td>\n",
       "      <td>21566</td>\n",
       "    </tr>\n",
       "    <tr>\n",
       "      <th>5</th>\n",
       "      <td>12/31/2000</td>\n",
       "      <td>22378</td>\n",
       "      <td>6.41</td>\n",
       "      <td>19</td>\n",
       "      <td>6.2</td>\n",
       "      <td>48.453839</td>\n",
       "      <td>22123</td>\n",
       "    </tr>\n",
       "    <tr>\n",
       "      <th>6</th>\n",
       "      <td>12/31/2001</td>\n",
       "      <td>22497</td>\n",
       "      <td>6.62</td>\n",
       "      <td>20</td>\n",
       "      <td>6.8</td>\n",
       "      <td>48.308663</td>\n",
       "      <td>22265</td>\n",
       "    </tr>\n",
       "    <tr>\n",
       "      <th>7</th>\n",
       "      <td>12/31/2002</td>\n",
       "      <td>23644</td>\n",
       "      <td>6.85</td>\n",
       "      <td>21</td>\n",
       "      <td>8.2</td>\n",
       "      <td>48.621215</td>\n",
       "      <td>23422</td>\n",
       "    </tr>\n",
       "    <tr>\n",
       "      <th>8</th>\n",
       "      <td>12/31/2003</td>\n",
       "      <td>24617</td>\n",
       "      <td>7.12</td>\n",
       "      <td>22</td>\n",
       "      <td>8.9</td>\n",
       "      <td>48.588374</td>\n",
       "      <td>24400</td>\n",
       "    </tr>\n",
       "    <tr>\n",
       "      <th>9</th>\n",
       "      <td>12/31/2004</td>\n",
       "      <td>27274</td>\n",
       "      <td>6.92</td>\n",
       "      <td>22</td>\n",
       "      <td>9.4</td>\n",
       "      <td>48.903718</td>\n",
       "      <td>27034</td>\n",
       "    </tr>\n",
       "    <tr>\n",
       "      <th>10</th>\n",
       "      <td>12/31/2005</td>\n",
       "      <td>29132</td>\n",
       "      <td>7.19</td>\n",
       "      <td>23</td>\n",
       "      <td>10.1</td>\n",
       "      <td>48.448442</td>\n",
       "      <td>28870</td>\n",
       "    </tr>\n",
       "    <tr>\n",
       "      <th>11</th>\n",
       "      <td>12/31/2006</td>\n",
       "      <td>31209</td>\n",
       "      <td>7.41</td>\n",
       "      <td>24</td>\n",
       "      <td>11.5</td>\n",
       "      <td>48.402704</td>\n",
       "      <td>30916</td>\n",
       "    </tr>\n",
       "    <tr>\n",
       "      <th>12</th>\n",
       "      <td>12/31/2007</td>\n",
       "      <td>32371</td>\n",
       "      <td>7.80</td>\n",
       "      <td>25</td>\n",
       "      <td>11.9</td>\n",
       "      <td>48.750425</td>\n",
       "      <td>32060</td>\n",
       "    </tr>\n",
       "    <tr>\n",
       "      <th>13</th>\n",
       "      <td>12/31/2008</td>\n",
       "      <td>32579</td>\n",
       "      <td>8.10</td>\n",
       "      <td>26</td>\n",
       "      <td>11.9</td>\n",
       "      <td>48.371650</td>\n",
       "      <td>32266</td>\n",
       "    </tr>\n",
       "    <tr>\n",
       "      <th>14</th>\n",
       "      <td>12/31/2009</td>\n",
       "      <td>33646</td>\n",
       "      <td>8.36</td>\n",
       "      <td>27</td>\n",
       "      <td>11.9</td>\n",
       "      <td>48.519883</td>\n",
       "      <td>33333</td>\n",
       "    </tr>\n",
       "    <tr>\n",
       "      <th>15</th>\n",
       "      <td>12/31/2010</td>\n",
       "      <td>34400</td>\n",
       "      <td>8.59</td>\n",
       "      <td>27</td>\n",
       "      <td>12.3</td>\n",
       "      <td>48.453488</td>\n",
       "      <td>34097</td>\n",
       "    </tr>\n",
       "    <tr>\n",
       "      <th>16</th>\n",
       "      <td>12/31/2011</td>\n",
       "      <td>33560</td>\n",
       "      <td>9.54</td>\n",
       "      <td>28</td>\n",
       "      <td>13.2</td>\n",
       "      <td>48.382002</td>\n",
       "      <td>33281</td>\n",
       "    </tr>\n",
       "    <tr>\n",
       "      <th>17</th>\n",
       "      <td>12/31/2012</td>\n",
       "      <td>34831</td>\n",
       "      <td>9.72</td>\n",
       "      <td>28</td>\n",
       "      <td>13.1</td>\n",
       "      <td>48.735322</td>\n",
       "      <td>34556</td>\n",
       "    </tr>\n",
       "    <tr>\n",
       "      <th>18</th>\n",
       "      <td>12/31/2013</td>\n",
       "      <td>36393</td>\n",
       "      <td>9.81</td>\n",
       "      <td>29</td>\n",
       "      <td>13.8</td>\n",
       "      <td>48.479103</td>\n",
       "      <td>36120</td>\n",
       "    </tr>\n",
       "    <tr>\n",
       "      <th>19</th>\n",
       "      <td>12/31/2014</td>\n",
       "      <td>36154</td>\n",
       "      <td>10.13</td>\n",
       "      <td>29</td>\n",
       "      <td>14.7</td>\n",
       "      <td>48.628091</td>\n",
       "      <td>35894</td>\n",
       "    </tr>\n",
       "    <tr>\n",
       "      <th>20</th>\n",
       "      <td>12/31/2015</td>\n",
       "      <td>35033</td>\n",
       "      <td>10.12</td>\n",
       "      <td>29</td>\n",
       "      <td>16.3</td>\n",
       "      <td>48.468587</td>\n",
       "      <td>34791</td>\n",
       "    </tr>\n",
       "    <tr>\n",
       "      <th>21</th>\n",
       "      <td>12/31/2016</td>\n",
       "      <td>35417</td>\n",
       "      <td>10.41</td>\n",
       "      <td>30</td>\n",
       "      <td>19.8</td>\n",
       "      <td>49.281419</td>\n",
       "      <td>35180</td>\n",
       "    </tr>\n",
       "    <tr>\n",
       "      <th>22</th>\n",
       "      <td>12/31/2017</td>\n",
       "      <td>35593</td>\n",
       "      <td>10.51</td>\n",
       "      <td>31</td>\n",
       "      <td>21.7</td>\n",
       "      <td>48.340966</td>\n",
       "      <td>35365</td>\n",
       "    </tr>\n",
       "    <tr>\n",
       "      <th>23</th>\n",
       "      <td>12/31/2018</td>\n",
       "      <td>38799</td>\n",
       "      <td>11.09</td>\n",
       "      <td>31</td>\n",
       "      <td>20.7</td>\n",
       "      <td>48.869816</td>\n",
       "      <td>38558</td>\n",
       "    </tr>\n",
       "    <tr>\n",
       "      <th>24</th>\n",
       "      <td>12/31/2019</td>\n",
       "      <td>41105</td>\n",
       "      <td>10.77</td>\n",
       "      <td>32</td>\n",
       "      <td>19.9</td>\n",
       "      <td>49.001338</td>\n",
       "      <td>40858</td>\n",
       "    </tr>\n",
       "  </tbody>\n",
       "</table>\n",
       "</div>"
      ],
      "text/plain": [
       "          Year  Waitlist  Diabetes  Obesity  Overdose      Pct_O  Total_Adj\n",
       "0   12/31/1995     17257      4.98       15       5.5  47.725561      17065\n",
       "1   12/31/1996     17732      5.23       15       5.5  48.234830      17519\n",
       "2   12/31/1997     18405      5.52       16       5.7  48.149959      18173\n",
       "3   12/31/1998     19473      5.80       17       5.9  48.266831      19226\n",
       "4   12/31/1999     21835      6.09       18       6.1  48.000916      21566\n",
       "5   12/31/2000     22378      6.41       19       6.2  48.453839      22123\n",
       "6   12/31/2001     22497      6.62       20       6.8  48.308663      22265\n",
       "7   12/31/2002     23644      6.85       21       8.2  48.621215      23422\n",
       "8   12/31/2003     24617      7.12       22       8.9  48.588374      24400\n",
       "9   12/31/2004     27274      6.92       22       9.4  48.903718      27034\n",
       "10  12/31/2005     29132      7.19       23      10.1  48.448442      28870\n",
       "11  12/31/2006     31209      7.41       24      11.5  48.402704      30916\n",
       "12  12/31/2007     32371      7.80       25      11.9  48.750425      32060\n",
       "13  12/31/2008     32579      8.10       26      11.9  48.371650      32266\n",
       "14  12/31/2009     33646      8.36       27      11.9  48.519883      33333\n",
       "15  12/31/2010     34400      8.59       27      12.3  48.453488      34097\n",
       "16  12/31/2011     33560      9.54       28      13.2  48.382002      33281\n",
       "17  12/31/2012     34831      9.72       28      13.1  48.735322      34556\n",
       "18  12/31/2013     36393      9.81       29      13.8  48.479103      36120\n",
       "19  12/31/2014     36154     10.13       29      14.7  48.628091      35894\n",
       "20  12/31/2015     35033     10.12       29      16.3  48.468587      34791\n",
       "21  12/31/2016     35417     10.41       30      19.8  49.281419      35180\n",
       "22  12/31/2017     35593     10.51       31      21.7  48.340966      35365\n",
       "23  12/31/2018     38799     11.09       31      20.7  48.869816      38558\n",
       "24  12/31/2019     41105     10.77       32      19.9  49.001338      40858"
      ]
     },
     "execution_count": 333,
     "metadata": {},
     "output_type": "execute_result"
    }
   ],
   "source": [
    "df\n"
   ]
  },
  {
   "cell_type": "code",
   "execution_count": 334,
   "metadata": {
    "scrolled": true
   },
   "outputs": [
    {
     "data": {
      "image/png": "[encoded data removed]",
      "text/plain": [
       "<Figure size 432x288 with 1 Axes>"
      ]
     },
     "metadata": {
      "needs_background": "light"
     },
     "output_type": "display_data"
    }
   ],
   "source": [
    "sns.regplot(X[('Diabetes')],y)\n",
    "plt.title('Diabetes % vs. Waitlist')\n",
    "plt.xlabel('Diabetes %')\n",
    "plt.ylabel('Kidney Waitlist through Time')\n",
    "plt.savefig('images/US_diabetes.png', dpi=100, facecolor='w', edgecolor='w',\n",
    "        orientation='portrait', format=None,\n",
    "        transparent=False, bbox_inches=None, pad_inches=0.2, metadata=None)"
   ]
  },
  {
   "cell_type": "code",
   "execution_count": 335,
   "metadata": {},
   "outputs": [
    {
     "data": {
      "image/png": "[encoded data removed]",
      "text/plain": [
       "<Figure size 432x288 with 1 Axes>"
      ]
     },
     "metadata": {
      "needs_background": "light"
     },
     "output_type": "display_data"
    }
   ],
   "source": [
    "sns.regplot(X[('Obesity')],y)\n",
    "plt.title('Obesity % vs. Waitlist')\n",
    "plt.xlabel('Obesity %')\n",
    "plt.ylabel('Kidney Waitlist through Time')\n",
    "plt.savefig('images/US_obesity.png', dpi=100, facecolor='w', edgecolor='w',\n",
    "        orientation='portrait', format=None,\n",
    "        transparent=False, bbox_inches=None, pad_inches=0.2, metadata=None)"
   ]
  },
  {
   "cell_type": "code",
   "execution_count": 336,
   "metadata": {
    "scrolled": false
   },
   "outputs": [
    {
     "data": {
      "image/png": "[encoded data removed]",
      "text/plain": [
       "<Figure size 432x288 with 1 Axes>"
      ]
     },
     "metadata": {
      "needs_background": "light"
     },
     "output_type": "display_data"
    }
   ],
   "source": [
    "sns.regplot(X[('Overdose')],y)\n",
    "plt.xlabel('Overdose rate per 100k')\n",
    "plt.title('Overdoses rate per 100k vs. Waitlist')\n",
    "plt.ylabel('Kidney Waitlist through Time')\n",
    "plt.savefig('images/US_overdose.png', dpi=100, facecolor='w', edgecolor='w',\n",
    "        orientation='portrait', format=None,\n",
    "        transparent=False, bbox_inches=None, pad_inches=0.2, metadata=None)"
   ]
  },
  {
   "cell_type": "code",
   "execution_count": 337,
   "metadata": {},
   "outputs": [
    {
     "data": {
      "image/png": "[encoded data removed]",
      "text/plain": [
       "<Figure size 432x288 with 1 Axes>"
      ]
     },
     "metadata": {
      "needs_background": "light"
     },
     "output_type": "display_data"
    }
   ],
   "source": [
    "sns.regplot(X[('Pct_O')],y)\n",
    "plt.xlabel('Percent O Blood-Type')\n",
    "plt.title('Percent O Blood-Type vs. Waitlist')\n",
    "plt.ylabel('Kidney Waitlist through Time')\n",
    "plt.savefig('images/US_pct_O.png', dpi=100, facecolor='w', edgecolor='w',\n",
    "        orientation='portrait', format=None,\n",
    "        transparent=False, bbox_inches=None, pad_inches=0.2, metadata=None)"
   ]
  },
  {
   "cell_type": "code",
   "execution_count": 338,
   "metadata": {
    "scrolled": true
   },
   "outputs": [
    {
     "data": {
      "text/plain": [
       "<AxesSubplot:xlabel='Pct_O'>"
      ]
     },
     "execution_count": 338,
     "metadata": {},
     "output_type": "execute_result"
    },
    {
     "data": {
      "image/png": "[encoded data removed]",
      "text/plain": [
       "<Figure size 432x288 with 1 Axes>"
      ]
     },
     "metadata": {
      "needs_background": "light"
     },
     "output_type": "display_data"
    }
   ],
   "source": [
    "sns.regplot(X[('Diabetes')],y)\n",
    "sns.regplot(X[('Obesity')],y)\n",
    "sns.regplot(X[('Overdose')],y)\n",
    "sns.regplot(X[('Pct_O')],y)"
   ]
  },
  {
   "cell_type": "code",
   "execution_count": 339,
   "metadata": {},
   "outputs": [
    {
     "data": {
      "text/html": [
       "<div>\n",
       "<style scoped>\n",
       "    .dataframe tbody tr th:only-of-type {\n",
       "        vertical-align: middle;\n",
       "    }\n",
       "\n",
       "    .dataframe tbody tr th {\n",
       "        vertical-align: top;\n",
       "    }\n",
       "\n",
       "    .dataframe thead th {\n",
       "        text-align: right;\n",
       "    }\n",
       "</style>\n",
       "<table border=\"1\" class=\"dataframe\">\n",
       "  <thead>\n",
       "    <tr style=\"text-align: right;\">\n",
       "      <th></th>\n",
       "      <th>0</th>\n",
       "      <th>1</th>\n",
       "      <th>2</th>\n",
       "      <th>3</th>\n",
       "    </tr>\n",
       "  </thead>\n",
       "  <tbody>\n",
       "    <tr>\n",
       "      <th>0</th>\n",
       "      <td>-893.607</td>\n",
       "      <td>1851.63</td>\n",
       "      <td>-286.197</td>\n",
       "      <td>594.713</td>\n",
       "    </tr>\n",
       "  </tbody>\n",
       "</table>\n",
       "</div>"
      ],
      "text/plain": [
       "         0        1        2        3\n",
       "0 -893.607  1851.63 -286.197  594.713"
      ]
     },
     "execution_count": 339,
     "metadata": {},
     "output_type": "execute_result"
    }
   ],
   "source": [
    "coefficients = pd.concat([pd.DataFrame(X.columns),pd.DataFrame(np.transpose(model.coef_))], axis = 1)\n",
    "coefficients_transposed = coefficients.T\n",
    "coefficients_transposed\n",
    "coefficients_final = coefficients_transposed[1:]\n",
    "coefficients_final"
   ]
  },
  {
   "cell_type": "code",
   "execution_count": 340,
   "metadata": {
    "scrolled": false
   },
   "outputs": [
    {
     "data": {
      "text/html": [
       "<div>\n",
       "<style scoped>\n",
       "    .dataframe tbody tr th:only-of-type {\n",
       "        vertical-align: middle;\n",
       "    }\n",
       "\n",
       "    .dataframe tbody tr th {\n",
       "        vertical-align: top;\n",
       "    }\n",
       "\n",
       "    .dataframe thead th {\n",
       "        text-align: right;\n",
       "    }\n",
       "</style>\n",
       "<table border=\"1\" class=\"dataframe\">\n",
       "  <thead>\n",
       "    <tr style=\"text-align: right;\">\n",
       "      <th></th>\n",
       "      <th>0</th>\n",
       "      <th>1</th>\n",
       "      <th>2</th>\n",
       "      <th>3</th>\n",
       "      <th>4</th>\n",
       "    </tr>\n",
       "  </thead>\n",
       "  <tbody>\n",
       "    <tr>\n",
       "      <th>0</th>\n",
       "      <td>0.975492</td>\n",
       "      <td>0.982115</td>\n",
       "      <td>0.953696</td>\n",
       "      <td>[-33926.93880240734]</td>\n",
       "      <td>[[39146.65019117306]]</td>\n",
       "    </tr>\n",
       "  </tbody>\n",
       "</table>\n",
       "</div>"
      ],
      "text/plain": [
       "          0         1         2                     3                      4\n",
       "0  0.975492  0.982115  0.953696  [-33926.93880240734]  [[39146.65019117306]]"
      ]
     },
     "execution_count": 340,
     "metadata": {},
     "output_type": "execute_result"
    }
   ],
   "source": [
    "test_df = pd.DataFrame([[r_sq,training_score,testing_score,model.intercept_ ,predictedTotal_Adj]])\n",
    "test_df"
   ]
  },
  {
   "cell_type": "code",
   "execution_count": 341,
   "metadata": {},
   "outputs": [],
   "source": [
    "#dfi.export(test_df, 'test_df.png')"
   ]
  },
  {
   "cell_type": "code",
   "execution_count": 342,
   "metadata": {
    "scrolled": true
   },
   "outputs": [],
   "source": [
    "summary_df = pd.concat([test_df, lastyear_df, coefficients_final], axis=1)\n",
    "summary_df.columns = ['R2','Training Score', 'Test Score', 'Intercept','Forecast based on Natl Avg','Last Waitlist','Coef_Diabetes','Coef_Obesity','Coef_Overdose','Coef_Pct_O']"
   ]
  },
  {
   "cell_type": "code",
   "execution_count": 343,
   "metadata": {
    "scrolled": false
   },
   "outputs": [
    {
     "data": {
      "text/html": [
       "<div>\n",
       "<style scoped>\n",
       "    .dataframe tbody tr th:only-of-type {\n",
       "        vertical-align: middle;\n",
       "    }\n",
       "\n",
       "    .dataframe tbody tr th {\n",
       "        vertical-align: top;\n",
       "    }\n",
       "\n",
       "    .dataframe thead th {\n",
       "        text-align: right;\n",
       "    }\n",
       "</style>\n",
       "<table border=\"1\" class=\"dataframe\">\n",
       "  <thead>\n",
       "    <tr style=\"text-align: right;\">\n",
       "      <th></th>\n",
       "      <th>R2</th>\n",
       "      <th>Training Score</th>\n",
       "      <th>Test Score</th>\n",
       "      <th>Intercept</th>\n",
       "      <th>Forecast based on Natl Avg</th>\n",
       "      <th>Last Waitlist</th>\n",
       "      <th>Coef_Diabetes</th>\n",
       "      <th>Coef_Obesity</th>\n",
       "      <th>Coef_Overdose</th>\n",
       "      <th>Coef_Pct_O</th>\n",
       "    </tr>\n",
       "  </thead>\n",
       "  <tbody>\n",
       "    <tr>\n",
       "      <th>0</th>\n",
       "      <td>0.975492</td>\n",
       "      <td>0.982115</td>\n",
       "      <td>0.953696</td>\n",
       "      <td>[-33926.93880240734]</td>\n",
       "      <td>[[39146.65019117306]]</td>\n",
       "      <td>40858</td>\n",
       "      <td>-893.607</td>\n",
       "      <td>1851.63</td>\n",
       "      <td>-286.197</td>\n",
       "      <td>594.713</td>\n",
       "    </tr>\n",
       "  </tbody>\n",
       "</table>\n",
       "</div>"
      ],
      "text/plain": [
       "         R2  Training Score  Test Score             Intercept  \\\n",
       "0  0.975492        0.982115    0.953696  [-33926.93880240734]   \n",
       "\n",
       "  Forecast based on Natl Avg  Last Waitlist Coef_Diabetes Coef_Obesity  \\\n",
       "0      [[39146.65019117306]]          40858      -893.607      1851.63   \n",
       "\n",
       "  Coef_Overdose Coef_Pct_O  \n",
       "0      -286.197    594.713  "
      ]
     },
     "execution_count": 343,
     "metadata": {},
     "output_type": "execute_result"
    }
   ],
   "source": [
    "summary_df"
   ]
  },
  {
   "cell_type": "code",
   "execution_count": 344,
   "metadata": {
    "scrolled": true
   },
   "outputs": [
    {
     "data": {
      "text/plain": [
       "R2                            float64\n",
       "Training Score                float64\n",
       "Test Score                    float64\n",
       "Intercept                      object\n",
       "Forecast based on Natl Avg     object\n",
       "Last Waitlist                   int64\n",
       "Coef_Diabetes                  object\n",
       "Coef_Obesity                   object\n",
       "Coef_Overdose                  object\n",
       "Coef_Pct_O                     object\n",
       "dtype: object"
      ]
     },
     "execution_count": 344,
     "metadata": {},
     "output_type": "execute_result"
    }
   ],
   "source": [
    "summary_df.dtypes"
   ]
  },
  {
   "cell_type": "code",
   "execution_count": 345,
   "metadata": {
    "scrolled": false
   },
   "outputs": [
    {
     "data": {
      "text/html": [
       "<div>\n",
       "<style scoped>\n",
       "    .dataframe tbody tr th:only-of-type {\n",
       "        vertical-align: middle;\n",
       "    }\n",
       "\n",
       "    .dataframe tbody tr th {\n",
       "        vertical-align: top;\n",
       "    }\n",
       "\n",
       "    .dataframe thead th {\n",
       "        text-align: right;\n",
       "    }\n",
       "</style>\n",
       "<table border=\"1\" class=\"dataframe\">\n",
       "  <thead>\n",
       "    <tr style=\"text-align: right;\">\n",
       "      <th></th>\n",
       "      <th>R2</th>\n",
       "      <th>Training Score</th>\n",
       "      <th>Test Score</th>\n",
       "      <th>Intercept</th>\n",
       "      <th>Forecast based on Natl Avg</th>\n",
       "      <th>Last Waitlist</th>\n",
       "      <th>Coef_Diabetes</th>\n",
       "      <th>Coef_Obesity</th>\n",
       "      <th>Coef_Overdose</th>\n",
       "      <th>Coef_Pct_O</th>\n",
       "    </tr>\n",
       "  </thead>\n",
       "  <tbody>\n",
       "    <tr>\n",
       "      <th>0</th>\n",
       "      <td>0.975492</td>\n",
       "      <td>0.982115</td>\n",
       "      <td>0.953696</td>\n",
       "      <td>[-33926.93880240734]</td>\n",
       "      <td>[[39146.65019117306]]</td>\n",
       "      <td>40858</td>\n",
       "      <td>-893.607</td>\n",
       "      <td>1851.63</td>\n",
       "      <td>-286.197</td>\n",
       "      <td>594.713</td>\n",
       "    </tr>\n",
       "  </tbody>\n",
       "</table>\n",
       "</div>"
      ],
      "text/plain": [
       "         R2  Training Score  Test Score             Intercept  \\\n",
       "0  0.975492        0.982115    0.953696  [-33926.93880240734]   \n",
       "\n",
       "  Forecast based on Natl Avg  Last Waitlist Coef_Diabetes Coef_Obesity  \\\n",
       "0      [[39146.65019117306]]          40858      -893.607      1851.63   \n",
       "\n",
       "  Coef_Overdose Coef_Pct_O  \n",
       "0      -286.197    594.713  "
      ]
     },
     "execution_count": 345,
     "metadata": {},
     "output_type": "execute_result"
    }
   ],
   "source": [
    "summary_df"
   ]
  },
  {
   "cell_type": "code",
   "execution_count": 346,
   "metadata": {
    "scrolled": true
   },
   "outputs": [],
   "source": [
    "summary_df['Intercept'] = summary_df['Intercept'].astype(int)\n",
    "summary_df['Forecast based on Natl Avg'] = summary_df['Forecast based on Natl Avg'].astype(int)\n",
    "summary_df['R2'] = summary_df['R2'].round(decimals=4)\n",
    "summary_df['Training Score'] = summary_df['Training Score'].round(decimals=4)\n",
    "summary_df['Test Score'] = summary_df['Test Score'].round(decimals=4)\n",
    "summary_df = summary_df[['R2','Training Score','Test Score','Intercept','Coef_Diabetes','Coef_Obesity','Coef_Overdose','Coef_Pct_O','Last Waitlist','Forecast based on Natl Avg']]"
   ]
  },
  {
   "cell_type": "code",
   "execution_count": 347,
   "metadata": {
    "scrolled": false
   },
   "outputs": [
    {
     "data": {
      "text/html": [
       "<div>\n",
       "<style scoped>\n",
       "    .dataframe tbody tr th:only-of-type {\n",
       "        vertical-align: middle;\n",
       "    }\n",
       "\n",
       "    .dataframe tbody tr th {\n",
       "        vertical-align: top;\n",
       "    }\n",
       "\n",
       "    .dataframe thead th {\n",
       "        text-align: right;\n",
       "    }\n",
       "</style>\n",
       "<table border=\"1\" class=\"dataframe\">\n",
       "  <thead>\n",
       "    <tr style=\"text-align: right;\">\n",
       "      <th></th>\n",
       "      <th>R2</th>\n",
       "      <th>Training Score</th>\n",
       "      <th>Test Score</th>\n",
       "      <th>Intercept</th>\n",
       "      <th>Coef_Diabetes</th>\n",
       "      <th>Coef_Obesity</th>\n",
       "      <th>Coef_Overdose</th>\n",
       "      <th>Coef_Pct_O</th>\n",
       "      <th>Last Waitlist</th>\n",
       "      <th>Forecast based on Natl Avg</th>\n",
       "    </tr>\n",
       "  </thead>\n",
       "  <tbody>\n",
       "    <tr>\n",
       "      <th>0</th>\n",
       "      <td>0.9755</td>\n",
       "      <td>0.9821</td>\n",
       "      <td>0.9537</td>\n",
       "      <td>-33926</td>\n",
       "      <td>-893.607</td>\n",
       "      <td>1851.63</td>\n",
       "      <td>-286.197</td>\n",
       "      <td>594.713</td>\n",
       "      <td>40858</td>\n",
       "      <td>39146</td>\n",
       "    </tr>\n",
       "  </tbody>\n",
       "</table>\n",
       "</div>"
      ],
      "text/plain": [
       "       R2  Training Score  Test Score  Intercept Coef_Diabetes Coef_Obesity  \\\n",
       "0  0.9755          0.9821      0.9537     -33926      -893.607      1851.63   \n",
       "\n",
       "  Coef_Overdose Coef_Pct_O  Last Waitlist  Forecast based on Natl Avg  \n",
       "0      -286.197    594.713          40858                       39146  "
      ]
     },
     "execution_count": 347,
     "metadata": {},
     "output_type": "execute_result"
    }
   ],
   "source": [
    "summary_df"
   ]
  },
  {
   "cell_type": "code",
   "execution_count": 350,
   "metadata": {
    "scrolled": true
   },
   "outputs": [
    {
     "data": {
      "text/html": [
       "<style  type=\"text/css\" >\n",
       "#T_b06f28a6_59fe_11eb_b789_c03eba874a93row0_col0,#T_b06f28a6_59fe_11eb_b789_c03eba874a93row0_col1,#T_b06f28a6_59fe_11eb_b789_c03eba874a93row0_col2,#T_b06f28a6_59fe_11eb_b789_c03eba874a93row0_col3,#T_b06f28a6_59fe_11eb_b789_c03eba874a93row0_col4,#T_b06f28a6_59fe_11eb_b789_c03eba874a93row0_col5,#T_b06f28a6_59fe_11eb_b789_c03eba874a93row0_col6,#T_b06f28a6_59fe_11eb_b789_c03eba874a93row0_col7,#T_b06f28a6_59fe_11eb_b789_c03eba874a93row0_col8,#T_b06f28a6_59fe_11eb_b789_c03eba874a93row0_col9{\n",
       "            background-color:  black;\n",
       "            color:  lawngreen;\n",
       "            border-color:  white;\n",
       "        }</style><table id=\"T_b06f28a6_59fe_11eb_b789_c03eba874a93\" ><thead>    <tr>        <th class=\"blank level0\" ></th>        <th class=\"col_heading level0 col0\" >R2</th>        <th class=\"col_heading level0 col1\" >Training Score</th>        <th class=\"col_heading level0 col2\" >Test Score</th>        <th class=\"col_heading level0 col3\" >Intercept</th>        <th class=\"col_heading level0 col4\" >Coef_Diabetes</th>        <th class=\"col_heading level0 col5\" >Coef_Obesity</th>        <th class=\"col_heading level0 col6\" >Coef_Overdose</th>        <th class=\"col_heading level0 col7\" >Coef_Pct_O</th>        <th class=\"col_heading level0 col8\" >Last Waitlist</th>        <th class=\"col_heading level0 col9\" >Forecast based on Natl Avg</th>    </tr></thead><tbody>\n",
       "                <tr>\n",
       "                        <th id=\"T_b06f28a6_59fe_11eb_b789_c03eba874a93level0_row0\" class=\"row_heading level0 row0\" >0</th>\n",
       "                        <td id=\"T_b06f28a6_59fe_11eb_b789_c03eba874a93row0_col0\" class=\"data row0 col0\" >0.975500</td>\n",
       "                        <td id=\"T_b06f28a6_59fe_11eb_b789_c03eba874a93row0_col1\" class=\"data row0 col1\" >0.982100</td>\n",
       "                        <td id=\"T_b06f28a6_59fe_11eb_b789_c03eba874a93row0_col2\" class=\"data row0 col2\" >0.953700</td>\n",
       "                        <td id=\"T_b06f28a6_59fe_11eb_b789_c03eba874a93row0_col3\" class=\"data row0 col3\" >-33926</td>\n",
       "                        <td id=\"T_b06f28a6_59fe_11eb_b789_c03eba874a93row0_col4\" class=\"data row0 col4\" >-893.606518</td>\n",
       "                        <td id=\"T_b06f28a6_59fe_11eb_b789_c03eba874a93row0_col5\" class=\"data row0 col5\" >1851.629126</td>\n",
       "                        <td id=\"T_b06f28a6_59fe_11eb_b789_c03eba874a93row0_col6\" class=\"data row0 col6\" >-286.196866</td>\n",
       "                        <td id=\"T_b06f28a6_59fe_11eb_b789_c03eba874a93row0_col7\" class=\"data row0 col7\" >594.712587</td>\n",
       "                        <td id=\"T_b06f28a6_59fe_11eb_b789_c03eba874a93row0_col8\" class=\"data row0 col8\" >40858</td>\n",
       "                        <td id=\"T_b06f28a6_59fe_11eb_b789_c03eba874a93row0_col9\" class=\"data row0 col9\" >39146</td>\n",
       "            </tr>\n",
       "    </tbody></table>"
      ],
      "text/plain": [
       "<pandas.io.formats.style.Styler at 0x214f8ad1608>"
      ]
     },
     "execution_count": 350,
     "metadata": {},
     "output_type": "execute_result"
    }
   ],
   "source": [
    "summaryalt_df = summary_df.style.set_properties(**{'background-color': 'black','color': 'lawngreen','border-color': 'white'})\n",
    "summaryalt_df"
   ]
  },
  {
   "cell_type": "code",
   "execution_count": null,
   "metadata": {},
   "outputs": [],
   "source": []
  },
  {
   "cell_type": "code",
   "execution_count": null,
   "metadata": {},
   "outputs": [],
   "source": []
  }
 ],
 "metadata": {
  "kernelspec": {
   "display_name": "Python 3.7.6 64-bit ('base')",
   "language": "python",
   "name": "python37664bitbase4c4633b153a642f9891ab9f50584a414"
  },
  "language_info": {
   "codemirror_mode": {
    "name": "ipython",
    "version": 3
   },
   "file_extension": ".py",
   "mimetype": "text/x-python",
   "name": "python",
   "nbconvert_exporter": "python",
   "pygments_lexer": "ipython3",
   "version": "3.7.6"
  }
 },
 "nbformat": 4,
 "nbformat_minor": 2
}
