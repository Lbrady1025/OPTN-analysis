{
 "cells": [
  {
   "cell_type": "code",
   "execution_count": 65,
   "metadata": {},
   "outputs": [],
   "source": [
    "#Import Dependencies\n",
    "%matplotlib inline\n",
    "import pandas as pd\n",
    "import numpy as np\n",
    "import statsmodels.api as sm\n",
    "from statsmodels.tsa.api import VAR\n",
    "import matplotlib.pyplot as plt\n",
    "from sklearn import linear_model\n",
    "from sklearn.linear_model import LinearRegression\n",
    "from sklearn.metrics import mean_squared_error, r2_score\n",
    "import dataframe_image as dfi\n",
    "from scipy import stats\n",
    "import seaborn as sns"
   ]
  },
  {
   "cell_type": "code",
   "execution_count": 66,
   "metadata": {},
   "outputs": [
    {
     "data": {
      "text/html": [
       "<div>\n",
       "<style scoped>\n",
       "    .dataframe tbody tr th:only-of-type {\n",
       "        vertical-align: middle;\n",
       "    }\n",
       "\n",
       "    .dataframe tbody tr th {\n",
       "        vertical-align: top;\n",
       "    }\n",
       "\n",
       "    .dataframe thead th {\n",
       "        text-align: right;\n",
       "    }\n",
       "</style>\n",
       "<table border=\"1\" class=\"dataframe\">\n",
       "  <thead>\n",
       "    <tr style=\"text-align: right;\">\n",
       "      <th></th>\n",
       "      <th>Year</th>\n",
       "      <th>Waitlist</th>\n",
       "      <th>Diabetes</th>\n",
       "      <th>Obesity</th>\n",
       "      <th>Overdose</th>\n",
       "      <th>Pct_O</th>\n",
       "      <th>Total_Adj</th>\n",
       "      <th>State</th>\n",
       "    </tr>\n",
       "  </thead>\n",
       "  <tbody>\n",
       "    <tr>\n",
       "      <th>0</th>\n",
       "      <td>12/31/1995</td>\n",
       "      <td>17589</td>\n",
       "      <td>4.98</td>\n",
       "      <td>15</td>\n",
       "      <td>5.5</td>\n",
       "      <td>47.683211</td>\n",
       "      <td>17393.76</td>\n",
       "      <td>United States</td>\n",
       "    </tr>\n",
       "    <tr>\n",
       "      <th>1</th>\n",
       "      <td>12/31/1996</td>\n",
       "      <td>18067</td>\n",
       "      <td>5.23</td>\n",
       "      <td>15</td>\n",
       "      <td>5.5</td>\n",
       "      <td>48.259257</td>\n",
       "      <td>17850.20</td>\n",
       "      <td>United States</td>\n",
       "    </tr>\n",
       "    <tr>\n",
       "      <th>2</th>\n",
       "      <td>12/31/1997</td>\n",
       "      <td>18780</td>\n",
       "      <td>5.52</td>\n",
       "      <td>16</td>\n",
       "      <td>5.7</td>\n",
       "      <td>48.109691</td>\n",
       "      <td>18543.37</td>\n",
       "      <td>United States</td>\n",
       "    </tr>\n",
       "    <tr>\n",
       "      <th>3</th>\n",
       "      <td>12/31/1998</td>\n",
       "      <td>19892</td>\n",
       "      <td>5.80</td>\n",
       "      <td>17</td>\n",
       "      <td>5.9</td>\n",
       "      <td>48.270662</td>\n",
       "      <td>19639.37</td>\n",
       "      <td>United States</td>\n",
       "    </tr>\n",
       "    <tr>\n",
       "      <th>4</th>\n",
       "      <td>12/31/1999</td>\n",
       "      <td>22356</td>\n",
       "      <td>6.09</td>\n",
       "      <td>18</td>\n",
       "      <td>6.1</td>\n",
       "      <td>47.897656</td>\n",
       "      <td>22081.02</td>\n",
       "      <td>United States</td>\n",
       "    </tr>\n",
       "  </tbody>\n",
       "</table>\n",
       "</div>"
      ],
      "text/plain": [
       "         Year  Waitlist  Diabetes  Obesity  Overdose      Pct_O  Total_Adj  \\\n",
       "0  12/31/1995     17589      4.98       15       5.5  47.683211   17393.76   \n",
       "1  12/31/1996     18067      5.23       15       5.5  48.259257   17850.20   \n",
       "2  12/31/1997     18780      5.52       16       5.7  48.109691   18543.37   \n",
       "3  12/31/1998     19892      5.80       17       5.9  48.270662   19639.37   \n",
       "4  12/31/1999     22356      6.09       18       6.1  47.897656   22081.02   \n",
       "\n",
       "           State  \n",
       "0  United States  \n",
       "1  United States  \n",
       "2  United States  \n",
       "3  United States  \n",
       "4  United States  "
      ]
     },
     "execution_count": 66,
     "metadata": {},
     "output_type": "execute_result"
    }
   ],
   "source": [
    "# Load dataset\n",
    "df = pd.read_csv('Final_data_National.csv')\n",
    "df.head()"
   ]
  },
  {
   "cell_type": "code",
   "execution_count": 67,
   "metadata": {
    "scrolled": false
   },
   "outputs": [
    {
     "data": {
      "text/html": [
       "<div>\n",
       "<style scoped>\n",
       "    .dataframe tbody tr th:only-of-type {\n",
       "        vertical-align: middle;\n",
       "    }\n",
       "\n",
       "    .dataframe tbody tr th {\n",
       "        vertical-align: top;\n",
       "    }\n",
       "\n",
       "    .dataframe thead th {\n",
       "        text-align: right;\n",
       "    }\n",
       "</style>\n",
       "<table border=\"1\" class=\"dataframe\">\n",
       "  <thead>\n",
       "    <tr style=\"text-align: right;\">\n",
       "      <th></th>\n",
       "      <th>Year</th>\n",
       "      <th>Waitlist</th>\n",
       "      <th>Diabetes</th>\n",
       "      <th>Obesity</th>\n",
       "      <th>Overdose</th>\n",
       "      <th>Pct_O</th>\n",
       "      <th>Total_Adj</th>\n",
       "      <th>State</th>\n",
       "    </tr>\n",
       "  </thead>\n",
       "  <tbody>\n",
       "    <tr>\n",
       "      <th>0</th>\n",
       "      <td>12/31/1995</td>\n",
       "      <td>17589</td>\n",
       "      <td>4.98</td>\n",
       "      <td>15</td>\n",
       "      <td>5.5</td>\n",
       "      <td>47.683211</td>\n",
       "      <td>17393.76000</td>\n",
       "      <td>United States</td>\n",
       "    </tr>\n",
       "    <tr>\n",
       "      <th>1</th>\n",
       "      <td>12/31/1996</td>\n",
       "      <td>18067</td>\n",
       "      <td>5.23</td>\n",
       "      <td>15</td>\n",
       "      <td>5.5</td>\n",
       "      <td>48.259257</td>\n",
       "      <td>17850.20000</td>\n",
       "      <td>United States</td>\n",
       "    </tr>\n",
       "    <tr>\n",
       "      <th>2</th>\n",
       "      <td>12/31/1997</td>\n",
       "      <td>18780</td>\n",
       "      <td>5.52</td>\n",
       "      <td>16</td>\n",
       "      <td>5.7</td>\n",
       "      <td>48.109691</td>\n",
       "      <td>18543.37000</td>\n",
       "      <td>United States</td>\n",
       "    </tr>\n",
       "    <tr>\n",
       "      <th>3</th>\n",
       "      <td>12/31/1998</td>\n",
       "      <td>19892</td>\n",
       "      <td>5.80</td>\n",
       "      <td>17</td>\n",
       "      <td>5.9</td>\n",
       "      <td>48.270662</td>\n",
       "      <td>19639.37000</td>\n",
       "      <td>United States</td>\n",
       "    </tr>\n",
       "    <tr>\n",
       "      <th>4</th>\n",
       "      <td>12/31/1999</td>\n",
       "      <td>22356</td>\n",
       "      <td>6.09</td>\n",
       "      <td>18</td>\n",
       "      <td>6.1</td>\n",
       "      <td>47.897656</td>\n",
       "      <td>22081.02000</td>\n",
       "      <td>United States</td>\n",
       "    </tr>\n",
       "    <tr>\n",
       "      <th>5</th>\n",
       "      <td>12/31/2000</td>\n",
       "      <td>22879</td>\n",
       "      <td>6.41</td>\n",
       "      <td>19</td>\n",
       "      <td>6.2</td>\n",
       "      <td>48.446173</td>\n",
       "      <td>22618.18000</td>\n",
       "      <td>United States</td>\n",
       "    </tr>\n",
       "    <tr>\n",
       "      <th>6</th>\n",
       "      <td>12/31/2001</td>\n",
       "      <td>22902</td>\n",
       "      <td>6.62</td>\n",
       "      <td>20</td>\n",
       "      <td>6.8</td>\n",
       "      <td>48.332023</td>\n",
       "      <td>22674.20000</td>\n",
       "      <td>United States</td>\n",
       "    </tr>\n",
       "    <tr>\n",
       "      <th>7</th>\n",
       "      <td>12/31/2002</td>\n",
       "      <td>24121</td>\n",
       "      <td>6.85</td>\n",
       "      <td>21</td>\n",
       "      <td>8.2</td>\n",
       "      <td>48.584221</td>\n",
       "      <td>23896.16000</td>\n",
       "      <td>United States</td>\n",
       "    </tr>\n",
       "    <tr>\n",
       "      <th>8</th>\n",
       "      <td>12/31/2003</td>\n",
       "      <td>25034</td>\n",
       "      <td>7.12</td>\n",
       "      <td>22</td>\n",
       "      <td>8.9</td>\n",
       "      <td>48.561956</td>\n",
       "      <td>24817.91000</td>\n",
       "      <td>United States</td>\n",
       "    </tr>\n",
       "    <tr>\n",
       "      <th>9</th>\n",
       "      <td>12/31/2004</td>\n",
       "      <td>27745</td>\n",
       "      <td>6.92</td>\n",
       "      <td>22</td>\n",
       "      <td>9.4</td>\n",
       "      <td>48.934943</td>\n",
       "      <td>27487.03000</td>\n",
       "      <td>United States</td>\n",
       "    </tr>\n",
       "    <tr>\n",
       "      <th>10</th>\n",
       "      <td>12/31/2005</td>\n",
       "      <td>29635</td>\n",
       "      <td>7.19</td>\n",
       "      <td>23</td>\n",
       "      <td>10.1</td>\n",
       "      <td>48.361734</td>\n",
       "      <td>29360.59000</td>\n",
       "      <td>United States</td>\n",
       "    </tr>\n",
       "    <tr>\n",
       "      <th>11</th>\n",
       "      <td>12/31/2006</td>\n",
       "      <td>31777</td>\n",
       "      <td>7.41</td>\n",
       "      <td>24</td>\n",
       "      <td>11.5</td>\n",
       "      <td>48.399786</td>\n",
       "      <td>31469.11000</td>\n",
       "      <td>United States</td>\n",
       "    </tr>\n",
       "    <tr>\n",
       "      <th>12</th>\n",
       "      <td>12/31/2007</td>\n",
       "      <td>33037</td>\n",
       "      <td>7.80</td>\n",
       "      <td>25</td>\n",
       "      <td>11.9</td>\n",
       "      <td>48.724158</td>\n",
       "      <td>32721.30000</td>\n",
       "      <td>United States</td>\n",
       "    </tr>\n",
       "    <tr>\n",
       "      <th>13</th>\n",
       "      <td>12/31/2008</td>\n",
       "      <td>33289</td>\n",
       "      <td>8.10</td>\n",
       "      <td>26</td>\n",
       "      <td>11.9</td>\n",
       "      <td>48.391360</td>\n",
       "      <td>32972.64000</td>\n",
       "      <td>United States</td>\n",
       "    </tr>\n",
       "    <tr>\n",
       "      <th>14</th>\n",
       "      <td>12/31/2009</td>\n",
       "      <td>34325</td>\n",
       "      <td>8.36</td>\n",
       "      <td>27</td>\n",
       "      <td>11.9</td>\n",
       "      <td>48.550619</td>\n",
       "      <td>34022.77000</td>\n",
       "      <td>United States</td>\n",
       "    </tr>\n",
       "    <tr>\n",
       "      <th>15</th>\n",
       "      <td>12/31/2010</td>\n",
       "      <td>35000</td>\n",
       "      <td>8.59</td>\n",
       "      <td>27</td>\n",
       "      <td>12.3</td>\n",
       "      <td>48.471429</td>\n",
       "      <td>34936.12000</td>\n",
       "      <td>United States</td>\n",
       "    </tr>\n",
       "    <tr>\n",
       "      <th>16</th>\n",
       "      <td>12/31/2011</td>\n",
       "      <td>34206</td>\n",
       "      <td>9.54</td>\n",
       "      <td>28</td>\n",
       "      <td>13.2</td>\n",
       "      <td>48.409636</td>\n",
       "      <td>33958.82000</td>\n",
       "      <td>United States</td>\n",
       "    </tr>\n",
       "    <tr>\n",
       "      <th>17</th>\n",
       "      <td>12/31/2012</td>\n",
       "      <td>35577</td>\n",
       "      <td>9.72</td>\n",
       "      <td>28</td>\n",
       "      <td>13.1</td>\n",
       "      <td>48.677516</td>\n",
       "      <td>35317.32000</td>\n",
       "      <td>United States</td>\n",
       "    </tr>\n",
       "    <tr>\n",
       "      <th>18</th>\n",
       "      <td>12/31/2013</td>\n",
       "      <td>37204</td>\n",
       "      <td>9.81</td>\n",
       "      <td>29</td>\n",
       "      <td>13.8</td>\n",
       "      <td>48.430276</td>\n",
       "      <td>36947.61000</td>\n",
       "      <td>United States</td>\n",
       "    </tr>\n",
       "    <tr>\n",
       "      <th>19</th>\n",
       "      <td>12/31/2014</td>\n",
       "      <td>36974</td>\n",
       "      <td>10.13</td>\n",
       "      <td>29</td>\n",
       "      <td>14.7</td>\n",
       "      <td>48.550333</td>\n",
       "      <td>36704.03000</td>\n",
       "      <td>United States</td>\n",
       "    </tr>\n",
       "    <tr>\n",
       "      <th>20</th>\n",
       "      <td>12/31/2015</td>\n",
       "      <td>35828</td>\n",
       "      <td>10.12</td>\n",
       "      <td>29</td>\n",
       "      <td>16.3</td>\n",
       "      <td>48.467679</td>\n",
       "      <td>35565.27000</td>\n",
       "      <td>United States</td>\n",
       "    </tr>\n",
       "    <tr>\n",
       "      <th>21</th>\n",
       "      <td>12/31/2016</td>\n",
       "      <td>36244</td>\n",
       "      <td>10.41</td>\n",
       "      <td>30</td>\n",
       "      <td>19.8</td>\n",
       "      <td>49.282640</td>\n",
       "      <td>35983.32000</td>\n",
       "      <td>United States</td>\n",
       "    </tr>\n",
       "    <tr>\n",
       "      <th>22</th>\n",
       "      <td>12/31/2017</td>\n",
       "      <td>36430</td>\n",
       "      <td>10.51</td>\n",
       "      <td>31</td>\n",
       "      <td>21.7</td>\n",
       "      <td>48.328301</td>\n",
       "      <td>36199.40000</td>\n",
       "      <td>United States</td>\n",
       "    </tr>\n",
       "    <tr>\n",
       "      <th>23</th>\n",
       "      <td>12/31/2018</td>\n",
       "      <td>39685</td>\n",
       "      <td>11.09</td>\n",
       "      <td>31</td>\n",
       "      <td>20.7</td>\n",
       "      <td>48.932846</td>\n",
       "      <td>39477.17000</td>\n",
       "      <td>United States</td>\n",
       "    </tr>\n",
       "    <tr>\n",
       "      <th>24</th>\n",
       "      <td>12/31/2019</td>\n",
       "      <td>42085</td>\n",
       "      <td>10.77</td>\n",
       "      <td>32</td>\n",
       "      <td>19.9</td>\n",
       "      <td>49.048354</td>\n",
       "      <td>41885.06000</td>\n",
       "      <td>United States</td>\n",
       "    </tr>\n",
       "    <tr>\n",
       "      <th>25</th>\n",
       "      <td>12/31/2020</td>\n",
       "      <td>36157</td>\n",
       "      <td>10.77</td>\n",
       "      <td>32</td>\n",
       "      <td>19.9</td>\n",
       "      <td>49.048354</td>\n",
       "      <td>35985.22588</td>\n",
       "      <td>United States</td>\n",
       "    </tr>\n",
       "  </tbody>\n",
       "</table>\n",
       "</div>"
      ],
      "text/plain": [
       "          Year  Waitlist  Diabetes  Obesity  Overdose      Pct_O    Total_Adj  \\\n",
       "0   12/31/1995     17589      4.98       15       5.5  47.683211  17393.76000   \n",
       "1   12/31/1996     18067      5.23       15       5.5  48.259257  17850.20000   \n",
       "2   12/31/1997     18780      5.52       16       5.7  48.109691  18543.37000   \n",
       "3   12/31/1998     19892      5.80       17       5.9  48.270662  19639.37000   \n",
       "4   12/31/1999     22356      6.09       18       6.1  47.897656  22081.02000   \n",
       "5   12/31/2000     22879      6.41       19       6.2  48.446173  22618.18000   \n",
       "6   12/31/2001     22902      6.62       20       6.8  48.332023  22674.20000   \n",
       "7   12/31/2002     24121      6.85       21       8.2  48.584221  23896.16000   \n",
       "8   12/31/2003     25034      7.12       22       8.9  48.561956  24817.91000   \n",
       "9   12/31/2004     27745      6.92       22       9.4  48.934943  27487.03000   \n",
       "10  12/31/2005     29635      7.19       23      10.1  48.361734  29360.59000   \n",
       "11  12/31/2006     31777      7.41       24      11.5  48.399786  31469.11000   \n",
       "12  12/31/2007     33037      7.80       25      11.9  48.724158  32721.30000   \n",
       "13  12/31/2008     33289      8.10       26      11.9  48.391360  32972.64000   \n",
       "14  12/31/2009     34325      8.36       27      11.9  48.550619  34022.77000   \n",
       "15  12/31/2010     35000      8.59       27      12.3  48.471429  34936.12000   \n",
       "16  12/31/2011     34206      9.54       28      13.2  48.409636  33958.82000   \n",
       "17  12/31/2012     35577      9.72       28      13.1  48.677516  35317.32000   \n",
       "18  12/31/2013     37204      9.81       29      13.8  48.430276  36947.61000   \n",
       "19  12/31/2014     36974     10.13       29      14.7  48.550333  36704.03000   \n",
       "20  12/31/2015     35828     10.12       29      16.3  48.467679  35565.27000   \n",
       "21  12/31/2016     36244     10.41       30      19.8  49.282640  35983.32000   \n",
       "22  12/31/2017     36430     10.51       31      21.7  48.328301  36199.40000   \n",
       "23  12/31/2018     39685     11.09       31      20.7  48.932846  39477.17000   \n",
       "24  12/31/2019     42085     10.77       32      19.9  49.048354  41885.06000   \n",
       "25  12/31/2020     36157     10.77       32      19.9  49.048354  35985.22588   \n",
       "\n",
       "            State  \n",
       "0   United States  \n",
       "1   United States  \n",
       "2   United States  \n",
       "3   United States  \n",
       "4   United States  \n",
       "5   United States  \n",
       "6   United States  \n",
       "7   United States  \n",
       "8   United States  \n",
       "9   United States  \n",
       "10  United States  \n",
       "11  United States  \n",
       "12  United States  \n",
       "13  United States  \n",
       "14  United States  \n",
       "15  United States  \n",
       "16  United States  \n",
       "17  United States  \n",
       "18  United States  \n",
       "19  United States  \n",
       "20  United States  \n",
       "21  United States  \n",
       "22  United States  \n",
       "23  United States  \n",
       "24  United States  \n",
       "25  United States  "
      ]
     },
     "execution_count": 67,
     "metadata": {},
     "output_type": "execute_result"
    }
   ],
   "source": [
    "df.sort_values(by=['Year'], inplace=True, ascending=True)\n",
    "df = df.loc[df['State']=='United States']\n",
    "df"
   ]
  },
  {
   "cell_type": "code",
   "execution_count": 68,
   "metadata": {
    "scrolled": true
   },
   "outputs": [
    {
     "data": {
      "text/html": [
       "<div>\n",
       "<style scoped>\n",
       "    .dataframe tbody tr th:only-of-type {\n",
       "        vertical-align: middle;\n",
       "    }\n",
       "\n",
       "    .dataframe tbody tr th {\n",
       "        vertical-align: top;\n",
       "    }\n",
       "\n",
       "    .dataframe thead th {\n",
       "        text-align: right;\n",
       "    }\n",
       "</style>\n",
       "<table border=\"1\" class=\"dataframe\">\n",
       "  <thead>\n",
       "    <tr style=\"text-align: right;\">\n",
       "      <th></th>\n",
       "      <th>Total_Adj</th>\n",
       "    </tr>\n",
       "  </thead>\n",
       "  <tbody>\n",
       "    <tr>\n",
       "      <th>0</th>\n",
       "      <td>35985.22588</td>\n",
       "    </tr>\n",
       "  </tbody>\n",
       "</table>\n",
       "</div>"
      ],
      "text/plain": [
       "     Total_Adj\n",
       "0  35985.22588"
      ]
     },
     "execution_count": 68,
     "metadata": {},
     "output_type": "execute_result"
    }
   ],
   "source": [
    "df_output = df.tail(1)\n",
    "lastyear_df = df_output.drop(columns=['Year', 'Waitlist','Diabetes','Obesity','Overdose','Pct_O','State'])\n",
    "lastyear_df = lastyear_df.reset_index(drop=True)\n",
    "lastyear_df"
   ]
  },
  {
   "cell_type": "code",
   "execution_count": 69,
   "metadata": {},
   "outputs": [
    {
     "data": {
      "image/png": "[encoded data removed]",
      "text/plain": [
       "<Figure size 432x288 with 36 Axes>"
      ]
     },
     "metadata": {
      "needs_background": "light"
     },
     "output_type": "display_data"
    }
   ],
   "source": [
    "df.plot(kind='box', subplots=True, layout=(6,6), sharex=False, sharey=False)\n",
    "plt.show()"
   ]
  },
  {
   "cell_type": "code",
   "execution_count": 70,
   "metadata": {},
   "outputs": [
    {
     "data": {
      "image/png": "[encoded data removed]",
      "text/plain": [
       "<Figure size 432x288 with 36 Axes>"
      ]
     },
     "metadata": {
      "needs_background": "light"
     },
     "output_type": "display_data"
    }
   ],
   "source": [
    "# scatter plot matrix\n",
    "pd.plotting.scatter_matrix(df)\n",
    "plt.show()"
   ]
  },
  {
   "cell_type": "code",
   "execution_count": 71,
   "metadata": {
    "scrolled": true
   },
   "outputs": [
    {
     "data": {
      "text/html": [
       "<div>\n",
       "<style scoped>\n",
       "    .dataframe tbody tr th:only-of-type {\n",
       "        vertical-align: middle;\n",
       "    }\n",
       "\n",
       "    .dataframe tbody tr th {\n",
       "        vertical-align: top;\n",
       "    }\n",
       "\n",
       "    .dataframe thead th {\n",
       "        text-align: right;\n",
       "    }\n",
       "</style>\n",
       "<table border=\"1\" class=\"dataframe\">\n",
       "  <thead>\n",
       "    <tr style=\"text-align: right;\">\n",
       "      <th></th>\n",
       "      <th>Waitlist</th>\n",
       "      <th>Diabetes</th>\n",
       "      <th>Obesity</th>\n",
       "      <th>Overdose</th>\n",
       "      <th>Pct_O</th>\n",
       "      <th>Total_Adj</th>\n",
       "    </tr>\n",
       "  </thead>\n",
       "  <tbody>\n",
       "    <tr>\n",
       "      <th>count</th>\n",
       "      <td>26.000000</td>\n",
       "      <td>26.000000</td>\n",
       "      <td>26.000000</td>\n",
       "      <td>26.000000</td>\n",
       "      <td>26.000000</td>\n",
       "      <td>26.000000</td>\n",
       "    </tr>\n",
       "    <tr>\n",
       "      <th>mean</th>\n",
       "      <td>30262.230769</td>\n",
       "      <td>8.148462</td>\n",
       "      <td>24.461538</td>\n",
       "      <td>11.957692</td>\n",
       "      <td>48.505954</td>\n",
       "      <td>30019.498303</td>\n",
       "    </tr>\n",
       "    <tr>\n",
       "      <th>std</th>\n",
       "      <td>7361.928097</td>\n",
       "      <td>1.946545</td>\n",
       "      <td>5.500769</td>\n",
       "      <td>5.210541</td>\n",
       "      <td>0.351944</td>\n",
       "      <td>7362.153768</td>\n",
       "    </tr>\n",
       "    <tr>\n",
       "      <th>min</th>\n",
       "      <td>17589.000000</td>\n",
       "      <td>4.980000</td>\n",
       "      <td>15.000000</td>\n",
       "      <td>5.500000</td>\n",
       "      <td>47.683211</td>\n",
       "      <td>17393.760000</td>\n",
       "    </tr>\n",
       "    <tr>\n",
       "      <th>25%</th>\n",
       "      <td>23206.750000</td>\n",
       "      <td>6.677500</td>\n",
       "      <td>20.250000</td>\n",
       "      <td>7.150000</td>\n",
       "      <td>48.339451</td>\n",
       "      <td>22979.690000</td>\n",
       "    </tr>\n",
       "    <tr>\n",
       "      <th>50%</th>\n",
       "      <td>33163.000000</td>\n",
       "      <td>7.950000</td>\n",
       "      <td>25.500000</td>\n",
       "      <td>11.900000</td>\n",
       "      <td>48.456926</td>\n",
       "      <td>32846.970000</td>\n",
       "    </tr>\n",
       "    <tr>\n",
       "      <th>75%</th>\n",
       "      <td>36074.750000</td>\n",
       "      <td>10.042500</td>\n",
       "      <td>29.000000</td>\n",
       "      <td>14.475000</td>\n",
       "      <td>48.654193</td>\n",
       "      <td>35878.807500</td>\n",
       "    </tr>\n",
       "    <tr>\n",
       "      <th>max</th>\n",
       "      <td>42085.000000</td>\n",
       "      <td>11.090000</td>\n",
       "      <td>32.000000</td>\n",
       "      <td>21.700000</td>\n",
       "      <td>49.282640</td>\n",
       "      <td>41885.060000</td>\n",
       "    </tr>\n",
       "  </tbody>\n",
       "</table>\n",
       "</div>"
      ],
      "text/plain": [
       "           Waitlist   Diabetes    Obesity   Overdose      Pct_O     Total_Adj\n",
       "count     26.000000  26.000000  26.000000  26.000000  26.000000     26.000000\n",
       "mean   30262.230769   8.148462  24.461538  11.957692  48.505954  30019.498303\n",
       "std     7361.928097   1.946545   5.500769   5.210541   0.351944   7362.153768\n",
       "min    17589.000000   4.980000  15.000000   5.500000  47.683211  17393.760000\n",
       "25%    23206.750000   6.677500  20.250000   7.150000  48.339451  22979.690000\n",
       "50%    33163.000000   7.950000  25.500000  11.900000  48.456926  32846.970000\n",
       "75%    36074.750000  10.042500  29.000000  14.475000  48.654193  35878.807500\n",
       "max    42085.000000  11.090000  32.000000  21.700000  49.282640  41885.060000"
      ]
     },
     "execution_count": 71,
     "metadata": {},
     "output_type": "execute_result"
    }
   ],
   "source": [
    "#Describe data\n",
    "df.describe()"
   ]
  },
  {
   "cell_type": "code",
   "execution_count": 72,
   "metadata": {
    "scrolled": true
   },
   "outputs": [
    {
     "name": "stdout",
     "output_type": "stream",
     "text": [
      "          Diabetes   Obesity  Overdose     Pct_O\n",
      "Diabetes  1.000000  0.981923  0.954629  0.668883\n",
      "Obesity   0.981923  1.000000  0.943421  0.683520\n",
      "Overdose  0.954629  0.943421  1.000000  0.675088\n",
      "Pct_O     0.668883  0.683520  0.675088  1.000000\n"
     ]
    }
   ],
   "source": [
    "#Correlation Matrix\n",
    "corr_matrix = df[[\"Diabetes\", \"Obesity\", \"Overdose\", \"Pct_O\"]].corr()\n",
    "print(corr_matrix)"
   ]
  },
  {
   "cell_type": "code",
   "execution_count": 73,
   "metadata": {},
   "outputs": [
    {
     "name": "stdout",
     "output_type": "stream",
     "text": [
      "(26, 4) (26, 1)\n"
     ]
    }
   ],
   "source": [
    "#Assign variables for regression\n",
    "X = df[['Diabetes','Obesity','Overdose','Pct_O']]\n",
    "y = df['Total_Adj'].values.reshape(-1,1)\n",
    "print(X.shape, y.shape)"
   ]
  },
  {
   "cell_type": "code",
   "execution_count": 74,
   "metadata": {},
   "outputs": [],
   "source": [
    "#Use train_test_split to create training and testing data\n",
    "from sklearn.model_selection import train_test_split\n",
    "X_train, X_test, y_train, y_test = train_test_split(X, y, random_state=42)"
   ]
  },
  {
   "cell_type": "code",
   "execution_count": 75,
   "metadata": {},
   "outputs": [],
   "source": [
    "#Create model\n",
    "model = LinearRegression()"
   ]
  },
  {
   "cell_type": "code",
   "execution_count": 76,
   "metadata": {},
   "outputs": [
    {
     "name": "stdout",
     "output_type": "stream",
     "text": [
      "Training Score: 0.9698951084432607\n",
      "Testing Score: 0.9448042989435885\n"
     ]
    }
   ],
   "source": [
    "#fit the model to the training data and calculate the scores for the training and testing data\n",
    "#Begin\n",
    "model.fit(X_train, y_train)\n",
    "training_score = model.score(X_train, y_train)\n",
    "testing_score = model.score(X_test, y_test)\n",
    "#End\n",
    "print(f\"Training Score: {training_score}\")\n",
    "print(f\"Testing Score: {testing_score}\")\n"
   ]
  },
  {
   "cell_type": "code",
   "execution_count": 77,
   "metadata": {},
   "outputs": [
    {
     "data": {
      "image/png": "[encoded data removed]",
      "text/plain": [
       "<Figure size 432x288 with 1 Axes>"
      ]
     },
     "metadata": {
      "needs_background": "light"
     },
     "output_type": "display_data"
    }
   ],
   "source": [
    "#Plot Residuals for Training and Testing Data\n",
    "#Begin\n",
    "plt.scatter(model.predict(X_train), model.predict(X_train) - y_train, c=\"green\", label=\"Training Data\")\n",
    "plt.scatter(model.predict(X_test), model.predict(X_test) - y_test, c=\"red\", label=\"Testing Data\")\n",
    "plt.legend()\n",
    "plt.hlines(y=0, xmin=y.min(), xmax=y.max())\n",
    "plt.title(\"Residual Plot\")\n",
    "plt.savefig('images/National_Residual2020_Plot.png', dpi=100, facecolor='w', edgecolor='w',\n",
    "        orientation='portrait', format=None,\n",
    "        transparent=False, bbox_inches=None, pad_inches=0.2, metadata=None)\n",
    "#End"
   ]
  },
  {
   "cell_type": "code",
   "execution_count": 78,
   "metadata": {},
   "outputs": [
    {
     "name": "stdout",
     "output_type": "stream",
     "text": [
      "coefficient of determination 0.9632290268431571\n"
     ]
    }
   ],
   "source": [
    "#R2 of original model\n",
    "r_sq = model.score(X, y)\n",
    "print('coefficient of determination', r_sq)"
   ]
  },
  {
   "cell_type": "code",
   "execution_count": 79,
   "metadata": {},
   "outputs": [
    {
     "name": "stdout",
     "output_type": "stream",
     "text": [
      "[27212.72167401]\n"
     ]
    }
   ],
   "source": [
    "print(model.intercept_)"
   ]
  },
  {
   "cell_type": "code",
   "execution_count": 80,
   "metadata": {},
   "outputs": [
    {
     "name": "stdout",
     "output_type": "stream",
     "text": [
      "[[  -8.44866853 1634.27762484 -351.57524929 -680.60048992]]\n"
     ]
    }
   ],
   "source": [
    "print(model.coef_)"
   ]
  },
  {
   "cell_type": "code",
   "execution_count": 81,
   "metadata": {
    "scrolled": false
   },
   "outputs": [
    {
     "name": "stdout",
     "output_type": "stream",
     "text": [
      "[[39072.84204197]]\n"
     ]
    }
   ],
   "source": [
    "#Make a Prediction using model\n",
    "predictedTotal_Adj = model.predict([[10.77,32,19.9,49]])\n",
    "print(predictedTotal_Adj)"
   ]
  },
  {
   "cell_type": "code",
   "execution_count": 82,
   "metadata": {
    "scrolled": false
   },
   "outputs": [
    {
     "name": "stdout",
     "output_type": "stream",
     "text": [
      "(19, 4)\n"
     ]
    }
   ],
   "source": [
    "print(X_train.shape)"
   ]
  },
  {
   "cell_type": "code",
   "execution_count": 83,
   "metadata": {
    "scrolled": true
   },
   "outputs": [
    {
     "name": "stdout",
     "output_type": "stream",
     "text": [
      "(19, 1)\n"
     ]
    }
   ],
   "source": [
    "print(y_train.shape)"
   ]
  },
  {
   "cell_type": "code",
   "execution_count": 84,
   "metadata": {},
   "outputs": [
    {
     "name": "stdout",
     "output_type": "stream",
     "text": [
      "(7, 1)\n"
     ]
    }
   ],
   "source": [
    "print(y_test.shape)"
   ]
  },
  {
   "cell_type": "code",
   "execution_count": 85,
   "metadata": {},
   "outputs": [
    {
     "name": "stdout",
     "output_type": "stream",
     "text": [
      "(7, 4)\n"
     ]
    }
   ],
   "source": [
    "print(X_test.shape)"
   ]
  },
  {
   "cell_type": "code",
   "execution_count": 86,
   "metadata": {},
   "outputs": [],
   "source": [
    "modeldetail = sm.OLS(y, X)\n",
    "resultstest = modeldetail.fit()"
   ]
  },
  {
   "cell_type": "code",
   "execution_count": 87,
   "metadata": {},
   "outputs": [
    {
     "name": "stdout",
     "output_type": "stream",
     "text": [
      "(26, 4)\n"
     ]
    }
   ],
   "source": [
    "print(X.shape)"
   ]
  },
  {
   "cell_type": "code",
   "execution_count": 88,
   "metadata": {},
   "outputs": [
    {
     "name": "stdout",
     "output_type": "stream",
     "text": [
      "(26, 1)\n"
     ]
    }
   ],
   "source": [
    "print(y.shape)"
   ]
  },
  {
   "cell_type": "code",
   "execution_count": 89,
   "metadata": {
    "scrolled": true
   },
   "outputs": [
    {
     "ename": "TypeError",
     "evalue": "bad operand type for unary +: 'NoneType'",
     "output_type": "error",
     "traceback": [
      "\u001b[1;31m---------------------------------------------------------------------------\u001b[0m",
      "\u001b[1;31mTypeError\u001b[0m                                 Traceback (most recent call last)",
      "\u001b[1;32m<ipython-input-89-d977cb00fffa>\u001b[0m in \u001b[0;36m<module>\u001b[1;34m\u001b[0m\n\u001b[0;32m      9\u001b[0m +plt.savefig('images/WestVirginia.png', dpi=100, facecolor='w', edgecolor='w',\n\u001b[0;32m     10\u001b[0m         \u001b[0morientation\u001b[0m\u001b[1;33m=\u001b[0m\u001b[1;34m'portrait'\u001b[0m\u001b[1;33m,\u001b[0m \u001b[0mformat\u001b[0m\u001b[1;33m=\u001b[0m\u001b[1;32mNone\u001b[0m\u001b[1;33m,\u001b[0m\u001b[1;33m\u001b[0m\u001b[1;33m\u001b[0m\u001b[0m\n\u001b[1;32m---> 11\u001b[1;33m         transparent=False, bbox_inches=None, pad_inches=0.2, metadata=None)\n\u001b[0m\u001b[0;32m     12\u001b[0m \u001b[0mplt\u001b[0m\u001b[1;33m.\u001b[0m\u001b[0mshow\u001b[0m\u001b[1;33m(\u001b[0m\u001b[1;33m)\u001b[0m\u001b[1;33m\u001b[0m\u001b[1;33m\u001b[0m\u001b[0m\n",
      "\u001b[1;31mTypeError\u001b[0m: bad operand type for unary +: 'NoneType'"
     ]
    },
    {
     "data": {
      "image/png": "[encoded data removed]",
      "text/plain": [
       "<Figure size 432x288 with 1 Axes>"
      ]
     },
     "metadata": {
      "needs_background": "light"
     },
     "output_type": "display_data"
    }
   ],
   "source": [
    "plt.scatter(X[('Diabetes')], y, label='Diabetes')\n",
    "plt.scatter(X[('Obesity')], y, label='Obesity')\n",
    "plt.scatter(X[('Overdose')], y, label='Overdose')\n",
    "plt.scatter(X[('Pct_O')], y, label='% O-type')\n",
    "plt.title('Full Model')\n",
    "plt.xlabel('Variables through Time (in %, except Overdose in per 100,000)')\n",
    "plt.ylabel('Kidney Waitlist through Time')\n",
    "plt.legend(title='variables',loc='lower center')\n",
    "+plt.savefig('images/WestVirginia.png', dpi=100, facecolor='w', edgecolor='w',\n",
    "        orientation='portrait', format=None,\n",
    "        transparent=False, bbox_inches=None, pad_inches=0.2, metadata=None)\n",
    "plt.show()"
   ]
  },
  {
   "cell_type": "code",
   "execution_count": 90,
   "metadata": {
    "scrolled": true
   },
   "outputs": [
    {
     "data": {
      "image/png": "[encoded data removed]",
      "text/plain": [
       "<Figure size 504x360 with 1 Axes>"
      ]
     },
     "metadata": {
      "needs_background": "light"
     },
     "output_type": "display_data"
    }
   ],
   "source": [
    "fig = plt.figure()\n",
    "plt.scatter(X_train[('Diabetes')], y_train)\n",
    "plt.scatter(X_train[('Obesity')], y_train)\n",
    "plt.scatter(X_train[('Overdose')], y_train)\n",
    "plt.scatter(X_train[('Pct_O')], y_train)\n",
    "plt.title('Training Model')\n",
    "fig.set_size_inches(7,5)\n",
    "plt.show()"
   ]
  },
  {
   "cell_type": "code",
   "execution_count": 91,
   "metadata": {},
   "outputs": [
    {
     "data": {
      "image/png": "[encoded data removed]",
      "text/plain": [
       "<Figure size 432x288 with 1 Axes>"
      ]
     },
     "metadata": {
      "needs_background": "light"
     },
     "output_type": "display_data"
    }
   ],
   "source": [
    "plt.scatter(X_test[('Diabetes')], y_test)\n",
    "plt.scatter(X_test[('Obesity')], y_test)\n",
    "plt.scatter(X_test[('Overdose')], y_test)\n",
    "plt.scatter(X_test[('Pct_O')], y_test)\n",
    "plt.title('Test Model')\n",
    "plt.show()"
   ]
  },
  {
   "cell_type": "code",
   "execution_count": 92,
   "metadata": {},
   "outputs": [
    {
     "data": {
      "image/png": "[encoded data removed]",
      "text/plain": [
       "<Figure size 432x288 with 1 Axes>"
      ]
     },
     "metadata": {
      "needs_background": "light"
     },
     "output_type": "display_data"
    }
   ],
   "source": [
    "plt.scatter(X_train[('Diabetes')], y_train)\n",
    "plt.scatter(X_train[('Obesity')], y_train)\n",
    "plt.scatter(X_train[('Overdose')], y_train)\n",
    "plt.scatter(X_train[('Pct_O')], y_train)\n",
    "plt.scatter(X_test[('Diabetes')], y_test)\n",
    "plt.scatter(X_test[('Obesity')], y_test)\n",
    "plt.scatter(X_test[('Overdose')], y_test)\n",
    "plt.scatter(X_test[('Pct_O')], y_test)\n",
    "plt.title('Test Model')\n",
    "plt.show()"
   ]
  },
  {
   "cell_type": "code",
   "execution_count": 93,
   "metadata": {
    "scrolled": true
   },
   "outputs": [
    {
     "data": {
      "text/html": [
       "<table class=\"simpletable\">\n",
       "<caption>OLS Regression Results</caption>\n",
       "<tr>\n",
       "  <th>Dep. Variable:</th>        <td>Total_Adj</td>    <th>  R-squared:         </th> <td>   0.966</td>\n",
       "</tr>\n",
       "<tr>\n",
       "  <th>Model:</th>                   <td>OLS</td>       <th>  Adj. R-squared:    </th> <td>   0.959</td>\n",
       "</tr>\n",
       "<tr>\n",
       "  <th>Method:</th>             <td>Least Squares</td>  <th>  F-statistic:       </th> <td>   148.8</td>\n",
       "</tr>\n",
       "<tr>\n",
       "  <th>Date:</th>             <td>Thu, 21 Jan 2021</td> <th>  Prob (F-statistic):</th> <td>4.36e-15</td>\n",
       "</tr>\n",
       "<tr>\n",
       "  <th>Time:</th>                 <td>17:20:15</td>     <th>  Log-Likelihood:    </th> <td> -223.96</td>\n",
       "</tr>\n",
       "<tr>\n",
       "  <th>No. Observations:</th>      <td>    26</td>      <th>  AIC:               </th> <td>   457.9</td>\n",
       "</tr>\n",
       "<tr>\n",
       "  <th>Df Residuals:</th>          <td>    21</td>      <th>  BIC:               </th> <td>   464.2</td>\n",
       "</tr>\n",
       "<tr>\n",
       "  <th>Df Model:</th>              <td>     4</td>      <th>                     </th>     <td> </td>   \n",
       "</tr>\n",
       "<tr>\n",
       "  <th>Covariance Type:</th>      <td>nonrobust</td>    <th>                     </th>     <td> </td>   \n",
       "</tr>\n",
       "</table>\n",
       "<table class=\"simpletable\">\n",
       "<tr>\n",
       "      <td></td>         <th>coef</th>     <th>std err</th>      <th>t</th>      <th>P>|t|</th>  <th>[0.025</th>    <th>0.975]</th>  \n",
       "</tr>\n",
       "<tr>\n",
       "  <th>Intercept</th> <td> 1.192e+04</td> <td> 5.57e+04</td> <td>    0.214</td> <td> 0.833</td> <td>-1.04e+05</td> <td> 1.28e+05</td>\n",
       "</tr>\n",
       "<tr>\n",
       "  <th>Diabetes</th>  <td> -850.2340</td> <td>  904.693</td> <td>   -0.940</td> <td> 0.358</td> <td>-2731.646</td> <td> 1031.178</td>\n",
       "</tr>\n",
       "<tr>\n",
       "  <th>Obesity</th>   <td> 1786.7074</td> <td>  291.064</td> <td>    6.139</td> <td> 0.000</td> <td> 1181.408</td> <td> 2392.007</td>\n",
       "</tr>\n",
       "<tr>\n",
       "  <th>Overdose</th>  <td> -184.4884</td> <td>  194.416</td> <td>   -0.949</td> <td> 0.353</td> <td> -588.798</td> <td>  219.821</td>\n",
       "</tr>\n",
       "<tr>\n",
       "  <th>Pct_O</th>     <td> -339.5100</td> <td> 1167.685</td> <td>   -0.291</td> <td> 0.774</td> <td>-2767.843</td> <td> 2088.823</td>\n",
       "</tr>\n",
       "</table>\n",
       "<table class=\"simpletable\">\n",
       "<tr>\n",
       "  <th>Omnibus:</th>       <td> 3.962</td> <th>  Durbin-Watson:     </th> <td>   1.622</td>\n",
       "</tr>\n",
       "<tr>\n",
       "  <th>Prob(Omnibus):</th> <td> 0.138</td> <th>  Jarque-Bera (JB):  </th> <td>   2.484</td>\n",
       "</tr>\n",
       "<tr>\n",
       "  <th>Skew:</th>          <td>-0.727</td> <th>  Prob(JB):          </th> <td>   0.289</td>\n",
       "</tr>\n",
       "<tr>\n",
       "  <th>Kurtosis:</th>      <td> 3.426</td> <th>  Cond. No.          </th> <td>1.08e+04</td>\n",
       "</tr>\n",
       "</table><br/><br/>Warnings:<br/>[1] Standard Errors assume that the covariance matrix of the errors is correctly specified.<br/>[2] The condition number is large, 1.08e+04. This might indicate that there are<br/>strong multicollinearity or other numerical problems."
      ],
      "text/plain": [
       "<class 'statsmodels.iolib.summary.Summary'>\n",
       "\"\"\"\n",
       "                            OLS Regression Results                            \n",
       "==============================================================================\n",
       "Dep. Variable:              Total_Adj   R-squared:                       0.966\n",
       "Model:                            OLS   Adj. R-squared:                  0.959\n",
       "Method:                 Least Squares   F-statistic:                     148.8\n",
       "Date:                Thu, 21 Jan 2021   Prob (F-statistic):           4.36e-15\n",
       "Time:                        17:20:15   Log-Likelihood:                -223.96\n",
       "No. Observations:                  26   AIC:                             457.9\n",
       "Df Residuals:                      21   BIC:                             464.2\n",
       "Df Model:                           4                                         \n",
       "Covariance Type:            nonrobust                                         \n",
       "==============================================================================\n",
       "                 coef    std err          t      P>|t|      [0.025      0.975]\n",
       "------------------------------------------------------------------------------\n",
       "Intercept   1.192e+04   5.57e+04      0.214      0.833   -1.04e+05    1.28e+05\n",
       "Diabetes    -850.2340    904.693     -0.940      0.358   -2731.646    1031.178\n",
       "Obesity     1786.7074    291.064      6.139      0.000    1181.408    2392.007\n",
       "Overdose    -184.4884    194.416     -0.949      0.353    -588.798     219.821\n",
       "Pct_O       -339.5100   1167.685     -0.291      0.774   -2767.843    2088.823\n",
       "==============================================================================\n",
       "Omnibus:                        3.962   Durbin-Watson:                   1.622\n",
       "Prob(Omnibus):                  0.138   Jarque-Bera (JB):                2.484\n",
       "Skew:                          -0.727   Prob(JB):                        0.289\n",
       "Kurtosis:                       3.426   Cond. No.                     1.08e+04\n",
       "==============================================================================\n",
       "\n",
       "Warnings:\n",
       "[1] Standard Errors assume that the covariance matrix of the errors is correctly specified.\n",
       "[2] The condition number is large, 1.08e+04. This might indicate that there are\n",
       "strong multicollinearity or other numerical problems.\n",
       "\"\"\""
      ]
     },
     "execution_count": 93,
     "metadata": {},
     "output_type": "execute_result"
    }
   ],
   "source": [
    "model_lin = sm.OLS.from_formula(\"Total_Adj ~ Diabetes + Obesity + Overdose + Pct_O\", data=df)\n",
    "result_lin = model_lin.fit()\n",
    "result_lin.summary()"
   ]
  },
  {
   "cell_type": "code",
   "execution_count": 94,
   "metadata": {},
   "outputs": [],
   "source": [
    "ols_df = result_lin.summary()\n",
    "with open('images/National2020_OLS.txt', 'w') as fh:\n",
    "    fh.write(ols_df.as_text())"
   ]
  },
  {
   "cell_type": "code",
   "execution_count": 95,
   "metadata": {},
   "outputs": [
    {
     "data": {
      "text/html": [
       "<div>\n",
       "<style scoped>\n",
       "    .dataframe tbody tr th:only-of-type {\n",
       "        vertical-align: middle;\n",
       "    }\n",
       "\n",
       "    .dataframe tbody tr th {\n",
       "        vertical-align: top;\n",
       "    }\n",
       "\n",
       "    .dataframe thead th {\n",
       "        text-align: right;\n",
       "    }\n",
       "</style>\n",
       "<table border=\"1\" class=\"dataframe\">\n",
       "  <thead>\n",
       "    <tr style=\"text-align: right;\">\n",
       "      <th></th>\n",
       "      <th>Year</th>\n",
       "      <th>Waitlist</th>\n",
       "      <th>Diabetes</th>\n",
       "      <th>Obesity</th>\n",
       "      <th>Overdose</th>\n",
       "      <th>Pct_O</th>\n",
       "      <th>Total_Adj</th>\n",
       "      <th>State</th>\n",
       "    </tr>\n",
       "  </thead>\n",
       "  <tbody>\n",
       "    <tr>\n",
       "      <th>0</th>\n",
       "      <td>12/31/1995</td>\n",
       "      <td>17589</td>\n",
       "      <td>4.98</td>\n",
       "      <td>15</td>\n",
       "      <td>5.5</td>\n",
       "      <td>47.683211</td>\n",
       "      <td>17393.76000</td>\n",
       "      <td>United States</td>\n",
       "    </tr>\n",
       "    <tr>\n",
       "      <th>1</th>\n",
       "      <td>12/31/1996</td>\n",
       "      <td>18067</td>\n",
       "      <td>5.23</td>\n",
       "      <td>15</td>\n",
       "      <td>5.5</td>\n",
       "      <td>48.259257</td>\n",
       "      <td>17850.20000</td>\n",
       "      <td>United States</td>\n",
       "    </tr>\n",
       "    <tr>\n",
       "      <th>2</th>\n",
       "      <td>12/31/1997</td>\n",
       "      <td>18780</td>\n",
       "      <td>5.52</td>\n",
       "      <td>16</td>\n",
       "      <td>5.7</td>\n",
       "      <td>48.109691</td>\n",
       "      <td>18543.37000</td>\n",
       "      <td>United States</td>\n",
       "    </tr>\n",
       "    <tr>\n",
       "      <th>3</th>\n",
       "      <td>12/31/1998</td>\n",
       "      <td>19892</td>\n",
       "      <td>5.80</td>\n",
       "      <td>17</td>\n",
       "      <td>5.9</td>\n",
       "      <td>48.270662</td>\n",
       "      <td>19639.37000</td>\n",
       "      <td>United States</td>\n",
       "    </tr>\n",
       "    <tr>\n",
       "      <th>4</th>\n",
       "      <td>12/31/1999</td>\n",
       "      <td>22356</td>\n",
       "      <td>6.09</td>\n",
       "      <td>18</td>\n",
       "      <td>6.1</td>\n",
       "      <td>47.897656</td>\n",
       "      <td>22081.02000</td>\n",
       "      <td>United States</td>\n",
       "    </tr>\n",
       "    <tr>\n",
       "      <th>5</th>\n",
       "      <td>12/31/2000</td>\n",
       "      <td>22879</td>\n",
       "      <td>6.41</td>\n",
       "      <td>19</td>\n",
       "      <td>6.2</td>\n",
       "      <td>48.446173</td>\n",
       "      <td>22618.18000</td>\n",
       "      <td>United States</td>\n",
       "    </tr>\n",
       "    <tr>\n",
       "      <th>6</th>\n",
       "      <td>12/31/2001</td>\n",
       "      <td>22902</td>\n",
       "      <td>6.62</td>\n",
       "      <td>20</td>\n",
       "      <td>6.8</td>\n",
       "      <td>48.332023</td>\n",
       "      <td>22674.20000</td>\n",
       "      <td>United States</td>\n",
       "    </tr>\n",
       "    <tr>\n",
       "      <th>7</th>\n",
       "      <td>12/31/2002</td>\n",
       "      <td>24121</td>\n",
       "      <td>6.85</td>\n",
       "      <td>21</td>\n",
       "      <td>8.2</td>\n",
       "      <td>48.584221</td>\n",
       "      <td>23896.16000</td>\n",
       "      <td>United States</td>\n",
       "    </tr>\n",
       "    <tr>\n",
       "      <th>8</th>\n",
       "      <td>12/31/2003</td>\n",
       "      <td>25034</td>\n",
       "      <td>7.12</td>\n",
       "      <td>22</td>\n",
       "      <td>8.9</td>\n",
       "      <td>48.561956</td>\n",
       "      <td>24817.91000</td>\n",
       "      <td>United States</td>\n",
       "    </tr>\n",
       "    <tr>\n",
       "      <th>9</th>\n",
       "      <td>12/31/2004</td>\n",
       "      <td>27745</td>\n",
       "      <td>6.92</td>\n",
       "      <td>22</td>\n",
       "      <td>9.4</td>\n",
       "      <td>48.934943</td>\n",
       "      <td>27487.03000</td>\n",
       "      <td>United States</td>\n",
       "    </tr>\n",
       "    <tr>\n",
       "      <th>10</th>\n",
       "      <td>12/31/2005</td>\n",
       "      <td>29635</td>\n",
       "      <td>7.19</td>\n",
       "      <td>23</td>\n",
       "      <td>10.1</td>\n",
       "      <td>48.361734</td>\n",
       "      <td>29360.59000</td>\n",
       "      <td>United States</td>\n",
       "    </tr>\n",
       "    <tr>\n",
       "      <th>11</th>\n",
       "      <td>12/31/2006</td>\n",
       "      <td>31777</td>\n",
       "      <td>7.41</td>\n",
       "      <td>24</td>\n",
       "      <td>11.5</td>\n",
       "      <td>48.399786</td>\n",
       "      <td>31469.11000</td>\n",
       "      <td>United States</td>\n",
       "    </tr>\n",
       "    <tr>\n",
       "      <th>12</th>\n",
       "      <td>12/31/2007</td>\n",
       "      <td>33037</td>\n",
       "      <td>7.80</td>\n",
       "      <td>25</td>\n",
       "      <td>11.9</td>\n",
       "      <td>48.724158</td>\n",
       "      <td>32721.30000</td>\n",
       "      <td>United States</td>\n",
       "    </tr>\n",
       "    <tr>\n",
       "      <th>13</th>\n",
       "      <td>12/31/2008</td>\n",
       "      <td>33289</td>\n",
       "      <td>8.10</td>\n",
       "      <td>26</td>\n",
       "      <td>11.9</td>\n",
       "      <td>48.391360</td>\n",
       "      <td>32972.64000</td>\n",
       "      <td>United States</td>\n",
       "    </tr>\n",
       "    <tr>\n",
       "      <th>14</th>\n",
       "      <td>12/31/2009</td>\n",
       "      <td>34325</td>\n",
       "      <td>8.36</td>\n",
       "      <td>27</td>\n",
       "      <td>11.9</td>\n",
       "      <td>48.550619</td>\n",
       "      <td>34022.77000</td>\n",
       "      <td>United States</td>\n",
       "    </tr>\n",
       "    <tr>\n",
       "      <th>15</th>\n",
       "      <td>12/31/2010</td>\n",
       "      <td>35000</td>\n",
       "      <td>8.59</td>\n",
       "      <td>27</td>\n",
       "      <td>12.3</td>\n",
       "      <td>48.471429</td>\n",
       "      <td>34936.12000</td>\n",
       "      <td>United States</td>\n",
       "    </tr>\n",
       "    <tr>\n",
       "      <th>16</th>\n",
       "      <td>12/31/2011</td>\n",
       "      <td>34206</td>\n",
       "      <td>9.54</td>\n",
       "      <td>28</td>\n",
       "      <td>13.2</td>\n",
       "      <td>48.409636</td>\n",
       "      <td>33958.82000</td>\n",
       "      <td>United States</td>\n",
       "    </tr>\n",
       "    <tr>\n",
       "      <th>17</th>\n",
       "      <td>12/31/2012</td>\n",
       "      <td>35577</td>\n",
       "      <td>9.72</td>\n",
       "      <td>28</td>\n",
       "      <td>13.1</td>\n",
       "      <td>48.677516</td>\n",
       "      <td>35317.32000</td>\n",
       "      <td>United States</td>\n",
       "    </tr>\n",
       "    <tr>\n",
       "      <th>18</th>\n",
       "      <td>12/31/2013</td>\n",
       "      <td>37204</td>\n",
       "      <td>9.81</td>\n",
       "      <td>29</td>\n",
       "      <td>13.8</td>\n",
       "      <td>48.430276</td>\n",
       "      <td>36947.61000</td>\n",
       "      <td>United States</td>\n",
       "    </tr>\n",
       "    <tr>\n",
       "      <th>19</th>\n",
       "      <td>12/31/2014</td>\n",
       "      <td>36974</td>\n",
       "      <td>10.13</td>\n",
       "      <td>29</td>\n",
       "      <td>14.7</td>\n",
       "      <td>48.550333</td>\n",
       "      <td>36704.03000</td>\n",
       "      <td>United States</td>\n",
       "    </tr>\n",
       "    <tr>\n",
       "      <th>20</th>\n",
       "      <td>12/31/2015</td>\n",
       "      <td>35828</td>\n",
       "      <td>10.12</td>\n",
       "      <td>29</td>\n",
       "      <td>16.3</td>\n",
       "      <td>48.467679</td>\n",
       "      <td>35565.27000</td>\n",
       "      <td>United States</td>\n",
       "    </tr>\n",
       "    <tr>\n",
       "      <th>21</th>\n",
       "      <td>12/31/2016</td>\n",
       "      <td>36244</td>\n",
       "      <td>10.41</td>\n",
       "      <td>30</td>\n",
       "      <td>19.8</td>\n",
       "      <td>49.282640</td>\n",
       "      <td>35983.32000</td>\n",
       "      <td>United States</td>\n",
       "    </tr>\n",
       "    <tr>\n",
       "      <th>22</th>\n",
       "      <td>12/31/2017</td>\n",
       "      <td>36430</td>\n",
       "      <td>10.51</td>\n",
       "      <td>31</td>\n",
       "      <td>21.7</td>\n",
       "      <td>48.328301</td>\n",
       "      <td>36199.40000</td>\n",
       "      <td>United States</td>\n",
       "    </tr>\n",
       "    <tr>\n",
       "      <th>23</th>\n",
       "      <td>12/31/2018</td>\n",
       "      <td>39685</td>\n",
       "      <td>11.09</td>\n",
       "      <td>31</td>\n",
       "      <td>20.7</td>\n",
       "      <td>48.932846</td>\n",
       "      <td>39477.17000</td>\n",
       "      <td>United States</td>\n",
       "    </tr>\n",
       "    <tr>\n",
       "      <th>24</th>\n",
       "      <td>12/31/2019</td>\n",
       "      <td>42085</td>\n",
       "      <td>10.77</td>\n",
       "      <td>32</td>\n",
       "      <td>19.9</td>\n",
       "      <td>49.048354</td>\n",
       "      <td>41885.06000</td>\n",
       "      <td>United States</td>\n",
       "    </tr>\n",
       "    <tr>\n",
       "      <th>25</th>\n",
       "      <td>12/31/2020</td>\n",
       "      <td>36157</td>\n",
       "      <td>10.77</td>\n",
       "      <td>32</td>\n",
       "      <td>19.9</td>\n",
       "      <td>49.048354</td>\n",
       "      <td>35985.22588</td>\n",
       "      <td>United States</td>\n",
       "    </tr>\n",
       "  </tbody>\n",
       "</table>\n",
       "</div>"
      ],
      "text/plain": [
       "          Year  Waitlist  Diabetes  Obesity  Overdose      Pct_O    Total_Adj  \\\n",
       "0   12/31/1995     17589      4.98       15       5.5  47.683211  17393.76000   \n",
       "1   12/31/1996     18067      5.23       15       5.5  48.259257  17850.20000   \n",
       "2   12/31/1997     18780      5.52       16       5.7  48.109691  18543.37000   \n",
       "3   12/31/1998     19892      5.80       17       5.9  48.270662  19639.37000   \n",
       "4   12/31/1999     22356      6.09       18       6.1  47.897656  22081.02000   \n",
       "5   12/31/2000     22879      6.41       19       6.2  48.446173  22618.18000   \n",
       "6   12/31/2001     22902      6.62       20       6.8  48.332023  22674.20000   \n",
       "7   12/31/2002     24121      6.85       21       8.2  48.584221  23896.16000   \n",
       "8   12/31/2003     25034      7.12       22       8.9  48.561956  24817.91000   \n",
       "9   12/31/2004     27745      6.92       22       9.4  48.934943  27487.03000   \n",
       "10  12/31/2005     29635      7.19       23      10.1  48.361734  29360.59000   \n",
       "11  12/31/2006     31777      7.41       24      11.5  48.399786  31469.11000   \n",
       "12  12/31/2007     33037      7.80       25      11.9  48.724158  32721.30000   \n",
       "13  12/31/2008     33289      8.10       26      11.9  48.391360  32972.64000   \n",
       "14  12/31/2009     34325      8.36       27      11.9  48.550619  34022.77000   \n",
       "15  12/31/2010     35000      8.59       27      12.3  48.471429  34936.12000   \n",
       "16  12/31/2011     34206      9.54       28      13.2  48.409636  33958.82000   \n",
       "17  12/31/2012     35577      9.72       28      13.1  48.677516  35317.32000   \n",
       "18  12/31/2013     37204      9.81       29      13.8  48.430276  36947.61000   \n",
       "19  12/31/2014     36974     10.13       29      14.7  48.550333  36704.03000   \n",
       "20  12/31/2015     35828     10.12       29      16.3  48.467679  35565.27000   \n",
       "21  12/31/2016     36244     10.41       30      19.8  49.282640  35983.32000   \n",
       "22  12/31/2017     36430     10.51       31      21.7  48.328301  36199.40000   \n",
       "23  12/31/2018     39685     11.09       31      20.7  48.932846  39477.17000   \n",
       "24  12/31/2019     42085     10.77       32      19.9  49.048354  41885.06000   \n",
       "25  12/31/2020     36157     10.77       32      19.9  49.048354  35985.22588   \n",
       "\n",
       "            State  \n",
       "0   United States  \n",
       "1   United States  \n",
       "2   United States  \n",
       "3   United States  \n",
       "4   United States  \n",
       "5   United States  \n",
       "6   United States  \n",
       "7   United States  \n",
       "8   United States  \n",
       "9   United States  \n",
       "10  United States  \n",
       "11  United States  \n",
       "12  United States  \n",
       "13  United States  \n",
       "14  United States  \n",
       "15  United States  \n",
       "16  United States  \n",
       "17  United States  \n",
       "18  United States  \n",
       "19  United States  \n",
       "20  United States  \n",
       "21  United States  \n",
       "22  United States  \n",
       "23  United States  \n",
       "24  United States  \n",
       "25  United States  "
      ]
     },
     "execution_count": 95,
     "metadata": {},
     "output_type": "execute_result"
    }
   ],
   "source": [
    "df\n"
   ]
  },
  {
   "cell_type": "code",
   "execution_count": 96,
   "metadata": {
    "scrolled": true
   },
   "outputs": [
    {
     "ename": "IndentationError",
     "evalue": "unexpected indent (<ipython-input-96-493aa5db8a32>, line 6)",
     "output_type": "error",
     "traceback": [
      "\u001b[1;36m  File \u001b[1;32m\"<ipython-input-96-493aa5db8a32>\"\u001b[1;36m, line \u001b[1;32m6\u001b[0m\n\u001b[1;33m    orientation='portrait', format=None,\u001b[0m\n\u001b[1;37m    ^\u001b[0m\n\u001b[1;31mIndentationError\u001b[0m\u001b[1;31m:\u001b[0m unexpected indent\n"
     ]
    }
   ],
   "source": [
    "sns.regplot(X[('Diabetes')],y)\n",
    "plt.title('Diabetes % vs. Waitlist')\n",
    "plt.xlabel('Diabetes %')\n",
    "plt.ylabel('Kidney Waitlist through Time')\n",
    "#plt.savefig('images/United States_diabetes.png', dpi=100, facecolor='w', edgecolor='w',\n",
    "        orientation='portrait', format=None,\n",
    "        transparent=False, bbox_inches=None, pad_inches=0.2, metadata=None)"
   ]
  },
  {
   "cell_type": "code",
   "execution_count": 97,
   "metadata": {},
   "outputs": [
    {
     "ename": "IndentationError",
     "evalue": "unexpected indent (<ipython-input-97-df82b370e7da>, line 6)",
     "output_type": "error",
     "traceback": [
      "\u001b[1;36m  File \u001b[1;32m\"<ipython-input-97-df82b370e7da>\"\u001b[1;36m, line \u001b[1;32m6\u001b[0m\n\u001b[1;33m    orientation='portrait', format=None,\u001b[0m\n\u001b[1;37m    ^\u001b[0m\n\u001b[1;31mIndentationError\u001b[0m\u001b[1;31m:\u001b[0m unexpected indent\n"
     ]
    }
   ],
   "source": [
    "sns.regplot(X[('Obesity')],y)\n",
    "plt.title('Obesity % vs. Waitlist')\n",
    "plt.xlabel('Obesity %')\n",
    "plt.ylabel('Kidney Waitlist through Time')\n",
    "#plt.savefig('images/United States_obesity.png', dpi=100, facecolor='w', edgecolor='w',\n",
    "        orientation='portrait', format=None,\n",
    "        transparent=False, bbox_inches=None, pad_inches=0.2, metadata=None)"
   ]
  },
  {
   "cell_type": "code",
   "execution_count": 98,
   "metadata": {
    "scrolled": false
   },
   "outputs": [
    {
     "ename": "IndentationError",
     "evalue": "unexpected indent (<ipython-input-98-26d8ed5f413c>, line 6)",
     "output_type": "error",
     "traceback": [
      "\u001b[1;36m  File \u001b[1;32m\"<ipython-input-98-26d8ed5f413c>\"\u001b[1;36m, line \u001b[1;32m6\u001b[0m\n\u001b[1;33m    orientation='portrait', format=None,\u001b[0m\n\u001b[1;37m    ^\u001b[0m\n\u001b[1;31mIndentationError\u001b[0m\u001b[1;31m:\u001b[0m unexpected indent\n"
     ]
    }
   ],
   "source": [
    "sns.regplot(X[('Overdose')],y)\n",
    "plt.xlabel('Overdose rate per 100k')\n",
    "plt.title('Overdoses rate per 100k vs. Waitlist')\n",
    "plt.ylabel('Kidney Waitlist through Time')\n",
    "#plt.savefig('images/WestVirginia_overdose.png', dpi=100, facecolor='w', edgecolor='w',\n",
    "        orientation='portrait', format=None,\n",
    "        transparent=False, bbox_inches=None, pad_inches=0.2, metadata=None)"
   ]
  },
  {
   "cell_type": "code",
   "execution_count": 99,
   "metadata": {},
   "outputs": [
    {
     "ename": "IndentationError",
     "evalue": "unexpected indent (<ipython-input-99-5d5ee31ce4e8>, line 6)",
     "output_type": "error",
     "traceback": [
      "\u001b[1;36m  File \u001b[1;32m\"<ipython-input-99-5d5ee31ce4e8>\"\u001b[1;36m, line \u001b[1;32m6\u001b[0m\n\u001b[1;33m    orientation='portrait', format=None,\u001b[0m\n\u001b[1;37m    ^\u001b[0m\n\u001b[1;31mIndentationError\u001b[0m\u001b[1;31m:\u001b[0m unexpected indent\n"
     ]
    }
   ],
   "source": [
    "sns.regplot(X[('Pct_O')],y)\n",
    "plt.xlabel('Percent O Blood-Type')\n",
    "plt.title('Percent O Blood-Type vs. Waitlist')\n",
    "plt.ylabel('Kidney Waitlist through Time')\n",
    "#plt.savefig('images/United States_pct_O.png', dpi=100, facecolor='w', edgecolor='w',\n",
    "        orientation='portrait', format=None,\n",
    "        transparent=False, bbox_inches=None, pad_inches=0.2, metadata=None)"
   ]
  },
  {
   "cell_type": "code",
   "execution_count": 100,
   "metadata": {
    "scrolled": true
   },
   "outputs": [
    {
     "data": {
      "text/plain": [
       "<AxesSubplot:xlabel='Pct_O'>"
      ]
     },
     "execution_count": 100,
     "metadata": {},
     "output_type": "execute_result"
    },
    {
     "data": {
      "image/png": "[encoded data removed]",
      "text/plain": [
       "<Figure size 432x288 with 1 Axes>"
      ]
     },
     "metadata": {
      "needs_background": "light"
     },
     "output_type": "display_data"
    }
   ],
   "source": [
    "sns.regplot(X[('Diabetes')],y)\n",
    "sns.regplot(X[('Obesity')],y)\n",
    "sns.regplot(X[('Overdose')],y)\n",
    "sns.regplot(X[('Pct_O')],y)"
   ]
  },
  {
   "cell_type": "code",
   "execution_count": 101,
   "metadata": {},
   "outputs": [
    {
     "data": {
      "text/html": [
       "<div>\n",
       "<style scoped>\n",
       "    .dataframe tbody tr th:only-of-type {\n",
       "        vertical-align: middle;\n",
       "    }\n",
       "\n",
       "    .dataframe tbody tr th {\n",
       "        vertical-align: top;\n",
       "    }\n",
       "\n",
       "    .dataframe thead th {\n",
       "        text-align: right;\n",
       "    }\n",
       "</style>\n",
       "<table border=\"1\" class=\"dataframe\">\n",
       "  <thead>\n",
       "    <tr style=\"text-align: right;\">\n",
       "      <th></th>\n",
       "      <th>0</th>\n",
       "      <th>1</th>\n",
       "      <th>2</th>\n",
       "      <th>3</th>\n",
       "    </tr>\n",
       "  </thead>\n",
       "  <tbody>\n",
       "    <tr>\n",
       "      <th>0</th>\n",
       "      <td>-8.44867</td>\n",
       "      <td>1634.28</td>\n",
       "      <td>-351.575</td>\n",
       "      <td>-680.6</td>\n",
       "    </tr>\n",
       "  </tbody>\n",
       "</table>\n",
       "</div>"
      ],
      "text/plain": [
       "         0        1        2      3\n",
       "0 -8.44867  1634.28 -351.575 -680.6"
      ]
     },
     "execution_count": 101,
     "metadata": {},
     "output_type": "execute_result"
    }
   ],
   "source": [
    "coefficients = pd.concat([pd.DataFrame(X.columns),pd.DataFrame(np.transpose(model.coef_))], axis = 1)\n",
    "coefficients_transposed = coefficients.T\n",
    "coefficients_transposed\n",
    "coefficients_final = coefficients_transposed[1:]\n",
    "coefficients_final"
   ]
  },
  {
   "cell_type": "code",
   "execution_count": 11,
   "metadata": {
    "scrolled": false
   },
   "outputs": [
    {
     "ename": "NameError",
     "evalue": "name 'r_sq' is not defined",
     "output_type": "error",
     "traceback": [
      "\u001b[1;31m---------------------------------------------------------------------------\u001b[0m",
      "\u001b[1;31mNameError\u001b[0m                                 Traceback (most recent call last)",
      "\u001b[1;32m<ipython-input-11-0ec46f5a6c30>\u001b[0m in \u001b[0;36m<module>\u001b[1;34m\u001b[0m\n\u001b[1;32m----> 1\u001b[1;33m \u001b[0mtest_df\u001b[0m \u001b[1;33m=\u001b[0m \u001b[0mpd\u001b[0m\u001b[1;33m.\u001b[0m\u001b[0mDataFrame\u001b[0m\u001b[1;33m(\u001b[0m\u001b[1;33m[\u001b[0m\u001b[1;33m[\u001b[0m\u001b[0mr_sq\u001b[0m\u001b[1;33m,\u001b[0m\u001b[0mtraining_score\u001b[0m\u001b[1;33m,\u001b[0m\u001b[0mtesting_score\u001b[0m\u001b[1;33m,\u001b[0m\u001b[0mmodel\u001b[0m\u001b[1;33m.\u001b[0m\u001b[0mintercept_\u001b[0m \u001b[1;33m,\u001b[0m\u001b[0mpredictedTotal_Adj\u001b[0m\u001b[1;33m]\u001b[0m\u001b[1;33m]\u001b[0m\u001b[1;33m)\u001b[0m\u001b[1;33m\u001b[0m\u001b[1;33m\u001b[0m\u001b[0m\n\u001b[0m\u001b[0;32m      2\u001b[0m \u001b[0mtest_df\u001b[0m\u001b[1;33m\u001b[0m\u001b[1;33m\u001b[0m\u001b[0m\n",
      "\u001b[1;31mNameError\u001b[0m: name 'r_sq' is not defined"
     ]
    }
   ],
   "source": [
    "test_df = pd.DataFrame([[r_sq,training_score,testing_score,model.intercept_ ,predictedTotal_Adj]])\n",
    "test_df"
   ]
  },
  {
   "cell_type": "code",
   "execution_count": 12,
   "metadata": {},
   "outputs": [],
   "source": [
    "#dfi.export(test_df, 'test_df.png')"
   ]
  },
  {
   "cell_type": "code",
   "execution_count": 13,
   "metadata": {
    "scrolled": true
   },
   "outputs": [
    {
     "ename": "NameError",
     "evalue": "name 'test_df' is not defined",
     "output_type": "error",
     "traceback": [
      "\u001b[1;31m---------------------------------------------------------------------------\u001b[0m",
      "\u001b[1;31mNameError\u001b[0m                                 Traceback (most recent call last)",
      "\u001b[1;32m<ipython-input-13-3f09d8ccf5c9>\u001b[0m in \u001b[0;36m<module>\u001b[1;34m\u001b[0m\n\u001b[1;32m----> 1\u001b[1;33m \u001b[0msummary_df\u001b[0m \u001b[1;33m=\u001b[0m \u001b[0mpd\u001b[0m\u001b[1;33m.\u001b[0m\u001b[0mconcat\u001b[0m\u001b[1;33m(\u001b[0m\u001b[1;33m[\u001b[0m\u001b[0mtest_df\u001b[0m\u001b[1;33m,\u001b[0m \u001b[0mlastyear_df\u001b[0m\u001b[1;33m,\u001b[0m \u001b[0mcoefficients_final\u001b[0m\u001b[1;33m]\u001b[0m\u001b[1;33m,\u001b[0m \u001b[0maxis\u001b[0m\u001b[1;33m=\u001b[0m\u001b[1;36m1\u001b[0m\u001b[1;33m)\u001b[0m\u001b[1;33m\u001b[0m\u001b[1;33m\u001b[0m\u001b[0m\n\u001b[0m\u001b[0;32m      2\u001b[0m \u001b[0msummary_df\u001b[0m\u001b[1;33m.\u001b[0m\u001b[0mcolumns\u001b[0m \u001b[1;33m=\u001b[0m \u001b[1;33m[\u001b[0m\u001b[1;34m'R2'\u001b[0m\u001b[1;33m,\u001b[0m\u001b[1;34m'Training Score'\u001b[0m\u001b[1;33m,\u001b[0m \u001b[1;34m'Test Score'\u001b[0m\u001b[1;33m,\u001b[0m \u001b[1;34m'Intercept'\u001b[0m\u001b[1;33m,\u001b[0m\u001b[1;34m'Forecast based on Natl Avg'\u001b[0m\u001b[1;33m,\u001b[0m\u001b[1;34m'Last Waitlist'\u001b[0m\u001b[1;33m,\u001b[0m\u001b[1;34m'Coef_Diabetes'\u001b[0m\u001b[1;33m,\u001b[0m\u001b[1;34m'Coef_Obesity'\u001b[0m\u001b[1;33m,\u001b[0m\u001b[1;34m'Coef_Overdose'\u001b[0m\u001b[1;33m,\u001b[0m\u001b[1;34m'Coef_Pct_O'\u001b[0m\u001b[1;33m]\u001b[0m\u001b[1;33m\u001b[0m\u001b[1;33m\u001b[0m\u001b[0m\n",
      "\u001b[1;31mNameError\u001b[0m: name 'test_df' is not defined"
     ]
    }
   ],
   "source": [
    "summary_df = pd.concat([test_df, lastyear_df, coefficients_final], axis=1)\n",
    "summary_df.columns = ['R2','Training Score', 'Test Score', 'Intercept','Forecast based on Natl Avg','Last Waitlist','Coef_Diabetes','Coef_Obesity','Coef_Overdose','Coef_Pct_O']"
   ]
  },
  {
   "cell_type": "code",
   "execution_count": 130,
   "metadata": {
    "scrolled": true
   },
   "outputs": [
    {
     "data": {
      "text/html": [
       "<div>\n",
       "<style scoped>\n",
       "    .dataframe tbody tr th:only-of-type {\n",
       "        vertical-align: middle;\n",
       "    }\n",
       "\n",
       "    .dataframe tbody tr th {\n",
       "        vertical-align: top;\n",
       "    }\n",
       "\n",
       "    .dataframe thead th {\n",
       "        text-align: right;\n",
       "    }\n",
       "</style>\n",
       "<table border=\"1\" class=\"dataframe\">\n",
       "  <thead>\n",
       "    <tr style=\"text-align: right;\">\n",
       "      <th></th>\n",
       "      <th>R2</th>\n",
       "      <th>Training Score</th>\n",
       "      <th>Test Score</th>\n",
       "      <th>Intercept</th>\n",
       "      <th>Forecast based on Natl Avg</th>\n",
       "      <th>Last Waitlist</th>\n",
       "      <th>Coef_Diabetes</th>\n",
       "      <th>Coef_Obesity</th>\n",
       "      <th>Coef_Overdose</th>\n",
       "      <th>Coef_Pct_O</th>\n",
       "    </tr>\n",
       "  </thead>\n",
       "  <tbody>\n",
       "    <tr>\n",
       "      <th>0</th>\n",
       "      <td>0.975181</td>\n",
       "      <td>0.981664</td>\n",
       "      <td>0.953889</td>\n",
       "      <td>[-27088.369451660565]</td>\n",
       "      <td>[[40026.95890383248]]</td>\n",
       "      <td>41885.06</td>\n",
       "      <td>-849.66</td>\n",
       "      <td>1880.21</td>\n",
       "      <td>-290.466</td>\n",
       "      <td>446.527</td>\n",
       "    </tr>\n",
       "  </tbody>\n",
       "</table>\n",
       "</div>"
      ],
      "text/plain": [
       "         R2  Training Score  Test Score              Intercept  \\\n",
       "0  0.975181        0.981664    0.953889  [-27088.369451660565]   \n",
       "\n",
       "  Forecast based on Natl Avg  Last Waitlist Coef_Diabetes Coef_Obesity  \\\n",
       "0      [[40026.95890383248]]       41885.06       -849.66      1880.21   \n",
       "\n",
       "  Coef_Overdose Coef_Pct_O  \n",
       "0      -290.466    446.527  "
      ]
     },
     "execution_count": 130,
     "metadata": {},
     "output_type": "execute_result"
    }
   ],
   "source": [
    "summary_df"
   ]
  },
  {
   "cell_type": "code",
   "execution_count": 131,
   "metadata": {
    "scrolled": true
   },
   "outputs": [
    {
     "data": {
      "text/plain": [
       "R2                            float64\n",
       "Training Score                float64\n",
       "Test Score                    float64\n",
       "Intercept                      object\n",
       "Forecast based on Natl Avg     object\n",
       "Last Waitlist                 float64\n",
       "Coef_Diabetes                  object\n",
       "Coef_Obesity                   object\n",
       "Coef_Overdose                  object\n",
       "Coef_Pct_O                     object\n",
       "dtype: object"
      ]
     },
     "execution_count": 131,
     "metadata": {},
     "output_type": "execute_result"
    }
   ],
   "source": [
    "summary_df.dtypes"
   ]
  },
  {
   "cell_type": "code",
   "execution_count": 132,
   "metadata": {
    "scrolled": false
   },
   "outputs": [
    {
     "data": {
      "text/html": [
       "<div>\n",
       "<style scoped>\n",
       "    .dataframe tbody tr th:only-of-type {\n",
       "        vertical-align: middle;\n",
       "    }\n",
       "\n",
       "    .dataframe tbody tr th {\n",
       "        vertical-align: top;\n",
       "    }\n",
       "\n",
       "    .dataframe thead th {\n",
       "        text-align: right;\n",
       "    }\n",
       "</style>\n",
       "<table border=\"1\" class=\"dataframe\">\n",
       "  <thead>\n",
       "    <tr style=\"text-align: right;\">\n",
       "      <th></th>\n",
       "      <th>R2</th>\n",
       "      <th>Training Score</th>\n",
       "      <th>Test Score</th>\n",
       "      <th>Intercept</th>\n",
       "      <th>Forecast based on Natl Avg</th>\n",
       "      <th>Last Waitlist</th>\n",
       "      <th>Coef_Diabetes</th>\n",
       "      <th>Coef_Obesity</th>\n",
       "      <th>Coef_Overdose</th>\n",
       "      <th>Coef_Pct_O</th>\n",
       "    </tr>\n",
       "  </thead>\n",
       "  <tbody>\n",
       "    <tr>\n",
       "      <th>0</th>\n",
       "      <td>0.975181</td>\n",
       "      <td>0.981664</td>\n",
       "      <td>0.953889</td>\n",
       "      <td>[-27088.369451660565]</td>\n",
       "      <td>[[40026.95890383248]]</td>\n",
       "      <td>41885.06</td>\n",
       "      <td>-849.66</td>\n",
       "      <td>1880.21</td>\n",
       "      <td>-290.466</td>\n",
       "      <td>446.527</td>\n",
       "    </tr>\n",
       "  </tbody>\n",
       "</table>\n",
       "</div>"
      ],
      "text/plain": [
       "         R2  Training Score  Test Score              Intercept  \\\n",
       "0  0.975181        0.981664    0.953889  [-27088.369451660565]   \n",
       "\n",
       "  Forecast based on Natl Avg  Last Waitlist Coef_Diabetes Coef_Obesity  \\\n",
       "0      [[40026.95890383248]]       41885.06       -849.66      1880.21   \n",
       "\n",
       "  Coef_Overdose Coef_Pct_O  \n",
       "0      -290.466    446.527  "
      ]
     },
     "execution_count": 132,
     "metadata": {},
     "output_type": "execute_result"
    }
   ],
   "source": [
    "summary_df"
   ]
  },
  {
   "cell_type": "code",
   "execution_count": 133,
   "metadata": {
    "scrolled": true
   },
   "outputs": [],
   "source": [
    "summary_df['Intercept'] = summary_df['Intercept'].astype(int)\n",
    "summary_df['Forecast based on Natl Avg'] = summary_df['Forecast based on Natl Avg'].astype(int)\n",
    "summary_df['R2'] = summary_df['R2'].round(decimals=4)\n",
    "summary_df['Training Score'] = summary_df['Training Score'].round(decimals=4)\n",
    "summary_df['Test Score'] = summary_df['Test Score'].round(decimals=4)\n",
    "summary_df = summary_df[['R2','Training Score','Test Score','Intercept','Coef_Diabetes','Coef_Obesity','Coef_Overdose','Coef_Pct_O','Last Waitlist','Forecast based on Natl Avg']]\n",
    "#dfi.export(summary_df, 'images/United States_summary.png')"
   ]
  },
  {
   "cell_type": "code",
   "execution_count": 134,
   "metadata": {
    "scrolled": false
   },
   "outputs": [
    {
     "data": {
      "text/html": [
       "<div>\n",
       "<style scoped>\n",
       "    .dataframe tbody tr th:only-of-type {\n",
       "        vertical-align: middle;\n",
       "    }\n",
       "\n",
       "    .dataframe tbody tr th {\n",
       "        vertical-align: top;\n",
       "    }\n",
       "\n",
       "    .dataframe thead th {\n",
       "        text-align: right;\n",
       "    }\n",
       "</style>\n",
       "<table border=\"1\" class=\"dataframe\">\n",
       "  <thead>\n",
       "    <tr style=\"text-align: right;\">\n",
       "      <th></th>\n",
       "      <th>R2</th>\n",
       "      <th>Training Score</th>\n",
       "      <th>Test Score</th>\n",
       "      <th>Intercept</th>\n",
       "      <th>Coef_Diabetes</th>\n",
       "      <th>Coef_Obesity</th>\n",
       "      <th>Coef_Overdose</th>\n",
       "      <th>Coef_Pct_O</th>\n",
       "      <th>Last Waitlist</th>\n",
       "      <th>Forecast based on Natl Avg</th>\n",
       "    </tr>\n",
       "  </thead>\n",
       "  <tbody>\n",
       "    <tr>\n",
       "      <th>0</th>\n",
       "      <td>0.9752</td>\n",
       "      <td>0.9817</td>\n",
       "      <td>0.9539</td>\n",
       "      <td>-27088</td>\n",
       "      <td>-849.66</td>\n",
       "      <td>1880.21</td>\n",
       "      <td>-290.466</td>\n",
       "      <td>446.527</td>\n",
       "      <td>41885.06</td>\n",
       "      <td>40026</td>\n",
       "    </tr>\n",
       "  </tbody>\n",
       "</table>\n",
       "</div>"
      ],
      "text/plain": [
       "       R2  Training Score  Test Score  Intercept Coef_Diabetes Coef_Obesity  \\\n",
       "0  0.9752          0.9817      0.9539     -27088       -849.66      1880.21   \n",
       "\n",
       "  Coef_Overdose Coef_Pct_O  Last Waitlist  Forecast based on Natl Avg  \n",
       "0      -290.466    446.527       41885.06                       40026  "
      ]
     },
     "execution_count": 134,
     "metadata": {},
     "output_type": "execute_result"
    }
   ],
   "source": [
    "summary_df"
   ]
  },
  {
   "cell_type": "code",
   "execution_count": 135,
   "metadata": {
    "scrolled": true
   },
   "outputs": [
    {
     "data": {
      "text/html": [
       "<style  type=\"text/css\" >\n",
       "#T_56fdde7a_5ba6_11eb_b41c_c03eba874a93row0_col0,#T_56fdde7a_5ba6_11eb_b41c_c03eba874a93row0_col1,#T_56fdde7a_5ba6_11eb_b41c_c03eba874a93row0_col2,#T_56fdde7a_5ba6_11eb_b41c_c03eba874a93row0_col3,#T_56fdde7a_5ba6_11eb_b41c_c03eba874a93row0_col4,#T_56fdde7a_5ba6_11eb_b41c_c03eba874a93row0_col5,#T_56fdde7a_5ba6_11eb_b41c_c03eba874a93row0_col6,#T_56fdde7a_5ba6_11eb_b41c_c03eba874a93row0_col7,#T_56fdde7a_5ba6_11eb_b41c_c03eba874a93row0_col8,#T_56fdde7a_5ba6_11eb_b41c_c03eba874a93row0_col9{\n",
       "            background-color:  black;\n",
       "            color:  lawngreen;\n",
       "            border-color:  white;\n",
       "        }</style><table id=\"T_56fdde7a_5ba6_11eb_b41c_c03eba874a93\" ><thead>    <tr>        <th class=\"blank level0\" ></th>        <th class=\"col_heading level0 col0\" >R2</th>        <th class=\"col_heading level0 col1\" >Training Score</th>        <th class=\"col_heading level0 col2\" >Test Score</th>        <th class=\"col_heading level0 col3\" >Intercept</th>        <th class=\"col_heading level0 col4\" >Coef_Diabetes</th>        <th class=\"col_heading level0 col5\" >Coef_Obesity</th>        <th class=\"col_heading level0 col6\" >Coef_Overdose</th>        <th class=\"col_heading level0 col7\" >Coef_Pct_O</th>        <th class=\"col_heading level0 col8\" >Last Waitlist</th>        <th class=\"col_heading level0 col9\" >Forecast based on Natl Avg</th>    </tr></thead><tbody>\n",
       "                <tr>\n",
       "                        <th id=\"T_56fdde7a_5ba6_11eb_b41c_c03eba874a93level0_row0\" class=\"row_heading level0 row0\" >0</th>\n",
       "                        <td id=\"T_56fdde7a_5ba6_11eb_b41c_c03eba874a93row0_col0\" class=\"data row0 col0\" >0.975200</td>\n",
       "                        <td id=\"T_56fdde7a_5ba6_11eb_b41c_c03eba874a93row0_col1\" class=\"data row0 col1\" >0.981700</td>\n",
       "                        <td id=\"T_56fdde7a_5ba6_11eb_b41c_c03eba874a93row0_col2\" class=\"data row0 col2\" >0.953900</td>\n",
       "                        <td id=\"T_56fdde7a_5ba6_11eb_b41c_c03eba874a93row0_col3\" class=\"data row0 col3\" >-27088</td>\n",
       "                        <td id=\"T_56fdde7a_5ba6_11eb_b41c_c03eba874a93row0_col4\" class=\"data row0 col4\" >-849.660294</td>\n",
       "                        <td id=\"T_56fdde7a_5ba6_11eb_b41c_c03eba874a93row0_col5\" class=\"data row0 col5\" >1880.207442</td>\n",
       "                        <td id=\"T_56fdde7a_5ba6_11eb_b41c_c03eba874a93row0_col6\" class=\"data row0 col6\" >-290.466278</td>\n",
       "                        <td id=\"T_56fdde7a_5ba6_11eb_b41c_c03eba874a93row0_col7\" class=\"data row0 col7\" >446.526745</td>\n",
       "                        <td id=\"T_56fdde7a_5ba6_11eb_b41c_c03eba874a93row0_col8\" class=\"data row0 col8\" >41885.060000</td>\n",
       "                        <td id=\"T_56fdde7a_5ba6_11eb_b41c_c03eba874a93row0_col9\" class=\"data row0 col9\" >40026</td>\n",
       "            </tr>\n",
       "    </tbody></table>"
      ],
      "text/plain": [
       "<pandas.io.formats.style.Styler at 0x1f43bd68608>"
      ]
     },
     "execution_count": 135,
     "metadata": {},
     "output_type": "execute_result"
    }
   ],
   "source": [
    "summaryalt_df = summary_df.style.set_properties(**{'background-color': 'black','color': 'lawngreen','border-color': 'white'})\n",
    "summaryalt_df"
   ]
  },
  {
   "cell_type": "code",
   "execution_count": null,
   "metadata": {},
   "outputs": [],
   "source": []
  }
 ],
 "metadata": {
  "kernelspec": {
   "display_name": "Python 3.7.6 64-bit ('base')",
   "language": "python",
   "name": "python37664bitbase4c4633b153a642f9891ab9f50584a414"
  },
  "language_info": {
   "codemirror_mode": {
    "name": "ipython",
    "version": 3
   },
   "file_extension": ".py",
   "mimetype": "text/x-python",
   "name": "python",
   "nbconvert_exporter": "python",
   "pygments_lexer": "ipython3",
   "version": "3.7.6"
  }
 },
 "nbformat": 4,
 "nbformat_minor": 2
}
