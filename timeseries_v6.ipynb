{
 "cells": [
  {
   "cell_type": "code",
   "execution_count": 310,
   "metadata": {},
   "outputs": [],
   "source": [
    "#Import Dependencies\n",
    "%matplotlib inline\n",
    "import pandas as pd\n",
    "import numpy as np\n",
    "import statsmodels.api as sm\n",
    "from statsmodels.tsa.api import VAR\n",
    "import matplotlib.pyplot as plt\n",
    "from sklearn import linear_model\n",
    "from sklearn.linear_model import LinearRegression\n",
    "from sklearn.metrics import mean_squared_error, r2_score\n",
    "import dataframe_image as dfi\n",
    "from scipy import stats\n",
    "import seaborn as sns"
   ]
  },
  {
   "cell_type": "code",
   "execution_count": 311,
   "metadata": {},
   "outputs": [
    {
     "data": {
      "text/html": [
       "<div>\n",
       "<style scoped>\n",
       "    .dataframe tbody tr th:only-of-type {\n",
       "        vertical-align: middle;\n",
       "    }\n",
       "\n",
       "    .dataframe tbody tr th {\n",
       "        vertical-align: top;\n",
       "    }\n",
       "\n",
       "    .dataframe thead th {\n",
       "        text-align: right;\n",
       "    }\n",
       "</style>\n",
       "<table border=\"1\" class=\"dataframe\">\n",
       "  <thead>\n",
       "    <tr style=\"text-align: right;\">\n",
       "      <th></th>\n",
       "      <th>Year</th>\n",
       "      <th>Waitlist</th>\n",
       "      <th>Diabetes</th>\n",
       "      <th>Obesity</th>\n",
       "      <th>Overdose</th>\n",
       "      <th>Pct_O</th>\n",
       "      <th>Total_Adj</th>\n",
       "      <th>State</th>\n",
       "    </tr>\n",
       "  </thead>\n",
       "  <tbody>\n",
       "    <tr>\n",
       "      <th>0</th>\n",
       "      <td>12/31/2019</td>\n",
       "      <td>488</td>\n",
       "      <td>14.0</td>\n",
       "      <td>36.1</td>\n",
       "      <td>17.30</td>\n",
       "      <td>50.409836</td>\n",
       "      <td>486.45</td>\n",
       "      <td>Alabama</td>\n",
       "    </tr>\n",
       "    <tr>\n",
       "      <th>1</th>\n",
       "      <td>12/31/2019</td>\n",
       "      <td>824</td>\n",
       "      <td>10.9</td>\n",
       "      <td>36.1</td>\n",
       "      <td>23.00</td>\n",
       "      <td>50.970874</td>\n",
       "      <td>810.11</td>\n",
       "      <td>Arizona</td>\n",
       "    </tr>\n",
       "    <tr>\n",
       "      <th>2</th>\n",
       "      <td>12/31/2019</td>\n",
       "      <td>193</td>\n",
       "      <td>13.6</td>\n",
       "      <td>37.4</td>\n",
       "      <td>15.60</td>\n",
       "      <td>55.958549</td>\n",
       "      <td>192.48</td>\n",
       "      <td>Arkansas</td>\n",
       "    </tr>\n",
       "    <tr>\n",
       "      <th>3</th>\n",
       "      <td>12/31/2019</td>\n",
       "      <td>5566</td>\n",
       "      <td>10.1</td>\n",
       "      <td>26.2</td>\n",
       "      <td>12.25</td>\n",
       "      <td>51.257636</td>\n",
       "      <td>5558.86</td>\n",
       "      <td>California</td>\n",
       "    </tr>\n",
       "    <tr>\n",
       "      <th>4</th>\n",
       "      <td>12/31/2019</td>\n",
       "      <td>545</td>\n",
       "      <td>7.0</td>\n",
       "      <td>23.8</td>\n",
       "      <td>17.20</td>\n",
       "      <td>47.339450</td>\n",
       "      <td>538.54</td>\n",
       "      <td>Colorado</td>\n",
       "    </tr>\n",
       "  </tbody>\n",
       "</table>\n",
       "</div>"
      ],
      "text/plain": [
       "         Year  Waitlist  Diabetes  Obesity  Overdose      Pct_O  Total_Adj  \\\n",
       "0  12/31/2019       488      14.0     36.1     17.30  50.409836     486.45   \n",
       "1  12/31/2019       824      10.9     36.1     23.00  50.970874     810.11   \n",
       "2  12/31/2019       193      13.6     37.4     15.60  55.958549     192.48   \n",
       "3  12/31/2019      5566      10.1     26.2     12.25  51.257636    5558.86   \n",
       "4  12/31/2019       545       7.0     23.8     17.20  47.339450     538.54   \n",
       "\n",
       "        State  \n",
       "0     Alabama  \n",
       "1     Arizona  \n",
       "2    Arkansas  \n",
       "3  California  \n",
       "4    Colorado  "
      ]
     },
     "execution_count": 311,
     "metadata": {},
     "output_type": "execute_result"
    }
   ],
   "source": [
    "# Load dataset\n",
    "df = pd.read_csv('Final_data.csv')\n",
    "df.head()"
   ]
  },
  {
   "cell_type": "code",
   "execution_count": 312,
   "metadata": {
    "scrolled": false
   },
   "outputs": [
    {
     "data": {
      "text/html": [
       "<div>\n",
       "<style scoped>\n",
       "    .dataframe tbody tr th:only-of-type {\n",
       "        vertical-align: middle;\n",
       "    }\n",
       "\n",
       "    .dataframe tbody tr th {\n",
       "        vertical-align: top;\n",
       "    }\n",
       "\n",
       "    .dataframe thead th {\n",
       "        text-align: right;\n",
       "    }\n",
       "</style>\n",
       "<table border=\"1\" class=\"dataframe\">\n",
       "  <thead>\n",
       "    <tr style=\"text-align: right;\">\n",
       "      <th></th>\n",
       "      <th>Year</th>\n",
       "      <th>Waitlist</th>\n",
       "      <th>Diabetes</th>\n",
       "      <th>Obesity</th>\n",
       "      <th>Overdose</th>\n",
       "      <th>Pct_O</th>\n",
       "      <th>Total_Adj</th>\n",
       "      <th>State</th>\n",
       "    </tr>\n",
       "  </thead>\n",
       "  <tbody>\n",
       "    <tr>\n",
       "      <th>1155</th>\n",
       "      <td>12/31/1995</td>\n",
       "      <td>2466</td>\n",
       "      <td>4.9</td>\n",
       "      <td>13.9</td>\n",
       "      <td>4.80</td>\n",
       "      <td>48.134631</td>\n",
       "      <td>2452.11</td>\n",
       "      <td>California</td>\n",
       "    </tr>\n",
       "    <tr>\n",
       "      <th>1107</th>\n",
       "      <td>12/31/1996</td>\n",
       "      <td>2496</td>\n",
       "      <td>5.4</td>\n",
       "      <td>14.8</td>\n",
       "      <td>4.80</td>\n",
       "      <td>48.397436</td>\n",
       "      <td>2473.23</td>\n",
       "      <td>California</td>\n",
       "    </tr>\n",
       "    <tr>\n",
       "      <th>1059</th>\n",
       "      <td>12/31/1997</td>\n",
       "      <td>2873</td>\n",
       "      <td>5.9</td>\n",
       "      <td>15.8</td>\n",
       "      <td>4.80</td>\n",
       "      <td>48.172642</td>\n",
       "      <td>2833.51</td>\n",
       "      <td>California</td>\n",
       "    </tr>\n",
       "    <tr>\n",
       "      <th>1011</th>\n",
       "      <td>12/31/1998</td>\n",
       "      <td>2914</td>\n",
       "      <td>6.4</td>\n",
       "      <td>16.7</td>\n",
       "      <td>4.80</td>\n",
       "      <td>49.897049</td>\n",
       "      <td>2871.93</td>\n",
       "      <td>California</td>\n",
       "    </tr>\n",
       "    <tr>\n",
       "      <th>963</th>\n",
       "      <td>12/31/1999</td>\n",
       "      <td>3252</td>\n",
       "      <td>6.9</td>\n",
       "      <td>17.7</td>\n",
       "      <td>4.80</td>\n",
       "      <td>47.693727</td>\n",
       "      <td>3206.00</td>\n",
       "      <td>California</td>\n",
       "    </tr>\n",
       "    <tr>\n",
       "      <th>915</th>\n",
       "      <td>12/31/2000</td>\n",
       "      <td>3515</td>\n",
       "      <td>7.5</td>\n",
       "      <td>18.7</td>\n",
       "      <td>3.30</td>\n",
       "      <td>50.298720</td>\n",
       "      <td>3502.93</td>\n",
       "      <td>California</td>\n",
       "    </tr>\n",
       "    <tr>\n",
       "      <th>867</th>\n",
       "      <td>12/31/2001</td>\n",
       "      <td>3571</td>\n",
       "      <td>7.4</td>\n",
       "      <td>20.2</td>\n",
       "      <td>1.80</td>\n",
       "      <td>48.753850</td>\n",
       "      <td>3519.36</td>\n",
       "      <td>California</td>\n",
       "    </tr>\n",
       "    <tr>\n",
       "      <th>819</th>\n",
       "      <td>12/31/2002</td>\n",
       "      <td>4041</td>\n",
       "      <td>7.3</td>\n",
       "      <td>21.7</td>\n",
       "      <td>4.50</td>\n",
       "      <td>49.616432</td>\n",
       "      <td>3995.01</td>\n",
       "      <td>California</td>\n",
       "    </tr>\n",
       "    <tr>\n",
       "      <th>771</th>\n",
       "      <td>12/31/2003</td>\n",
       "      <td>4378</td>\n",
       "      <td>7.2</td>\n",
       "      <td>23.2</td>\n",
       "      <td>4.30</td>\n",
       "      <td>48.560987</td>\n",
       "      <td>4330.13</td>\n",
       "      <td>California</td>\n",
       "    </tr>\n",
       "    <tr>\n",
       "      <th>723</th>\n",
       "      <td>12/31/2004</td>\n",
       "      <td>5576</td>\n",
       "      <td>7.2</td>\n",
       "      <td>21.5</td>\n",
       "      <td>4.30</td>\n",
       "      <td>50.394548</td>\n",
       "      <td>5525.16</td>\n",
       "      <td>California</td>\n",
       "    </tr>\n",
       "    <tr>\n",
       "      <th>675</th>\n",
       "      <td>12/31/2005</td>\n",
       "      <td>5450</td>\n",
       "      <td>7.1</td>\n",
       "      <td>22.7</td>\n",
       "      <td>4.10</td>\n",
       "      <td>49.431193</td>\n",
       "      <td>5411.18</td>\n",
       "      <td>California</td>\n",
       "    </tr>\n",
       "    <tr>\n",
       "      <th>627</th>\n",
       "      <td>12/31/2006</td>\n",
       "      <td>5254</td>\n",
       "      <td>7.4</td>\n",
       "      <td>22.7</td>\n",
       "      <td>4.40</td>\n",
       "      <td>49.771603</td>\n",
       "      <td>5225.66</td>\n",
       "      <td>California</td>\n",
       "    </tr>\n",
       "    <tr>\n",
       "      <th>579</th>\n",
       "      <td>12/31/2007</td>\n",
       "      <td>5228</td>\n",
       "      <td>7.6</td>\n",
       "      <td>23.1</td>\n",
       "      <td>4.90</td>\n",
       "      <td>49.770467</td>\n",
       "      <td>5194.75</td>\n",
       "      <td>California</td>\n",
       "    </tr>\n",
       "    <tr>\n",
       "      <th>531</th>\n",
       "      <td>12/31/2008</td>\n",
       "      <td>4967</td>\n",
       "      <td>8.1</td>\n",
       "      <td>23.6</td>\n",
       "      <td>5.20</td>\n",
       "      <td>50.191262</td>\n",
       "      <td>4918.49</td>\n",
       "      <td>California</td>\n",
       "    </tr>\n",
       "    <tr>\n",
       "      <th>483</th>\n",
       "      <td>12/31/2009</td>\n",
       "      <td>4856</td>\n",
       "      <td>8.4</td>\n",
       "      <td>24.4</td>\n",
       "      <td>5.80</td>\n",
       "      <td>50.164745</td>\n",
       "      <td>4808.65</td>\n",
       "      <td>California</td>\n",
       "    </tr>\n",
       "    <tr>\n",
       "      <th>435</th>\n",
       "      <td>12/31/2010</td>\n",
       "      <td>4792</td>\n",
       "      <td>8.7</td>\n",
       "      <td>24.8</td>\n",
       "      <td>5.50</td>\n",
       "      <td>49.979132</td>\n",
       "      <td>4783.64</td>\n",
       "      <td>California</td>\n",
       "    </tr>\n",
       "    <tr>\n",
       "      <th>387</th>\n",
       "      <td>12/31/2011</td>\n",
       "      <td>4725</td>\n",
       "      <td>8.9</td>\n",
       "      <td>23.8</td>\n",
       "      <td>5.50</td>\n",
       "      <td>49.481482</td>\n",
       "      <td>4684.63</td>\n",
       "      <td>California</td>\n",
       "    </tr>\n",
       "    <tr>\n",
       "      <th>339</th>\n",
       "      <td>12/31/2012</td>\n",
       "      <td>4961</td>\n",
       "      <td>9.8</td>\n",
       "      <td>25.0</td>\n",
       "      <td>4.90</td>\n",
       "      <td>50.473695</td>\n",
       "      <td>4920.08</td>\n",
       "      <td>California</td>\n",
       "    </tr>\n",
       "    <tr>\n",
       "      <th>291</th>\n",
       "      <td>12/31/2013</td>\n",
       "      <td>5134</td>\n",
       "      <td>10.2</td>\n",
       "      <td>24.1</td>\n",
       "      <td>5.40</td>\n",
       "      <td>51.090767</td>\n",
       "      <td>5091.79</td>\n",
       "      <td>California</td>\n",
       "    </tr>\n",
       "    <tr>\n",
       "      <th>243</th>\n",
       "      <td>12/31/2014</td>\n",
       "      <td>5248</td>\n",
       "      <td>10.3</td>\n",
       "      <td>24.7</td>\n",
       "      <td>5.60</td>\n",
       "      <td>50.285823</td>\n",
       "      <td>5201.89</td>\n",
       "      <td>California</td>\n",
       "    </tr>\n",
       "    <tr>\n",
       "      <th>195</th>\n",
       "      <td>12/31/2015</td>\n",
       "      <td>4899</td>\n",
       "      <td>10.0</td>\n",
       "      <td>24.2</td>\n",
       "      <td>11.30</td>\n",
       "      <td>51.908553</td>\n",
       "      <td>4858.25</td>\n",
       "      <td>California</td>\n",
       "    </tr>\n",
       "    <tr>\n",
       "      <th>147</th>\n",
       "      <td>12/31/2016</td>\n",
       "      <td>5029</td>\n",
       "      <td>10.2</td>\n",
       "      <td>25.0</td>\n",
       "      <td>11.20</td>\n",
       "      <td>51.501292</td>\n",
       "      <td>4996.81</td>\n",
       "      <td>California</td>\n",
       "    </tr>\n",
       "    <tr>\n",
       "      <th>99</th>\n",
       "      <td>12/31/2017</td>\n",
       "      <td>4808</td>\n",
       "      <td>10.5</td>\n",
       "      <td>25.1</td>\n",
       "      <td>11.70</td>\n",
       "      <td>49.812812</td>\n",
       "      <td>4784.51</td>\n",
       "      <td>California</td>\n",
       "    </tr>\n",
       "    <tr>\n",
       "      <th>51</th>\n",
       "      <td>12/31/2018</td>\n",
       "      <td>5416</td>\n",
       "      <td>10.3</td>\n",
       "      <td>25.8</td>\n",
       "      <td>12.80</td>\n",
       "      <td>49.963072</td>\n",
       "      <td>5401.81</td>\n",
       "      <td>California</td>\n",
       "    </tr>\n",
       "    <tr>\n",
       "      <th>3</th>\n",
       "      <td>12/31/2019</td>\n",
       "      <td>5566</td>\n",
       "      <td>10.1</td>\n",
       "      <td>26.2</td>\n",
       "      <td>12.25</td>\n",
       "      <td>51.257636</td>\n",
       "      <td>5558.86</td>\n",
       "      <td>California</td>\n",
       "    </tr>\n",
       "  </tbody>\n",
       "</table>\n",
       "</div>"
      ],
      "text/plain": [
       "            Year  Waitlist  Diabetes  Obesity  Overdose      Pct_O  Total_Adj  \\\n",
       "1155  12/31/1995      2466       4.9     13.9      4.80  48.134631    2452.11   \n",
       "1107  12/31/1996      2496       5.4     14.8      4.80  48.397436    2473.23   \n",
       "1059  12/31/1997      2873       5.9     15.8      4.80  48.172642    2833.51   \n",
       "1011  12/31/1998      2914       6.4     16.7      4.80  49.897049    2871.93   \n",
       "963   12/31/1999      3252       6.9     17.7      4.80  47.693727    3206.00   \n",
       "915   12/31/2000      3515       7.5     18.7      3.30  50.298720    3502.93   \n",
       "867   12/31/2001      3571       7.4     20.2      1.80  48.753850    3519.36   \n",
       "819   12/31/2002      4041       7.3     21.7      4.50  49.616432    3995.01   \n",
       "771   12/31/2003      4378       7.2     23.2      4.30  48.560987    4330.13   \n",
       "723   12/31/2004      5576       7.2     21.5      4.30  50.394548    5525.16   \n",
       "675   12/31/2005      5450       7.1     22.7      4.10  49.431193    5411.18   \n",
       "627   12/31/2006      5254       7.4     22.7      4.40  49.771603    5225.66   \n",
       "579   12/31/2007      5228       7.6     23.1      4.90  49.770467    5194.75   \n",
       "531   12/31/2008      4967       8.1     23.6      5.20  50.191262    4918.49   \n",
       "483   12/31/2009      4856       8.4     24.4      5.80  50.164745    4808.65   \n",
       "435   12/31/2010      4792       8.7     24.8      5.50  49.979132    4783.64   \n",
       "387   12/31/2011      4725       8.9     23.8      5.50  49.481482    4684.63   \n",
       "339   12/31/2012      4961       9.8     25.0      4.90  50.473695    4920.08   \n",
       "291   12/31/2013      5134      10.2     24.1      5.40  51.090767    5091.79   \n",
       "243   12/31/2014      5248      10.3     24.7      5.60  50.285823    5201.89   \n",
       "195   12/31/2015      4899      10.0     24.2     11.30  51.908553    4858.25   \n",
       "147   12/31/2016      5029      10.2     25.0     11.20  51.501292    4996.81   \n",
       "99    12/31/2017      4808      10.5     25.1     11.70  49.812812    4784.51   \n",
       "51    12/31/2018      5416      10.3     25.8     12.80  49.963072    5401.81   \n",
       "3     12/31/2019      5566      10.1     26.2     12.25  51.257636    5558.86   \n",
       "\n",
       "           State  \n",
       "1155  California  \n",
       "1107  California  \n",
       "1059  California  \n",
       "1011  California  \n",
       "963   California  \n",
       "915   California  \n",
       "867   California  \n",
       "819   California  \n",
       "771   California  \n",
       "723   California  \n",
       "675   California  \n",
       "627   California  \n",
       "579   California  \n",
       "531   California  \n",
       "483   California  \n",
       "435   California  \n",
       "387   California  \n",
       "339   California  \n",
       "291   California  \n",
       "243   California  \n",
       "195   California  \n",
       "147   California  \n",
       "99    California  \n",
       "51    California  \n",
       "3     California  "
      ]
     },
     "execution_count": 312,
     "metadata": {},
     "output_type": "execute_result"
    }
   ],
   "source": [
    "df.sort_values(by=['Year'], inplace=True, ascending=True)\n",
    "df = df.loc[df['State']=='California']\n",
    "df"
   ]
  },
  {
   "cell_type": "code",
   "execution_count": 313,
   "metadata": {
    "scrolled": true
   },
   "outputs": [
    {
     "data": {
      "text/html": [
       "<div>\n",
       "<style scoped>\n",
       "    .dataframe tbody tr th:only-of-type {\n",
       "        vertical-align: middle;\n",
       "    }\n",
       "\n",
       "    .dataframe tbody tr th {\n",
       "        vertical-align: top;\n",
       "    }\n",
       "\n",
       "    .dataframe thead th {\n",
       "        text-align: right;\n",
       "    }\n",
       "</style>\n",
       "<table border=\"1\" class=\"dataframe\">\n",
       "  <thead>\n",
       "    <tr style=\"text-align: right;\">\n",
       "      <th></th>\n",
       "      <th>Total_Adj</th>\n",
       "    </tr>\n",
       "  </thead>\n",
       "  <tbody>\n",
       "    <tr>\n",
       "      <th>0</th>\n",
       "      <td>5558.86</td>\n",
       "    </tr>\n",
       "  </tbody>\n",
       "</table>\n",
       "</div>"
      ],
      "text/plain": [
       "   Total_Adj\n",
       "0    5558.86"
      ]
     },
     "execution_count": 313,
     "metadata": {},
     "output_type": "execute_result"
    }
   ],
   "source": [
    "df_output = df.tail(1)\n",
    "lastyear_df = df_output.drop(columns=['Year', 'Waitlist','Diabetes','Obesity','Overdose','Pct_O','State'])\n",
    "lastyear_df = lastyear_df.reset_index(drop=True)\n",
    "lastyear_df"
   ]
  },
  {
   "cell_type": "code",
   "execution_count": 314,
   "metadata": {},
   "outputs": [
    {
     "data": {
      "image/png": "[encoded data removed]",
      "text/plain": [
       "<Figure size 432x288 with 36 Axes>"
      ]
     },
     "metadata": {
      "needs_background": "light"
     },
     "output_type": "display_data"
    }
   ],
   "source": [
    "df.plot(kind='box', subplots=True, layout=(6,6), sharex=False, sharey=False)\n",
    "plt.show()"
   ]
  },
  {
   "cell_type": "code",
   "execution_count": 315,
   "metadata": {},
   "outputs": [
    {
     "data": {
      "image/png": "[encoded data removed]",
      "text/plain": [
       "<Figure size 432x288 with 36 Axes>"
      ]
     },
     "metadata": {
      "needs_background": "light"
     },
     "output_type": "display_data"
    }
   ],
   "source": [
    "# scatter plot matrix\n",
    "pd.plotting.scatter_matrix(df)\n",
    "plt.show()"
   ]
  },
  {
   "cell_type": "code",
   "execution_count": 316,
   "metadata": {
    "scrolled": true
   },
   "outputs": [
    {
     "data": {
      "text/html": [
       "<div>\n",
       "<style scoped>\n",
       "    .dataframe tbody tr th:only-of-type {\n",
       "        vertical-align: middle;\n",
       "    }\n",
       "\n",
       "    .dataframe tbody tr th {\n",
       "        vertical-align: top;\n",
       "    }\n",
       "\n",
       "    .dataframe thead th {\n",
       "        text-align: right;\n",
       "    }\n",
       "</style>\n",
       "<table border=\"1\" class=\"dataframe\">\n",
       "  <thead>\n",
       "    <tr style=\"text-align: right;\">\n",
       "      <th></th>\n",
       "      <th>Waitlist</th>\n",
       "      <th>Diabetes</th>\n",
       "      <th>Obesity</th>\n",
       "      <th>Overdose</th>\n",
       "      <th>Pct_O</th>\n",
       "      <th>Total_Adj</th>\n",
       "    </tr>\n",
       "  </thead>\n",
       "  <tbody>\n",
       "    <tr>\n",
       "      <th>count</th>\n",
       "      <td>25.000000</td>\n",
       "      <td>25.000000</td>\n",
       "      <td>25.000000</td>\n",
       "      <td>25.000000</td>\n",
       "      <td>25.000000</td>\n",
       "      <td>25.00000</td>\n",
       "    </tr>\n",
       "    <tr>\n",
       "      <th>mean</th>\n",
       "      <td>4456.600000</td>\n",
       "      <td>8.148000</td>\n",
       "      <td>21.976000</td>\n",
       "      <td>6.110000</td>\n",
       "      <td>49.800142</td>\n",
       "      <td>4422.01480</td>\n",
       "    </tr>\n",
       "    <tr>\n",
       "      <th>std</th>\n",
       "      <td>1004.318426</td>\n",
       "      <td>1.675092</td>\n",
       "      <td>3.629656</td>\n",
       "      <td>3.048702</td>\n",
       "      <td>1.070541</td>\n",
       "      <td>1003.67671</td>\n",
       "    </tr>\n",
       "    <tr>\n",
       "      <th>min</th>\n",
       "      <td>2466.000000</td>\n",
       "      <td>4.900000</td>\n",
       "      <td>13.900000</td>\n",
       "      <td>1.800000</td>\n",
       "      <td>47.693727</td>\n",
       "      <td>2452.11000</td>\n",
       "    </tr>\n",
       "    <tr>\n",
       "      <th>25%</th>\n",
       "      <td>3571.000000</td>\n",
       "      <td>7.200000</td>\n",
       "      <td>20.200000</td>\n",
       "      <td>4.500000</td>\n",
       "      <td>49.431193</td>\n",
       "      <td>3519.36000</td>\n",
       "    </tr>\n",
       "    <tr>\n",
       "      <th>50%</th>\n",
       "      <td>4856.000000</td>\n",
       "      <td>7.600000</td>\n",
       "      <td>23.200000</td>\n",
       "      <td>4.900000</td>\n",
       "      <td>49.897049</td>\n",
       "      <td>4808.65000</td>\n",
       "    </tr>\n",
       "    <tr>\n",
       "      <th>75%</th>\n",
       "      <td>5228.000000</td>\n",
       "      <td>10.000000</td>\n",
       "      <td>24.700000</td>\n",
       "      <td>5.600000</td>\n",
       "      <td>50.298720</td>\n",
       "      <td>5194.75000</td>\n",
       "    </tr>\n",
       "    <tr>\n",
       "      <th>max</th>\n",
       "      <td>5576.000000</td>\n",
       "      <td>10.500000</td>\n",
       "      <td>26.200000</td>\n",
       "      <td>12.800000</td>\n",
       "      <td>51.908553</td>\n",
       "      <td>5558.86000</td>\n",
       "    </tr>\n",
       "  </tbody>\n",
       "</table>\n",
       "</div>"
      ],
      "text/plain": [
       "          Waitlist   Diabetes    Obesity   Overdose      Pct_O   Total_Adj\n",
       "count    25.000000  25.000000  25.000000  25.000000  25.000000    25.00000\n",
       "mean   4456.600000   8.148000  21.976000   6.110000  49.800142  4422.01480\n",
       "std    1004.318426   1.675092   3.629656   3.048702   1.070541  1003.67671\n",
       "min    2466.000000   4.900000  13.900000   1.800000  47.693727  2452.11000\n",
       "25%    3571.000000   7.200000  20.200000   4.500000  49.431193  3519.36000\n",
       "50%    4856.000000   7.600000  23.200000   4.900000  49.897049  4808.65000\n",
       "75%    5228.000000  10.000000  24.700000   5.600000  50.298720  5194.75000\n",
       "max    5576.000000  10.500000  26.200000  12.800000  51.908553  5558.86000"
      ]
     },
     "execution_count": 316,
     "metadata": {},
     "output_type": "execute_result"
    }
   ],
   "source": [
    "#Describe data\n",
    "df.describe()"
   ]
  },
  {
   "cell_type": "code",
   "execution_count": 317,
   "metadata": {
    "scrolled": true
   },
   "outputs": [
    {
     "name": "stdout",
     "output_type": "stream",
     "text": [
      "          Diabetes   Obesity  Overdose     Pct_O\n",
      "Diabetes  1.000000  0.879103  0.675709  0.752649\n",
      "Obesity   0.879103  1.000000  0.515013  0.690730\n",
      "Overdose  0.675709  0.515013  1.000000  0.530191\n",
      "Pct_O     0.752649  0.690730  0.530191  1.000000\n"
     ]
    }
   ],
   "source": [
    "#Correlation Matrix\n",
    "corr_matrix = df[[\"Diabetes\", \"Obesity\", \"Overdose\", \"Pct_O\"]].corr()\n",
    "print(corr_matrix)"
   ]
  },
  {
   "cell_type": "code",
   "execution_count": 318,
   "metadata": {},
   "outputs": [
    {
     "name": "stdout",
     "output_type": "stream",
     "text": [
      "(25, 4) (25, 1)\n"
     ]
    }
   ],
   "source": [
    "#Assign variables for regression\n",
    "X = df[['Diabetes','Obesity','Overdose','Pct_O']]\n",
    "y = df['Total_Adj'].values.reshape(-1,1)\n",
    "print(X.shape, y.shape)"
   ]
  },
  {
   "cell_type": "code",
   "execution_count": 319,
   "metadata": {},
   "outputs": [],
   "source": [
    "#Use train_test_split to create training and testing data\n",
    "from sklearn.model_selection import train_test_split\n",
    "X_train, X_test, y_train, y_test = train_test_split(X, y, random_state=42)"
   ]
  },
  {
   "cell_type": "code",
   "execution_count": 320,
   "metadata": {},
   "outputs": [],
   "source": [
    "#Create model\n",
    "model = LinearRegression()"
   ]
  },
  {
   "cell_type": "code",
   "execution_count": 321,
   "metadata": {},
   "outputs": [
    {
     "name": "stdout",
     "output_type": "stream",
     "text": [
      "Training Score: 0.9151904045082683\n",
      "Testing Score: 0.7307920048488923\n"
     ]
    }
   ],
   "source": [
    "#fit the model to the training data and calculate the scores for the training and testing data\n",
    "#Begin\n",
    "model.fit(X_train, y_train)\n",
    "training_score = model.score(X_train, y_train)\n",
    "testing_score = model.score(X_test, y_test)\n",
    "#End\n",
    "print(f\"Training Score: {training_score}\")\n",
    "print(f\"Testing Score: {testing_score}\")\n"
   ]
  },
  {
   "cell_type": "code",
   "execution_count": 322,
   "metadata": {},
   "outputs": [
    {
     "data": {
      "text/plain": [
       "Text(0.5, 1.0, 'Residual Plot')"
      ]
     },
     "execution_count": 322,
     "metadata": {},
     "output_type": "execute_result"
    },
    {
     "data": {
      "image/png": "[encoded data removed]",
      "text/plain": [
       "<Figure size 432x288 with 1 Axes>"
      ]
     },
     "metadata": {
      "needs_background": "light"
     },
     "output_type": "display_data"
    }
   ],
   "source": [
    "#Plot Residuals for Training and Testing Data\n",
    "#Begin\n",
    "plt.scatter(model.predict(X_train), model.predict(X_train) - y_train, c=\"green\", label=\"Training Data\")\n",
    "plt.scatter(model.predict(X_test), model.predict(X_test) - y_test, c=\"red\", label=\"Testing Data\")\n",
    "plt.legend()\n",
    "plt.hlines(y=0, xmin=y.min(), xmax=y.max())\n",
    "plt.title(\"Residual Plot\")\n",
    "#End"
   ]
  },
  {
   "cell_type": "code",
   "execution_count": 323,
   "metadata": {},
   "outputs": [
    {
     "name": "stdout",
     "output_type": "stream",
     "text": [
      "coefficient of determination 0.8660729413286492\n"
     ]
    }
   ],
   "source": [
    "#R2 of original model\n",
    "r_sq = model.score(X, y)\n",
    "print('coefficient of determination', r_sq)"
   ]
  },
  {
   "cell_type": "code",
   "execution_count": 324,
   "metadata": {},
   "outputs": [
    {
     "name": "stdout",
     "output_type": "stream",
     "text": [
      "[-4695.17105907]\n"
     ]
    }
   ],
   "source": [
    "print(model.intercept_)"
   ]
  },
  {
   "cell_type": "code",
   "execution_count": 325,
   "metadata": {},
   "outputs": [
    {
     "name": "stdout",
     "output_type": "stream",
     "text": [
      "[[-171.83989625  315.69950931   -4.88768449   71.36834915]]\n"
     ]
    }
   ],
   "source": [
    "print(model.coef_)"
   ]
  },
  {
   "cell_type": "code",
   "execution_count": 326,
   "metadata": {
    "scrolled": false
   },
   "outputs": [
    {
     "name": "stdout",
     "output_type": "stream",
     "text": [
      "[[6956.28174349]]\n"
     ]
    }
   ],
   "source": [
    "#Make a Prediction using model\n",
    "predictedTotal_Adj = model.predict([[10.77,32,19.9,49]])\n",
    "print(predictedTotal_Adj)"
   ]
  },
  {
   "cell_type": "code",
   "execution_count": 327,
   "metadata": {
    "scrolled": false
   },
   "outputs": [
    {
     "name": "stdout",
     "output_type": "stream",
     "text": [
      "(18, 4)\n"
     ]
    }
   ],
   "source": [
    "print(X_train.shape)"
   ]
  },
  {
   "cell_type": "code",
   "execution_count": 328,
   "metadata": {
    "scrolled": true
   },
   "outputs": [
    {
     "name": "stdout",
     "output_type": "stream",
     "text": [
      "(18, 1)\n"
     ]
    }
   ],
   "source": [
    "print(y_train.shape)"
   ]
  },
  {
   "cell_type": "code",
   "execution_count": 329,
   "metadata": {},
   "outputs": [
    {
     "name": "stdout",
     "output_type": "stream",
     "text": [
      "(7, 1)\n"
     ]
    }
   ],
   "source": [
    "print(y_test.shape)"
   ]
  },
  {
   "cell_type": "code",
   "execution_count": 330,
   "metadata": {},
   "outputs": [
    {
     "name": "stdout",
     "output_type": "stream",
     "text": [
      "(7, 4)\n"
     ]
    }
   ],
   "source": [
    "print(X_test.shape)"
   ]
  },
  {
   "cell_type": "code",
   "execution_count": 331,
   "metadata": {},
   "outputs": [],
   "source": [
    "modeldetail = sm.OLS(y, X)\n",
    "resultstest = modeldetail.fit()"
   ]
  },
  {
   "cell_type": "code",
   "execution_count": 332,
   "metadata": {},
   "outputs": [
    {
     "name": "stdout",
     "output_type": "stream",
     "text": [
      "(25, 4)\n"
     ]
    }
   ],
   "source": [
    "print(X.shape)"
   ]
  },
  {
   "cell_type": "code",
   "execution_count": 333,
   "metadata": {},
   "outputs": [
    {
     "name": "stdout",
     "output_type": "stream",
     "text": [
      "(25, 1)\n"
     ]
    }
   ],
   "source": [
    "print(y.shape)"
   ]
  },
  {
   "cell_type": "code",
   "execution_count": 334,
   "metadata": {
    "scrolled": true
   },
   "outputs": [
    {
     "data": {
      "image/png": "[encoded data removed]",
      "text/plain": [
       "<Figure size 432x288 with 1 Axes>"
      ]
     },
     "metadata": {
      "needs_background": "light"
     },
     "output_type": "display_data"
    }
   ],
   "source": [
    "plt.scatter(X[('Diabetes')], y, label='Diabetes')\n",
    "plt.scatter(X[('Obesity')], y, label='Obesity')\n",
    "plt.scatter(X[('Overdose')], y, label='Overdose')\n",
    "plt.scatter(X[('Pct_O')], y, label='% O-type')\n",
    "plt.title('Full Model')\n",
    "plt.xlabel('Variables through Time (in %, except Overdose in per 100,000)')\n",
    "plt.ylabel('Kidney Waitlist through Time')\n",
    "plt.legend(title='variables',loc='lower center')\n",
    "plt.savefig('images/California_full.png', dpi=100, facecolor='w', edgecolor='w',\n",
    "        orientation='portrait', format=None,\n",
    "        transparent=False, bbox_inches=None, pad_inches=0.2, metadata=None)\n",
    "plt.show()"
   ]
  },
  {
   "cell_type": "code",
   "execution_count": 335,
   "metadata": {
    "scrolled": true
   },
   "outputs": [
    {
     "data": {
      "image/png": "[encoded data removed]",
      "text/plain": [
       "<Figure size 504x360 with 1 Axes>"
      ]
     },
     "metadata": {
      "needs_background": "light"
     },
     "output_type": "display_data"
    }
   ],
   "source": [
    "fig = plt.figure()\n",
    "plt.scatter(X_train[('Diabetes')], y_train)\n",
    "plt.scatter(X_train[('Obesity')], y_train)\n",
    "plt.scatter(X_train[('Overdose')], y_train)\n",
    "plt.scatter(X_train[('Pct_O')], y_train)\n",
    "plt.title('Training Model')\n",
    "fig.set_size_inches(7,5)\n",
    "plt.show()"
   ]
  },
  {
   "cell_type": "code",
   "execution_count": 336,
   "metadata": {},
   "outputs": [
    {
     "data": {
      "image/png": "[encoded data removed]",
      "text/plain": [
       "<Figure size 432x288 with 1 Axes>"
      ]
     },
     "metadata": {
      "needs_background": "light"
     },
     "output_type": "display_data"
    }
   ],
   "source": [
    "plt.scatter(X_test[('Diabetes')], y_test)\n",
    "plt.scatter(X_test[('Obesity')], y_test)\n",
    "plt.scatter(X_test[('Overdose')], y_test)\n",
    "plt.scatter(X_test[('Pct_O')], y_test)\n",
    "plt.title('Test Model')\n",
    "plt.show()"
   ]
  },
  {
   "cell_type": "code",
   "execution_count": 337,
   "metadata": {},
   "outputs": [
    {
     "data": {
      "image/png": "[encoded data removed]",
      "text/plain": [
       "<Figure size 432x288 with 1 Axes>"
      ]
     },
     "metadata": {
      "needs_background": "light"
     },
     "output_type": "display_data"
    }
   ],
   "source": [
    "plt.scatter(X_train[('Diabetes')], y_train)\n",
    "plt.scatter(X_train[('Obesity')], y_train)\n",
    "plt.scatter(X_train[('Overdose')], y_train)\n",
    "plt.scatter(X_train[('Pct_O')], y_train)\n",
    "plt.scatter(X_test[('Diabetes')], y_test)\n",
    "plt.scatter(X_test[('Obesity')], y_test)\n",
    "plt.scatter(X_test[('Overdose')], y_test)\n",
    "plt.scatter(X_test[('Pct_O')], y_test)\n",
    "plt.title('Test Model')\n",
    "plt.show()"
   ]
  },
  {
   "cell_type": "code",
   "execution_count": 338,
   "metadata": {},
   "outputs": [
    {
     "data": {
      "text/html": [
       "<table class=\"simpletable\">\n",
       "<caption>OLS Regression Results</caption>\n",
       "<tr>\n",
       "  <th>Dep. Variable:</th>        <td>Total_Adj</td>    <th>  R-squared:         </th> <td>   0.879</td>\n",
       "</tr>\n",
       "<tr>\n",
       "  <th>Model:</th>                   <td>OLS</td>       <th>  Adj. R-squared:    </th> <td>   0.855</td>\n",
       "</tr>\n",
       "<tr>\n",
       "  <th>Method:</th>             <td>Least Squares</td>  <th>  F-statistic:       </th> <td>   36.25</td>\n",
       "</tr>\n",
       "<tr>\n",
       "  <th>Date:</th>             <td>Tue, 19 Jan 2021</td> <th>  Prob (F-statistic):</th> <td>6.70e-09</td>\n",
       "</tr>\n",
       "<tr>\n",
       "  <th>Time:</th>                 <td>21:36:24</td>     <th>  Log-Likelihood:    </th> <td> -181.37</td>\n",
       "</tr>\n",
       "<tr>\n",
       "  <th>No. Observations:</th>      <td>    25</td>      <th>  AIC:               </th> <td>   372.7</td>\n",
       "</tr>\n",
       "<tr>\n",
       "  <th>Df Residuals:</th>          <td>    20</td>      <th>  BIC:               </th> <td>   378.8</td>\n",
       "</tr>\n",
       "<tr>\n",
       "  <th>Df Model:</th>              <td>     4</td>      <th>                     </th>     <td> </td>   \n",
       "</tr>\n",
       "<tr>\n",
       "  <th>Covariance Type:</th>      <td>nonrobust</td>    <th>                     </th>     <td> </td>   \n",
       "</tr>\n",
       "</table>\n",
       "<table class=\"simpletable\">\n",
       "<tr>\n",
       "      <td></td>         <th>coef</th>     <th>std err</th>      <th>t</th>      <th>P>|t|</th>  <th>[0.025</th>    <th>0.975]</th>  \n",
       "</tr>\n",
       "<tr>\n",
       "  <th>Intercept</th> <td>-1.048e+04</td> <td> 5120.816</td> <td>   -2.047</td> <td> 0.054</td> <td>-2.12e+04</td> <td>  198.493</td>\n",
       "</tr>\n",
       "<tr>\n",
       "  <th>Diabetes</th>  <td> -265.7654</td> <td>  123.892</td> <td>   -2.145</td> <td> 0.044</td> <td> -524.199</td> <td>   -7.332</td>\n",
       "</tr>\n",
       "<tr>\n",
       "  <th>Obesity</th>   <td>  319.6307</td> <td>   46.612</td> <td>    6.857</td> <td> 0.000</td> <td>  222.400</td> <td>  416.861</td>\n",
       "</tr>\n",
       "<tr>\n",
       "  <th>Overdose</th>  <td>    0.4939</td> <td>   35.762</td> <td>    0.014</td> <td> 0.989</td> <td>  -74.105</td> <td>   75.093</td>\n",
       "</tr>\n",
       "<tr>\n",
       "  <th>Pct_O</th>     <td>  201.6779</td> <td>  111.584</td> <td>    1.807</td> <td> 0.086</td> <td>  -31.083</td> <td>  434.439</td>\n",
       "</tr>\n",
       "</table>\n",
       "<table class=\"simpletable\">\n",
       "<tr>\n",
       "  <th>Omnibus:</th>       <td> 1.870</td> <th>  Durbin-Watson:     </th> <td>   1.381</td>\n",
       "</tr>\n",
       "<tr>\n",
       "  <th>Prob(Omnibus):</th> <td> 0.393</td> <th>  Jarque-Bera (JB):  </th> <td>   1.292</td>\n",
       "</tr>\n",
       "<tr>\n",
       "  <th>Skew:</th>          <td> 0.554</td> <th>  Prob(JB):          </th> <td>   0.524</td>\n",
       "</tr>\n",
       "<tr>\n",
       "  <th>Kurtosis:</th>      <td> 2.886</td> <th>  Cond. No.          </th> <td>3.71e+03</td>\n",
       "</tr>\n",
       "</table><br/><br/>Warnings:<br/>[1] Standard Errors assume that the covariance matrix of the errors is correctly specified.<br/>[2] The condition number is large, 3.71e+03. This might indicate that there are<br/>strong multicollinearity or other numerical problems."
      ],
      "text/plain": [
       "<class 'statsmodels.iolib.summary.Summary'>\n",
       "\"\"\"\n",
       "                            OLS Regression Results                            \n",
       "==============================================================================\n",
       "Dep. Variable:              Total_Adj   R-squared:                       0.879\n",
       "Model:                            OLS   Adj. R-squared:                  0.855\n",
       "Method:                 Least Squares   F-statistic:                     36.25\n",
       "Date:                Tue, 19 Jan 2021   Prob (F-statistic):           6.70e-09\n",
       "Time:                        21:36:24   Log-Likelihood:                -181.37\n",
       "No. Observations:                  25   AIC:                             372.7\n",
       "Df Residuals:                      20   BIC:                             378.8\n",
       "Df Model:                           4                                         \n",
       "Covariance Type:            nonrobust                                         \n",
       "==============================================================================\n",
       "                 coef    std err          t      P>|t|      [0.025      0.975]\n",
       "------------------------------------------------------------------------------\n",
       "Intercept  -1.048e+04   5120.816     -2.047      0.054   -2.12e+04     198.493\n",
       "Diabetes    -265.7654    123.892     -2.145      0.044    -524.199      -7.332\n",
       "Obesity      319.6307     46.612      6.857      0.000     222.400     416.861\n",
       "Overdose       0.4939     35.762      0.014      0.989     -74.105      75.093\n",
       "Pct_O        201.6779    111.584      1.807      0.086     -31.083     434.439\n",
       "==============================================================================\n",
       "Omnibus:                        1.870   Durbin-Watson:                   1.381\n",
       "Prob(Omnibus):                  0.393   Jarque-Bera (JB):                1.292\n",
       "Skew:                           0.554   Prob(JB):                        0.524\n",
       "Kurtosis:                       2.886   Cond. No.                     3.71e+03\n",
       "==============================================================================\n",
       "\n",
       "Warnings:\n",
       "[1] Standard Errors assume that the covariance matrix of the errors is correctly specified.\n",
       "[2] The condition number is large, 3.71e+03. This might indicate that there are\n",
       "strong multicollinearity or other numerical problems.\n",
       "\"\"\""
      ]
     },
     "execution_count": 338,
     "metadata": {},
     "output_type": "execute_result"
    }
   ],
   "source": [
    "model_lin = sm.OLS.from_formula(\"Total_Adj ~ Diabetes + Obesity + Overdose + Pct_O\", data=df)\n",
    "result_lin = model_lin.fit()\n",
    "result_lin.summary()"
   ]
  },
  {
   "cell_type": "code",
   "execution_count": 339,
   "metadata": {},
   "outputs": [
    {
     "data": {
      "text/html": [
       "<div>\n",
       "<style scoped>\n",
       "    .dataframe tbody tr th:only-of-type {\n",
       "        vertical-align: middle;\n",
       "    }\n",
       "\n",
       "    .dataframe tbody tr th {\n",
       "        vertical-align: top;\n",
       "    }\n",
       "\n",
       "    .dataframe thead th {\n",
       "        text-align: right;\n",
       "    }\n",
       "</style>\n",
       "<table border=\"1\" class=\"dataframe\">\n",
       "  <thead>\n",
       "    <tr style=\"text-align: right;\">\n",
       "      <th></th>\n",
       "      <th>Year</th>\n",
       "      <th>Waitlist</th>\n",
       "      <th>Diabetes</th>\n",
       "      <th>Obesity</th>\n",
       "      <th>Overdose</th>\n",
       "      <th>Pct_O</th>\n",
       "      <th>Total_Adj</th>\n",
       "      <th>State</th>\n",
       "    </tr>\n",
       "  </thead>\n",
       "  <tbody>\n",
       "    <tr>\n",
       "      <th>1155</th>\n",
       "      <td>12/31/1995</td>\n",
       "      <td>2466</td>\n",
       "      <td>4.9</td>\n",
       "      <td>13.9</td>\n",
       "      <td>4.80</td>\n",
       "      <td>48.134631</td>\n",
       "      <td>2452.11</td>\n",
       "      <td>California</td>\n",
       "    </tr>\n",
       "    <tr>\n",
       "      <th>1107</th>\n",
       "      <td>12/31/1996</td>\n",
       "      <td>2496</td>\n",
       "      <td>5.4</td>\n",
       "      <td>14.8</td>\n",
       "      <td>4.80</td>\n",
       "      <td>48.397436</td>\n",
       "      <td>2473.23</td>\n",
       "      <td>California</td>\n",
       "    </tr>\n",
       "    <tr>\n",
       "      <th>1059</th>\n",
       "      <td>12/31/1997</td>\n",
       "      <td>2873</td>\n",
       "      <td>5.9</td>\n",
       "      <td>15.8</td>\n",
       "      <td>4.80</td>\n",
       "      <td>48.172642</td>\n",
       "      <td>2833.51</td>\n",
       "      <td>California</td>\n",
       "    </tr>\n",
       "    <tr>\n",
       "      <th>1011</th>\n",
       "      <td>12/31/1998</td>\n",
       "      <td>2914</td>\n",
       "      <td>6.4</td>\n",
       "      <td>16.7</td>\n",
       "      <td>4.80</td>\n",
       "      <td>49.897049</td>\n",
       "      <td>2871.93</td>\n",
       "      <td>California</td>\n",
       "    </tr>\n",
       "    <tr>\n",
       "      <th>963</th>\n",
       "      <td>12/31/1999</td>\n",
       "      <td>3252</td>\n",
       "      <td>6.9</td>\n",
       "      <td>17.7</td>\n",
       "      <td>4.80</td>\n",
       "      <td>47.693727</td>\n",
       "      <td>3206.00</td>\n",
       "      <td>California</td>\n",
       "    </tr>\n",
       "    <tr>\n",
       "      <th>915</th>\n",
       "      <td>12/31/2000</td>\n",
       "      <td>3515</td>\n",
       "      <td>7.5</td>\n",
       "      <td>18.7</td>\n",
       "      <td>3.30</td>\n",
       "      <td>50.298720</td>\n",
       "      <td>3502.93</td>\n",
       "      <td>California</td>\n",
       "    </tr>\n",
       "    <tr>\n",
       "      <th>867</th>\n",
       "      <td>12/31/2001</td>\n",
       "      <td>3571</td>\n",
       "      <td>7.4</td>\n",
       "      <td>20.2</td>\n",
       "      <td>1.80</td>\n",
       "      <td>48.753850</td>\n",
       "      <td>3519.36</td>\n",
       "      <td>California</td>\n",
       "    </tr>\n",
       "    <tr>\n",
       "      <th>819</th>\n",
       "      <td>12/31/2002</td>\n",
       "      <td>4041</td>\n",
       "      <td>7.3</td>\n",
       "      <td>21.7</td>\n",
       "      <td>4.50</td>\n",
       "      <td>49.616432</td>\n",
       "      <td>3995.01</td>\n",
       "      <td>California</td>\n",
       "    </tr>\n",
       "    <tr>\n",
       "      <th>771</th>\n",
       "      <td>12/31/2003</td>\n",
       "      <td>4378</td>\n",
       "      <td>7.2</td>\n",
       "      <td>23.2</td>\n",
       "      <td>4.30</td>\n",
       "      <td>48.560987</td>\n",
       "      <td>4330.13</td>\n",
       "      <td>California</td>\n",
       "    </tr>\n",
       "    <tr>\n",
       "      <th>723</th>\n",
       "      <td>12/31/2004</td>\n",
       "      <td>5576</td>\n",
       "      <td>7.2</td>\n",
       "      <td>21.5</td>\n",
       "      <td>4.30</td>\n",
       "      <td>50.394548</td>\n",
       "      <td>5525.16</td>\n",
       "      <td>California</td>\n",
       "    </tr>\n",
       "    <tr>\n",
       "      <th>675</th>\n",
       "      <td>12/31/2005</td>\n",
       "      <td>5450</td>\n",
       "      <td>7.1</td>\n",
       "      <td>22.7</td>\n",
       "      <td>4.10</td>\n",
       "      <td>49.431193</td>\n",
       "      <td>5411.18</td>\n",
       "      <td>California</td>\n",
       "    </tr>\n",
       "    <tr>\n",
       "      <th>627</th>\n",
       "      <td>12/31/2006</td>\n",
       "      <td>5254</td>\n",
       "      <td>7.4</td>\n",
       "      <td>22.7</td>\n",
       "      <td>4.40</td>\n",
       "      <td>49.771603</td>\n",
       "      <td>5225.66</td>\n",
       "      <td>California</td>\n",
       "    </tr>\n",
       "    <tr>\n",
       "      <th>579</th>\n",
       "      <td>12/31/2007</td>\n",
       "      <td>5228</td>\n",
       "      <td>7.6</td>\n",
       "      <td>23.1</td>\n",
       "      <td>4.90</td>\n",
       "      <td>49.770467</td>\n",
       "      <td>5194.75</td>\n",
       "      <td>California</td>\n",
       "    </tr>\n",
       "    <tr>\n",
       "      <th>531</th>\n",
       "      <td>12/31/2008</td>\n",
       "      <td>4967</td>\n",
       "      <td>8.1</td>\n",
       "      <td>23.6</td>\n",
       "      <td>5.20</td>\n",
       "      <td>50.191262</td>\n",
       "      <td>4918.49</td>\n",
       "      <td>California</td>\n",
       "    </tr>\n",
       "    <tr>\n",
       "      <th>483</th>\n",
       "      <td>12/31/2009</td>\n",
       "      <td>4856</td>\n",
       "      <td>8.4</td>\n",
       "      <td>24.4</td>\n",
       "      <td>5.80</td>\n",
       "      <td>50.164745</td>\n",
       "      <td>4808.65</td>\n",
       "      <td>California</td>\n",
       "    </tr>\n",
       "    <tr>\n",
       "      <th>435</th>\n",
       "      <td>12/31/2010</td>\n",
       "      <td>4792</td>\n",
       "      <td>8.7</td>\n",
       "      <td>24.8</td>\n",
       "      <td>5.50</td>\n",
       "      <td>49.979132</td>\n",
       "      <td>4783.64</td>\n",
       "      <td>California</td>\n",
       "    </tr>\n",
       "    <tr>\n",
       "      <th>387</th>\n",
       "      <td>12/31/2011</td>\n",
       "      <td>4725</td>\n",
       "      <td>8.9</td>\n",
       "      <td>23.8</td>\n",
       "      <td>5.50</td>\n",
       "      <td>49.481482</td>\n",
       "      <td>4684.63</td>\n",
       "      <td>California</td>\n",
       "    </tr>\n",
       "    <tr>\n",
       "      <th>339</th>\n",
       "      <td>12/31/2012</td>\n",
       "      <td>4961</td>\n",
       "      <td>9.8</td>\n",
       "      <td>25.0</td>\n",
       "      <td>4.90</td>\n",
       "      <td>50.473695</td>\n",
       "      <td>4920.08</td>\n",
       "      <td>California</td>\n",
       "    </tr>\n",
       "    <tr>\n",
       "      <th>291</th>\n",
       "      <td>12/31/2013</td>\n",
       "      <td>5134</td>\n",
       "      <td>10.2</td>\n",
       "      <td>24.1</td>\n",
       "      <td>5.40</td>\n",
       "      <td>51.090767</td>\n",
       "      <td>5091.79</td>\n",
       "      <td>California</td>\n",
       "    </tr>\n",
       "    <tr>\n",
       "      <th>243</th>\n",
       "      <td>12/31/2014</td>\n",
       "      <td>5248</td>\n",
       "      <td>10.3</td>\n",
       "      <td>24.7</td>\n",
       "      <td>5.60</td>\n",
       "      <td>50.285823</td>\n",
       "      <td>5201.89</td>\n",
       "      <td>California</td>\n",
       "    </tr>\n",
       "    <tr>\n",
       "      <th>195</th>\n",
       "      <td>12/31/2015</td>\n",
       "      <td>4899</td>\n",
       "      <td>10.0</td>\n",
       "      <td>24.2</td>\n",
       "      <td>11.30</td>\n",
       "      <td>51.908553</td>\n",
       "      <td>4858.25</td>\n",
       "      <td>California</td>\n",
       "    </tr>\n",
       "    <tr>\n",
       "      <th>147</th>\n",
       "      <td>12/31/2016</td>\n",
       "      <td>5029</td>\n",
       "      <td>10.2</td>\n",
       "      <td>25.0</td>\n",
       "      <td>11.20</td>\n",
       "      <td>51.501292</td>\n",
       "      <td>4996.81</td>\n",
       "      <td>California</td>\n",
       "    </tr>\n",
       "    <tr>\n",
       "      <th>99</th>\n",
       "      <td>12/31/2017</td>\n",
       "      <td>4808</td>\n",
       "      <td>10.5</td>\n",
       "      <td>25.1</td>\n",
       "      <td>11.70</td>\n",
       "      <td>49.812812</td>\n",
       "      <td>4784.51</td>\n",
       "      <td>California</td>\n",
       "    </tr>\n",
       "    <tr>\n",
       "      <th>51</th>\n",
       "      <td>12/31/2018</td>\n",
       "      <td>5416</td>\n",
       "      <td>10.3</td>\n",
       "      <td>25.8</td>\n",
       "      <td>12.80</td>\n",
       "      <td>49.963072</td>\n",
       "      <td>5401.81</td>\n",
       "      <td>California</td>\n",
       "    </tr>\n",
       "    <tr>\n",
       "      <th>3</th>\n",
       "      <td>12/31/2019</td>\n",
       "      <td>5566</td>\n",
       "      <td>10.1</td>\n",
       "      <td>26.2</td>\n",
       "      <td>12.25</td>\n",
       "      <td>51.257636</td>\n",
       "      <td>5558.86</td>\n",
       "      <td>California</td>\n",
       "    </tr>\n",
       "  </tbody>\n",
       "</table>\n",
       "</div>"
      ],
      "text/plain": [
       "            Year  Waitlist  Diabetes  Obesity  Overdose      Pct_O  Total_Adj  \\\n",
       "1155  12/31/1995      2466       4.9     13.9      4.80  48.134631    2452.11   \n",
       "1107  12/31/1996      2496       5.4     14.8      4.80  48.397436    2473.23   \n",
       "1059  12/31/1997      2873       5.9     15.8      4.80  48.172642    2833.51   \n",
       "1011  12/31/1998      2914       6.4     16.7      4.80  49.897049    2871.93   \n",
       "963   12/31/1999      3252       6.9     17.7      4.80  47.693727    3206.00   \n",
       "915   12/31/2000      3515       7.5     18.7      3.30  50.298720    3502.93   \n",
       "867   12/31/2001      3571       7.4     20.2      1.80  48.753850    3519.36   \n",
       "819   12/31/2002      4041       7.3     21.7      4.50  49.616432    3995.01   \n",
       "771   12/31/2003      4378       7.2     23.2      4.30  48.560987    4330.13   \n",
       "723   12/31/2004      5576       7.2     21.5      4.30  50.394548    5525.16   \n",
       "675   12/31/2005      5450       7.1     22.7      4.10  49.431193    5411.18   \n",
       "627   12/31/2006      5254       7.4     22.7      4.40  49.771603    5225.66   \n",
       "579   12/31/2007      5228       7.6     23.1      4.90  49.770467    5194.75   \n",
       "531   12/31/2008      4967       8.1     23.6      5.20  50.191262    4918.49   \n",
       "483   12/31/2009      4856       8.4     24.4      5.80  50.164745    4808.65   \n",
       "435   12/31/2010      4792       8.7     24.8      5.50  49.979132    4783.64   \n",
       "387   12/31/2011      4725       8.9     23.8      5.50  49.481482    4684.63   \n",
       "339   12/31/2012      4961       9.8     25.0      4.90  50.473695    4920.08   \n",
       "291   12/31/2013      5134      10.2     24.1      5.40  51.090767    5091.79   \n",
       "243   12/31/2014      5248      10.3     24.7      5.60  50.285823    5201.89   \n",
       "195   12/31/2015      4899      10.0     24.2     11.30  51.908553    4858.25   \n",
       "147   12/31/2016      5029      10.2     25.0     11.20  51.501292    4996.81   \n",
       "99    12/31/2017      4808      10.5     25.1     11.70  49.812812    4784.51   \n",
       "51    12/31/2018      5416      10.3     25.8     12.80  49.963072    5401.81   \n",
       "3     12/31/2019      5566      10.1     26.2     12.25  51.257636    5558.86   \n",
       "\n",
       "           State  \n",
       "1155  California  \n",
       "1107  California  \n",
       "1059  California  \n",
       "1011  California  \n",
       "963   California  \n",
       "915   California  \n",
       "867   California  \n",
       "819   California  \n",
       "771   California  \n",
       "723   California  \n",
       "675   California  \n",
       "627   California  \n",
       "579   California  \n",
       "531   California  \n",
       "483   California  \n",
       "435   California  \n",
       "387   California  \n",
       "339   California  \n",
       "291   California  \n",
       "243   California  \n",
       "195   California  \n",
       "147   California  \n",
       "99    California  \n",
       "51    California  \n",
       "3     California  "
      ]
     },
     "execution_count": 339,
     "metadata": {},
     "output_type": "execute_result"
    }
   ],
   "source": [
    "df\n"
   ]
  },
  {
   "cell_type": "code",
   "execution_count": 340,
   "metadata": {
    "scrolled": true
   },
   "outputs": [
    {
     "data": {
      "image/png": "[encoded data removed]",
      "text/plain": [
       "<Figure size 432x288 with 1 Axes>"
      ]
     },
     "metadata": {
      "needs_background": "light"
     },
     "output_type": "display_data"
    }
   ],
   "source": [
    "sns.regplot(X[('Diabetes')],y)\n",
    "plt.title('Diabetes % vs. Waitlist')\n",
    "plt.xlabel('Diabetes %')\n",
    "plt.ylabel('Kidney Waitlist through Time')\n",
    "plt.savefig('images/California_diabetes.png', dpi=100, facecolor='w', edgecolor='w',\n",
    "        orientation='portrait', format=None,\n",
    "        transparent=False, bbox_inches=None, pad_inches=0.2, metadata=None)"
   ]
  },
  {
   "cell_type": "code",
   "execution_count": 341,
   "metadata": {},
   "outputs": [
    {
     "data": {
      "image/png": "[encoded data removed]",
      "text/plain": [
       "<Figure size 432x288 with 1 Axes>"
      ]
     },
     "metadata": {
      "needs_background": "light"
     },
     "output_type": "display_data"
    }
   ],
   "source": [
    "sns.regplot(X[('Obesity')],y)\n",
    "plt.title('Obesity % vs. Waitlist')\n",
    "plt.xlabel('Obesity %')\n",
    "plt.ylabel('Kidney Waitlist through Time')\n",
    "plt.savefig('images/California_obesity.png', dpi=100, facecolor='w', edgecolor='w',\n",
    "        orientation='portrait', format=None,\n",
    "        transparent=False, bbox_inches=None, pad_inches=0.2, metadata=None)"
   ]
  },
  {
   "cell_type": "code",
   "execution_count": 342,
   "metadata": {
    "scrolled": false
   },
   "outputs": [
    {
     "data": {
      "image/png": "[encoded data removed]",
      "text/plain": [
       "<Figure size 432x288 with 1 Axes>"
      ]
     },
     "metadata": {
      "needs_background": "light"
     },
     "output_type": "display_data"
    }
   ],
   "source": [
    "sns.regplot(X[('Overdose')],y)\n",
    "plt.xlabel('Overdose rate per 100k')\n",
    "plt.title('Overdoses rate per 100k vs. Waitlist')\n",
    "plt.ylabel('Kidney Waitlist through Time')\n",
    "plt.savefig('images/California_overdose.png', dpi=100, facecolor='w', edgecolor='w',\n",
    "        orientation='portrait', format=None,\n",
    "        transparent=False, bbox_inches=None, pad_inches=0.2, metadata=None)"
   ]
  },
  {
   "cell_type": "code",
   "execution_count": 343,
   "metadata": {},
   "outputs": [
    {
     "data": {
      "image/png": "[encoded data removed]",
      "text/plain": [
       "<Figure size 432x288 with 1 Axes>"
      ]
     },
     "metadata": {
      "needs_background": "light"
     },
     "output_type": "display_data"
    }
   ],
   "source": [
    "sns.regplot(X[('Pct_O')],y)\n",
    "plt.xlabel('Percent O Blood-Type')\n",
    "plt.title('Percent O Blood-Type vs. Waitlist')\n",
    "plt.ylabel('Kidney Waitlist through Time')\n",
    "plt.savefig('images/California_pct_O.png', dpi=100, facecolor='w', edgecolor='w',\n",
    "        orientation='portrait', format=None,\n",
    "        transparent=False, bbox_inches=None, pad_inches=0.2, metadata=None)"
   ]
  },
  {
   "cell_type": "code",
   "execution_count": 344,
   "metadata": {
    "scrolled": true
   },
   "outputs": [
    {
     "data": {
      "text/plain": [
       "<AxesSubplot:xlabel='Pct_O'>"
      ]
     },
     "execution_count": 344,
     "metadata": {},
     "output_type": "execute_result"
    },
    {
     "data": {
      "image/png": "[encoded data removed]",
      "text/plain": [
       "<Figure size 432x288 with 1 Axes>"
      ]
     },
     "metadata": {
      "needs_background": "light"
     },
     "output_type": "display_data"
    }
   ],
   "source": [
    "sns.regplot(X[('Diabetes')],y)\n",
    "sns.regplot(X[('Obesity')],y)\n",
    "sns.regplot(X[('Overdose')],y)\n",
    "sns.regplot(X[('Pct_O')],y)"
   ]
  },
  {
   "cell_type": "code",
   "execution_count": 345,
   "metadata": {},
   "outputs": [
    {
     "data": {
      "text/html": [
       "<div>\n",
       "<style scoped>\n",
       "    .dataframe tbody tr th:only-of-type {\n",
       "        vertical-align: middle;\n",
       "    }\n",
       "\n",
       "    .dataframe tbody tr th {\n",
       "        vertical-align: top;\n",
       "    }\n",
       "\n",
       "    .dataframe thead th {\n",
       "        text-align: right;\n",
       "    }\n",
       "</style>\n",
       "<table border=\"1\" class=\"dataframe\">\n",
       "  <thead>\n",
       "    <tr style=\"text-align: right;\">\n",
       "      <th></th>\n",
       "      <th>0</th>\n",
       "      <th>1</th>\n",
       "      <th>2</th>\n",
       "      <th>3</th>\n",
       "    </tr>\n",
       "  </thead>\n",
       "  <tbody>\n",
       "    <tr>\n",
       "      <th>0</th>\n",
       "      <td>-171.84</td>\n",
       "      <td>315.7</td>\n",
       "      <td>-4.88768</td>\n",
       "      <td>71.3683</td>\n",
       "    </tr>\n",
       "  </tbody>\n",
       "</table>\n",
       "</div>"
      ],
      "text/plain": [
       "        0      1        2        3\n",
       "0 -171.84  315.7 -4.88768  71.3683"
      ]
     },
     "execution_count": 345,
     "metadata": {},
     "output_type": "execute_result"
    }
   ],
   "source": [
    "coefficients = pd.concat([pd.DataFrame(X.columns),pd.DataFrame(np.transpose(model.coef_))], axis = 1)\n",
    "coefficients_transposed = coefficients.T\n",
    "coefficients_transposed\n",
    "coefficients_final = coefficients_transposed[1:]\n",
    "coefficients_final"
   ]
  },
  {
   "cell_type": "code",
   "execution_count": 346,
   "metadata": {
    "scrolled": false
   },
   "outputs": [
    {
     "data": {
      "text/html": [
       "<div>\n",
       "<style scoped>\n",
       "    .dataframe tbody tr th:only-of-type {\n",
       "        vertical-align: middle;\n",
       "    }\n",
       "\n",
       "    .dataframe tbody tr th {\n",
       "        vertical-align: top;\n",
       "    }\n",
       "\n",
       "    .dataframe thead th {\n",
       "        text-align: right;\n",
       "    }\n",
       "</style>\n",
       "<table border=\"1\" class=\"dataframe\">\n",
       "  <thead>\n",
       "    <tr style=\"text-align: right;\">\n",
       "      <th></th>\n",
       "      <th>0</th>\n",
       "      <th>1</th>\n",
       "      <th>2</th>\n",
       "      <th>3</th>\n",
       "      <th>4</th>\n",
       "    </tr>\n",
       "  </thead>\n",
       "  <tbody>\n",
       "    <tr>\n",
       "      <th>0</th>\n",
       "      <td>0.866073</td>\n",
       "      <td>0.91519</td>\n",
       "      <td>0.730792</td>\n",
       "      <td>[-4695.171059066153]</td>\n",
       "      <td>[[6956.28174349148]]</td>\n",
       "    </tr>\n",
       "  </tbody>\n",
       "</table>\n",
       "</div>"
      ],
      "text/plain": [
       "          0        1         2                     3                     4\n",
       "0  0.866073  0.91519  0.730792  [-4695.171059066153]  [[6956.28174349148]]"
      ]
     },
     "execution_count": 346,
     "metadata": {},
     "output_type": "execute_result"
    }
   ],
   "source": [
    "test_df = pd.DataFrame([[r_sq,training_score,testing_score,model.intercept_ ,predictedTotal_Adj]])\n",
    "test_df"
   ]
  },
  {
   "cell_type": "code",
   "execution_count": 347,
   "metadata": {},
   "outputs": [],
   "source": [
    "#dfi.export(test_df, 'test_df.png')"
   ]
  },
  {
   "cell_type": "code",
   "execution_count": 348,
   "metadata": {
    "scrolled": true
   },
   "outputs": [],
   "source": [
    "summary_df = pd.concat([test_df, lastyear_df, coefficients_final], axis=1)\n",
    "summary_df.columns = ['R2','Training Score', 'Test Score', 'Intercept','Forecast based on Natl Avg','Last Waitlist','Coef_Diabetes','Coef_Obesity','Coef_Overdose','Coef_Pct_O']"
   ]
  },
  {
   "cell_type": "code",
   "execution_count": 349,
   "metadata": {
    "scrolled": true
   },
   "outputs": [
    {
     "data": {
      "text/html": [
       "<div>\n",
       "<style scoped>\n",
       "    .dataframe tbody tr th:only-of-type {\n",
       "        vertical-align: middle;\n",
       "    }\n",
       "\n",
       "    .dataframe tbody tr th {\n",
       "        vertical-align: top;\n",
       "    }\n",
       "\n",
       "    .dataframe thead th {\n",
       "        text-align: right;\n",
       "    }\n",
       "</style>\n",
       "<table border=\"1\" class=\"dataframe\">\n",
       "  <thead>\n",
       "    <tr style=\"text-align: right;\">\n",
       "      <th></th>\n",
       "      <th>R2</th>\n",
       "      <th>Training Score</th>\n",
       "      <th>Test Score</th>\n",
       "      <th>Intercept</th>\n",
       "      <th>Forecast based on Natl Avg</th>\n",
       "      <th>Last Waitlist</th>\n",
       "      <th>Coef_Diabetes</th>\n",
       "      <th>Coef_Obesity</th>\n",
       "      <th>Coef_Overdose</th>\n",
       "      <th>Coef_Pct_O</th>\n",
       "    </tr>\n",
       "  </thead>\n",
       "  <tbody>\n",
       "    <tr>\n",
       "      <th>0</th>\n",
       "      <td>0.866073</td>\n",
       "      <td>0.91519</td>\n",
       "      <td>0.730792</td>\n",
       "      <td>[-4695.171059066153]</td>\n",
       "      <td>[[6956.28174349148]]</td>\n",
       "      <td>5558.86</td>\n",
       "      <td>-171.84</td>\n",
       "      <td>315.7</td>\n",
       "      <td>-4.88768</td>\n",
       "      <td>71.3683</td>\n",
       "    </tr>\n",
       "  </tbody>\n",
       "</table>\n",
       "</div>"
      ],
      "text/plain": [
       "         R2  Training Score  Test Score             Intercept  \\\n",
       "0  0.866073         0.91519    0.730792  [-4695.171059066153]   \n",
       "\n",
       "  Forecast based on Natl Avg  Last Waitlist Coef_Diabetes Coef_Obesity  \\\n",
       "0       [[6956.28174349148]]        5558.86       -171.84        315.7   \n",
       "\n",
       "  Coef_Overdose Coef_Pct_O  \n",
       "0      -4.88768    71.3683  "
      ]
     },
     "execution_count": 349,
     "metadata": {},
     "output_type": "execute_result"
    }
   ],
   "source": [
    "summary_df"
   ]
  },
  {
   "cell_type": "code",
   "execution_count": 350,
   "metadata": {
    "scrolled": true
   },
   "outputs": [
    {
     "data": {
      "text/plain": [
       "R2                            float64\n",
       "Training Score                float64\n",
       "Test Score                    float64\n",
       "Intercept                      object\n",
       "Forecast based on Natl Avg     object\n",
       "Last Waitlist                 float64\n",
       "Coef_Diabetes                  object\n",
       "Coef_Obesity                   object\n",
       "Coef_Overdose                  object\n",
       "Coef_Pct_O                     object\n",
       "dtype: object"
      ]
     },
     "execution_count": 350,
     "metadata": {},
     "output_type": "execute_result"
    }
   ],
   "source": [
    "summary_df.dtypes"
   ]
  },
  {
   "cell_type": "code",
   "execution_count": 351,
   "metadata": {
    "scrolled": false
   },
   "outputs": [
    {
     "data": {
      "text/html": [
       "<div>\n",
       "<style scoped>\n",
       "    .dataframe tbody tr th:only-of-type {\n",
       "        vertical-align: middle;\n",
       "    }\n",
       "\n",
       "    .dataframe tbody tr th {\n",
       "        vertical-align: top;\n",
       "    }\n",
       "\n",
       "    .dataframe thead th {\n",
       "        text-align: right;\n",
       "    }\n",
       "</style>\n",
       "<table border=\"1\" class=\"dataframe\">\n",
       "  <thead>\n",
       "    <tr style=\"text-align: right;\">\n",
       "      <th></th>\n",
       "      <th>R2</th>\n",
       "      <th>Training Score</th>\n",
       "      <th>Test Score</th>\n",
       "      <th>Intercept</th>\n",
       "      <th>Forecast based on Natl Avg</th>\n",
       "      <th>Last Waitlist</th>\n",
       "      <th>Coef_Diabetes</th>\n",
       "      <th>Coef_Obesity</th>\n",
       "      <th>Coef_Overdose</th>\n",
       "      <th>Coef_Pct_O</th>\n",
       "    </tr>\n",
       "  </thead>\n",
       "  <tbody>\n",
       "    <tr>\n",
       "      <th>0</th>\n",
       "      <td>0.866073</td>\n",
       "      <td>0.91519</td>\n",
       "      <td>0.730792</td>\n",
       "      <td>[-4695.171059066153]</td>\n",
       "      <td>[[6956.28174349148]]</td>\n",
       "      <td>5558.86</td>\n",
       "      <td>-171.84</td>\n",
       "      <td>315.7</td>\n",
       "      <td>-4.88768</td>\n",
       "      <td>71.3683</td>\n",
       "    </tr>\n",
       "  </tbody>\n",
       "</table>\n",
       "</div>"
      ],
      "text/plain": [
       "         R2  Training Score  Test Score             Intercept  \\\n",
       "0  0.866073         0.91519    0.730792  [-4695.171059066153]   \n",
       "\n",
       "  Forecast based on Natl Avg  Last Waitlist Coef_Diabetes Coef_Obesity  \\\n",
       "0       [[6956.28174349148]]        5558.86       -171.84        315.7   \n",
       "\n",
       "  Coef_Overdose Coef_Pct_O  \n",
       "0      -4.88768    71.3683  "
      ]
     },
     "execution_count": 351,
     "metadata": {},
     "output_type": "execute_result"
    }
   ],
   "source": [
    "summary_df"
   ]
  },
  {
   "cell_type": "code",
   "execution_count": 352,
   "metadata": {
    "scrolled": true
   },
   "outputs": [],
   "source": [
    "summary_df['Intercept'] = summary_df['Intercept'].astype(int)\n",
    "summary_df['Forecast based on Natl Avg'] = summary_df['Forecast based on Natl Avg'].astype(int)\n",
    "summary_df['R2'] = summary_df['R2'].round(decimals=4)\n",
    "summary_df['Training Score'] = summary_df['Training Score'].round(decimals=4)\n",
    "summary_df['Test Score'] = summary_df['Test Score'].round(decimals=4)\n",
    "summary_df = summary_df[['R2','Training Score','Test Score','Intercept','Coef_Diabetes','Coef_Obesity','Coef_Overdose','Coef_Pct_O','Last Waitlist','Forecast based on Natl Avg']]\n",
    "dfi.export(summary_df, 'images/California_summary.png')"
   ]
  },
  {
   "cell_type": "code",
   "execution_count": 353,
   "metadata": {
    "scrolled": false
   },
   "outputs": [
    {
     "data": {
      "text/html": [
       "<div>\n",
       "<style scoped>\n",
       "    .dataframe tbody tr th:only-of-type {\n",
       "        vertical-align: middle;\n",
       "    }\n",
       "\n",
       "    .dataframe tbody tr th {\n",
       "        vertical-align: top;\n",
       "    }\n",
       "\n",
       "    .dataframe thead th {\n",
       "        text-align: right;\n",
       "    }\n",
       "</style>\n",
       "<table border=\"1\" class=\"dataframe\">\n",
       "  <thead>\n",
       "    <tr style=\"text-align: right;\">\n",
       "      <th></th>\n",
       "      <th>R2</th>\n",
       "      <th>Training Score</th>\n",
       "      <th>Test Score</th>\n",
       "      <th>Intercept</th>\n",
       "      <th>Coef_Diabetes</th>\n",
       "      <th>Coef_Obesity</th>\n",
       "      <th>Coef_Overdose</th>\n",
       "      <th>Coef_Pct_O</th>\n",
       "      <th>Last Waitlist</th>\n",
       "      <th>Forecast based on Natl Avg</th>\n",
       "    </tr>\n",
       "  </thead>\n",
       "  <tbody>\n",
       "    <tr>\n",
       "      <th>0</th>\n",
       "      <td>0.8661</td>\n",
       "      <td>0.9152</td>\n",
       "      <td>0.7308</td>\n",
       "      <td>-4695</td>\n",
       "      <td>-171.84</td>\n",
       "      <td>315.7</td>\n",
       "      <td>-4.88768</td>\n",
       "      <td>71.3683</td>\n",
       "      <td>5558.86</td>\n",
       "      <td>6956</td>\n",
       "    </tr>\n",
       "  </tbody>\n",
       "</table>\n",
       "</div>"
      ],
      "text/plain": [
       "       R2  Training Score  Test Score  Intercept Coef_Diabetes Coef_Obesity  \\\n",
       "0  0.8661          0.9152      0.7308      -4695       -171.84        315.7   \n",
       "\n",
       "  Coef_Overdose Coef_Pct_O  Last Waitlist  Forecast based on Natl Avg  \n",
       "0      -4.88768    71.3683        5558.86                        6956  "
      ]
     },
     "execution_count": 353,
     "metadata": {},
     "output_type": "execute_result"
    }
   ],
   "source": [
    "summary_df"
   ]
  },
  {
   "cell_type": "code",
   "execution_count": 354,
   "metadata": {
    "scrolled": true
   },
   "outputs": [
    {
     "data": {
      "text/html": [
       "<style  type=\"text/css\" >\n",
       "#T_5caf1646_5ac8_11eb_acdf_c03eba874a93row0_col0,#T_5caf1646_5ac8_11eb_acdf_c03eba874a93row0_col1,#T_5caf1646_5ac8_11eb_acdf_c03eba874a93row0_col2,#T_5caf1646_5ac8_11eb_acdf_c03eba874a93row0_col3,#T_5caf1646_5ac8_11eb_acdf_c03eba874a93row0_col4,#T_5caf1646_5ac8_11eb_acdf_c03eba874a93row0_col5,#T_5caf1646_5ac8_11eb_acdf_c03eba874a93row0_col6,#T_5caf1646_5ac8_11eb_acdf_c03eba874a93row0_col7,#T_5caf1646_5ac8_11eb_acdf_c03eba874a93row0_col8,#T_5caf1646_5ac8_11eb_acdf_c03eba874a93row0_col9{\n",
       "            background-color:  black;\n",
       "            color:  lawngreen;\n",
       "            border-color:  white;\n",
       "        }</style><table id=\"T_5caf1646_5ac8_11eb_acdf_c03eba874a93\" ><thead>    <tr>        <th class=\"blank level0\" ></th>        <th class=\"col_heading level0 col0\" >R2</th>        <th class=\"col_heading level0 col1\" >Training Score</th>        <th class=\"col_heading level0 col2\" >Test Score</th>        <th class=\"col_heading level0 col3\" >Intercept</th>        <th class=\"col_heading level0 col4\" >Coef_Diabetes</th>        <th class=\"col_heading level0 col5\" >Coef_Obesity</th>        <th class=\"col_heading level0 col6\" >Coef_Overdose</th>        <th class=\"col_heading level0 col7\" >Coef_Pct_O</th>        <th class=\"col_heading level0 col8\" >Last Waitlist</th>        <th class=\"col_heading level0 col9\" >Forecast based on Natl Avg</th>    </tr></thead><tbody>\n",
       "                <tr>\n",
       "                        <th id=\"T_5caf1646_5ac8_11eb_acdf_c03eba874a93level0_row0\" class=\"row_heading level0 row0\" >0</th>\n",
       "                        <td id=\"T_5caf1646_5ac8_11eb_acdf_c03eba874a93row0_col0\" class=\"data row0 col0\" >0.866100</td>\n",
       "                        <td id=\"T_5caf1646_5ac8_11eb_acdf_c03eba874a93row0_col1\" class=\"data row0 col1\" >0.915200</td>\n",
       "                        <td id=\"T_5caf1646_5ac8_11eb_acdf_c03eba874a93row0_col2\" class=\"data row0 col2\" >0.730800</td>\n",
       "                        <td id=\"T_5caf1646_5ac8_11eb_acdf_c03eba874a93row0_col3\" class=\"data row0 col3\" >-4695</td>\n",
       "                        <td id=\"T_5caf1646_5ac8_11eb_acdf_c03eba874a93row0_col4\" class=\"data row0 col4\" >-171.839896</td>\n",
       "                        <td id=\"T_5caf1646_5ac8_11eb_acdf_c03eba874a93row0_col5\" class=\"data row0 col5\" >315.699509</td>\n",
       "                        <td id=\"T_5caf1646_5ac8_11eb_acdf_c03eba874a93row0_col6\" class=\"data row0 col6\" >-4.887684</td>\n",
       "                        <td id=\"T_5caf1646_5ac8_11eb_acdf_c03eba874a93row0_col7\" class=\"data row0 col7\" >71.368349</td>\n",
       "                        <td id=\"T_5caf1646_5ac8_11eb_acdf_c03eba874a93row0_col8\" class=\"data row0 col8\" >5558.860000</td>\n",
       "                        <td id=\"T_5caf1646_5ac8_11eb_acdf_c03eba874a93row0_col9\" class=\"data row0 col9\" >6956</td>\n",
       "            </tr>\n",
       "    </tbody></table>"
      ],
      "text/plain": [
       "<pandas.io.formats.style.Styler at 0x24e76c18c48>"
      ]
     },
     "execution_count": 354,
     "metadata": {},
     "output_type": "execute_result"
    }
   ],
   "source": [
    "summaryalt_df = summary_df.style.set_properties(**{'background-color': 'black','color': 'lawngreen','border-color': 'white'})\n",
    "summaryalt_df"
   ]
  },
  {
   "cell_type": "code",
   "execution_count": null,
   "metadata": {},
   "outputs": [],
   "source": []
  },
  {
   "cell_type": "code",
   "execution_count": null,
   "metadata": {},
   "outputs": [],
   "source": []
  }
 ],
 "metadata": {
  "kernelspec": {
   "display_name": "Python 3.7.6 64-bit ('base')",
   "language": "python",
   "name": "python37664bitbase4c4633b153a642f9891ab9f50584a414"
  },
  "language_info": {
   "codemirror_mode": {
    "name": "ipython",
    "version": 3
   },
   "file_extension": ".py",
   "mimetype": "text/x-python",
   "name": "python",
   "nbconvert_exporter": "python",
   "pygments_lexer": "ipython3",
   "version": "3.7.6"
  }
 },
 "nbformat": 4,
 "nbformat_minor": 2
}
