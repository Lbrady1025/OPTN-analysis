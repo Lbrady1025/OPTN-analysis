{
 "metadata": {
  "language_info": {
   "codemirror_mode": {
    "name": "ipython",
    "version": 3
   },
   "file_extension": ".py",
   "mimetype": "text/x-python",
   "name": "python",
   "nbconvert_exporter": "python",
   "pygments_lexer": "ipython3",
   "version": "3.7.6-final"
  },
  "orig_nbformat": 2,
  "kernelspec": {
   "name": "python3",
   "display_name": "Python 3",
   "language": "python"
  }
 },
 "nbformat": 4,
 "nbformat_minor": 2,
 "cells": [
  {
   "cell_type": "code",
   "execution_count": 1,
   "metadata": {},
   "outputs": [],
   "source": [
    "# import\n",
    "import pandas as pd\n",
    "import numpy as np\n",
    "from sqlalchemy import create_engine, func\n",
    "import psycopg2"
   ]
  },
  {
   "cell_type": "code",
   "execution_count": 2,
   "metadata": {},
   "outputs": [],
   "source": [
    "#read into csv\n",
    "kidney_state_donor = pd.read_csv('resources/kidney_state_donor.csv')\n",
    "kidney_state_race_abo = pd.read_csv('resources/kidney_state_race_abo.csv')\n",
    "transplant_state_heart = pd.read_csv('resources/transplant_state_heart.csv')\n",
    "transplant_state_kidney = pd.read_csv('resources/transplant_state_kidney.csv')\n",
    "transplant_state_liver = pd.read_csv('resources/transplant_state_liver.csv')\n",
    "transplant_state_lung = pd.read_csv('resources/transplant_state_lung.csv')\n",
    "waiting_time = pd.read_csv('resources/waiting_time.csv')\n",
    "waitinglist_state = pd.read_csv('resources/waitinglist_state.csv')"
   ]
  },
  {
   "cell_type": "code",
   "execution_count": 4,
   "metadata": {},
   "outputs": [
    {
     "output_type": "execute_result",
     "data": {
      "text/plain": [
       "   State   Deceased_Living 2020 2019  2018  2017  2016  2015  2014  2013  ...  \\\n",
       "0  Alabama        Deceased  160  194   162   154   154   122   116   104  ...   \n",
       "1   Alaska        Deceased   32   41    30    31    22    20    28    18  ...   \n",
       "2  Arizona        Deceased  284  319   261   254   208   165   150   187  ...   \n",
       "\n",
       "   1997  1996  1995  1994  1993  1992  1991  1990  1989  1988  \n",
       "0    80   100    98    92    79    68    82    86    79    74  \n",
       "1    10     9    12    11    16    12    17    19    10     6  \n",
       "2    62    76    71    62    51    47    55    47    57    66  \n",
       "\n",
       "[3 rows x 35 columns]"
      ],
      "text/html": "<div>\n<style scoped>\n    .dataframe tbody tr th:only-of-type {\n        vertical-align: middle;\n    }\n\n    .dataframe tbody tr th {\n        vertical-align: top;\n    }\n\n    .dataframe thead th {\n        text-align: right;\n    }\n</style>\n<table border=\"1\" class=\"dataframe\">\n  <thead>\n    <tr style=\"text-align: right;\">\n      <th></th>\n      <th>State</th>\n      <th>Deceased_Living</th>\n      <th>2020</th>\n      <th>2019</th>\n      <th>2018</th>\n      <th>2017</th>\n      <th>2016</th>\n      <th>2015</th>\n      <th>2014</th>\n      <th>2013</th>\n      <th>...</th>\n      <th>1997</th>\n      <th>1996</th>\n      <th>1995</th>\n      <th>1994</th>\n      <th>1993</th>\n      <th>1992</th>\n      <th>1991</th>\n      <th>1990</th>\n      <th>1989</th>\n      <th>1988</th>\n    </tr>\n  </thead>\n  <tbody>\n    <tr>\n      <th>0</th>\n      <td>Alabama</td>\n      <td>Deceased</td>\n      <td>160</td>\n      <td>194</td>\n      <td>162</td>\n      <td>154</td>\n      <td>154</td>\n      <td>122</td>\n      <td>116</td>\n      <td>104</td>\n      <td>...</td>\n      <td>80</td>\n      <td>100</td>\n      <td>98</td>\n      <td>92</td>\n      <td>79</td>\n      <td>68</td>\n      <td>82</td>\n      <td>86</td>\n      <td>79</td>\n      <td>74</td>\n    </tr>\n    <tr>\n      <th>1</th>\n      <td>Alaska</td>\n      <td>Deceased</td>\n      <td>32</td>\n      <td>41</td>\n      <td>30</td>\n      <td>31</td>\n      <td>22</td>\n      <td>20</td>\n      <td>28</td>\n      <td>18</td>\n      <td>...</td>\n      <td>10</td>\n      <td>9</td>\n      <td>12</td>\n      <td>11</td>\n      <td>16</td>\n      <td>12</td>\n      <td>17</td>\n      <td>19</td>\n      <td>10</td>\n      <td>6</td>\n    </tr>\n    <tr>\n      <th>2</th>\n      <td>Arizona</td>\n      <td>Deceased</td>\n      <td>284</td>\n      <td>319</td>\n      <td>261</td>\n      <td>254</td>\n      <td>208</td>\n      <td>165</td>\n      <td>150</td>\n      <td>187</td>\n      <td>...</td>\n      <td>62</td>\n      <td>76</td>\n      <td>71</td>\n      <td>62</td>\n      <td>51</td>\n      <td>47</td>\n      <td>55</td>\n      <td>47</td>\n      <td>57</td>\n      <td>66</td>\n    </tr>\n  </tbody>\n</table>\n<p>3 rows × 35 columns</p>\n</div>"
     },
     "metadata": {},
     "execution_count": 4
    }
   ],
   "source": [
    "kidney_state_donor.head(3)"
   ]
  },
  {
   "cell_type": "code",
   "execution_count": null,
   "metadata": {},
   "outputs": [],
   "source": [
    "kidney_state_race_abo.head(3)"
   ]
  },
  {
   "cell_type": "code",
   "execution_count": null,
   "metadata": {},
   "outputs": [],
   "source": [
    "transplant_state_heart.head(3)"
   ]
  },
  {
   "cell_type": "code",
   "execution_count": null,
   "metadata": {},
   "outputs": [],
   "source": [
    "transplant_state_kidney.head(3)"
   ]
  },
  {
   "cell_type": "code",
   "execution_count": null,
   "metadata": {},
   "outputs": [],
   "source": [
    "transplant_state_liver.head(3)"
   ]
  },
  {
   "cell_type": "code",
   "execution_count": null,
   "metadata": {},
   "outputs": [],
   "source": [
    "transplant_state_lung.head(3)"
   ]
  },
  {
   "cell_type": "code",
   "execution_count": null,
   "metadata": {},
   "outputs": [],
   "source": [
    "waiting_time.head(3)"
   ]
  },
  {
   "cell_type": "code",
   "execution_count": null,
   "metadata": {},
   "outputs": [],
   "source": [
    "waitinglist_state.head(3)"
   ]
  }
 ]
}