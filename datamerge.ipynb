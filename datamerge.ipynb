{
 "metadata": {
  "language_info": {
   "codemirror_mode": {
    "name": "ipython",
    "version": 3
   },
   "file_extension": ".py",
   "mimetype": "text/x-python",
   "name": "python",
   "nbconvert_exporter": "python",
   "pygments_lexer": "ipython3",
   "version": "3.6.10-final"
  },
  "orig_nbformat": 2,
  "kernelspec": {
   "name": "python361064bitmyenvcondaa507b6a9ccd94342a9a17524e4005a2c",
   "display_name": "Python 3.6.10 64-bit ('myenv': conda)",
   "language": "python"
  }
 },
 "nbformat": 4,
 "nbformat_minor": 2,
 "cells": [
  {
   "cell_type": "code",
   "execution_count": 8,
   "metadata": {},
   "outputs": [],
   "source": [
    "#Import dependencies\n",
    "import pandas as pd \n",
    "import numpy as np \n",
    "from sqlalchemy import create_engine, func\n",
    "import psycopg2\n",
    "from config import pwd, db_pwd"
   ]
  },
  {
   "cell_type": "code",
   "execution_count": 9,
   "metadata": {},
   "outputs": [],
   "source": [
    "#Read in CSVs\n",
    "diabetes_df = pd.read_csv('resources/cleaned_csvs/diabetes_state_cleaned.csv')\n",
    "obesity_df = pd.read_csv('resources/cleaned_csvs/obesity_state_cleaned.csv')\n",
    "overdose_df = pd.read_csv('resources/cleaned_csvs/overdose_state_cleaned.csv')\n",
    "waitlist_df = pd.read_csv('resources/cleaned_csvs/kidney_waitlist_additions_cleaned.csv')"
   ]
  },
  {
   "cell_type": "code",
   "execution_count": 3,
   "metadata": {},
   "outputs": [
    {
     "output_type": "execute_result",
     "data": {
      "text/plain": [
       "   Unnamed: 0       State  1995  1996  1997  1998  1999  2000  2001  2002  \\\n",
       "0           0     Alabama  0.05  0.06  0.06  0.07  0.08  0.08  0.08  0.09   \n",
       "1           1      Alaska  0.04  0.04  0.04  0.04  0.04  0.04  0.05  0.05   \n",
       "2           2     Arizona  0.05  0.05  0.05  0.05  0.05  0.05  0.05  0.06   \n",
       "3           3    Arkansas  0.06  0.06  0.06  0.07  0.07  0.07  0.07  0.07   \n",
       "4           4  California  0.05  0.05  0.06  0.06  0.07  0.08  0.07  0.07   \n",
       "\n",
       "   ...  2010  2011  2012  2013  2014  2015  2016  2017  2018  2019  \n",
       "0  ...  0.12  0.12  0.12  0.14  0.13  0.14  0.15  0.14  0.15  0.14  \n",
       "1  ...  0.06  0.08  0.07  0.07  0.07  0.08  0.08  0.07  0.09  0.07  \n",
       "2  ...  0.09  0.10  0.11  0.11  0.10  0.10  0.11  0.10  0.11  0.11  \n",
       "3  ...  0.10  0.11  0.11  0.12  0.13  0.13  0.14  0.12  0.14  0.14  \n",
       "4  ...  0.09  0.09  0.10  0.10  0.10  0.10  0.10  0.11  0.10  0.10  \n",
       "\n",
       "[5 rows x 27 columns]"
      ],
      "text/html": "<div>\n<style scoped>\n    .dataframe tbody tr th:only-of-type {\n        vertical-align: middle;\n    }\n\n    .dataframe tbody tr th {\n        vertical-align: top;\n    }\n\n    .dataframe thead th {\n        text-align: right;\n    }\n</style>\n<table border=\"1\" class=\"dataframe\">\n  <thead>\n    <tr style=\"text-align: right;\">\n      <th></th>\n      <th>Unnamed: 0</th>\n      <th>State</th>\n      <th>1995</th>\n      <th>1996</th>\n      <th>1997</th>\n      <th>1998</th>\n      <th>1999</th>\n      <th>2000</th>\n      <th>2001</th>\n      <th>2002</th>\n      <th>...</th>\n      <th>2010</th>\n      <th>2011</th>\n      <th>2012</th>\n      <th>2013</th>\n      <th>2014</th>\n      <th>2015</th>\n      <th>2016</th>\n      <th>2017</th>\n      <th>2018</th>\n      <th>2019</th>\n    </tr>\n  </thead>\n  <tbody>\n    <tr>\n      <th>0</th>\n      <td>0</td>\n      <td>Alabama</td>\n      <td>0.05</td>\n      <td>0.06</td>\n      <td>0.06</td>\n      <td>0.07</td>\n      <td>0.08</td>\n      <td>0.08</td>\n      <td>0.08</td>\n      <td>0.09</td>\n      <td>...</td>\n      <td>0.12</td>\n      <td>0.12</td>\n      <td>0.12</td>\n      <td>0.14</td>\n      <td>0.13</td>\n      <td>0.14</td>\n      <td>0.15</td>\n      <td>0.14</td>\n      <td>0.15</td>\n      <td>0.14</td>\n    </tr>\n    <tr>\n      <th>1</th>\n      <td>1</td>\n      <td>Alaska</td>\n      <td>0.04</td>\n      <td>0.04</td>\n      <td>0.04</td>\n      <td>0.04</td>\n      <td>0.04</td>\n      <td>0.04</td>\n      <td>0.05</td>\n      <td>0.05</td>\n      <td>...</td>\n      <td>0.06</td>\n      <td>0.08</td>\n      <td>0.07</td>\n      <td>0.07</td>\n      <td>0.07</td>\n      <td>0.08</td>\n      <td>0.08</td>\n      <td>0.07</td>\n      <td>0.09</td>\n      <td>0.07</td>\n    </tr>\n    <tr>\n      <th>2</th>\n      <td>2</td>\n      <td>Arizona</td>\n      <td>0.05</td>\n      <td>0.05</td>\n      <td>0.05</td>\n      <td>0.05</td>\n      <td>0.05</td>\n      <td>0.05</td>\n      <td>0.05</td>\n      <td>0.06</td>\n      <td>...</td>\n      <td>0.09</td>\n      <td>0.10</td>\n      <td>0.11</td>\n      <td>0.11</td>\n      <td>0.10</td>\n      <td>0.10</td>\n      <td>0.11</td>\n      <td>0.10</td>\n      <td>0.11</td>\n      <td>0.11</td>\n    </tr>\n    <tr>\n      <th>3</th>\n      <td>3</td>\n      <td>Arkansas</td>\n      <td>0.06</td>\n      <td>0.06</td>\n      <td>0.06</td>\n      <td>0.07</td>\n      <td>0.07</td>\n      <td>0.07</td>\n      <td>0.07</td>\n      <td>0.07</td>\n      <td>...</td>\n      <td>0.10</td>\n      <td>0.11</td>\n      <td>0.11</td>\n      <td>0.12</td>\n      <td>0.13</td>\n      <td>0.13</td>\n      <td>0.14</td>\n      <td>0.12</td>\n      <td>0.14</td>\n      <td>0.14</td>\n    </tr>\n    <tr>\n      <th>4</th>\n      <td>4</td>\n      <td>California</td>\n      <td>0.05</td>\n      <td>0.05</td>\n      <td>0.06</td>\n      <td>0.06</td>\n      <td>0.07</td>\n      <td>0.08</td>\n      <td>0.07</td>\n      <td>0.07</td>\n      <td>...</td>\n      <td>0.09</td>\n      <td>0.09</td>\n      <td>0.10</td>\n      <td>0.10</td>\n      <td>0.10</td>\n      <td>0.10</td>\n      <td>0.10</td>\n      <td>0.11</td>\n      <td>0.10</td>\n      <td>0.10</td>\n    </tr>\n  </tbody>\n</table>\n<p>5 rows × 27 columns</p>\n</div>"
     },
     "metadata": {},
     "execution_count": 3
    }
   ],
   "source": [
    "#Check csv reads\n",
    "diabetes_df.head()"
   ]
  },
  {
   "cell_type": "code",
   "execution_count": 4,
   "metadata": {},
   "outputs": [
    {
     "output_type": "execute_result",
     "data": {
      "text/plain": [
       "   Unnamed: 0           State   1995   1996   1997   1998   1999   2000  \\\n",
       "0           0          Alaska  0.157  0.167  0.177  0.188  0.198  0.209   \n",
       "1           1  North Carolina  0.163  0.172  0.181  0.190  0.199  0.209   \n",
       "2           2         Alabama  0.157  0.170  0.184  0.198  0.212  0.226   \n",
       "3           3    North Dakota  0.152  0.162  0.173  0.183  0.194  0.205   \n",
       "4           4        Arkansas  0.170  0.179  0.189  0.199  0.209  0.219   \n",
       "\n",
       "     2001    2002  ...   2010   2011   2012   2013   2014   2015   2016  \\\n",
       "0  0.2177  0.2263  ...  0.259  0.274  0.257  0.284  0.297  0.298  0.314   \n",
       "1  0.2193  0.2297  ...  0.294  0.291  0.296  0.294  0.297  0.301  0.318   \n",
       "2  0.2453  0.2647  ...  0.323  0.320  0.330  0.324  0.335  0.356  0.357   \n",
       "3  0.2157  0.2263  ...  0.280  0.278  0.297  0.310  0.322  0.310  0.319   \n",
       "4  0.2300  0.2410  ...  0.306  0.309  0.345  0.346  0.359  0.345  0.357   \n",
       "\n",
       "    2017   2018   2019  \n",
       "0  0.342  0.295  0.305  \n",
       "1  0.321  0.330  0.340  \n",
       "2  0.363  0.362  0.361  \n",
       "3  0.332  0.351  0.348  \n",
       "4  0.350  0.371  0.374  \n",
       "\n",
       "[5 rows x 27 columns]"
      ],
      "text/html": "<div>\n<style scoped>\n    .dataframe tbody tr th:only-of-type {\n        vertical-align: middle;\n    }\n\n    .dataframe tbody tr th {\n        vertical-align: top;\n    }\n\n    .dataframe thead th {\n        text-align: right;\n    }\n</style>\n<table border=\"1\" class=\"dataframe\">\n  <thead>\n    <tr style=\"text-align: right;\">\n      <th></th>\n      <th>Unnamed: 0</th>\n      <th>State</th>\n      <th>1995</th>\n      <th>1996</th>\n      <th>1997</th>\n      <th>1998</th>\n      <th>1999</th>\n      <th>2000</th>\n      <th>2001</th>\n      <th>2002</th>\n      <th>...</th>\n      <th>2010</th>\n      <th>2011</th>\n      <th>2012</th>\n      <th>2013</th>\n      <th>2014</th>\n      <th>2015</th>\n      <th>2016</th>\n      <th>2017</th>\n      <th>2018</th>\n      <th>2019</th>\n    </tr>\n  </thead>\n  <tbody>\n    <tr>\n      <th>0</th>\n      <td>0</td>\n      <td>Alaska</td>\n      <td>0.157</td>\n      <td>0.167</td>\n      <td>0.177</td>\n      <td>0.188</td>\n      <td>0.198</td>\n      <td>0.209</td>\n      <td>0.2177</td>\n      <td>0.2263</td>\n      <td>...</td>\n      <td>0.259</td>\n      <td>0.274</td>\n      <td>0.257</td>\n      <td>0.284</td>\n      <td>0.297</td>\n      <td>0.298</td>\n      <td>0.314</td>\n      <td>0.342</td>\n      <td>0.295</td>\n      <td>0.305</td>\n    </tr>\n    <tr>\n      <th>1</th>\n      <td>1</td>\n      <td>North Carolina</td>\n      <td>0.163</td>\n      <td>0.172</td>\n      <td>0.181</td>\n      <td>0.190</td>\n      <td>0.199</td>\n      <td>0.209</td>\n      <td>0.2193</td>\n      <td>0.2297</td>\n      <td>...</td>\n      <td>0.294</td>\n      <td>0.291</td>\n      <td>0.296</td>\n      <td>0.294</td>\n      <td>0.297</td>\n      <td>0.301</td>\n      <td>0.318</td>\n      <td>0.321</td>\n      <td>0.330</td>\n      <td>0.340</td>\n    </tr>\n    <tr>\n      <th>2</th>\n      <td>2</td>\n      <td>Alabama</td>\n      <td>0.157</td>\n      <td>0.170</td>\n      <td>0.184</td>\n      <td>0.198</td>\n      <td>0.212</td>\n      <td>0.226</td>\n      <td>0.2453</td>\n      <td>0.2647</td>\n      <td>...</td>\n      <td>0.323</td>\n      <td>0.320</td>\n      <td>0.330</td>\n      <td>0.324</td>\n      <td>0.335</td>\n      <td>0.356</td>\n      <td>0.357</td>\n      <td>0.363</td>\n      <td>0.362</td>\n      <td>0.361</td>\n    </tr>\n    <tr>\n      <th>3</th>\n      <td>3</td>\n      <td>North Dakota</td>\n      <td>0.152</td>\n      <td>0.162</td>\n      <td>0.173</td>\n      <td>0.183</td>\n      <td>0.194</td>\n      <td>0.205</td>\n      <td>0.2157</td>\n      <td>0.2263</td>\n      <td>...</td>\n      <td>0.280</td>\n      <td>0.278</td>\n      <td>0.297</td>\n      <td>0.310</td>\n      <td>0.322</td>\n      <td>0.310</td>\n      <td>0.319</td>\n      <td>0.332</td>\n      <td>0.351</td>\n      <td>0.348</td>\n    </tr>\n    <tr>\n      <th>4</th>\n      <td>4</td>\n      <td>Arkansas</td>\n      <td>0.170</td>\n      <td>0.179</td>\n      <td>0.189</td>\n      <td>0.199</td>\n      <td>0.209</td>\n      <td>0.219</td>\n      <td>0.2300</td>\n      <td>0.2410</td>\n      <td>...</td>\n      <td>0.306</td>\n      <td>0.309</td>\n      <td>0.345</td>\n      <td>0.346</td>\n      <td>0.359</td>\n      <td>0.345</td>\n      <td>0.357</td>\n      <td>0.350</td>\n      <td>0.371</td>\n      <td>0.374</td>\n    </tr>\n  </tbody>\n</table>\n<p>5 rows × 27 columns</p>\n</div>"
     },
     "metadata": {},
     "execution_count": 4
    }
   ],
   "source": [
    "obesity_df.head()"
   ]
  },
  {
   "cell_type": "code",
   "execution_count": 5,
   "metadata": {},
   "outputs": [
    {
     "output_type": "execute_result",
     "data": {
      "text/plain": [
       "   Unnamed: 0       State  1999  2000  2001  2002  2003  2004  2005  2006  \\\n",
       "0           0     Alabama   0.9   1.0   1.5   1.7   1.2   2.0   1.8   2.9   \n",
       "1           1      Alaska   4.5   4.3   NaN   NaN   NaN   NaN  11.4   4.3   \n",
       "2           2     Arizona   5.0   4.9   5.2   6.3   6.4   6.4   6.7   7.9   \n",
       "3           3    Arkansas   1.1   0.7   1.1   3.5   3.6   4.8   4.6   5.3   \n",
       "4           4  California   4.8   3.3   1.8   4.5   4.3   4.3   4.1   4.4   \n",
       "\n",
       "   ...  2009  2010  2011  2012  2013  2014  2015  2016  2017  2018  \n",
       "0  ...   4.4   4.1   3.7   3.6   3.6   5.8  15.7  16.2  18.0  16.6  \n",
       "1  ...  13.4  10.0  10.0  11.1   9.4  10.7  16.0  16.8  20.2  14.6  \n",
       "2  ...   9.9  10.2   9.2   8.6   8.2   9.2  19.0  20.3  22.2  23.8  \n",
       "3  ...   7.6   6.8   6.0   6.1   5.9   6.0  13.8  14.0  15.5  15.7  \n",
       "4  ...   5.8   5.5   5.5   4.9   5.4   5.6  11.3  11.2  11.7  12.8  \n",
       "\n",
       "[5 rows x 22 columns]"
      ],
      "text/html": "<div>\n<style scoped>\n    .dataframe tbody tr th:only-of-type {\n        vertical-align: middle;\n    }\n\n    .dataframe tbody tr th {\n        vertical-align: top;\n    }\n\n    .dataframe thead th {\n        text-align: right;\n    }\n</style>\n<table border=\"1\" class=\"dataframe\">\n  <thead>\n    <tr style=\"text-align: right;\">\n      <th></th>\n      <th>Unnamed: 0</th>\n      <th>State</th>\n      <th>1999</th>\n      <th>2000</th>\n      <th>2001</th>\n      <th>2002</th>\n      <th>2003</th>\n      <th>2004</th>\n      <th>2005</th>\n      <th>2006</th>\n      <th>...</th>\n      <th>2009</th>\n      <th>2010</th>\n      <th>2011</th>\n      <th>2012</th>\n      <th>2013</th>\n      <th>2014</th>\n      <th>2015</th>\n      <th>2016</th>\n      <th>2017</th>\n      <th>2018</th>\n    </tr>\n  </thead>\n  <tbody>\n    <tr>\n      <th>0</th>\n      <td>0</td>\n      <td>Alabama</td>\n      <td>0.9</td>\n      <td>1.0</td>\n      <td>1.5</td>\n      <td>1.7</td>\n      <td>1.2</td>\n      <td>2.0</td>\n      <td>1.8</td>\n      <td>2.9</td>\n      <td>...</td>\n      <td>4.4</td>\n      <td>4.1</td>\n      <td>3.7</td>\n      <td>3.6</td>\n      <td>3.6</td>\n      <td>5.8</td>\n      <td>15.7</td>\n      <td>16.2</td>\n      <td>18.0</td>\n      <td>16.6</td>\n    </tr>\n    <tr>\n      <th>1</th>\n      <td>1</td>\n      <td>Alaska</td>\n      <td>4.5</td>\n      <td>4.3</td>\n      <td>NaN</td>\n      <td>NaN</td>\n      <td>NaN</td>\n      <td>NaN</td>\n      <td>11.4</td>\n      <td>4.3</td>\n      <td>...</td>\n      <td>13.4</td>\n      <td>10.0</td>\n      <td>10.0</td>\n      <td>11.1</td>\n      <td>9.4</td>\n      <td>10.7</td>\n      <td>16.0</td>\n      <td>16.8</td>\n      <td>20.2</td>\n      <td>14.6</td>\n    </tr>\n    <tr>\n      <th>2</th>\n      <td>2</td>\n      <td>Arizona</td>\n      <td>5.0</td>\n      <td>4.9</td>\n      <td>5.2</td>\n      <td>6.3</td>\n      <td>6.4</td>\n      <td>6.4</td>\n      <td>6.7</td>\n      <td>7.9</td>\n      <td>...</td>\n      <td>9.9</td>\n      <td>10.2</td>\n      <td>9.2</td>\n      <td>8.6</td>\n      <td>8.2</td>\n      <td>9.2</td>\n      <td>19.0</td>\n      <td>20.3</td>\n      <td>22.2</td>\n      <td>23.8</td>\n    </tr>\n    <tr>\n      <th>3</th>\n      <td>3</td>\n      <td>Arkansas</td>\n      <td>1.1</td>\n      <td>0.7</td>\n      <td>1.1</td>\n      <td>3.5</td>\n      <td>3.6</td>\n      <td>4.8</td>\n      <td>4.6</td>\n      <td>5.3</td>\n      <td>...</td>\n      <td>7.6</td>\n      <td>6.8</td>\n      <td>6.0</td>\n      <td>6.1</td>\n      <td>5.9</td>\n      <td>6.0</td>\n      <td>13.8</td>\n      <td>14.0</td>\n      <td>15.5</td>\n      <td>15.7</td>\n    </tr>\n    <tr>\n      <th>4</th>\n      <td>4</td>\n      <td>California</td>\n      <td>4.8</td>\n      <td>3.3</td>\n      <td>1.8</td>\n      <td>4.5</td>\n      <td>4.3</td>\n      <td>4.3</td>\n      <td>4.1</td>\n      <td>4.4</td>\n      <td>...</td>\n      <td>5.8</td>\n      <td>5.5</td>\n      <td>5.5</td>\n      <td>4.9</td>\n      <td>5.4</td>\n      <td>5.6</td>\n      <td>11.3</td>\n      <td>11.2</td>\n      <td>11.7</td>\n      <td>12.8</td>\n    </tr>\n  </tbody>\n</table>\n<p>5 rows × 22 columns</p>\n</div>"
     },
     "metadata": {},
     "execution_count": 5
    }
   ],
   "source": [
    "overdose_df.head()"
   ]
  },
  {
   "cell_type": "code",
   "execution_count": 12,
   "metadata": {},
   "outputs": [
    {
     "output_type": "execute_result",
     "data": {
      "text/plain": [
       "   Unnamed: 0              State      ABO        Ethnicity  To_Date   2020  \\\n",
       "0           0  All Center States  All ABO  All Ethnicities   634539  33043   \n",
       "1           1  All Center States  All ABO            White   301516  13937   \n",
       "2           2  All Center States  All ABO            Black   177840   9371   \n",
       "3           3  All Center States  All ABO         Hispanic   107669   6485   \n",
       "4           4  All Center States  All ABO          Unknown        3      0   \n",
       "\n",
       "    2019   2018   2017   2016  ...   2004   2003   2002   2001   2000   1999  \\\n",
       "0  41105  38799  35593  35417  ...  27274  24617  23644  22497  22378  21835   \n",
       "1  17317  16378  15661  15530  ...  13145  11989  11836  11441  11709  11952   \n",
       "2  11804  10925   9877  10026  ...   7605   6960   6642   6376   6256   5914   \n",
       "3   7976   7529   6634   6584  ...   4260   3881   3382   3047   2882   2594   \n",
       "4      0      0      0      0  ...      0      0      1      0      0      0   \n",
       "\n",
       "    1998   1997   1996   1995  \n",
       "0  19473  18405  17732  17257  \n",
       "1  10449   9845   9760   9510  \n",
       "2   5504   5180   5073   4760  \n",
       "3   2232   2161   1784   1818  \n",
       "4      0      2      0      0  \n",
       "\n",
       "[5 rows x 31 columns]"
      ],
      "text/html": "<div>\n<style scoped>\n    .dataframe tbody tr th:only-of-type {\n        vertical-align: middle;\n    }\n\n    .dataframe tbody tr th {\n        vertical-align: top;\n    }\n\n    .dataframe thead th {\n        text-align: right;\n    }\n</style>\n<table border=\"1\" class=\"dataframe\">\n  <thead>\n    <tr style=\"text-align: right;\">\n      <th></th>\n      <th>Unnamed: 0</th>\n      <th>State</th>\n      <th>ABO</th>\n      <th>Ethnicity</th>\n      <th>To_Date</th>\n      <th>2020</th>\n      <th>2019</th>\n      <th>2018</th>\n      <th>2017</th>\n      <th>2016</th>\n      <th>...</th>\n      <th>2004</th>\n      <th>2003</th>\n      <th>2002</th>\n      <th>2001</th>\n      <th>2000</th>\n      <th>1999</th>\n      <th>1998</th>\n      <th>1997</th>\n      <th>1996</th>\n      <th>1995</th>\n    </tr>\n  </thead>\n  <tbody>\n    <tr>\n      <th>0</th>\n      <td>0</td>\n      <td>All Center States</td>\n      <td>All ABO</td>\n      <td>All Ethnicities</td>\n      <td>634539</td>\n      <td>33043</td>\n      <td>41105</td>\n      <td>38799</td>\n      <td>35593</td>\n      <td>35417</td>\n      <td>...</td>\n      <td>27274</td>\n      <td>24617</td>\n      <td>23644</td>\n      <td>22497</td>\n      <td>22378</td>\n      <td>21835</td>\n      <td>19473</td>\n      <td>18405</td>\n      <td>17732</td>\n      <td>17257</td>\n    </tr>\n    <tr>\n      <th>1</th>\n      <td>1</td>\n      <td>All Center States</td>\n      <td>All ABO</td>\n      <td>White</td>\n      <td>301516</td>\n      <td>13937</td>\n      <td>17317</td>\n      <td>16378</td>\n      <td>15661</td>\n      <td>15530</td>\n      <td>...</td>\n      <td>13145</td>\n      <td>11989</td>\n      <td>11836</td>\n      <td>11441</td>\n      <td>11709</td>\n      <td>11952</td>\n      <td>10449</td>\n      <td>9845</td>\n      <td>9760</td>\n      <td>9510</td>\n    </tr>\n    <tr>\n      <th>2</th>\n      <td>2</td>\n      <td>All Center States</td>\n      <td>All ABO</td>\n      <td>Black</td>\n      <td>177840</td>\n      <td>9371</td>\n      <td>11804</td>\n      <td>10925</td>\n      <td>9877</td>\n      <td>10026</td>\n      <td>...</td>\n      <td>7605</td>\n      <td>6960</td>\n      <td>6642</td>\n      <td>6376</td>\n      <td>6256</td>\n      <td>5914</td>\n      <td>5504</td>\n      <td>5180</td>\n      <td>5073</td>\n      <td>4760</td>\n    </tr>\n    <tr>\n      <th>3</th>\n      <td>3</td>\n      <td>All Center States</td>\n      <td>All ABO</td>\n      <td>Hispanic</td>\n      <td>107669</td>\n      <td>6485</td>\n      <td>7976</td>\n      <td>7529</td>\n      <td>6634</td>\n      <td>6584</td>\n      <td>...</td>\n      <td>4260</td>\n      <td>3881</td>\n      <td>3382</td>\n      <td>3047</td>\n      <td>2882</td>\n      <td>2594</td>\n      <td>2232</td>\n      <td>2161</td>\n      <td>1784</td>\n      <td>1818</td>\n    </tr>\n    <tr>\n      <th>4</th>\n      <td>4</td>\n      <td>All Center States</td>\n      <td>All ABO</td>\n      <td>Unknown</td>\n      <td>3</td>\n      <td>0</td>\n      <td>0</td>\n      <td>0</td>\n      <td>0</td>\n      <td>0</td>\n      <td>...</td>\n      <td>0</td>\n      <td>0</td>\n      <td>1</td>\n      <td>0</td>\n      <td>0</td>\n      <td>0</td>\n      <td>0</td>\n      <td>2</td>\n      <td>0</td>\n      <td>0</td>\n    </tr>\n  </tbody>\n</table>\n<p>5 rows × 31 columns</p>\n</div>"
     },
     "metadata": {},
     "execution_count": 12
    }
   ],
   "source": [
    "waitlist_df.head()"
   ]
  },
  {
   "cell_type": "code",
   "execution_count": null,
   "metadata": {},
   "outputs": [],
   "source": []
  }
 ]
}